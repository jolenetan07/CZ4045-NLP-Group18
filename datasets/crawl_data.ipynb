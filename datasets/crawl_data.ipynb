{
  "cells": [
    {
      "cell_type": "markdown",
      "source": [
        "# Crawl Data\n",
        "\n",
        "* python script to crawl tweet text data using snscrape"
      ],
      "metadata": {
        "id": "xJBFICwlC_3-"
      }
    },
    {
      "cell_type": "markdown",
      "source": [
        "## Install required libraries"
      ],
      "metadata": {
        "id": "Mt31-oH5DZF7"
      }
    },
    {
      "cell_type": "code",
      "execution_count": null,
      "metadata": {
        "id": "cBmDX4OrC8KB",
        "outputId": "513ce731-52f0-46bf-b8cb-52269477b89c"
      },
      "outputs": [
        {
          "name": "stdout",
          "output_type": "stream",
          "text": [
            "Collecting git+https://github.com/JustAnotherArchivist/snscrape.git"
          ]
        },
        {
          "name": "stderr",
          "output_type": "stream",
          "text": [
            "  Running command git clone -q https://github.com/JustAnotherArchivist/snscrape.git 'C:\\Users\\65910\\AppData\\Local\\Temp\\pip-req-build-l76vs6z6'\n"
          ]
        },
        {
          "name": "stdout",
          "output_type": "stream",
          "text": [
            "\n",
            "  Cloning https://github.com/JustAnotherArchivist/snscrape.git to c:\\users\\65910\\appdata\\local\\temp\\pip-req-build-l76vs6z6\n",
            "Requirement already satisfied: requests[socks] in c:\\users\\65910\\anaconda3\\lib\\site-packages (from snscrape==0.4.3.20220107.dev64+g59abeaf) (2.28.1)\n",
            "Requirement already satisfied: lxml in c:\\users\\65910\\anaconda3\\lib\\site-packages (from snscrape==0.4.3.20220107.dev64+g59abeaf) (4.5.2)\n",
            "Requirement already satisfied: beautifulsoup4 in c:\\users\\65910\\anaconda3\\lib\\site-packages (from snscrape==0.4.3.20220107.dev64+g59abeaf) (4.9.1)\n",
            "Requirement already satisfied: filelock in c:\\users\\65910\\anaconda3\\lib\\site-packages (from snscrape==0.4.3.20220107.dev64+g59abeaf) (3.0.12)\n",
            "Requirement already satisfied: pytz in c:\\users\\65910\\anaconda3\\lib\\site-packages (from snscrape==0.4.3.20220107.dev64+g59abeaf) (2020.1)\n",
            "Requirement already satisfied: urllib3<1.27,>=1.21.1 in c:\\users\\65910\\anaconda3\\lib\\site-packages (from requests[socks]->snscrape==0.4.3.20220107.dev64+g59abeaf) (1.25.9)\n",
            "Requirement already satisfied: charset-normalizer<3,>=2 in c:\\users\\65910\\anaconda3\\lib\\site-packages (from requests[socks]->snscrape==0.4.3.20220107.dev64+g59abeaf) (2.1.1)\n",
            "Requirement already satisfied: idna<4,>=2.5 in c:\\users\\65910\\anaconda3\\lib\\site-packages (from requests[socks]->snscrape==0.4.3.20220107.dev64+g59abeaf) (2.10)\n",
            "Requirement already satisfied: certifi>=2017.4.17 in c:\\users\\65910\\anaconda3\\lib\\site-packages (from requests[socks]->snscrape==0.4.3.20220107.dev64+g59abeaf) (2020.6.20)\n",
            "Requirement already satisfied: PySocks!=1.5.7,>=1.5.6; extra == \"socks\" in c:\\users\\65910\\anaconda3\\lib\\site-packages (from requests[socks]->snscrape==0.4.3.20220107.dev64+g59abeaf) (1.7.1)\n",
            "Requirement already satisfied: soupsieve>1.2 in c:\\users\\65910\\anaconda3\\lib\\site-packages (from beautifulsoup4->snscrape==0.4.3.20220107.dev64+g59abeaf) (2.0.1)\n",
            "Building wheels for collected packages: snscrape\n",
            "  Building wheel for snscrape (setup.py): started\n",
            "  Building wheel for snscrape (setup.py): finished with status 'done'\n",
            "  Created wheel for snscrape: filename=snscrape-0.4.3.20220107.dev64+g59abeaf-py3-none-any.whl size=68448 sha256=57e0a9379daec772ada7e0451c7694c4b7f91a1aa96d6465e8e7a919a64a5c39\n",
            "  Stored in directory: C:\\Users\\65910\\AppData\\Local\\Temp\\pip-ephem-wheel-cache-_t821yic\\wheels\\92\\42\\87\\33fa9b18f7a75d02643a9ca3743339aec9be28c6796267c7d8\n",
            "Successfully built snscrape\n",
            "Installing collected packages: snscrape\n",
            "Successfully installed snscrape-0.4.3.20220107.dev64+g59abeaf\n"
          ]
        }
      ],
      "source": [
        "!pip install git+https://github.com/JustAnotherArchivist/snscrape.git"
      ]
    },
    {
      "cell_type": "markdown",
      "source": [
        "## Import required libraries"
      ],
      "metadata": {
        "id": "TuOZKalFDbtI"
      }
    },
    {
      "cell_type": "code",
      "source": [
        "import snscrape.modules.twitter as sntwitter\n",
        "import pandas as pd"
      ],
      "metadata": {
        "id": "8IfbBnXWDeOB"
      },
      "execution_count": null,
      "outputs": []
    },
    {
      "cell_type": "markdown",
      "source": [
        "## Crawl tweets"
      ],
      "metadata": {
        "id": "X9NygSZTDo6R"
      }
    },
    {
      "cell_type": "code",
      "execution_count": null,
      "metadata": {
        "id": "BaPXbTTnC8KF",
        "outputId": "e85ddd80-ba93-4987-a9d3-c300875d8902"
      },
      "outputs": [
        {
          "name": "stderr",
          "output_type": "stream",
          "text": [
            "<ipython-input-1-52ac607a0c90>:11: FutureWarning: content is deprecated, use rawContent instead\n",
            "  tweets_list4.append([tweet.date, tweet.id, tweet.content, tweet.user.username])\n"
          ]
        }
      ],
      "source": [
        "# Creating list to append tweet data to\n",
        "tweets_list4 = []\n",
        "\n",
        "# Using TwitterSearchScraper to scrape data and append tweets to list\n",
        "for i,tweet in enumerate(sntwitter.TwitterSearchScraper('Biden since:2020-11-05 until:2020-12-05').get_items()):\n",
        "    if i>10000:\n",
        "        break\n",
        "    tweets_list4.append([tweet.date, tweet.id, tweet.content, tweet.user.username])"
      ]
    },
    {
      "cell_type": "markdown",
      "source": [
        "## Export data"
      ],
      "metadata": {
        "id": "JKcNSQxdDtUQ"
      }
    },
    {
      "cell_type": "code",
      "execution_count": null,
      "metadata": {
        "id": "i90J6YGJC8KG",
        "outputId": "90672313-5b8c-43d1-ce9b-2b36f24fccba"
      },
      "outputs": [
        {
          "data": {
            "text/html": [
              "<div>\n",
              "<style scoped>\n",
              "    .dataframe tbody tr th:only-of-type {\n",
              "        vertical-align: middle;\n",
              "    }\n",
              "\n",
              "    .dataframe tbody tr th {\n",
              "        vertical-align: top;\n",
              "    }\n",
              "\n",
              "    .dataframe thead th {\n",
              "        text-align: right;\n",
              "    }\n",
              "</style>\n",
              "<table border=\"1\" class=\"dataframe\">\n",
              "  <thead>\n",
              "    <tr style=\"text-align: right;\">\n",
              "      <th></th>\n",
              "      <th>Datetime</th>\n",
              "      <th>Tweet Id</th>\n",
              "      <th>Text</th>\n",
              "      <th>Username</th>\n",
              "    </tr>\n",
              "  </thead>\n",
              "  <tbody>\n",
              "    <tr>\n",
              "      <th>0</th>\n",
              "      <td>2020-12-04 23:59:59+00:00</td>\n",
              "      <td>1335010997782843399</td>\n",
              "      <td>Yeah, NO. Don’t think either @biden or @Kamala...</td>\n",
              "      <td>knittymag</td>\n",
              "    </tr>\n",
              "    <tr>\n",
              "      <th>1</th>\n",
              "      <td>2020-12-04 23:59:57+00:00</td>\n",
              "      <td>1335010988706287616</td>\n",
              "      <td>@Empath_g_app @Just_ReneaR @Back_dafucup @VanC...</td>\n",
              "      <td>HeiermanRobert</td>\n",
              "    </tr>\n",
              "    <tr>\n",
              "      <th>2</th>\n",
              "      <td>2020-12-04 23:59:57+00:00</td>\n",
              "      <td>1335010987519344640</td>\n",
              "      <td>@dbongino I don't think it's bizarre at all. I...</td>\n",
              "      <td>nissacnadnerb</td>\n",
              "    </tr>\n",
              "    <tr>\n",
              "      <th>3</th>\n",
              "      <td>2020-12-04 23:59:57+00:00</td>\n",
              "      <td>1335010987007766534</td>\n",
              "      <td>@mateojaja Esto es como cuando Biden dice que ...</td>\n",
              "      <td>Antiprogreludos</td>\n",
              "    </tr>\n",
              "    <tr>\n",
              "      <th>4</th>\n",
              "      <td>2020-12-04 23:59:56+00:00</td>\n",
              "      <td>1335010984226766848</td>\n",
              "      <td>I'm taking the day off work and running throug...</td>\n",
              "      <td>Lydiad1957</td>\n",
              "    </tr>\n",
              "    <tr>\n",
              "      <th>...</th>\n",
              "      <td>...</td>\n",
              "      <td>...</td>\n",
              "      <td>...</td>\n",
              "      <td>...</td>\n",
              "    </tr>\n",
              "    <tr>\n",
              "      <th>9996</th>\n",
              "      <td>2020-12-04 22:58:13+00:00</td>\n",
              "      <td>1334995451192496135</td>\n",
              "      <td>@WajahatAli You need the media on television w...</td>\n",
              "      <td>EloMusicale</td>\n",
              "    </tr>\n",
              "    <tr>\n",
              "      <th>9997</th>\n",
              "      <td>2020-12-04 22:58:13+00:00</td>\n",
              "      <td>1334995450940841992</td>\n",
              "      <td>@Rayz2cents @brhodes It's OK. Biden can remove...</td>\n",
              "      <td>TexasTabby</td>\n",
              "    </tr>\n",
              "    <tr>\n",
              "      <th>9998</th>\n",
              "      <td>2020-12-04 22:58:12+00:00</td>\n",
              "      <td>1334995448101298178</td>\n",
              "      <td>@realDonaldTrump Well done President Elect Mr....</td>\n",
              "      <td>mtracey7</td>\n",
              "    </tr>\n",
              "    <tr>\n",
              "      <th>9999</th>\n",
              "      <td>2020-12-04 22:58:12+00:00</td>\n",
              "      <td>1334995447425937408</td>\n",
              "      <td>@AJemaineClement Biden didn't need to energize...</td>\n",
              "      <td>ehartgator</td>\n",
              "    </tr>\n",
              "    <tr>\n",
              "      <th>10000</th>\n",
              "      <td>2020-12-04 22:58:12+00:00</td>\n",
              "      <td>1334995446637465601</td>\n",
              "      <td>@realDonaldTrump They’re so exited for BIDEN!!...</td>\n",
              "      <td>Blankblank79</td>\n",
              "    </tr>\n",
              "  </tbody>\n",
              "</table>\n",
              "<p>10001 rows × 4 columns</p>\n",
              "</div>"
            ],
            "text/plain": [
              "                       Datetime             Tweet Id  \\\n",
              "0     2020-12-04 23:59:59+00:00  1335010997782843399   \n",
              "1     2020-12-04 23:59:57+00:00  1335010988706287616   \n",
              "2     2020-12-04 23:59:57+00:00  1335010987519344640   \n",
              "3     2020-12-04 23:59:57+00:00  1335010987007766534   \n",
              "4     2020-12-04 23:59:56+00:00  1335010984226766848   \n",
              "...                         ...                  ...   \n",
              "9996  2020-12-04 22:58:13+00:00  1334995451192496135   \n",
              "9997  2020-12-04 22:58:13+00:00  1334995450940841992   \n",
              "9998  2020-12-04 22:58:12+00:00  1334995448101298178   \n",
              "9999  2020-12-04 22:58:12+00:00  1334995447425937408   \n",
              "10000 2020-12-04 22:58:12+00:00  1334995446637465601   \n",
              "\n",
              "                                                    Text         Username  \n",
              "0      Yeah, NO. Don’t think either @biden or @Kamala...        knittymag  \n",
              "1      @Empath_g_app @Just_ReneaR @Back_dafucup @VanC...   HeiermanRobert  \n",
              "2      @dbongino I don't think it's bizarre at all. I...    nissacnadnerb  \n",
              "3      @mateojaja Esto es como cuando Biden dice que ...  Antiprogreludos  \n",
              "4      I'm taking the day off work and running throug...       Lydiad1957  \n",
              "...                                                  ...              ...  \n",
              "9996   @WajahatAli You need the media on television w...      EloMusicale  \n",
              "9997   @Rayz2cents @brhodes It's OK. Biden can remove...       TexasTabby  \n",
              "9998   @realDonaldTrump Well done President Elect Mr....         mtracey7  \n",
              "9999   @AJemaineClement Biden didn't need to energize...       ehartgator  \n",
              "10000  @realDonaldTrump They’re so exited for BIDEN!!...     Blankblank79  \n",
              "\n",
              "[10001 rows x 4 columns]"
            ]
          },
          "execution_count": 2,
          "metadata": {},
          "output_type": "execute_result"
        }
      ],
      "source": [
        "# Creating a dataframe from the tweets list above\n",
        "tweets_df4 = pd.DataFrame(tweets_list4, columns=['Datetime', 'Tweet Id', 'Text', 'Username'])\n",
        "\n",
        "tweets_df4"
      ]
    },
    {
      "cell_type": "code",
      "execution_count": null,
      "metadata": {
        "id": "WpG8086FC8KH"
      },
      "outputs": [],
      "source": [
        "tweets_df4.to_csv('biden_tweets2.csv', index=False)"
      ]
    }
  ],
  "metadata": {
    "kernelspec": {
      "display_name": "Python 3",
      "language": "python",
      "name": "python3"
    },
    "language_info": {
      "codemirror_mode": {
        "name": "ipython",
        "version": 3
      },
      "file_extension": ".py",
      "mimetype": "text/x-python",
      "name": "python",
      "nbconvert_exporter": "python",
      "pygments_lexer": "ipython3",
      "version": "3.8.3"
    },
    "colab": {
      "provenance": [],
      "collapsed_sections": []
    }
  },
  "nbformat": 4,
  "nbformat_minor": 0
}