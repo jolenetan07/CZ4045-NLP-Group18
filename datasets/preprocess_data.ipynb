{
  "nbformat": 4,
  "nbformat_minor": 0,
  "metadata": {
    "colab": {
      "provenance": [],
      "collapsed_sections": []
    },
    "kernelspec": {
      "name": "python3",
      "display_name": "Python 3"
    },
    "language_info": {
      "name": "python"
    },
    "accelerator": "GPU"
  },
  "cells": [
    {
      "cell_type": "markdown",
      "source": [
        "# Preprocess Data\n",
        "\n",
        "* python script to preprocess the data using various techniques\n",
        "* python script to perform various exploratory data analysis on the data"
      ],
      "metadata": {
        "id": "09_rW3-xO9tW"
      }
    },
    {
      "cell_type": "markdown",
      "source": [
        "## Install required libraries"
      ],
      "metadata": {
        "id": "m_H3sqlU78IT"
      }
    },
    {
      "cell_type": "code",
      "execution_count": 1,
      "metadata": {
        "id": "4yOiVJpX7xzK",
        "colab": {
          "base_uri": "https://localhost:8080/"
        },
        "outputId": "02c3cb96-f7bc-4751-b8ed-747b70fa8b26"
      },
      "outputs": [
        {
          "output_type": "stream",
          "name": "stdout",
          "text": [
            "Looking in indexes: https://pypi.org/simple, https://us-python.pkg.dev/colab-wheels/public/simple/\n",
            "Collecting emoji\n",
            "  Downloading emoji-2.1.0.tar.gz (216 kB)\n",
            "\u001b[?25l\r\u001b[K     |█▌                              | 10 kB 29.0 MB/s eta 0:00:01\r\u001b[K     |███                             | 20 kB 25.3 MB/s eta 0:00:01\r\u001b[K     |████▌                           | 30 kB 32.4 MB/s eta 0:00:01\r\u001b[K     |██████                          | 40 kB 23.3 MB/s eta 0:00:01\r\u001b[K     |███████▋                        | 51 kB 27.0 MB/s eta 0:00:01\r\u001b[K     |█████████                       | 61 kB 30.8 MB/s eta 0:00:01\r\u001b[K     |██████████▋                     | 71 kB 23.4 MB/s eta 0:00:01\r\u001b[K     |████████████                    | 81 kB 24.9 MB/s eta 0:00:01\r\u001b[K     |█████████████▋                  | 92 kB 26.8 MB/s eta 0:00:01\r\u001b[K     |███████████████▏                | 102 kB 28.5 MB/s eta 0:00:01\r\u001b[K     |████████████████▋               | 112 kB 28.5 MB/s eta 0:00:01\r\u001b[K     |██████████████████▏             | 122 kB 28.5 MB/s eta 0:00:01\r\u001b[K     |███████████████████▊            | 133 kB 28.5 MB/s eta 0:00:01\r\u001b[K     |█████████████████████▏          | 143 kB 28.5 MB/s eta 0:00:01\r\u001b[K     |██████████████████████▊         | 153 kB 28.5 MB/s eta 0:00:01\r\u001b[K     |████████████████████████▏       | 163 kB 28.5 MB/s eta 0:00:01\r\u001b[K     |█████████████████████████▊      | 174 kB 28.5 MB/s eta 0:00:01\r\u001b[K     |███████████████████████████▎    | 184 kB 28.5 MB/s eta 0:00:01\r\u001b[K     |████████████████████████████▊   | 194 kB 28.5 MB/s eta 0:00:01\r\u001b[K     |██████████████████████████████▎ | 204 kB 28.5 MB/s eta 0:00:01\r\u001b[K     |███████████████████████████████▊| 215 kB 28.5 MB/s eta 0:00:01\r\u001b[K     |████████████████████████████████| 216 kB 28.5 MB/s \n",
            "\u001b[?25hBuilding wheels for collected packages: emoji\n",
            "  Building wheel for emoji (setup.py) ... \u001b[?25l\u001b[?25hdone\n",
            "  Created wheel for emoji: filename=emoji-2.1.0-py3-none-any.whl size=212392 sha256=3739b5d0b4b14e121271230cdb65a4f023555232edcd78b0634d6153ef23ee9d\n",
            "  Stored in directory: /root/.cache/pip/wheels/77/75/99/51c2a119f4cfd3af7b49cc57e4f737bed7e40b348a85d82804\n",
            "Successfully built emoji\n",
            "Installing collected packages: emoji\n",
            "Successfully installed emoji-2.1.0\n",
            "Looking in indexes: https://pypi.org/simple, https://us-python.pkg.dev/colab-wheels/public/simple/\n",
            "Collecting transformers\n",
            "  Downloading transformers-4.23.1-py3-none-any.whl (5.3 MB)\n",
            "\u001b[K     |████████████████████████████████| 5.3 MB 25.7 MB/s \n",
            "\u001b[?25hRequirement already satisfied: filelock in /usr/local/lib/python3.7/dist-packages (from transformers) (3.8.0)\n",
            "Requirement already satisfied: tqdm>=4.27 in /usr/local/lib/python3.7/dist-packages (from transformers) (4.64.1)\n",
            "Requirement already satisfied: numpy>=1.17 in /usr/local/lib/python3.7/dist-packages (from transformers) (1.21.6)\n",
            "Requirement already satisfied: requests in /usr/local/lib/python3.7/dist-packages (from transformers) (2.23.0)\n",
            "Requirement already satisfied: regex!=2019.12.17 in /usr/local/lib/python3.7/dist-packages (from transformers) (2022.6.2)\n",
            "Requirement already satisfied: importlib-metadata in /usr/local/lib/python3.7/dist-packages (from transformers) (4.13.0)\n",
            "Requirement already satisfied: packaging>=20.0 in /usr/local/lib/python3.7/dist-packages (from transformers) (21.3)\n",
            "Collecting huggingface-hub<1.0,>=0.10.0\n",
            "  Downloading huggingface_hub-0.10.1-py3-none-any.whl (163 kB)\n",
            "\u001b[K     |████████████████████████████████| 163 kB 71.0 MB/s \n",
            "\u001b[?25hCollecting tokenizers!=0.11.3,<0.14,>=0.11.1\n",
            "  Downloading tokenizers-0.13.1-cp37-cp37m-manylinux_2_17_x86_64.manylinux2014_x86_64.whl (7.6 MB)\n",
            "\u001b[K     |████████████████████████████████| 7.6 MB 55.5 MB/s \n",
            "\u001b[?25hRequirement already satisfied: pyyaml>=5.1 in /usr/local/lib/python3.7/dist-packages (from transformers) (6.0)\n",
            "Requirement already satisfied: typing-extensions>=3.7.4.3 in /usr/local/lib/python3.7/dist-packages (from huggingface-hub<1.0,>=0.10.0->transformers) (4.1.1)\n",
            "Requirement already satisfied: pyparsing!=3.0.5,>=2.0.2 in /usr/local/lib/python3.7/dist-packages (from packaging>=20.0->transformers) (3.0.9)\n",
            "Requirement already satisfied: zipp>=0.5 in /usr/local/lib/python3.7/dist-packages (from importlib-metadata->transformers) (3.9.0)\n",
            "Requirement already satisfied: certifi>=2017.4.17 in /usr/local/lib/python3.7/dist-packages (from requests->transformers) (2022.9.24)\n",
            "Requirement already satisfied: chardet<4,>=3.0.2 in /usr/local/lib/python3.7/dist-packages (from requests->transformers) (3.0.4)\n",
            "Requirement already satisfied: urllib3!=1.25.0,!=1.25.1,<1.26,>=1.21.1 in /usr/local/lib/python3.7/dist-packages (from requests->transformers) (1.24.3)\n",
            "Requirement already satisfied: idna<3,>=2.5 in /usr/local/lib/python3.7/dist-packages (from requests->transformers) (2.10)\n",
            "Installing collected packages: tokenizers, huggingface-hub, transformers\n",
            "Successfully installed huggingface-hub-0.10.1 tokenizers-0.13.1 transformers-4.23.1\n",
            "Looking in indexes: https://pypi.org/simple, https://us-python.pkg.dev/colab-wheels/public/simple/\n",
            "Requirement already satisfied: spacy in /usr/local/lib/python3.7/dist-packages (3.4.2)\n",
            "Requirement already satisfied: thinc<8.2.0,>=8.1.0 in /usr/local/lib/python3.7/dist-packages (from spacy) (8.1.5)\n",
            "Requirement already satisfied: murmurhash<1.1.0,>=0.28.0 in /usr/local/lib/python3.7/dist-packages (from spacy) (1.0.9)\n",
            "Requirement already satisfied: requests<3.0.0,>=2.13.0 in /usr/local/lib/python3.7/dist-packages (from spacy) (2.23.0)\n",
            "Requirement already satisfied: srsly<3.0.0,>=2.4.3 in /usr/local/lib/python3.7/dist-packages (from spacy) (2.4.5)\n",
            "Requirement already satisfied: spacy-loggers<2.0.0,>=1.0.0 in /usr/local/lib/python3.7/dist-packages (from spacy) (1.0.3)\n",
            "Requirement already satisfied: setuptools in /usr/local/lib/python3.7/dist-packages (from spacy) (57.4.0)\n",
            "Requirement already satisfied: wasabi<1.1.0,>=0.9.1 in /usr/local/lib/python3.7/dist-packages (from spacy) (0.10.1)\n",
            "Requirement already satisfied: packaging>=20.0 in /usr/local/lib/python3.7/dist-packages (from spacy) (21.3)\n",
            "Requirement already satisfied: catalogue<2.1.0,>=2.0.6 in /usr/local/lib/python3.7/dist-packages (from spacy) (2.0.8)\n",
            "Requirement already satisfied: pathy>=0.3.5 in /usr/local/lib/python3.7/dist-packages (from spacy) (0.6.2)\n",
            "Requirement already satisfied: spacy-legacy<3.1.0,>=3.0.10 in /usr/local/lib/python3.7/dist-packages (from spacy) (3.0.10)\n",
            "Requirement already satisfied: typer<0.5.0,>=0.3.0 in /usr/local/lib/python3.7/dist-packages (from spacy) (0.4.2)\n",
            "Requirement already satisfied: preshed<3.1.0,>=3.0.2 in /usr/local/lib/python3.7/dist-packages (from spacy) (3.0.8)\n",
            "Requirement already satisfied: tqdm<5.0.0,>=4.38.0 in /usr/local/lib/python3.7/dist-packages (from spacy) (4.64.1)\n",
            "Requirement already satisfied: typing-extensions<4.2.0,>=3.7.4 in /usr/local/lib/python3.7/dist-packages (from spacy) (4.1.1)\n",
            "Requirement already satisfied: langcodes<4.0.0,>=3.2.0 in /usr/local/lib/python3.7/dist-packages (from spacy) (3.3.0)\n",
            "Requirement already satisfied: numpy>=1.15.0 in /usr/local/lib/python3.7/dist-packages (from spacy) (1.21.6)\n",
            "Requirement already satisfied: jinja2 in /usr/local/lib/python3.7/dist-packages (from spacy) (2.11.3)\n",
            "Requirement already satisfied: pydantic!=1.8,!=1.8.1,<1.11.0,>=1.7.4 in /usr/local/lib/python3.7/dist-packages (from spacy) (1.10.2)\n",
            "Requirement already satisfied: cymem<2.1.0,>=2.0.2 in /usr/local/lib/python3.7/dist-packages (from spacy) (2.0.7)\n",
            "Requirement already satisfied: zipp>=0.5 in /usr/local/lib/python3.7/dist-packages (from catalogue<2.1.0,>=2.0.6->spacy) (3.9.0)\n",
            "Requirement already satisfied: pyparsing!=3.0.5,>=2.0.2 in /usr/local/lib/python3.7/dist-packages (from packaging>=20.0->spacy) (3.0.9)\n",
            "Requirement already satisfied: smart-open<6.0.0,>=5.2.1 in /usr/local/lib/python3.7/dist-packages (from pathy>=0.3.5->spacy) (5.2.1)\n",
            "Requirement already satisfied: urllib3!=1.25.0,!=1.25.1,<1.26,>=1.21.1 in /usr/local/lib/python3.7/dist-packages (from requests<3.0.0,>=2.13.0->spacy) (1.24.3)\n",
            "Requirement already satisfied: certifi>=2017.4.17 in /usr/local/lib/python3.7/dist-packages (from requests<3.0.0,>=2.13.0->spacy) (2022.9.24)\n",
            "Requirement already satisfied: chardet<4,>=3.0.2 in /usr/local/lib/python3.7/dist-packages (from requests<3.0.0,>=2.13.0->spacy) (3.0.4)\n",
            "Requirement already satisfied: idna<3,>=2.5 in /usr/local/lib/python3.7/dist-packages (from requests<3.0.0,>=2.13.0->spacy) (2.10)\n",
            "Requirement already satisfied: confection<1.0.0,>=0.0.1 in /usr/local/lib/python3.7/dist-packages (from thinc<8.2.0,>=8.1.0->spacy) (0.0.3)\n",
            "Requirement already satisfied: blis<0.8.0,>=0.7.8 in /usr/local/lib/python3.7/dist-packages (from thinc<8.2.0,>=8.1.0->spacy) (0.7.9)\n",
            "Requirement already satisfied: click<9.0.0,>=7.1.1 in /usr/local/lib/python3.7/dist-packages (from typer<0.5.0,>=0.3.0->spacy) (7.1.2)\n",
            "Requirement already satisfied: MarkupSafe>=0.23 in /usr/local/lib/python3.7/dist-packages (from jinja2->spacy) (2.0.1)\n",
            "Looking in indexes: https://pypi.org/simple, https://us-python.pkg.dev/colab-wheels/public/simple/\n",
            "Collecting langdetect\n",
            "  Downloading langdetect-1.0.9.tar.gz (981 kB)\n",
            "\u001b[K     |████████████████████████████████| 981 kB 12.9 MB/s \n",
            "\u001b[?25hRequirement already satisfied: six in /usr/local/lib/python3.7/dist-packages (from langdetect) (1.15.0)\n",
            "Building wheels for collected packages: langdetect\n",
            "  Building wheel for langdetect (setup.py) ... \u001b[?25l\u001b[?25hdone\n",
            "  Created wheel for langdetect: filename=langdetect-1.0.9-py3-none-any.whl size=993242 sha256=b42834ea6afaeafd39316f2f12663b9850bbaa96b0fbb47257b57c4c5016f439\n",
            "  Stored in directory: /root/.cache/pip/wheels/c5/96/8a/f90c59ed25d75e50a8c10a1b1c2d4c402e4dacfa87f3aff36a\n",
            "Successfully built langdetect\n",
            "Installing collected packages: langdetect\n",
            "Successfully installed langdetect-1.0.9\n"
          ]
        }
      ],
      "source": [
        "!pip install emoji\n",
        "!pip install transformers\n",
        "!pip install spacy\n",
        "!pip install langdetect"
      ]
    },
    {
      "cell_type": "markdown",
      "source": [
        "## Import required libraries"
      ],
      "metadata": {
        "id": "rp8zXSau8TZF"
      }
    },
    {
      "cell_type": "code",
      "source": [
        "import numpy as np\n",
        "import pandas as pd\n",
        "import matplotlib.pyplot as plt\n",
        "import seaborn as sns\n",
        "import string\n",
        "import re\n",
        "import nltk\n",
        "from tqdm.notebook import tqdm\n",
        "import emoji\n",
        "import transformers\n",
        "from tokenizers import BertWordPieceTokenizer\n",
        "from nltk.corpus import stopwords\n",
        "from nltk.tokenize import word_tokenize\n",
        "from nltk.stem import WordNetLemmatizer\n",
        "from google.colab import drive\n",
        "import spacy\n",
        "from wordcloud import WordCloud\n",
        "from langdetect import detect\n",
        "from sklearn.model_selection import train_test_split"
      ],
      "metadata": {
        "id": "89jQY5U077hg"
      },
      "execution_count": 2,
      "outputs": []
    },
    {
      "cell_type": "markdown",
      "source": [
        "## Install required packages"
      ],
      "metadata": {
        "id": "sUJcG84sCdkk"
      }
    },
    {
      "cell_type": "code",
      "source": [
        "nltk.download('punkt') \n",
        "nltk.download('stopwords')\n",
        "nltk.download('wordnet')\n",
        "nltk.download('omw-1.4')"
      ],
      "metadata": {
        "id": "346CAghV77eW",
        "colab": {
          "base_uri": "https://localhost:8080/"
        },
        "outputId": "183f12e0-6691-4337-bdae-8f992573fde9"
      },
      "execution_count": 3,
      "outputs": [
        {
          "output_type": "stream",
          "name": "stderr",
          "text": [
            "[nltk_data] Downloading package punkt to /root/nltk_data...\n",
            "[nltk_data]   Unzipping tokenizers/punkt.zip.\n",
            "[nltk_data] Downloading package stopwords to /root/nltk_data...\n",
            "[nltk_data]   Unzipping corpora/stopwords.zip.\n",
            "[nltk_data] Downloading package wordnet to /root/nltk_data...\n",
            "[nltk_data] Downloading package omw-1.4 to /root/nltk_data...\n"
          ]
        },
        {
          "output_type": "execute_result",
          "data": {
            "text/plain": [
              "True"
            ]
          },
          "metadata": {},
          "execution_count": 3
        }
      ]
    },
    {
      "cell_type": "markdown",
      "source": [
        "## Clean data"
      ],
      "metadata": {
        "id": "WXsexjvydpNB"
      }
    },
    {
      "cell_type": "markdown",
      "source": [
        "### Read dataset"
      ],
      "metadata": {
        "id": "2uZzyBftdtbm"
      }
    },
    {
      "cell_type": "code",
      "source": [
        "drive.mount('/content/drive')"
      ],
      "metadata": {
        "colab": {
          "base_uri": "https://localhost:8080/"
        },
        "id": "UfNW5kZqdq2R",
        "outputId": "9963786f-caa5-423f-90c3-496b1ea0db2b"
      },
      "execution_count": 4,
      "outputs": [
        {
          "output_type": "stream",
          "name": "stdout",
          "text": [
            "Mounted at /content/drive\n"
          ]
        }
      ]
    },
    {
      "cell_type": "code",
      "source": [
        "raw_df = pd.read_csv('/content/drive/MyDrive/Colab Notebooks/nlp project/Dataset/biden_tweets_raw.csv')\n",
        "\n",
        "raw_df"
      ],
      "metadata": {
        "colab": {
          "base_uri": "https://localhost:8080/",
          "height": 659
        },
        "id": "OFkPNN6Ydv5G",
        "outputId": "65f21bb4-be2d-4c3d-d08f-44ecc846b448"
      },
      "execution_count": 5,
      "outputs": [
        {
          "output_type": "execute_result",
          "data": {
            "text/plain": [
              "       Unnamed: 0                   Datetime             Tweet Id  \\\n",
              "0               0  2020-12-03 23:59:59+00:00  1334648608638054400   \n",
              "1               1  2020-12-03 23:59:58+00:00  1334648604200415232   \n",
              "2               2  2020-12-03 23:59:57+00:00  1334648599477690380   \n",
              "3               3  2020-12-03 23:59:57+00:00  1334648598475108357   \n",
              "4               4  2020-12-03 23:59:56+00:00  1334648597825146882   \n",
              "...           ...                        ...                  ...   \n",
              "19997        9996  2020-12-04 22:57:40+00:00  1334995312637775872   \n",
              "19998        9997  2020-12-04 22:57:40+00:00  1334995312335699969   \n",
              "19999        9998  2020-12-04 22:57:39+00:00  1334995311350177795   \n",
              "20000        9999  2020-12-04 22:57:39+00:00  1334995310226116608   \n",
              "20001       10000  2020-12-04 22:57:39+00:00  1334995308384821248   \n",
              "\n",
              "                                                    Text        Username  \n",
              "0            @JoeBiden iste bu be sonuna kadar joe biden     EmirhanCil7  \n",
              "1      Yet you are uncertain why 23,000+ votes (98% f...         MLKing2  \n",
              "2      Right. Sure. You bet. Joe Biden is the Preside...       gfounder1  \n",
              "3      @AlexisJones1969 @theangiestanton I guess you ...        _Quetzy_  \n",
              "4      Great job team.  Biden is just reinstalling al...    sphincter987  \n",
              "...                                                  ...             ...  \n",
              "19997  Alito Responds To Appeal Asking To Block Biden...      VeraldoF4F  \n",
              "19998  @realDonaldTrump What a freeeeakeeennn Joke yo...         bfrando  \n",
              "19999  @realDonaldTrump Thanks Biden! https://t.co/th...  BlueLanternUSA  \n",
              "20000  Urge President-elect Biden to undo the damage ...   RickeyButtery  \n",
              "20001  @DeptVetAffairs \\nMr Biden hasn't started and ...      SidRamone1  \n",
              "\n",
              "[20002 rows x 5 columns]"
            ],
            "text/html": [
              "\n",
              "  <div id=\"df-76ae3f6c-7571-464a-8dd4-5f3889de241e\">\n",
              "    <div class=\"colab-df-container\">\n",
              "      <div>\n",
              "<style scoped>\n",
              "    .dataframe tbody tr th:only-of-type {\n",
              "        vertical-align: middle;\n",
              "    }\n",
              "\n",
              "    .dataframe tbody tr th {\n",
              "        vertical-align: top;\n",
              "    }\n",
              "\n",
              "    .dataframe thead th {\n",
              "        text-align: right;\n",
              "    }\n",
              "</style>\n",
              "<table border=\"1\" class=\"dataframe\">\n",
              "  <thead>\n",
              "    <tr style=\"text-align: right;\">\n",
              "      <th></th>\n",
              "      <th>Unnamed: 0</th>\n",
              "      <th>Datetime</th>\n",
              "      <th>Tweet Id</th>\n",
              "      <th>Text</th>\n",
              "      <th>Username</th>\n",
              "    </tr>\n",
              "  </thead>\n",
              "  <tbody>\n",
              "    <tr>\n",
              "      <th>0</th>\n",
              "      <td>0</td>\n",
              "      <td>2020-12-03 23:59:59+00:00</td>\n",
              "      <td>1334648608638054400</td>\n",
              "      <td>@JoeBiden iste bu be sonuna kadar joe biden</td>\n",
              "      <td>EmirhanCil7</td>\n",
              "    </tr>\n",
              "    <tr>\n",
              "      <th>1</th>\n",
              "      <td>1</td>\n",
              "      <td>2020-12-03 23:59:58+00:00</td>\n",
              "      <td>1334648604200415232</td>\n",
              "      <td>Yet you are uncertain why 23,000+ votes (98% f...</td>\n",
              "      <td>MLKing2</td>\n",
              "    </tr>\n",
              "    <tr>\n",
              "      <th>2</th>\n",
              "      <td>2</td>\n",
              "      <td>2020-12-03 23:59:57+00:00</td>\n",
              "      <td>1334648599477690380</td>\n",
              "      <td>Right. Sure. You bet. Joe Biden is the Preside...</td>\n",
              "      <td>gfounder1</td>\n",
              "    </tr>\n",
              "    <tr>\n",
              "      <th>3</th>\n",
              "      <td>3</td>\n",
              "      <td>2020-12-03 23:59:57+00:00</td>\n",
              "      <td>1334648598475108357</td>\n",
              "      <td>@AlexisJones1969 @theangiestanton I guess you ...</td>\n",
              "      <td>_Quetzy_</td>\n",
              "    </tr>\n",
              "    <tr>\n",
              "      <th>4</th>\n",
              "      <td>4</td>\n",
              "      <td>2020-12-03 23:59:56+00:00</td>\n",
              "      <td>1334648597825146882</td>\n",
              "      <td>Great job team.  Biden is just reinstalling al...</td>\n",
              "      <td>sphincter987</td>\n",
              "    </tr>\n",
              "    <tr>\n",
              "      <th>...</th>\n",
              "      <td>...</td>\n",
              "      <td>...</td>\n",
              "      <td>...</td>\n",
              "      <td>...</td>\n",
              "      <td>...</td>\n",
              "    </tr>\n",
              "    <tr>\n",
              "      <th>19997</th>\n",
              "      <td>9996</td>\n",
              "      <td>2020-12-04 22:57:40+00:00</td>\n",
              "      <td>1334995312637775872</td>\n",
              "      <td>Alito Responds To Appeal Asking To Block Biden...</td>\n",
              "      <td>VeraldoF4F</td>\n",
              "    </tr>\n",
              "    <tr>\n",
              "      <th>19998</th>\n",
              "      <td>9997</td>\n",
              "      <td>2020-12-04 22:57:40+00:00</td>\n",
              "      <td>1334995312335699969</td>\n",
              "      <td>@realDonaldTrump What a freeeeakeeennn Joke yo...</td>\n",
              "      <td>bfrando</td>\n",
              "    </tr>\n",
              "    <tr>\n",
              "      <th>19999</th>\n",
              "      <td>9998</td>\n",
              "      <td>2020-12-04 22:57:39+00:00</td>\n",
              "      <td>1334995311350177795</td>\n",
              "      <td>@realDonaldTrump Thanks Biden! https://t.co/th...</td>\n",
              "      <td>BlueLanternUSA</td>\n",
              "    </tr>\n",
              "    <tr>\n",
              "      <th>20000</th>\n",
              "      <td>9999</td>\n",
              "      <td>2020-12-04 22:57:39+00:00</td>\n",
              "      <td>1334995310226116608</td>\n",
              "      <td>Urge President-elect Biden to undo the damage ...</td>\n",
              "      <td>RickeyButtery</td>\n",
              "    </tr>\n",
              "    <tr>\n",
              "      <th>20001</th>\n",
              "      <td>10000</td>\n",
              "      <td>2020-12-04 22:57:39+00:00</td>\n",
              "      <td>1334995308384821248</td>\n",
              "      <td>@DeptVetAffairs \\nMr Biden hasn't started and ...</td>\n",
              "      <td>SidRamone1</td>\n",
              "    </tr>\n",
              "  </tbody>\n",
              "</table>\n",
              "<p>20002 rows × 5 columns</p>\n",
              "</div>\n",
              "      <button class=\"colab-df-convert\" onclick=\"convertToInteractive('df-76ae3f6c-7571-464a-8dd4-5f3889de241e')\"\n",
              "              title=\"Convert this dataframe to an interactive table.\"\n",
              "              style=\"display:none;\">\n",
              "        \n",
              "  <svg xmlns=\"http://www.w3.org/2000/svg\" height=\"24px\"viewBox=\"0 0 24 24\"\n",
              "       width=\"24px\">\n",
              "    <path d=\"M0 0h24v24H0V0z\" fill=\"none\"/>\n",
              "    <path d=\"M18.56 5.44l.94 2.06.94-2.06 2.06-.94-2.06-.94-.94-2.06-.94 2.06-2.06.94zm-11 1L8.5 8.5l.94-2.06 2.06-.94-2.06-.94L8.5 2.5l-.94 2.06-2.06.94zm10 10l.94 2.06.94-2.06 2.06-.94-2.06-.94-.94-2.06-.94 2.06-2.06.94z\"/><path d=\"M17.41 7.96l-1.37-1.37c-.4-.4-.92-.59-1.43-.59-.52 0-1.04.2-1.43.59L10.3 9.45l-7.72 7.72c-.78.78-.78 2.05 0 2.83L4 21.41c.39.39.9.59 1.41.59.51 0 1.02-.2 1.41-.59l7.78-7.78 2.81-2.81c.8-.78.8-2.07 0-2.86zM5.41 20L4 18.59l7.72-7.72 1.47 1.35L5.41 20z\"/>\n",
              "  </svg>\n",
              "      </button>\n",
              "      \n",
              "  <style>\n",
              "    .colab-df-container {\n",
              "      display:flex;\n",
              "      flex-wrap:wrap;\n",
              "      gap: 12px;\n",
              "    }\n",
              "\n",
              "    .colab-df-convert {\n",
              "      background-color: #E8F0FE;\n",
              "      border: none;\n",
              "      border-radius: 50%;\n",
              "      cursor: pointer;\n",
              "      display: none;\n",
              "      fill: #1967D2;\n",
              "      height: 32px;\n",
              "      padding: 0 0 0 0;\n",
              "      width: 32px;\n",
              "    }\n",
              "\n",
              "    .colab-df-convert:hover {\n",
              "      background-color: #E2EBFA;\n",
              "      box-shadow: 0px 1px 2px rgba(60, 64, 67, 0.3), 0px 1px 3px 1px rgba(60, 64, 67, 0.15);\n",
              "      fill: #174EA6;\n",
              "    }\n",
              "\n",
              "    [theme=dark] .colab-df-convert {\n",
              "      background-color: #3B4455;\n",
              "      fill: #D2E3FC;\n",
              "    }\n",
              "\n",
              "    [theme=dark] .colab-df-convert:hover {\n",
              "      background-color: #434B5C;\n",
              "      box-shadow: 0px 1px 3px 1px rgba(0, 0, 0, 0.15);\n",
              "      filter: drop-shadow(0px 1px 2px rgba(0, 0, 0, 0.3));\n",
              "      fill: #FFFFFF;\n",
              "    }\n",
              "  </style>\n",
              "\n",
              "      <script>\n",
              "        const buttonEl =\n",
              "          document.querySelector('#df-76ae3f6c-7571-464a-8dd4-5f3889de241e button.colab-df-convert');\n",
              "        buttonEl.style.display =\n",
              "          google.colab.kernel.accessAllowed ? 'block' : 'none';\n",
              "\n",
              "        async function convertToInteractive(key) {\n",
              "          const element = document.querySelector('#df-76ae3f6c-7571-464a-8dd4-5f3889de241e');\n",
              "          const dataTable =\n",
              "            await google.colab.kernel.invokeFunction('convertToInteractive',\n",
              "                                                     [key], {});\n",
              "          if (!dataTable) return;\n",
              "\n",
              "          const docLinkHtml = 'Like what you see? Visit the ' +\n",
              "            '<a target=\"_blank\" href=https://colab.research.google.com/notebooks/data_table.ipynb>data table notebook</a>'\n",
              "            + ' to learn more about interactive tables.';\n",
              "          element.innerHTML = '';\n",
              "          dataTable['output_type'] = 'display_data';\n",
              "          await google.colab.output.renderOutput(dataTable, element);\n",
              "          const docLink = document.createElement('div');\n",
              "          docLink.innerHTML = docLinkHtml;\n",
              "          element.appendChild(docLink);\n",
              "        }\n",
              "      </script>\n",
              "    </div>\n",
              "  </div>\n",
              "  "
            ]
          },
          "metadata": {},
          "execution_count": 5
        }
      ]
    },
    {
      "cell_type": "code",
      "source": [
        "# locate column with texts\n",
        "text_data_raw = raw_df['Text'].values"
      ],
      "metadata": {
        "id": "wu3mkBiOeDza"
      },
      "execution_count": 7,
      "outputs": []
    },
    {
      "cell_type": "code",
      "source": [
        "# text_data_raw"
      ],
      "metadata": {
        "id": "yXMLH7zozbWR"
      },
      "execution_count": null,
      "outputs": []
    },
    {
      "cell_type": "code",
      "source": [
        "len(text_data_raw)"
      ],
      "metadata": {
        "colab": {
          "base_uri": "https://localhost:8080/"
        },
        "id": "xjL_f-dSzGfB",
        "outputId": "6b307936-5a04-4847-e73d-99f24f83c2db"
      },
      "execution_count": 8,
      "outputs": [
        {
          "output_type": "execute_result",
          "data": {
            "text/plain": [
              "20002"
            ]
          },
          "metadata": {},
          "execution_count": 8
        }
      ]
    },
    {
      "cell_type": "markdown",
      "source": [
        "### Remove non-English tweets"
      ],
      "metadata": {
        "id": "VcuakGu-eG6i"
      }
    },
    {
      "cell_type": "code",
      "source": [
        "languages = []\n",
        "text_data = []\n",
        "en_count = 0\n",
        "for text in text_data_raw:\n",
        "  if text != '':\n",
        "    try:\n",
        "      language = detect(text)\n",
        "      if language == 'en':\n",
        "        en_count = en_count + 1\n",
        "        text_data.append(text)\n",
        "    except:\n",
        "      continue\n",
        "    languages.append(language)"
      ],
      "metadata": {
        "id": "jNTsktkYeD2U"
      },
      "execution_count": 9,
      "outputs": []
    },
    {
      "cell_type": "code",
      "source": [
        "np.unique(languages, return_counts = True)"
      ],
      "metadata": {
        "colab": {
          "base_uri": "https://localhost:8080/"
        },
        "id": "G_QBWCo4eD5J",
        "outputId": "b8e10017-8ff4-4656-ae6b-2b5c66ba819a"
      },
      "execution_count": 10,
      "outputs": [
        {
          "output_type": "execute_result",
          "data": {
            "text/plain": [
              "(array(['af', 'ca', 'cs', 'cy', 'da', 'de', 'el', 'en', 'es', 'et', 'fa',\n",
              "        'fi', 'fr', 'hr', 'hu', 'id', 'it', 'ja', 'ko', 'lt', 'nl', 'no',\n",
              "        'pl', 'pt', 'ro', 'ru', 'sl', 'so', 'sq', 'sv', 'sw', 'tl', 'tr',\n",
              "        'vi', 'zh-cn'], dtype='<U5'),\n",
              " array([   31,    38,     2,     9,    57,   209,     1, 18031,   682,\n",
              "            7,     1,     9,   144,     1,     4,    38,    44,     4,\n",
              "            1,     2,   249,    36,    10,   128,   113,     2,     7,\n",
              "           11,     1,    31,     2,     8,    73,    12,     2]))"
            ]
          },
          "metadata": {},
          "execution_count": 10
        }
      ]
    },
    {
      "cell_type": "code",
      "source": [
        "# text_data"
      ],
      "metadata": {
        "id": "2c1cZ3jneMJO"
      },
      "execution_count": 12,
      "outputs": []
    },
    {
      "cell_type": "code",
      "source": [
        "print(en_count)"
      ],
      "metadata": {
        "colab": {
          "base_uri": "https://localhost:8080/"
        },
        "id": "Zm-p75dyeL_u",
        "outputId": "2f11a82c-99b0-4706-f860-84f23d70a7ab"
      },
      "execution_count": 13,
      "outputs": [
        {
          "output_type": "stream",
          "name": "stdout",
          "text": [
            "18031\n"
          ]
        }
      ]
    },
    {
      "cell_type": "code",
      "source": [
        "# store English tweets as new df\n",
        "clean_df = pd.DataFrame(text_data, columns = ['Text'])\n",
        "\n",
        "clean_df"
      ],
      "metadata": {
        "colab": {
          "base_uri": "https://localhost:8080/",
          "height": 424
        },
        "id": "gzzG4jDpeML4",
        "outputId": "e7a32225-cad2-453d-add0-ec1aff99e89f"
      },
      "execution_count": 14,
      "outputs": [
        {
          "output_type": "execute_result",
          "data": {
            "text/plain": [
              "                                                    Text\n",
              "0      Yet you are uncertain why 23,000+ votes (98% f...\n",
              "1      Right. Sure. You bet. Joe Biden is the Preside...\n",
              "2      @AlexisJones1969 @theangiestanton I guess you ...\n",
              "3      Great job team.  Biden is just reinstalling al...\n",
              "4      @bookmaker_eu Will I get paid out on my Biden ...\n",
              "...                                                  ...\n",
              "18026  Alito Responds To Appeal Asking To Block Biden...\n",
              "18027  @realDonaldTrump What a freeeeakeeennn Joke yo...\n",
              "18028  @realDonaldTrump Thanks Biden! https://t.co/th...\n",
              "18029  Urge President-elect Biden to undo the damage ...\n",
              "18030  @DeptVetAffairs \\nMr Biden hasn't started and ...\n",
              "\n",
              "[18031 rows x 1 columns]"
            ],
            "text/html": [
              "\n",
              "  <div id=\"df-a2168896-75f9-4d42-875e-2be63d28fa97\">\n",
              "    <div class=\"colab-df-container\">\n",
              "      <div>\n",
              "<style scoped>\n",
              "    .dataframe tbody tr th:only-of-type {\n",
              "        vertical-align: middle;\n",
              "    }\n",
              "\n",
              "    .dataframe tbody tr th {\n",
              "        vertical-align: top;\n",
              "    }\n",
              "\n",
              "    .dataframe thead th {\n",
              "        text-align: right;\n",
              "    }\n",
              "</style>\n",
              "<table border=\"1\" class=\"dataframe\">\n",
              "  <thead>\n",
              "    <tr style=\"text-align: right;\">\n",
              "      <th></th>\n",
              "      <th>Text</th>\n",
              "    </tr>\n",
              "  </thead>\n",
              "  <tbody>\n",
              "    <tr>\n",
              "      <th>0</th>\n",
              "      <td>Yet you are uncertain why 23,000+ votes (98% f...</td>\n",
              "    </tr>\n",
              "    <tr>\n",
              "      <th>1</th>\n",
              "      <td>Right. Sure. You bet. Joe Biden is the Preside...</td>\n",
              "    </tr>\n",
              "    <tr>\n",
              "      <th>2</th>\n",
              "      <td>@AlexisJones1969 @theangiestanton I guess you ...</td>\n",
              "    </tr>\n",
              "    <tr>\n",
              "      <th>3</th>\n",
              "      <td>Great job team.  Biden is just reinstalling al...</td>\n",
              "    </tr>\n",
              "    <tr>\n",
              "      <th>4</th>\n",
              "      <td>@bookmaker_eu Will I get paid out on my Biden ...</td>\n",
              "    </tr>\n",
              "    <tr>\n",
              "      <th>...</th>\n",
              "      <td>...</td>\n",
              "    </tr>\n",
              "    <tr>\n",
              "      <th>18026</th>\n",
              "      <td>Alito Responds To Appeal Asking To Block Biden...</td>\n",
              "    </tr>\n",
              "    <tr>\n",
              "      <th>18027</th>\n",
              "      <td>@realDonaldTrump What a freeeeakeeennn Joke yo...</td>\n",
              "    </tr>\n",
              "    <tr>\n",
              "      <th>18028</th>\n",
              "      <td>@realDonaldTrump Thanks Biden! https://t.co/th...</td>\n",
              "    </tr>\n",
              "    <tr>\n",
              "      <th>18029</th>\n",
              "      <td>Urge President-elect Biden to undo the damage ...</td>\n",
              "    </tr>\n",
              "    <tr>\n",
              "      <th>18030</th>\n",
              "      <td>@DeptVetAffairs \\nMr Biden hasn't started and ...</td>\n",
              "    </tr>\n",
              "  </tbody>\n",
              "</table>\n",
              "<p>18031 rows × 1 columns</p>\n",
              "</div>\n",
              "      <button class=\"colab-df-convert\" onclick=\"convertToInteractive('df-a2168896-75f9-4d42-875e-2be63d28fa97')\"\n",
              "              title=\"Convert this dataframe to an interactive table.\"\n",
              "              style=\"display:none;\">\n",
              "        \n",
              "  <svg xmlns=\"http://www.w3.org/2000/svg\" height=\"24px\"viewBox=\"0 0 24 24\"\n",
              "       width=\"24px\">\n",
              "    <path d=\"M0 0h24v24H0V0z\" fill=\"none\"/>\n",
              "    <path d=\"M18.56 5.44l.94 2.06.94-2.06 2.06-.94-2.06-.94-.94-2.06-.94 2.06-2.06.94zm-11 1L8.5 8.5l.94-2.06 2.06-.94-2.06-.94L8.5 2.5l-.94 2.06-2.06.94zm10 10l.94 2.06.94-2.06 2.06-.94-2.06-.94-.94-2.06-.94 2.06-2.06.94z\"/><path d=\"M17.41 7.96l-1.37-1.37c-.4-.4-.92-.59-1.43-.59-.52 0-1.04.2-1.43.59L10.3 9.45l-7.72 7.72c-.78.78-.78 2.05 0 2.83L4 21.41c.39.39.9.59 1.41.59.51 0 1.02-.2 1.41-.59l7.78-7.78 2.81-2.81c.8-.78.8-2.07 0-2.86zM5.41 20L4 18.59l7.72-7.72 1.47 1.35L5.41 20z\"/>\n",
              "  </svg>\n",
              "      </button>\n",
              "      \n",
              "  <style>\n",
              "    .colab-df-container {\n",
              "      display:flex;\n",
              "      flex-wrap:wrap;\n",
              "      gap: 12px;\n",
              "    }\n",
              "\n",
              "    .colab-df-convert {\n",
              "      background-color: #E8F0FE;\n",
              "      border: none;\n",
              "      border-radius: 50%;\n",
              "      cursor: pointer;\n",
              "      display: none;\n",
              "      fill: #1967D2;\n",
              "      height: 32px;\n",
              "      padding: 0 0 0 0;\n",
              "      width: 32px;\n",
              "    }\n",
              "\n",
              "    .colab-df-convert:hover {\n",
              "      background-color: #E2EBFA;\n",
              "      box-shadow: 0px 1px 2px rgba(60, 64, 67, 0.3), 0px 1px 3px 1px rgba(60, 64, 67, 0.15);\n",
              "      fill: #174EA6;\n",
              "    }\n",
              "\n",
              "    [theme=dark] .colab-df-convert {\n",
              "      background-color: #3B4455;\n",
              "      fill: #D2E3FC;\n",
              "    }\n",
              "\n",
              "    [theme=dark] .colab-df-convert:hover {\n",
              "      background-color: #434B5C;\n",
              "      box-shadow: 0px 1px 3px 1px rgba(0, 0, 0, 0.15);\n",
              "      filter: drop-shadow(0px 1px 2px rgba(0, 0, 0, 0.3));\n",
              "      fill: #FFFFFF;\n",
              "    }\n",
              "  </style>\n",
              "\n",
              "      <script>\n",
              "        const buttonEl =\n",
              "          document.querySelector('#df-a2168896-75f9-4d42-875e-2be63d28fa97 button.colab-df-convert');\n",
              "        buttonEl.style.display =\n",
              "          google.colab.kernel.accessAllowed ? 'block' : 'none';\n",
              "\n",
              "        async function convertToInteractive(key) {\n",
              "          const element = document.querySelector('#df-a2168896-75f9-4d42-875e-2be63d28fa97');\n",
              "          const dataTable =\n",
              "            await google.colab.kernel.invokeFunction('convertToInteractive',\n",
              "                                                     [key], {});\n",
              "          if (!dataTable) return;\n",
              "\n",
              "          const docLinkHtml = 'Like what you see? Visit the ' +\n",
              "            '<a target=\"_blank\" href=https://colab.research.google.com/notebooks/data_table.ipynb>data table notebook</a>'\n",
              "            + ' to learn more about interactive tables.';\n",
              "          element.innerHTML = '';\n",
              "          dataTable['output_type'] = 'display_data';\n",
              "          await google.colab.output.renderOutput(dataTable, element);\n",
              "          const docLink = document.createElement('div');\n",
              "          docLink.innerHTML = docLinkHtml;\n",
              "          element.appendChild(docLink);\n",
              "        }\n",
              "      </script>\n",
              "    </div>\n",
              "  </div>\n",
              "  "
            ]
          },
          "metadata": {},
          "execution_count": 14
        }
      ]
    },
    {
      "cell_type": "markdown",
      "source": [
        "### Remove duplicate tweets"
      ],
      "metadata": {
        "id": "5TqOzuO0eRpm"
      }
    },
    {
      "cell_type": "code",
      "source": [
        "clean_df = clean_df.drop_duplicates(keep='first')\n",
        "\n",
        "clean_df"
      ],
      "metadata": {
        "colab": {
          "base_uri": "https://localhost:8080/",
          "height": 424
        },
        "id": "qTqaDoaZeUO1",
        "outputId": "30e5c9db-7583-47fe-87bc-eee8607991cd"
      },
      "execution_count": 15,
      "outputs": [
        {
          "output_type": "execute_result",
          "data": {
            "text/plain": [
              "                                                    Text\n",
              "0      Yet you are uncertain why 23,000+ votes (98% f...\n",
              "1      Right. Sure. You bet. Joe Biden is the Preside...\n",
              "2      @AlexisJones1969 @theangiestanton I guess you ...\n",
              "3      Great job team.  Biden is just reinstalling al...\n",
              "4      @bookmaker_eu Will I get paid out on my Biden ...\n",
              "...                                                  ...\n",
              "18026  Alito Responds To Appeal Asking To Block Biden...\n",
              "18027  @realDonaldTrump What a freeeeakeeennn Joke yo...\n",
              "18028  @realDonaldTrump Thanks Biden! https://t.co/th...\n",
              "18029  Urge President-elect Biden to undo the damage ...\n",
              "18030  @DeptVetAffairs \\nMr Biden hasn't started and ...\n",
              "\n",
              "[17650 rows x 1 columns]"
            ],
            "text/html": [
              "\n",
              "  <div id=\"df-de0375d0-40a1-4429-9831-1dd991901ef3\">\n",
              "    <div class=\"colab-df-container\">\n",
              "      <div>\n",
              "<style scoped>\n",
              "    .dataframe tbody tr th:only-of-type {\n",
              "        vertical-align: middle;\n",
              "    }\n",
              "\n",
              "    .dataframe tbody tr th {\n",
              "        vertical-align: top;\n",
              "    }\n",
              "\n",
              "    .dataframe thead th {\n",
              "        text-align: right;\n",
              "    }\n",
              "</style>\n",
              "<table border=\"1\" class=\"dataframe\">\n",
              "  <thead>\n",
              "    <tr style=\"text-align: right;\">\n",
              "      <th></th>\n",
              "      <th>Text</th>\n",
              "    </tr>\n",
              "  </thead>\n",
              "  <tbody>\n",
              "    <tr>\n",
              "      <th>0</th>\n",
              "      <td>Yet you are uncertain why 23,000+ votes (98% f...</td>\n",
              "    </tr>\n",
              "    <tr>\n",
              "      <th>1</th>\n",
              "      <td>Right. Sure. You bet. Joe Biden is the Preside...</td>\n",
              "    </tr>\n",
              "    <tr>\n",
              "      <th>2</th>\n",
              "      <td>@AlexisJones1969 @theangiestanton I guess you ...</td>\n",
              "    </tr>\n",
              "    <tr>\n",
              "      <th>3</th>\n",
              "      <td>Great job team.  Biden is just reinstalling al...</td>\n",
              "    </tr>\n",
              "    <tr>\n",
              "      <th>4</th>\n",
              "      <td>@bookmaker_eu Will I get paid out on my Biden ...</td>\n",
              "    </tr>\n",
              "    <tr>\n",
              "      <th>...</th>\n",
              "      <td>...</td>\n",
              "    </tr>\n",
              "    <tr>\n",
              "      <th>18026</th>\n",
              "      <td>Alito Responds To Appeal Asking To Block Biden...</td>\n",
              "    </tr>\n",
              "    <tr>\n",
              "      <th>18027</th>\n",
              "      <td>@realDonaldTrump What a freeeeakeeennn Joke yo...</td>\n",
              "    </tr>\n",
              "    <tr>\n",
              "      <th>18028</th>\n",
              "      <td>@realDonaldTrump Thanks Biden! https://t.co/th...</td>\n",
              "    </tr>\n",
              "    <tr>\n",
              "      <th>18029</th>\n",
              "      <td>Urge President-elect Biden to undo the damage ...</td>\n",
              "    </tr>\n",
              "    <tr>\n",
              "      <th>18030</th>\n",
              "      <td>@DeptVetAffairs \\nMr Biden hasn't started and ...</td>\n",
              "    </tr>\n",
              "  </tbody>\n",
              "</table>\n",
              "<p>17650 rows × 1 columns</p>\n",
              "</div>\n",
              "      <button class=\"colab-df-convert\" onclick=\"convertToInteractive('df-de0375d0-40a1-4429-9831-1dd991901ef3')\"\n",
              "              title=\"Convert this dataframe to an interactive table.\"\n",
              "              style=\"display:none;\">\n",
              "        \n",
              "  <svg xmlns=\"http://www.w3.org/2000/svg\" height=\"24px\"viewBox=\"0 0 24 24\"\n",
              "       width=\"24px\">\n",
              "    <path d=\"M0 0h24v24H0V0z\" fill=\"none\"/>\n",
              "    <path d=\"M18.56 5.44l.94 2.06.94-2.06 2.06-.94-2.06-.94-.94-2.06-.94 2.06-2.06.94zm-11 1L8.5 8.5l.94-2.06 2.06-.94-2.06-.94L8.5 2.5l-.94 2.06-2.06.94zm10 10l.94 2.06.94-2.06 2.06-.94-2.06-.94-.94-2.06-.94 2.06-2.06.94z\"/><path d=\"M17.41 7.96l-1.37-1.37c-.4-.4-.92-.59-1.43-.59-.52 0-1.04.2-1.43.59L10.3 9.45l-7.72 7.72c-.78.78-.78 2.05 0 2.83L4 21.41c.39.39.9.59 1.41.59.51 0 1.02-.2 1.41-.59l7.78-7.78 2.81-2.81c.8-.78.8-2.07 0-2.86zM5.41 20L4 18.59l7.72-7.72 1.47 1.35L5.41 20z\"/>\n",
              "  </svg>\n",
              "      </button>\n",
              "      \n",
              "  <style>\n",
              "    .colab-df-container {\n",
              "      display:flex;\n",
              "      flex-wrap:wrap;\n",
              "      gap: 12px;\n",
              "    }\n",
              "\n",
              "    .colab-df-convert {\n",
              "      background-color: #E8F0FE;\n",
              "      border: none;\n",
              "      border-radius: 50%;\n",
              "      cursor: pointer;\n",
              "      display: none;\n",
              "      fill: #1967D2;\n",
              "      height: 32px;\n",
              "      padding: 0 0 0 0;\n",
              "      width: 32px;\n",
              "    }\n",
              "\n",
              "    .colab-df-convert:hover {\n",
              "      background-color: #E2EBFA;\n",
              "      box-shadow: 0px 1px 2px rgba(60, 64, 67, 0.3), 0px 1px 3px 1px rgba(60, 64, 67, 0.15);\n",
              "      fill: #174EA6;\n",
              "    }\n",
              "\n",
              "    [theme=dark] .colab-df-convert {\n",
              "      background-color: #3B4455;\n",
              "      fill: #D2E3FC;\n",
              "    }\n",
              "\n",
              "    [theme=dark] .colab-df-convert:hover {\n",
              "      background-color: #434B5C;\n",
              "      box-shadow: 0px 1px 3px 1px rgba(0, 0, 0, 0.15);\n",
              "      filter: drop-shadow(0px 1px 2px rgba(0, 0, 0, 0.3));\n",
              "      fill: #FFFFFF;\n",
              "    }\n",
              "  </style>\n",
              "\n",
              "      <script>\n",
              "        const buttonEl =\n",
              "          document.querySelector('#df-de0375d0-40a1-4429-9831-1dd991901ef3 button.colab-df-convert');\n",
              "        buttonEl.style.display =\n",
              "          google.colab.kernel.accessAllowed ? 'block' : 'none';\n",
              "\n",
              "        async function convertToInteractive(key) {\n",
              "          const element = document.querySelector('#df-de0375d0-40a1-4429-9831-1dd991901ef3');\n",
              "          const dataTable =\n",
              "            await google.colab.kernel.invokeFunction('convertToInteractive',\n",
              "                                                     [key], {});\n",
              "          if (!dataTable) return;\n",
              "\n",
              "          const docLinkHtml = 'Like what you see? Visit the ' +\n",
              "            '<a target=\"_blank\" href=https://colab.research.google.com/notebooks/data_table.ipynb>data table notebook</a>'\n",
              "            + ' to learn more about interactive tables.';\n",
              "          element.innerHTML = '';\n",
              "          dataTable['output_type'] = 'display_data';\n",
              "          await google.colab.output.renderOutput(dataTable, element);\n",
              "          const docLink = document.createElement('div');\n",
              "          docLink.innerHTML = docLinkHtml;\n",
              "          element.appendChild(docLink);\n",
              "        }\n",
              "      </script>\n",
              "    </div>\n",
              "  </div>\n",
              "  "
            ]
          },
          "metadata": {},
          "execution_count": 15
        }
      ]
    },
    {
      "cell_type": "markdown",
      "source": [
        "### Shuffle cleaned data"
      ],
      "metadata": {
        "id": "9lLF5AYUeYHw"
      }
    },
    {
      "cell_type": "code",
      "source": [
        "# shuffle dataframe rows\n",
        "df = clean_df.sample(frac=1, random_state=42).reset_index(drop=True)\n",
        "\n",
        "df"
      ],
      "metadata": {
        "colab": {
          "base_uri": "https://localhost:8080/",
          "height": 424
        },
        "id": "Sof4W9RKeURR",
        "outputId": "04b76460-351f-46a4-8915-aebff94f30a4"
      },
      "execution_count": 16,
      "outputs": [
        {
          "output_type": "execute_result",
          "data": {
            "text/plain": [
              "                                                    Text\n",
              "0      @timjged @ditzkoff \"If the next administration...\n",
              "1      @TheRealKyXin @sammyjoms66 @AcmeNonInc @NicAtN...\n",
              "2      \"Just 100 days to mask, not forever. 100 days....\n",
              "3      @conorjrogers @reedgalen They could not raise ...\n",
              "4      A great thread about why President-elect Biden...\n",
              "...                                                  ...\n",
              "17645  @ScotsFyre He was setting himself up for a pos...\n",
              "17646  @HurdlesCraig @RonnieBroomhall @ppv_tahoe @Rud...\n",
              "17647  @bryceagen @itsJeffTiedrich @realDonaldTrump @...\n",
              "17648  @c5hardtop1999 #FBI Dir. Wray Profited from Hu...\n",
              "17649  @SloughForEU \"Joe Biden isn't in the White Hou...\n",
              "\n",
              "[17650 rows x 1 columns]"
            ],
            "text/html": [
              "\n",
              "  <div id=\"df-f027b429-7c68-4136-807b-c6f5ea309172\">\n",
              "    <div class=\"colab-df-container\">\n",
              "      <div>\n",
              "<style scoped>\n",
              "    .dataframe tbody tr th:only-of-type {\n",
              "        vertical-align: middle;\n",
              "    }\n",
              "\n",
              "    .dataframe tbody tr th {\n",
              "        vertical-align: top;\n",
              "    }\n",
              "\n",
              "    .dataframe thead th {\n",
              "        text-align: right;\n",
              "    }\n",
              "</style>\n",
              "<table border=\"1\" class=\"dataframe\">\n",
              "  <thead>\n",
              "    <tr style=\"text-align: right;\">\n",
              "      <th></th>\n",
              "      <th>Text</th>\n",
              "    </tr>\n",
              "  </thead>\n",
              "  <tbody>\n",
              "    <tr>\n",
              "      <th>0</th>\n",
              "      <td>@timjged @ditzkoff \"If the next administration...</td>\n",
              "    </tr>\n",
              "    <tr>\n",
              "      <th>1</th>\n",
              "      <td>@TheRealKyXin @sammyjoms66 @AcmeNonInc @NicAtN...</td>\n",
              "    </tr>\n",
              "    <tr>\n",
              "      <th>2</th>\n",
              "      <td>\"Just 100 days to mask, not forever. 100 days....</td>\n",
              "    </tr>\n",
              "    <tr>\n",
              "      <th>3</th>\n",
              "      <td>@conorjrogers @reedgalen They could not raise ...</td>\n",
              "    </tr>\n",
              "    <tr>\n",
              "      <th>4</th>\n",
              "      <td>A great thread about why President-elect Biden...</td>\n",
              "    </tr>\n",
              "    <tr>\n",
              "      <th>...</th>\n",
              "      <td>...</td>\n",
              "    </tr>\n",
              "    <tr>\n",
              "      <th>17645</th>\n",
              "      <td>@ScotsFyre He was setting himself up for a pos...</td>\n",
              "    </tr>\n",
              "    <tr>\n",
              "      <th>17646</th>\n",
              "      <td>@HurdlesCraig @RonnieBroomhall @ppv_tahoe @Rud...</td>\n",
              "    </tr>\n",
              "    <tr>\n",
              "      <th>17647</th>\n",
              "      <td>@bryceagen @itsJeffTiedrich @realDonaldTrump @...</td>\n",
              "    </tr>\n",
              "    <tr>\n",
              "      <th>17648</th>\n",
              "      <td>@c5hardtop1999 #FBI Dir. Wray Profited from Hu...</td>\n",
              "    </tr>\n",
              "    <tr>\n",
              "      <th>17649</th>\n",
              "      <td>@SloughForEU \"Joe Biden isn't in the White Hou...</td>\n",
              "    </tr>\n",
              "  </tbody>\n",
              "</table>\n",
              "<p>17650 rows × 1 columns</p>\n",
              "</div>\n",
              "      <button class=\"colab-df-convert\" onclick=\"convertToInteractive('df-f027b429-7c68-4136-807b-c6f5ea309172')\"\n",
              "              title=\"Convert this dataframe to an interactive table.\"\n",
              "              style=\"display:none;\">\n",
              "        \n",
              "  <svg xmlns=\"http://www.w3.org/2000/svg\" height=\"24px\"viewBox=\"0 0 24 24\"\n",
              "       width=\"24px\">\n",
              "    <path d=\"M0 0h24v24H0V0z\" fill=\"none\"/>\n",
              "    <path d=\"M18.56 5.44l.94 2.06.94-2.06 2.06-.94-2.06-.94-.94-2.06-.94 2.06-2.06.94zm-11 1L8.5 8.5l.94-2.06 2.06-.94-2.06-.94L8.5 2.5l-.94 2.06-2.06.94zm10 10l.94 2.06.94-2.06 2.06-.94-2.06-.94-.94-2.06-.94 2.06-2.06.94z\"/><path d=\"M17.41 7.96l-1.37-1.37c-.4-.4-.92-.59-1.43-.59-.52 0-1.04.2-1.43.59L10.3 9.45l-7.72 7.72c-.78.78-.78 2.05 0 2.83L4 21.41c.39.39.9.59 1.41.59.51 0 1.02-.2 1.41-.59l7.78-7.78 2.81-2.81c.8-.78.8-2.07 0-2.86zM5.41 20L4 18.59l7.72-7.72 1.47 1.35L5.41 20z\"/>\n",
              "  </svg>\n",
              "      </button>\n",
              "      \n",
              "  <style>\n",
              "    .colab-df-container {\n",
              "      display:flex;\n",
              "      flex-wrap:wrap;\n",
              "      gap: 12px;\n",
              "    }\n",
              "\n",
              "    .colab-df-convert {\n",
              "      background-color: #E8F0FE;\n",
              "      border: none;\n",
              "      border-radius: 50%;\n",
              "      cursor: pointer;\n",
              "      display: none;\n",
              "      fill: #1967D2;\n",
              "      height: 32px;\n",
              "      padding: 0 0 0 0;\n",
              "      width: 32px;\n",
              "    }\n",
              "\n",
              "    .colab-df-convert:hover {\n",
              "      background-color: #E2EBFA;\n",
              "      box-shadow: 0px 1px 2px rgba(60, 64, 67, 0.3), 0px 1px 3px 1px rgba(60, 64, 67, 0.15);\n",
              "      fill: #174EA6;\n",
              "    }\n",
              "\n",
              "    [theme=dark] .colab-df-convert {\n",
              "      background-color: #3B4455;\n",
              "      fill: #D2E3FC;\n",
              "    }\n",
              "\n",
              "    [theme=dark] .colab-df-convert:hover {\n",
              "      background-color: #434B5C;\n",
              "      box-shadow: 0px 1px 3px 1px rgba(0, 0, 0, 0.15);\n",
              "      filter: drop-shadow(0px 1px 2px rgba(0, 0, 0, 0.3));\n",
              "      fill: #FFFFFF;\n",
              "    }\n",
              "  </style>\n",
              "\n",
              "      <script>\n",
              "        const buttonEl =\n",
              "          document.querySelector('#df-f027b429-7c68-4136-807b-c6f5ea309172 button.colab-df-convert');\n",
              "        buttonEl.style.display =\n",
              "          google.colab.kernel.accessAllowed ? 'block' : 'none';\n",
              "\n",
              "        async function convertToInteractive(key) {\n",
              "          const element = document.querySelector('#df-f027b429-7c68-4136-807b-c6f5ea309172');\n",
              "          const dataTable =\n",
              "            await google.colab.kernel.invokeFunction('convertToInteractive',\n",
              "                                                     [key], {});\n",
              "          if (!dataTable) return;\n",
              "\n",
              "          const docLinkHtml = 'Like what you see? Visit the ' +\n",
              "            '<a target=\"_blank\" href=https://colab.research.google.com/notebooks/data_table.ipynb>data table notebook</a>'\n",
              "            + ' to learn more about interactive tables.';\n",
              "          element.innerHTML = '';\n",
              "          dataTable['output_type'] = 'display_data';\n",
              "          await google.colab.output.renderOutput(dataTable, element);\n",
              "          const docLink = document.createElement('div');\n",
              "          docLink.innerHTML = docLinkHtml;\n",
              "          element.appendChild(docLink);\n",
              "        }\n",
              "      </script>\n",
              "    </div>\n",
              "  </div>\n",
              "  "
            ]
          },
          "metadata": {},
          "execution_count": 16
        }
      ]
    },
    {
      "cell_type": "markdown",
      "source": [
        "## Preprocess functions"
      ],
      "metadata": {
        "id": "Ik_ZSBq38nlN"
      }
    },
    {
      "cell_type": "code",
      "source": [
        "def emoji_cleaning(text):\n",
        "    \n",
        "  # Change emoji to text\n",
        "  text = emoji.demojize(text).replace(\":\", \" \")\n",
        "  \n",
        "  # Delete repeated emoji\n",
        "  tokenizer = text.split()\n",
        "  repeated_list = []\n",
        "  \n",
        "  for word in tokenizer:\n",
        "      if word not in repeated_list:\n",
        "          repeated_list.append(word)\n",
        "  \n",
        "  text = ' '.join(text for text in repeated_list)\n",
        "  text = text.replace(\"_\", \" \").replace(\"-\", \" \")\n",
        "  return text"
      ],
      "metadata": {
        "id": "QiwR1wt78c61"
      },
      "execution_count": 17,
      "outputs": []
    },
    {
      "cell_type": "code",
      "source": [
        "def clean_smileys(text):\n",
        "    \n",
        "    text = re.sub(r'(:\\)|: \\)|\\(\\:|:-\\)|: -\\)|: - \\)|:D|: D)', ' smile ', text)\n",
        "    text = re.sub(r'(:\\(|: \\(|\\)\\:|:-\\(|: -\\(|: - \\(|:\\'\\()', ' dislike ', text)\n",
        "    text = re.sub(r'(<3)', ' heart ', text)\n",
        "    text = re.sub(r'(:/)', ' dislike ', text)\n",
        "    text = re.sub(r'(;\\)|; \\))', ' wink ', text)\n",
        "    return ' '.join([word for word in text.split()])"
      ],
      "metadata": {
        "id": "RQTZ6mbM8c9K"
      },
      "execution_count": 18,
      "outputs": []
    },
    {
      "cell_type": "code",
      "source": [
        "def clean_urls(review):\n",
        "    review = review.split()\n",
        "    review = ' '.join([word for word in review if not re.match('^http', word)])\n",
        "    return review"
      ],
      "metadata": {
        "id": "Yi8fEKXX8uXD"
      },
      "execution_count": 19,
      "outputs": []
    },
    {
      "cell_type": "code",
      "source": [
        "def decontracted(text):\n",
        "    text = re.sub(r\"won\\’t\", \"will not\", text)\n",
        "    text = re.sub(r\"don't\", \"do not\", text)\n",
        "    text = re.sub(r\"don't\", \"do not\", text)\n",
        "    text = re.sub(r\"can\\’t\", \"can not\", text)\n",
        "    text = re.sub(r\"n\\’t\", \" not\", text)\n",
        "    text = re.sub(r\"\\’re\", \" are\", text)\n",
        "    text = re.sub(r\"it\\'s\", \"it is\", text)\n",
        "    text = re.sub(r\"\\’d\", \" would\", text)\n",
        "    text = re.sub(r\"\\’ll\", \" will\", text)\n",
        "    text = re.sub(r\"\\’t\", \" not\", text)\n",
        "    text = re.sub(r\"\\’ve\", \" have\", text)\n",
        "    text = re.sub(r\"\\’m\", \" am\", text)\n",
        "\n",
        "    text = re.sub(r\"n\\'t\", \" not\", text)\n",
        "    text = re.sub(r\"\\’re\", \" are\", text)\n",
        "    text = re.sub(r\"\\'re\", \" are\", text)\n",
        "    text = re.sub(r\"\\'d\", \" would\", text)\n",
        "    text = re.sub(r\"\\’d\", \" would\", text)\n",
        "    text = re.sub(r\"\\'ll\", \" will\", text)\n",
        "    text = re.sub(r\"\\’ll\", \" will\", text)\n",
        "    text = re.sub(r\"\\'t\", \" not\", text)\n",
        "    text = re.sub(r\"\\’t\", \" not\", text)\n",
        "    text = re.sub(r\"\\'ve\", \" have\", text)\n",
        "    text = re.sub(r\"\\’ve\", \" have\", text)\n",
        "    text = re.sub(r\"\\'m\", \" am\", text)\n",
        "    text = re.sub(r\"\\’m\", \" am\", text)\n",
        "    text = re.sub(r\"\\“\", \"\", text)\n",
        "    text = re.sub(r\"\\”\", \"\", text)\n",
        "    text = re.sub(r\"\\…\", \"\", text)\n",
        "\n",
        "    return text"
      ],
      "metadata": {
        "id": "eVivlKy28uZj"
      },
      "execution_count": 20,
      "outputs": []
    },
    {
      "cell_type": "code",
      "source": [
        "def clean_text(text):\n",
        "    text = str(text)\n",
        "    text = re.sub(r'(\\w)\\1{2,}', r'\\1', text)\n",
        "    text = re.sub(r'[^a-zA-Z ]+', ' ', text)\n",
        "    text = re.sub(r'http\\S+', ' ', text)\n",
        "    text = re.sub(r'https?:\\/\\/.*[\\r\\n]*', '', text)\n",
        "    text = re.sub(r'^RT[\\s]+', '', text)\n",
        "    text = re.sub(r'pic.twitter\\S+', ' ', text)\n",
        "    text = re.sub(r'#', '', text)\n",
        "    text = text.lower()\n",
        "\n",
        "    return text"
      ],
      "metadata": {
        "id": "zzFj2kDS8ucy"
      },
      "execution_count": 21,
      "outputs": []
    },
    {
      "cell_type": "code",
      "source": [
        "stop_words = stopwords.words('english') \n",
        "stop_words.remove('not') \n",
        "lemmatizer = WordNetLemmatizer()"
      ],
      "metadata": {
        "id": "4bFDy8-l-Dmo"
      },
      "execution_count": 22,
      "outputs": []
    },
    {
      "cell_type": "code",
      "source": [
        "def data_preprocessing(review):\n",
        "    \n",
        "  # data cleaning\n",
        "    review = re.sub(re.compile('<.*?>'), '', review) #removing html tags\n",
        "    review =  re.sub('[^A-Za-z0-9]+', ' ', review) #taking only words\n",
        "  \n",
        "  # lowercase\n",
        "    review = review.lower()\n",
        "  \n",
        "  # tokenization\n",
        "    tokens = nltk.word_tokenize(review) # converts review to tokens\n",
        "  \n",
        "  # stop_words removal\n",
        "    review = [word for word in tokens if word not in stop_words] #removing stop words\n",
        "  \n",
        "  # lemmatization\n",
        "    review = [lemmatizer.lemmatize(word) for word in review]\n",
        "  \n",
        "  # join words in preprocessed review\n",
        "    review = ' '.join(review)\n",
        "    return review"
      ],
      "metadata": {
        "id": "DuZZcD7o-DsB"
      },
      "execution_count": 23,
      "outputs": []
    },
    {
      "cell_type": "markdown",
      "source": [
        "## Process dataset"
      ],
      "metadata": {
        "id": "r9-LlNWH-IoM"
      }
    },
    {
      "cell_type": "markdown",
      "source": [
        "### Full dataset"
      ],
      "metadata": {
        "id": "RRGFRTRwVvk2"
      }
    },
    {
      "cell_type": "markdown",
      "source": [
        "#### Read dataset"
      ],
      "metadata": {
        "id": "8y_0epAR8YcZ"
      }
    },
    {
      "cell_type": "code",
      "source": [
        "# rename text coumn\n",
        "df = df.rename(columns={'Text': 'raw_text'})\n",
        "\n",
        "df"
      ],
      "metadata": {
        "colab": {
          "base_uri": "https://localhost:8080/",
          "height": 424
        },
        "id": "VoT0qzAr-jWl",
        "outputId": "c2ee28c7-304a-4b36-bfb2-b1ebf4c52737"
      },
      "execution_count": 24,
      "outputs": [
        {
          "output_type": "execute_result",
          "data": {
            "text/plain": [
              "                                                raw_text\n",
              "0      @timjged @ditzkoff \"If the next administration...\n",
              "1      @TheRealKyXin @sammyjoms66 @AcmeNonInc @NicAtN...\n",
              "2      \"Just 100 days to mask, not forever. 100 days....\n",
              "3      @conorjrogers @reedgalen They could not raise ...\n",
              "4      A great thread about why President-elect Biden...\n",
              "...                                                  ...\n",
              "17645  @ScotsFyre He was setting himself up for a pos...\n",
              "17646  @HurdlesCraig @RonnieBroomhall @ppv_tahoe @Rud...\n",
              "17647  @bryceagen @itsJeffTiedrich @realDonaldTrump @...\n",
              "17648  @c5hardtop1999 #FBI Dir. Wray Profited from Hu...\n",
              "17649  @SloughForEU \"Joe Biden isn't in the White Hou...\n",
              "\n",
              "[17650 rows x 1 columns]"
            ],
            "text/html": [
              "\n",
              "  <div id=\"df-e73b464c-5bc7-495d-b293-e2b276a14818\">\n",
              "    <div class=\"colab-df-container\">\n",
              "      <div>\n",
              "<style scoped>\n",
              "    .dataframe tbody tr th:only-of-type {\n",
              "        vertical-align: middle;\n",
              "    }\n",
              "\n",
              "    .dataframe tbody tr th {\n",
              "        vertical-align: top;\n",
              "    }\n",
              "\n",
              "    .dataframe thead th {\n",
              "        text-align: right;\n",
              "    }\n",
              "</style>\n",
              "<table border=\"1\" class=\"dataframe\">\n",
              "  <thead>\n",
              "    <tr style=\"text-align: right;\">\n",
              "      <th></th>\n",
              "      <th>raw_text</th>\n",
              "    </tr>\n",
              "  </thead>\n",
              "  <tbody>\n",
              "    <tr>\n",
              "      <th>0</th>\n",
              "      <td>@timjged @ditzkoff \"If the next administration...</td>\n",
              "    </tr>\n",
              "    <tr>\n",
              "      <th>1</th>\n",
              "      <td>@TheRealKyXin @sammyjoms66 @AcmeNonInc @NicAtN...</td>\n",
              "    </tr>\n",
              "    <tr>\n",
              "      <th>2</th>\n",
              "      <td>\"Just 100 days to mask, not forever. 100 days....</td>\n",
              "    </tr>\n",
              "    <tr>\n",
              "      <th>3</th>\n",
              "      <td>@conorjrogers @reedgalen They could not raise ...</td>\n",
              "    </tr>\n",
              "    <tr>\n",
              "      <th>4</th>\n",
              "      <td>A great thread about why President-elect Biden...</td>\n",
              "    </tr>\n",
              "    <tr>\n",
              "      <th>...</th>\n",
              "      <td>...</td>\n",
              "    </tr>\n",
              "    <tr>\n",
              "      <th>17645</th>\n",
              "      <td>@ScotsFyre He was setting himself up for a pos...</td>\n",
              "    </tr>\n",
              "    <tr>\n",
              "      <th>17646</th>\n",
              "      <td>@HurdlesCraig @RonnieBroomhall @ppv_tahoe @Rud...</td>\n",
              "    </tr>\n",
              "    <tr>\n",
              "      <th>17647</th>\n",
              "      <td>@bryceagen @itsJeffTiedrich @realDonaldTrump @...</td>\n",
              "    </tr>\n",
              "    <tr>\n",
              "      <th>17648</th>\n",
              "      <td>@c5hardtop1999 #FBI Dir. Wray Profited from Hu...</td>\n",
              "    </tr>\n",
              "    <tr>\n",
              "      <th>17649</th>\n",
              "      <td>@SloughForEU \"Joe Biden isn't in the White Hou...</td>\n",
              "    </tr>\n",
              "  </tbody>\n",
              "</table>\n",
              "<p>17650 rows × 1 columns</p>\n",
              "</div>\n",
              "      <button class=\"colab-df-convert\" onclick=\"convertToInteractive('df-e73b464c-5bc7-495d-b293-e2b276a14818')\"\n",
              "              title=\"Convert this dataframe to an interactive table.\"\n",
              "              style=\"display:none;\">\n",
              "        \n",
              "  <svg xmlns=\"http://www.w3.org/2000/svg\" height=\"24px\"viewBox=\"0 0 24 24\"\n",
              "       width=\"24px\">\n",
              "    <path d=\"M0 0h24v24H0V0z\" fill=\"none\"/>\n",
              "    <path d=\"M18.56 5.44l.94 2.06.94-2.06 2.06-.94-2.06-.94-.94-2.06-.94 2.06-2.06.94zm-11 1L8.5 8.5l.94-2.06 2.06-.94-2.06-.94L8.5 2.5l-.94 2.06-2.06.94zm10 10l.94 2.06.94-2.06 2.06-.94-2.06-.94-.94-2.06-.94 2.06-2.06.94z\"/><path d=\"M17.41 7.96l-1.37-1.37c-.4-.4-.92-.59-1.43-.59-.52 0-1.04.2-1.43.59L10.3 9.45l-7.72 7.72c-.78.78-.78 2.05 0 2.83L4 21.41c.39.39.9.59 1.41.59.51 0 1.02-.2 1.41-.59l7.78-7.78 2.81-2.81c.8-.78.8-2.07 0-2.86zM5.41 20L4 18.59l7.72-7.72 1.47 1.35L5.41 20z\"/>\n",
              "  </svg>\n",
              "      </button>\n",
              "      \n",
              "  <style>\n",
              "    .colab-df-container {\n",
              "      display:flex;\n",
              "      flex-wrap:wrap;\n",
              "      gap: 12px;\n",
              "    }\n",
              "\n",
              "    .colab-df-convert {\n",
              "      background-color: #E8F0FE;\n",
              "      border: none;\n",
              "      border-radius: 50%;\n",
              "      cursor: pointer;\n",
              "      display: none;\n",
              "      fill: #1967D2;\n",
              "      height: 32px;\n",
              "      padding: 0 0 0 0;\n",
              "      width: 32px;\n",
              "    }\n",
              "\n",
              "    .colab-df-convert:hover {\n",
              "      background-color: #E2EBFA;\n",
              "      box-shadow: 0px 1px 2px rgba(60, 64, 67, 0.3), 0px 1px 3px 1px rgba(60, 64, 67, 0.15);\n",
              "      fill: #174EA6;\n",
              "    }\n",
              "\n",
              "    [theme=dark] .colab-df-convert {\n",
              "      background-color: #3B4455;\n",
              "      fill: #D2E3FC;\n",
              "    }\n",
              "\n",
              "    [theme=dark] .colab-df-convert:hover {\n",
              "      background-color: #434B5C;\n",
              "      box-shadow: 0px 1px 3px 1px rgba(0, 0, 0, 0.15);\n",
              "      filter: drop-shadow(0px 1px 2px rgba(0, 0, 0, 0.3));\n",
              "      fill: #FFFFFF;\n",
              "    }\n",
              "  </style>\n",
              "\n",
              "      <script>\n",
              "        const buttonEl =\n",
              "          document.querySelector('#df-e73b464c-5bc7-495d-b293-e2b276a14818 button.colab-df-convert');\n",
              "        buttonEl.style.display =\n",
              "          google.colab.kernel.accessAllowed ? 'block' : 'none';\n",
              "\n",
              "        async function convertToInteractive(key) {\n",
              "          const element = document.querySelector('#df-e73b464c-5bc7-495d-b293-e2b276a14818');\n",
              "          const dataTable =\n",
              "            await google.colab.kernel.invokeFunction('convertToInteractive',\n",
              "                                                     [key], {});\n",
              "          if (!dataTable) return;\n",
              "\n",
              "          const docLinkHtml = 'Like what you see? Visit the ' +\n",
              "            '<a target=\"_blank\" href=https://colab.research.google.com/notebooks/data_table.ipynb>data table notebook</a>'\n",
              "            + ' to learn more about interactive tables.';\n",
              "          element.innerHTML = '';\n",
              "          dataTable['output_type'] = 'display_data';\n",
              "          await google.colab.output.renderOutput(dataTable, element);\n",
              "          const docLink = document.createElement('div');\n",
              "          docLink.innerHTML = docLinkHtml;\n",
              "          element.appendChild(docLink);\n",
              "        }\n",
              "      </script>\n",
              "    </div>\n",
              "  </div>\n",
              "  "
            ]
          },
          "metadata": {},
          "execution_count": 24
        }
      ]
    },
    {
      "cell_type": "markdown",
      "source": [
        "#### Preprocess tweets"
      ],
      "metadata": {
        "id": "wNHRTn3581Lk"
      }
    },
    {
      "cell_type": "code",
      "source": [
        "df['clean_text'] = df['raw_text'].apply(clean_urls).apply(clean_text).apply(emoji_cleaning).apply(clean_smileys).apply(decontracted)\n",
        "#.apply(correct_spellings)"
      ],
      "metadata": {
        "id": "GwbqhbyG8dBZ"
      },
      "execution_count": 25,
      "outputs": []
    },
    {
      "cell_type": "code",
      "source": [
        "df['clean_text'] = df['clean_text'].apply(lambda review: data_preprocessing(review))\n",
        "\n",
        "df"
      ],
      "metadata": {
        "id": "V3RVMWPa842x",
        "colab": {
          "base_uri": "https://localhost:8080/",
          "height": 468
        },
        "outputId": "7a5b9426-0870-48e0-8d6b-a1020c187b93"
      },
      "execution_count": 26,
      "outputs": [
        {
          "output_type": "execute_result",
          "data": {
            "text/plain": [
              "                                                raw_text  \\\n",
              "0      @timjged @ditzkoff \"If the next administration...   \n",
              "1      @TheRealKyXin @sammyjoms66 @AcmeNonInc @NicAtN...   \n",
              "2      \"Just 100 days to mask, not forever. 100 days....   \n",
              "3      @conorjrogers @reedgalen They could not raise ...   \n",
              "4      A great thread about why President-elect Biden...   \n",
              "...                                                  ...   \n",
              "17645  @ScotsFyre He was setting himself up for a pos...   \n",
              "17646  @HurdlesCraig @RonnieBroomhall @ppv_tahoe @Rud...   \n",
              "17647  @bryceagen @itsJeffTiedrich @realDonaldTrump @...   \n",
              "17648  @c5hardtop1999 #FBI Dir. Wray Profited from Hu...   \n",
              "17649  @SloughForEU \"Joe Biden isn't in the White Hou...   \n",
              "\n",
              "                                              clean_text  \n",
              "0      timjged ditzkoff next administration republica...  \n",
              "1      therealkyxin sammyjoms acmenoninc nicatnigh al...  \n",
              "2      day mask not forever think see significant red...  \n",
              "3      conorjrogers reedgalen could not raise money b...  \n",
              "4      great thread president elect biden pick usda s...  \n",
              "...                                                  ...  \n",
              "17645  scotsfyre setting position biden administratio...  \n",
              "17646  hurdlescraig ronniebroomhall ppv tahoe rudygiu...  \n",
              "17647  bryceagen itsjefftiedrich realdonaldtrump coac...  \n",
              "17648  c hardtop fbi dir wray profited hunter biden i...  \n",
              "17649  sloughforeu joe biden white house yet hahaha m...  \n",
              "\n",
              "[17650 rows x 2 columns]"
            ],
            "text/html": [
              "\n",
              "  <div id=\"df-1072bbf6-9186-4794-94f1-2f62e37ebaf4\">\n",
              "    <div class=\"colab-df-container\">\n",
              "      <div>\n",
              "<style scoped>\n",
              "    .dataframe tbody tr th:only-of-type {\n",
              "        vertical-align: middle;\n",
              "    }\n",
              "\n",
              "    .dataframe tbody tr th {\n",
              "        vertical-align: top;\n",
              "    }\n",
              "\n",
              "    .dataframe thead th {\n",
              "        text-align: right;\n",
              "    }\n",
              "</style>\n",
              "<table border=\"1\" class=\"dataframe\">\n",
              "  <thead>\n",
              "    <tr style=\"text-align: right;\">\n",
              "      <th></th>\n",
              "      <th>raw_text</th>\n",
              "      <th>clean_text</th>\n",
              "    </tr>\n",
              "  </thead>\n",
              "  <tbody>\n",
              "    <tr>\n",
              "      <th>0</th>\n",
              "      <td>@timjged @ditzkoff \"If the next administration...</td>\n",
              "      <td>timjged ditzkoff next administration republica...</td>\n",
              "    </tr>\n",
              "    <tr>\n",
              "      <th>1</th>\n",
              "      <td>@TheRealKyXin @sammyjoms66 @AcmeNonInc @NicAtN...</td>\n",
              "      <td>therealkyxin sammyjoms acmenoninc nicatnigh al...</td>\n",
              "    </tr>\n",
              "    <tr>\n",
              "      <th>2</th>\n",
              "      <td>\"Just 100 days to mask, not forever. 100 days....</td>\n",
              "      <td>day mask not forever think see significant red...</td>\n",
              "    </tr>\n",
              "    <tr>\n",
              "      <th>3</th>\n",
              "      <td>@conorjrogers @reedgalen They could not raise ...</td>\n",
              "      <td>conorjrogers reedgalen could not raise money b...</td>\n",
              "    </tr>\n",
              "    <tr>\n",
              "      <th>4</th>\n",
              "      <td>A great thread about why President-elect Biden...</td>\n",
              "      <td>great thread president elect biden pick usda s...</td>\n",
              "    </tr>\n",
              "    <tr>\n",
              "      <th>...</th>\n",
              "      <td>...</td>\n",
              "      <td>...</td>\n",
              "    </tr>\n",
              "    <tr>\n",
              "      <th>17645</th>\n",
              "      <td>@ScotsFyre He was setting himself up for a pos...</td>\n",
              "      <td>scotsfyre setting position biden administratio...</td>\n",
              "    </tr>\n",
              "    <tr>\n",
              "      <th>17646</th>\n",
              "      <td>@HurdlesCraig @RonnieBroomhall @ppv_tahoe @Rud...</td>\n",
              "      <td>hurdlescraig ronniebroomhall ppv tahoe rudygiu...</td>\n",
              "    </tr>\n",
              "    <tr>\n",
              "      <th>17647</th>\n",
              "      <td>@bryceagen @itsJeffTiedrich @realDonaldTrump @...</td>\n",
              "      <td>bryceagen itsjefftiedrich realdonaldtrump coac...</td>\n",
              "    </tr>\n",
              "    <tr>\n",
              "      <th>17648</th>\n",
              "      <td>@c5hardtop1999 #FBI Dir. Wray Profited from Hu...</td>\n",
              "      <td>c hardtop fbi dir wray profited hunter biden i...</td>\n",
              "    </tr>\n",
              "    <tr>\n",
              "      <th>17649</th>\n",
              "      <td>@SloughForEU \"Joe Biden isn't in the White Hou...</td>\n",
              "      <td>sloughforeu joe biden white house yet hahaha m...</td>\n",
              "    </tr>\n",
              "  </tbody>\n",
              "</table>\n",
              "<p>17650 rows × 2 columns</p>\n",
              "</div>\n",
              "      <button class=\"colab-df-convert\" onclick=\"convertToInteractive('df-1072bbf6-9186-4794-94f1-2f62e37ebaf4')\"\n",
              "              title=\"Convert this dataframe to an interactive table.\"\n",
              "              style=\"display:none;\">\n",
              "        \n",
              "  <svg xmlns=\"http://www.w3.org/2000/svg\" height=\"24px\"viewBox=\"0 0 24 24\"\n",
              "       width=\"24px\">\n",
              "    <path d=\"M0 0h24v24H0V0z\" fill=\"none\"/>\n",
              "    <path d=\"M18.56 5.44l.94 2.06.94-2.06 2.06-.94-2.06-.94-.94-2.06-.94 2.06-2.06.94zm-11 1L8.5 8.5l.94-2.06 2.06-.94-2.06-.94L8.5 2.5l-.94 2.06-2.06.94zm10 10l.94 2.06.94-2.06 2.06-.94-2.06-.94-.94-2.06-.94 2.06-2.06.94z\"/><path d=\"M17.41 7.96l-1.37-1.37c-.4-.4-.92-.59-1.43-.59-.52 0-1.04.2-1.43.59L10.3 9.45l-7.72 7.72c-.78.78-.78 2.05 0 2.83L4 21.41c.39.39.9.59 1.41.59.51 0 1.02-.2 1.41-.59l7.78-7.78 2.81-2.81c.8-.78.8-2.07 0-2.86zM5.41 20L4 18.59l7.72-7.72 1.47 1.35L5.41 20z\"/>\n",
              "  </svg>\n",
              "      </button>\n",
              "      \n",
              "  <style>\n",
              "    .colab-df-container {\n",
              "      display:flex;\n",
              "      flex-wrap:wrap;\n",
              "      gap: 12px;\n",
              "    }\n",
              "\n",
              "    .colab-df-convert {\n",
              "      background-color: #E8F0FE;\n",
              "      border: none;\n",
              "      border-radius: 50%;\n",
              "      cursor: pointer;\n",
              "      display: none;\n",
              "      fill: #1967D2;\n",
              "      height: 32px;\n",
              "      padding: 0 0 0 0;\n",
              "      width: 32px;\n",
              "    }\n",
              "\n",
              "    .colab-df-convert:hover {\n",
              "      background-color: #E2EBFA;\n",
              "      box-shadow: 0px 1px 2px rgba(60, 64, 67, 0.3), 0px 1px 3px 1px rgba(60, 64, 67, 0.15);\n",
              "      fill: #174EA6;\n",
              "    }\n",
              "\n",
              "    [theme=dark] .colab-df-convert {\n",
              "      background-color: #3B4455;\n",
              "      fill: #D2E3FC;\n",
              "    }\n",
              "\n",
              "    [theme=dark] .colab-df-convert:hover {\n",
              "      background-color: #434B5C;\n",
              "      box-shadow: 0px 1px 3px 1px rgba(0, 0, 0, 0.15);\n",
              "      filter: drop-shadow(0px 1px 2px rgba(0, 0, 0, 0.3));\n",
              "      fill: #FFFFFF;\n",
              "    }\n",
              "  </style>\n",
              "\n",
              "      <script>\n",
              "        const buttonEl =\n",
              "          document.querySelector('#df-1072bbf6-9186-4794-94f1-2f62e37ebaf4 button.colab-df-convert');\n",
              "        buttonEl.style.display =\n",
              "          google.colab.kernel.accessAllowed ? 'block' : 'none';\n",
              "\n",
              "        async function convertToInteractive(key) {\n",
              "          const element = document.querySelector('#df-1072bbf6-9186-4794-94f1-2f62e37ebaf4');\n",
              "          const dataTable =\n",
              "            await google.colab.kernel.invokeFunction('convertToInteractive',\n",
              "                                                     [key], {});\n",
              "          if (!dataTable) return;\n",
              "\n",
              "          const docLinkHtml = 'Like what you see? Visit the ' +\n",
              "            '<a target=\"_blank\" href=https://colab.research.google.com/notebooks/data_table.ipynb>data table notebook</a>'\n",
              "            + ' to learn more about interactive tables.';\n",
              "          element.innerHTML = '';\n",
              "          dataTable['output_type'] = 'display_data';\n",
              "          await google.colab.output.renderOutput(dataTable, element);\n",
              "          const docLink = document.createElement('div');\n",
              "          docLink.innerHTML = docLinkHtml;\n",
              "          element.appendChild(docLink);\n",
              "        }\n",
              "      </script>\n",
              "    </div>\n",
              "  </div>\n",
              "  "
            ]
          },
          "metadata": {},
          "execution_count": 26
        }
      ]
    },
    {
      "cell_type": "markdown",
      "source": [
        "#### Export processed data"
      ],
      "metadata": {
        "id": "9FP94bFx9hHh"
      }
    },
    {
      "cell_type": "code",
      "source": [
        "process_file_name = 'biden_tweets_processed.csv'\n",
        "  \n",
        "df.to_csv(process_file_name)"
      ],
      "metadata": {
        "id": "MZRVSFAd9Mqa"
      },
      "execution_count": 27,
      "outputs": []
    },
    {
      "cell_type": "markdown",
      "source": [
        "### Labeled dataset"
      ],
      "metadata": {
        "id": "WpBdX8grWQO6"
      }
    },
    {
      "cell_type": "markdown",
      "source": [
        "* subjectivity: 0 - neutral, 1 - opinionated\n",
        "* polarity: 0 - negative, 1 - positive, 2 - neutral"
      ],
      "metadata": {
        "id": "6qBlEaFEciNQ"
      }
    },
    {
      "cell_type": "markdown",
      "source": [
        "#### Read dataset"
      ],
      "metadata": {
        "id": "oxkrM6lJWUXx"
      }
    },
    {
      "cell_type": "code",
      "source": [
        "label_df = pd.read_csv('/content/drive/MyDrive/Colab Notebooks/nlp project/Dataset/biden_tweets_labeled.csv')\n",
        "\n",
        "label_df"
      ],
      "metadata": {
        "colab": {
          "base_uri": "https://localhost:8080/",
          "height": 424
        },
        "id": "RWUAlb91WSXc",
        "outputId": "095753cc-e676-4fcf-c7e0-6c8c84f1213d"
      },
      "execution_count": 28,
      "outputs": [
        {
          "output_type": "execute_result",
          "data": {
            "text/plain": [
              "      Unnamed: 0                                               Text  \\\n",
              "0              0  @RT_com That’s the guy who is funding those fa...   \n",
              "1              1  Biden apparently just told JTaps that he's goi...   \n",
              "2              2  @Kingofgameplay1 @HeathMayo They've been given...   \n",
              "3              3  @conorjrogers @reedgalen They could not raise ...   \n",
              "4              4  Can`t Biden just fire the board members on the...   \n",
              "...          ...                                                ...   \n",
              "1761         878  @KThomasDC @costareports That’s nice, but I ho...   \n",
              "1762         879  @livingdead1970 OMG.  You are a sensitive soul...   \n",
              "1763         880  @bryceagen @itsJeffTiedrich @realDonaldTrump @...   \n",
              "1764         881  @Tomboliko @the_resistor @realDonaldTrump Hill...   \n",
              "1765         882  @Nix3112 @vvsdagger @childishhippy @BigBullyZe...   \n",
              "\n",
              "      subjectivity  polarity  \n",
              "0                1         1  \n",
              "1                1         0  \n",
              "2                1         0  \n",
              "3                1         1  \n",
              "4                1         0  \n",
              "...            ...       ...  \n",
              "1761             0         2  \n",
              "1762             1         1  \n",
              "1763             1         1  \n",
              "1764             1         0  \n",
              "1765             1         0  \n",
              "\n",
              "[1766 rows x 4 columns]"
            ],
            "text/html": [
              "\n",
              "  <div id=\"df-9a3ee7c7-2ae0-4d3c-882f-0639536a2473\">\n",
              "    <div class=\"colab-df-container\">\n",
              "      <div>\n",
              "<style scoped>\n",
              "    .dataframe tbody tr th:only-of-type {\n",
              "        vertical-align: middle;\n",
              "    }\n",
              "\n",
              "    .dataframe tbody tr th {\n",
              "        vertical-align: top;\n",
              "    }\n",
              "\n",
              "    .dataframe thead th {\n",
              "        text-align: right;\n",
              "    }\n",
              "</style>\n",
              "<table border=\"1\" class=\"dataframe\">\n",
              "  <thead>\n",
              "    <tr style=\"text-align: right;\">\n",
              "      <th></th>\n",
              "      <th>Unnamed: 0</th>\n",
              "      <th>Text</th>\n",
              "      <th>subjectivity</th>\n",
              "      <th>polarity</th>\n",
              "    </tr>\n",
              "  </thead>\n",
              "  <tbody>\n",
              "    <tr>\n",
              "      <th>0</th>\n",
              "      <td>0</td>\n",
              "      <td>@RT_com That’s the guy who is funding those fa...</td>\n",
              "      <td>1</td>\n",
              "      <td>1</td>\n",
              "    </tr>\n",
              "    <tr>\n",
              "      <th>1</th>\n",
              "      <td>1</td>\n",
              "      <td>Biden apparently just told JTaps that he's goi...</td>\n",
              "      <td>1</td>\n",
              "      <td>0</td>\n",
              "    </tr>\n",
              "    <tr>\n",
              "      <th>2</th>\n",
              "      <td>2</td>\n",
              "      <td>@Kingofgameplay1 @HeathMayo They've been given...</td>\n",
              "      <td>1</td>\n",
              "      <td>0</td>\n",
              "    </tr>\n",
              "    <tr>\n",
              "      <th>3</th>\n",
              "      <td>3</td>\n",
              "      <td>@conorjrogers @reedgalen They could not raise ...</td>\n",
              "      <td>1</td>\n",
              "      <td>1</td>\n",
              "    </tr>\n",
              "    <tr>\n",
              "      <th>4</th>\n",
              "      <td>4</td>\n",
              "      <td>Can`t Biden just fire the board members on the...</td>\n",
              "      <td>1</td>\n",
              "      <td>0</td>\n",
              "    </tr>\n",
              "    <tr>\n",
              "      <th>...</th>\n",
              "      <td>...</td>\n",
              "      <td>...</td>\n",
              "      <td>...</td>\n",
              "      <td>...</td>\n",
              "    </tr>\n",
              "    <tr>\n",
              "      <th>1761</th>\n",
              "      <td>878</td>\n",
              "      <td>@KThomasDC @costareports That’s nice, but I ho...</td>\n",
              "      <td>0</td>\n",
              "      <td>2</td>\n",
              "    </tr>\n",
              "    <tr>\n",
              "      <th>1762</th>\n",
              "      <td>879</td>\n",
              "      <td>@livingdead1970 OMG.  You are a sensitive soul...</td>\n",
              "      <td>1</td>\n",
              "      <td>1</td>\n",
              "    </tr>\n",
              "    <tr>\n",
              "      <th>1763</th>\n",
              "      <td>880</td>\n",
              "      <td>@bryceagen @itsJeffTiedrich @realDonaldTrump @...</td>\n",
              "      <td>1</td>\n",
              "      <td>1</td>\n",
              "    </tr>\n",
              "    <tr>\n",
              "      <th>1764</th>\n",
              "      <td>881</td>\n",
              "      <td>@Tomboliko @the_resistor @realDonaldTrump Hill...</td>\n",
              "      <td>1</td>\n",
              "      <td>0</td>\n",
              "    </tr>\n",
              "    <tr>\n",
              "      <th>1765</th>\n",
              "      <td>882</td>\n",
              "      <td>@Nix3112 @vvsdagger @childishhippy @BigBullyZe...</td>\n",
              "      <td>1</td>\n",
              "      <td>0</td>\n",
              "    </tr>\n",
              "  </tbody>\n",
              "</table>\n",
              "<p>1766 rows × 4 columns</p>\n",
              "</div>\n",
              "      <button class=\"colab-df-convert\" onclick=\"convertToInteractive('df-9a3ee7c7-2ae0-4d3c-882f-0639536a2473')\"\n",
              "              title=\"Convert this dataframe to an interactive table.\"\n",
              "              style=\"display:none;\">\n",
              "        \n",
              "  <svg xmlns=\"http://www.w3.org/2000/svg\" height=\"24px\"viewBox=\"0 0 24 24\"\n",
              "       width=\"24px\">\n",
              "    <path d=\"M0 0h24v24H0V0z\" fill=\"none\"/>\n",
              "    <path d=\"M18.56 5.44l.94 2.06.94-2.06 2.06-.94-2.06-.94-.94-2.06-.94 2.06-2.06.94zm-11 1L8.5 8.5l.94-2.06 2.06-.94-2.06-.94L8.5 2.5l-.94 2.06-2.06.94zm10 10l.94 2.06.94-2.06 2.06-.94-2.06-.94-.94-2.06-.94 2.06-2.06.94z\"/><path d=\"M17.41 7.96l-1.37-1.37c-.4-.4-.92-.59-1.43-.59-.52 0-1.04.2-1.43.59L10.3 9.45l-7.72 7.72c-.78.78-.78 2.05 0 2.83L4 21.41c.39.39.9.59 1.41.59.51 0 1.02-.2 1.41-.59l7.78-7.78 2.81-2.81c.8-.78.8-2.07 0-2.86zM5.41 20L4 18.59l7.72-7.72 1.47 1.35L5.41 20z\"/>\n",
              "  </svg>\n",
              "      </button>\n",
              "      \n",
              "  <style>\n",
              "    .colab-df-container {\n",
              "      display:flex;\n",
              "      flex-wrap:wrap;\n",
              "      gap: 12px;\n",
              "    }\n",
              "\n",
              "    .colab-df-convert {\n",
              "      background-color: #E8F0FE;\n",
              "      border: none;\n",
              "      border-radius: 50%;\n",
              "      cursor: pointer;\n",
              "      display: none;\n",
              "      fill: #1967D2;\n",
              "      height: 32px;\n",
              "      padding: 0 0 0 0;\n",
              "      width: 32px;\n",
              "    }\n",
              "\n",
              "    .colab-df-convert:hover {\n",
              "      background-color: #E2EBFA;\n",
              "      box-shadow: 0px 1px 2px rgba(60, 64, 67, 0.3), 0px 1px 3px 1px rgba(60, 64, 67, 0.15);\n",
              "      fill: #174EA6;\n",
              "    }\n",
              "\n",
              "    [theme=dark] .colab-df-convert {\n",
              "      background-color: #3B4455;\n",
              "      fill: #D2E3FC;\n",
              "    }\n",
              "\n",
              "    [theme=dark] .colab-df-convert:hover {\n",
              "      background-color: #434B5C;\n",
              "      box-shadow: 0px 1px 3px 1px rgba(0, 0, 0, 0.15);\n",
              "      filter: drop-shadow(0px 1px 2px rgba(0, 0, 0, 0.3));\n",
              "      fill: #FFFFFF;\n",
              "    }\n",
              "  </style>\n",
              "\n",
              "      <script>\n",
              "        const buttonEl =\n",
              "          document.querySelector('#df-9a3ee7c7-2ae0-4d3c-882f-0639536a2473 button.colab-df-convert');\n",
              "        buttonEl.style.display =\n",
              "          google.colab.kernel.accessAllowed ? 'block' : 'none';\n",
              "\n",
              "        async function convertToInteractive(key) {\n",
              "          const element = document.querySelector('#df-9a3ee7c7-2ae0-4d3c-882f-0639536a2473');\n",
              "          const dataTable =\n",
              "            await google.colab.kernel.invokeFunction('convertToInteractive',\n",
              "                                                     [key], {});\n",
              "          if (!dataTable) return;\n",
              "\n",
              "          const docLinkHtml = 'Like what you see? Visit the ' +\n",
              "            '<a target=\"_blank\" href=https://colab.research.google.com/notebooks/data_table.ipynb>data table notebook</a>'\n",
              "            + ' to learn more about interactive tables.';\n",
              "          element.innerHTML = '';\n",
              "          dataTable['output_type'] = 'display_data';\n",
              "          await google.colab.output.renderOutput(dataTable, element);\n",
              "          const docLink = document.createElement('div');\n",
              "          docLink.innerHTML = docLinkHtml;\n",
              "          element.appendChild(docLink);\n",
              "        }\n",
              "      </script>\n",
              "    </div>\n",
              "  </div>\n",
              "  "
            ]
          },
          "metadata": {},
          "execution_count": 28
        }
      ]
    },
    {
      "cell_type": "code",
      "source": [
        "label_df.columns"
      ],
      "metadata": {
        "colab": {
          "base_uri": "https://localhost:8080/"
        },
        "id": "5uggVYCQXDp2",
        "outputId": "12b8eb52-51f6-40d8-b76e-4bd6c190bf7e"
      },
      "execution_count": 29,
      "outputs": [
        {
          "output_type": "execute_result",
          "data": {
            "text/plain": [
              "Index(['Unnamed: 0', 'Text', 'subjectivity', 'polarity'], dtype='object')"
            ]
          },
          "metadata": {},
          "execution_count": 29
        }
      ]
    },
    {
      "cell_type": "code",
      "source": [
        "# drop irrelevant column(s) \n",
        "label_df = label_df.drop('Unnamed: 0', axis=1)\n",
        "\n",
        "label_df"
      ],
      "metadata": {
        "colab": {
          "base_uri": "https://localhost:8080/",
          "height": 424
        },
        "id": "UDMfTQd5XDs_",
        "outputId": "d1d9c65b-3f20-45d7-e4a5-efe4f6f78390"
      },
      "execution_count": 30,
      "outputs": [
        {
          "output_type": "execute_result",
          "data": {
            "text/plain": [
              "                                                   Text  subjectivity  \\\n",
              "0     @RT_com That’s the guy who is funding those fa...             1   \n",
              "1     Biden apparently just told JTaps that he's goi...             1   \n",
              "2     @Kingofgameplay1 @HeathMayo They've been given...             1   \n",
              "3     @conorjrogers @reedgalen They could not raise ...             1   \n",
              "4     Can`t Biden just fire the board members on the...             1   \n",
              "...                                                 ...           ...   \n",
              "1761  @KThomasDC @costareports That’s nice, but I ho...             0   \n",
              "1762  @livingdead1970 OMG.  You are a sensitive soul...             1   \n",
              "1763  @bryceagen @itsJeffTiedrich @realDonaldTrump @...             1   \n",
              "1764  @Tomboliko @the_resistor @realDonaldTrump Hill...             1   \n",
              "1765  @Nix3112 @vvsdagger @childishhippy @BigBullyZe...             1   \n",
              "\n",
              "      polarity  \n",
              "0            1  \n",
              "1            0  \n",
              "2            0  \n",
              "3            1  \n",
              "4            0  \n",
              "...        ...  \n",
              "1761         2  \n",
              "1762         1  \n",
              "1763         1  \n",
              "1764         0  \n",
              "1765         0  \n",
              "\n",
              "[1766 rows x 3 columns]"
            ],
            "text/html": [
              "\n",
              "  <div id=\"df-7e0dc2b2-6243-44b3-a844-4ba75d3c15d8\">\n",
              "    <div class=\"colab-df-container\">\n",
              "      <div>\n",
              "<style scoped>\n",
              "    .dataframe tbody tr th:only-of-type {\n",
              "        vertical-align: middle;\n",
              "    }\n",
              "\n",
              "    .dataframe tbody tr th {\n",
              "        vertical-align: top;\n",
              "    }\n",
              "\n",
              "    .dataframe thead th {\n",
              "        text-align: right;\n",
              "    }\n",
              "</style>\n",
              "<table border=\"1\" class=\"dataframe\">\n",
              "  <thead>\n",
              "    <tr style=\"text-align: right;\">\n",
              "      <th></th>\n",
              "      <th>Text</th>\n",
              "      <th>subjectivity</th>\n",
              "      <th>polarity</th>\n",
              "    </tr>\n",
              "  </thead>\n",
              "  <tbody>\n",
              "    <tr>\n",
              "      <th>0</th>\n",
              "      <td>@RT_com That’s the guy who is funding those fa...</td>\n",
              "      <td>1</td>\n",
              "      <td>1</td>\n",
              "    </tr>\n",
              "    <tr>\n",
              "      <th>1</th>\n",
              "      <td>Biden apparently just told JTaps that he's goi...</td>\n",
              "      <td>1</td>\n",
              "      <td>0</td>\n",
              "    </tr>\n",
              "    <tr>\n",
              "      <th>2</th>\n",
              "      <td>@Kingofgameplay1 @HeathMayo They've been given...</td>\n",
              "      <td>1</td>\n",
              "      <td>0</td>\n",
              "    </tr>\n",
              "    <tr>\n",
              "      <th>3</th>\n",
              "      <td>@conorjrogers @reedgalen They could not raise ...</td>\n",
              "      <td>1</td>\n",
              "      <td>1</td>\n",
              "    </tr>\n",
              "    <tr>\n",
              "      <th>4</th>\n",
              "      <td>Can`t Biden just fire the board members on the...</td>\n",
              "      <td>1</td>\n",
              "      <td>0</td>\n",
              "    </tr>\n",
              "    <tr>\n",
              "      <th>...</th>\n",
              "      <td>...</td>\n",
              "      <td>...</td>\n",
              "      <td>...</td>\n",
              "    </tr>\n",
              "    <tr>\n",
              "      <th>1761</th>\n",
              "      <td>@KThomasDC @costareports That’s nice, but I ho...</td>\n",
              "      <td>0</td>\n",
              "      <td>2</td>\n",
              "    </tr>\n",
              "    <tr>\n",
              "      <th>1762</th>\n",
              "      <td>@livingdead1970 OMG.  You are a sensitive soul...</td>\n",
              "      <td>1</td>\n",
              "      <td>1</td>\n",
              "    </tr>\n",
              "    <tr>\n",
              "      <th>1763</th>\n",
              "      <td>@bryceagen @itsJeffTiedrich @realDonaldTrump @...</td>\n",
              "      <td>1</td>\n",
              "      <td>1</td>\n",
              "    </tr>\n",
              "    <tr>\n",
              "      <th>1764</th>\n",
              "      <td>@Tomboliko @the_resistor @realDonaldTrump Hill...</td>\n",
              "      <td>1</td>\n",
              "      <td>0</td>\n",
              "    </tr>\n",
              "    <tr>\n",
              "      <th>1765</th>\n",
              "      <td>@Nix3112 @vvsdagger @childishhippy @BigBullyZe...</td>\n",
              "      <td>1</td>\n",
              "      <td>0</td>\n",
              "    </tr>\n",
              "  </tbody>\n",
              "</table>\n",
              "<p>1766 rows × 3 columns</p>\n",
              "</div>\n",
              "      <button class=\"colab-df-convert\" onclick=\"convertToInteractive('df-7e0dc2b2-6243-44b3-a844-4ba75d3c15d8')\"\n",
              "              title=\"Convert this dataframe to an interactive table.\"\n",
              "              style=\"display:none;\">\n",
              "        \n",
              "  <svg xmlns=\"http://www.w3.org/2000/svg\" height=\"24px\"viewBox=\"0 0 24 24\"\n",
              "       width=\"24px\">\n",
              "    <path d=\"M0 0h24v24H0V0z\" fill=\"none\"/>\n",
              "    <path d=\"M18.56 5.44l.94 2.06.94-2.06 2.06-.94-2.06-.94-.94-2.06-.94 2.06-2.06.94zm-11 1L8.5 8.5l.94-2.06 2.06-.94-2.06-.94L8.5 2.5l-.94 2.06-2.06.94zm10 10l.94 2.06.94-2.06 2.06-.94-2.06-.94-.94-2.06-.94 2.06-2.06.94z\"/><path d=\"M17.41 7.96l-1.37-1.37c-.4-.4-.92-.59-1.43-.59-.52 0-1.04.2-1.43.59L10.3 9.45l-7.72 7.72c-.78.78-.78 2.05 0 2.83L4 21.41c.39.39.9.59 1.41.59.51 0 1.02-.2 1.41-.59l7.78-7.78 2.81-2.81c.8-.78.8-2.07 0-2.86zM5.41 20L4 18.59l7.72-7.72 1.47 1.35L5.41 20z\"/>\n",
              "  </svg>\n",
              "      </button>\n",
              "      \n",
              "  <style>\n",
              "    .colab-df-container {\n",
              "      display:flex;\n",
              "      flex-wrap:wrap;\n",
              "      gap: 12px;\n",
              "    }\n",
              "\n",
              "    .colab-df-convert {\n",
              "      background-color: #E8F0FE;\n",
              "      border: none;\n",
              "      border-radius: 50%;\n",
              "      cursor: pointer;\n",
              "      display: none;\n",
              "      fill: #1967D2;\n",
              "      height: 32px;\n",
              "      padding: 0 0 0 0;\n",
              "      width: 32px;\n",
              "    }\n",
              "\n",
              "    .colab-df-convert:hover {\n",
              "      background-color: #E2EBFA;\n",
              "      box-shadow: 0px 1px 2px rgba(60, 64, 67, 0.3), 0px 1px 3px 1px rgba(60, 64, 67, 0.15);\n",
              "      fill: #174EA6;\n",
              "    }\n",
              "\n",
              "    [theme=dark] .colab-df-convert {\n",
              "      background-color: #3B4455;\n",
              "      fill: #D2E3FC;\n",
              "    }\n",
              "\n",
              "    [theme=dark] .colab-df-convert:hover {\n",
              "      background-color: #434B5C;\n",
              "      box-shadow: 0px 1px 3px 1px rgba(0, 0, 0, 0.15);\n",
              "      filter: drop-shadow(0px 1px 2px rgba(0, 0, 0, 0.3));\n",
              "      fill: #FFFFFF;\n",
              "    }\n",
              "  </style>\n",
              "\n",
              "      <script>\n",
              "        const buttonEl =\n",
              "          document.querySelector('#df-7e0dc2b2-6243-44b3-a844-4ba75d3c15d8 button.colab-df-convert');\n",
              "        buttonEl.style.display =\n",
              "          google.colab.kernel.accessAllowed ? 'block' : 'none';\n",
              "\n",
              "        async function convertToInteractive(key) {\n",
              "          const element = document.querySelector('#df-7e0dc2b2-6243-44b3-a844-4ba75d3c15d8');\n",
              "          const dataTable =\n",
              "            await google.colab.kernel.invokeFunction('convertToInteractive',\n",
              "                                                     [key], {});\n",
              "          if (!dataTable) return;\n",
              "\n",
              "          const docLinkHtml = 'Like what you see? Visit the ' +\n",
              "            '<a target=\"_blank\" href=https://colab.research.google.com/notebooks/data_table.ipynb>data table notebook</a>'\n",
              "            + ' to learn more about interactive tables.';\n",
              "          element.innerHTML = '';\n",
              "          dataTable['output_type'] = 'display_data';\n",
              "          await google.colab.output.renderOutput(dataTable, element);\n",
              "          const docLink = document.createElement('div');\n",
              "          docLink.innerHTML = docLinkHtml;\n",
              "          element.appendChild(docLink);\n",
              "        }\n",
              "      </script>\n",
              "    </div>\n",
              "  </div>\n",
              "  "
            ]
          },
          "metadata": {},
          "execution_count": 30
        }
      ]
    },
    {
      "cell_type": "code",
      "source": [
        "# rename text coumn\n",
        "label_df = label_df.rename(columns={'Text': 'raw_text'})\n",
        "\n",
        "label_df"
      ],
      "metadata": {
        "colab": {
          "base_uri": "https://localhost:8080/",
          "height": 424
        },
        "id": "10g5cHWNXDwK",
        "outputId": "7cf12f22-c85e-4d98-e087-f11b0eb3c331"
      },
      "execution_count": 31,
      "outputs": [
        {
          "output_type": "execute_result",
          "data": {
            "text/plain": [
              "                                               raw_text  subjectivity  \\\n",
              "0     @RT_com That’s the guy who is funding those fa...             1   \n",
              "1     Biden apparently just told JTaps that he's goi...             1   \n",
              "2     @Kingofgameplay1 @HeathMayo They've been given...             1   \n",
              "3     @conorjrogers @reedgalen They could not raise ...             1   \n",
              "4     Can`t Biden just fire the board members on the...             1   \n",
              "...                                                 ...           ...   \n",
              "1761  @KThomasDC @costareports That’s nice, but I ho...             0   \n",
              "1762  @livingdead1970 OMG.  You are a sensitive soul...             1   \n",
              "1763  @bryceagen @itsJeffTiedrich @realDonaldTrump @...             1   \n",
              "1764  @Tomboliko @the_resistor @realDonaldTrump Hill...             1   \n",
              "1765  @Nix3112 @vvsdagger @childishhippy @BigBullyZe...             1   \n",
              "\n",
              "      polarity  \n",
              "0            1  \n",
              "1            0  \n",
              "2            0  \n",
              "3            1  \n",
              "4            0  \n",
              "...        ...  \n",
              "1761         2  \n",
              "1762         1  \n",
              "1763         1  \n",
              "1764         0  \n",
              "1765         0  \n",
              "\n",
              "[1766 rows x 3 columns]"
            ],
            "text/html": [
              "\n",
              "  <div id=\"df-666ca6bb-4660-4eed-bf1c-246fee23a92e\">\n",
              "    <div class=\"colab-df-container\">\n",
              "      <div>\n",
              "<style scoped>\n",
              "    .dataframe tbody tr th:only-of-type {\n",
              "        vertical-align: middle;\n",
              "    }\n",
              "\n",
              "    .dataframe tbody tr th {\n",
              "        vertical-align: top;\n",
              "    }\n",
              "\n",
              "    .dataframe thead th {\n",
              "        text-align: right;\n",
              "    }\n",
              "</style>\n",
              "<table border=\"1\" class=\"dataframe\">\n",
              "  <thead>\n",
              "    <tr style=\"text-align: right;\">\n",
              "      <th></th>\n",
              "      <th>raw_text</th>\n",
              "      <th>subjectivity</th>\n",
              "      <th>polarity</th>\n",
              "    </tr>\n",
              "  </thead>\n",
              "  <tbody>\n",
              "    <tr>\n",
              "      <th>0</th>\n",
              "      <td>@RT_com That’s the guy who is funding those fa...</td>\n",
              "      <td>1</td>\n",
              "      <td>1</td>\n",
              "    </tr>\n",
              "    <tr>\n",
              "      <th>1</th>\n",
              "      <td>Biden apparently just told JTaps that he's goi...</td>\n",
              "      <td>1</td>\n",
              "      <td>0</td>\n",
              "    </tr>\n",
              "    <tr>\n",
              "      <th>2</th>\n",
              "      <td>@Kingofgameplay1 @HeathMayo They've been given...</td>\n",
              "      <td>1</td>\n",
              "      <td>0</td>\n",
              "    </tr>\n",
              "    <tr>\n",
              "      <th>3</th>\n",
              "      <td>@conorjrogers @reedgalen They could not raise ...</td>\n",
              "      <td>1</td>\n",
              "      <td>1</td>\n",
              "    </tr>\n",
              "    <tr>\n",
              "      <th>4</th>\n",
              "      <td>Can`t Biden just fire the board members on the...</td>\n",
              "      <td>1</td>\n",
              "      <td>0</td>\n",
              "    </tr>\n",
              "    <tr>\n",
              "      <th>...</th>\n",
              "      <td>...</td>\n",
              "      <td>...</td>\n",
              "      <td>...</td>\n",
              "    </tr>\n",
              "    <tr>\n",
              "      <th>1761</th>\n",
              "      <td>@KThomasDC @costareports That’s nice, but I ho...</td>\n",
              "      <td>0</td>\n",
              "      <td>2</td>\n",
              "    </tr>\n",
              "    <tr>\n",
              "      <th>1762</th>\n",
              "      <td>@livingdead1970 OMG.  You are a sensitive soul...</td>\n",
              "      <td>1</td>\n",
              "      <td>1</td>\n",
              "    </tr>\n",
              "    <tr>\n",
              "      <th>1763</th>\n",
              "      <td>@bryceagen @itsJeffTiedrich @realDonaldTrump @...</td>\n",
              "      <td>1</td>\n",
              "      <td>1</td>\n",
              "    </tr>\n",
              "    <tr>\n",
              "      <th>1764</th>\n",
              "      <td>@Tomboliko @the_resistor @realDonaldTrump Hill...</td>\n",
              "      <td>1</td>\n",
              "      <td>0</td>\n",
              "    </tr>\n",
              "    <tr>\n",
              "      <th>1765</th>\n",
              "      <td>@Nix3112 @vvsdagger @childishhippy @BigBullyZe...</td>\n",
              "      <td>1</td>\n",
              "      <td>0</td>\n",
              "    </tr>\n",
              "  </tbody>\n",
              "</table>\n",
              "<p>1766 rows × 3 columns</p>\n",
              "</div>\n",
              "      <button class=\"colab-df-convert\" onclick=\"convertToInteractive('df-666ca6bb-4660-4eed-bf1c-246fee23a92e')\"\n",
              "              title=\"Convert this dataframe to an interactive table.\"\n",
              "              style=\"display:none;\">\n",
              "        \n",
              "  <svg xmlns=\"http://www.w3.org/2000/svg\" height=\"24px\"viewBox=\"0 0 24 24\"\n",
              "       width=\"24px\">\n",
              "    <path d=\"M0 0h24v24H0V0z\" fill=\"none\"/>\n",
              "    <path d=\"M18.56 5.44l.94 2.06.94-2.06 2.06-.94-2.06-.94-.94-2.06-.94 2.06-2.06.94zm-11 1L8.5 8.5l.94-2.06 2.06-.94-2.06-.94L8.5 2.5l-.94 2.06-2.06.94zm10 10l.94 2.06.94-2.06 2.06-.94-2.06-.94-.94-2.06-.94 2.06-2.06.94z\"/><path d=\"M17.41 7.96l-1.37-1.37c-.4-.4-.92-.59-1.43-.59-.52 0-1.04.2-1.43.59L10.3 9.45l-7.72 7.72c-.78.78-.78 2.05 0 2.83L4 21.41c.39.39.9.59 1.41.59.51 0 1.02-.2 1.41-.59l7.78-7.78 2.81-2.81c.8-.78.8-2.07 0-2.86zM5.41 20L4 18.59l7.72-7.72 1.47 1.35L5.41 20z\"/>\n",
              "  </svg>\n",
              "      </button>\n",
              "      \n",
              "  <style>\n",
              "    .colab-df-container {\n",
              "      display:flex;\n",
              "      flex-wrap:wrap;\n",
              "      gap: 12px;\n",
              "    }\n",
              "\n",
              "    .colab-df-convert {\n",
              "      background-color: #E8F0FE;\n",
              "      border: none;\n",
              "      border-radius: 50%;\n",
              "      cursor: pointer;\n",
              "      display: none;\n",
              "      fill: #1967D2;\n",
              "      height: 32px;\n",
              "      padding: 0 0 0 0;\n",
              "      width: 32px;\n",
              "    }\n",
              "\n",
              "    .colab-df-convert:hover {\n",
              "      background-color: #E2EBFA;\n",
              "      box-shadow: 0px 1px 2px rgba(60, 64, 67, 0.3), 0px 1px 3px 1px rgba(60, 64, 67, 0.15);\n",
              "      fill: #174EA6;\n",
              "    }\n",
              "\n",
              "    [theme=dark] .colab-df-convert {\n",
              "      background-color: #3B4455;\n",
              "      fill: #D2E3FC;\n",
              "    }\n",
              "\n",
              "    [theme=dark] .colab-df-convert:hover {\n",
              "      background-color: #434B5C;\n",
              "      box-shadow: 0px 1px 3px 1px rgba(0, 0, 0, 0.15);\n",
              "      filter: drop-shadow(0px 1px 2px rgba(0, 0, 0, 0.3));\n",
              "      fill: #FFFFFF;\n",
              "    }\n",
              "  </style>\n",
              "\n",
              "      <script>\n",
              "        const buttonEl =\n",
              "          document.querySelector('#df-666ca6bb-4660-4eed-bf1c-246fee23a92e button.colab-df-convert');\n",
              "        buttonEl.style.display =\n",
              "          google.colab.kernel.accessAllowed ? 'block' : 'none';\n",
              "\n",
              "        async function convertToInteractive(key) {\n",
              "          const element = document.querySelector('#df-666ca6bb-4660-4eed-bf1c-246fee23a92e');\n",
              "          const dataTable =\n",
              "            await google.colab.kernel.invokeFunction('convertToInteractive',\n",
              "                                                     [key], {});\n",
              "          if (!dataTable) return;\n",
              "\n",
              "          const docLinkHtml = 'Like what you see? Visit the ' +\n",
              "            '<a target=\"_blank\" href=https://colab.research.google.com/notebooks/data_table.ipynb>data table notebook</a>'\n",
              "            + ' to learn more about interactive tables.';\n",
              "          element.innerHTML = '';\n",
              "          dataTable['output_type'] = 'display_data';\n",
              "          await google.colab.output.renderOutput(dataTable, element);\n",
              "          const docLink = document.createElement('div');\n",
              "          docLink.innerHTML = docLinkHtml;\n",
              "          element.appendChild(docLink);\n",
              "        }\n",
              "      </script>\n",
              "    </div>\n",
              "  </div>\n",
              "  "
            ]
          },
          "metadata": {},
          "execution_count": 31
        }
      ]
    },
    {
      "cell_type": "markdown",
      "source": [
        "#### Preprocess tweets"
      ],
      "metadata": {
        "id": "0jifkY8uWWMI"
      }
    },
    {
      "cell_type": "code",
      "source": [
        "label_df['clean_text'] = label_df['raw_text'].apply(clean_urls).apply(clean_text).apply(emoji_cleaning).apply(clean_smileys).apply(decontracted)\n",
        "#.apply(correct_spellings)"
      ],
      "metadata": {
        "id": "BWqL195BWWSO"
      },
      "execution_count": 32,
      "outputs": []
    },
    {
      "cell_type": "code",
      "source": [
        "label_df['clean_text'] = label_df['clean_text'].apply(lambda review: data_preprocessing(review))\n",
        "\n",
        "label_df"
      ],
      "metadata": {
        "colab": {
          "base_uri": "https://localhost:8080/",
          "height": 641
        },
        "id": "3Kkw5KdlXWNj",
        "outputId": "f9f22d71-8850-4490-b3f2-13f32c84ea41"
      },
      "execution_count": 33,
      "outputs": [
        {
          "output_type": "execute_result",
          "data": {
            "text/plain": [
              "                                               raw_text  subjectivity  \\\n",
              "0     @RT_com That’s the guy who is funding those fa...             1   \n",
              "1     Biden apparently just told JTaps that he's goi...             1   \n",
              "2     @Kingofgameplay1 @HeathMayo They've been given...             1   \n",
              "3     @conorjrogers @reedgalen They could not raise ...             1   \n",
              "4     Can`t Biden just fire the board members on the...             1   \n",
              "...                                                 ...           ...   \n",
              "1761  @KThomasDC @costareports That’s nice, but I ho...             0   \n",
              "1762  @livingdead1970 OMG.  You are a sensitive soul...             1   \n",
              "1763  @bryceagen @itsJeffTiedrich @realDonaldTrump @...             1   \n",
              "1764  @Tomboliko @the_resistor @realDonaldTrump Hill...             1   \n",
              "1765  @Nix3112 @vvsdagger @childishhippy @BigBullyZe...             1   \n",
              "\n",
              "      polarity                                         clean_text  \n",
              "0            1         rt com guy funding fake story hunter biden  \n",
              "1            0  biden apparently told jtaps going ask everyone...  \n",
              "2            0  kingofgameplay heathmayo given chance blown tr...  \n",
              "3            1  conorjrogers reedgalen could not raise money b...  \n",
              "4            0    biden fire board member postal governor replace  \n",
              "...        ...                                                ...  \n",
              "1761         2  kthomasdc costareports nice hope biden think m...  \n",
              "1762         1  livingdead omg sensitive soul record massive o...  \n",
              "1763         1  bryceagen itsjefftiedrich realdonaldtrump coac...  \n",
              "1764         0  tomboliko resistor realdonaldtrump hillary che...  \n",
              "1765         0  nix vvsdagger childishhippy bigbullyzell ridal...  \n",
              "\n",
              "[1766 rows x 4 columns]"
            ],
            "text/html": [
              "\n",
              "  <div id=\"df-ecfa7c88-5b3e-4327-b921-e26b151b2be3\">\n",
              "    <div class=\"colab-df-container\">\n",
              "      <div>\n",
              "<style scoped>\n",
              "    .dataframe tbody tr th:only-of-type {\n",
              "        vertical-align: middle;\n",
              "    }\n",
              "\n",
              "    .dataframe tbody tr th {\n",
              "        vertical-align: top;\n",
              "    }\n",
              "\n",
              "    .dataframe thead th {\n",
              "        text-align: right;\n",
              "    }\n",
              "</style>\n",
              "<table border=\"1\" class=\"dataframe\">\n",
              "  <thead>\n",
              "    <tr style=\"text-align: right;\">\n",
              "      <th></th>\n",
              "      <th>raw_text</th>\n",
              "      <th>subjectivity</th>\n",
              "      <th>polarity</th>\n",
              "      <th>clean_text</th>\n",
              "    </tr>\n",
              "  </thead>\n",
              "  <tbody>\n",
              "    <tr>\n",
              "      <th>0</th>\n",
              "      <td>@RT_com That’s the guy who is funding those fa...</td>\n",
              "      <td>1</td>\n",
              "      <td>1</td>\n",
              "      <td>rt com guy funding fake story hunter biden</td>\n",
              "    </tr>\n",
              "    <tr>\n",
              "      <th>1</th>\n",
              "      <td>Biden apparently just told JTaps that he's goi...</td>\n",
              "      <td>1</td>\n",
              "      <td>0</td>\n",
              "      <td>biden apparently told jtaps going ask everyone...</td>\n",
              "    </tr>\n",
              "    <tr>\n",
              "      <th>2</th>\n",
              "      <td>@Kingofgameplay1 @HeathMayo They've been given...</td>\n",
              "      <td>1</td>\n",
              "      <td>0</td>\n",
              "      <td>kingofgameplay heathmayo given chance blown tr...</td>\n",
              "    </tr>\n",
              "    <tr>\n",
              "      <th>3</th>\n",
              "      <td>@conorjrogers @reedgalen They could not raise ...</td>\n",
              "      <td>1</td>\n",
              "      <td>1</td>\n",
              "      <td>conorjrogers reedgalen could not raise money b...</td>\n",
              "    </tr>\n",
              "    <tr>\n",
              "      <th>4</th>\n",
              "      <td>Can`t Biden just fire the board members on the...</td>\n",
              "      <td>1</td>\n",
              "      <td>0</td>\n",
              "      <td>biden fire board member postal governor replace</td>\n",
              "    </tr>\n",
              "    <tr>\n",
              "      <th>...</th>\n",
              "      <td>...</td>\n",
              "      <td>...</td>\n",
              "      <td>...</td>\n",
              "      <td>...</td>\n",
              "    </tr>\n",
              "    <tr>\n",
              "      <th>1761</th>\n",
              "      <td>@KThomasDC @costareports That’s nice, but I ho...</td>\n",
              "      <td>0</td>\n",
              "      <td>2</td>\n",
              "      <td>kthomasdc costareports nice hope biden think m...</td>\n",
              "    </tr>\n",
              "    <tr>\n",
              "      <th>1762</th>\n",
              "      <td>@livingdead1970 OMG.  You are a sensitive soul...</td>\n",
              "      <td>1</td>\n",
              "      <td>1</td>\n",
              "      <td>livingdead omg sensitive soul record massive o...</td>\n",
              "    </tr>\n",
              "    <tr>\n",
              "      <th>1763</th>\n",
              "      <td>@bryceagen @itsJeffTiedrich @realDonaldTrump @...</td>\n",
              "      <td>1</td>\n",
              "      <td>1</td>\n",
              "      <td>bryceagen itsjefftiedrich realdonaldtrump coac...</td>\n",
              "    </tr>\n",
              "    <tr>\n",
              "      <th>1764</th>\n",
              "      <td>@Tomboliko @the_resistor @realDonaldTrump Hill...</td>\n",
              "      <td>1</td>\n",
              "      <td>0</td>\n",
              "      <td>tomboliko resistor realdonaldtrump hillary che...</td>\n",
              "    </tr>\n",
              "    <tr>\n",
              "      <th>1765</th>\n",
              "      <td>@Nix3112 @vvsdagger @childishhippy @BigBullyZe...</td>\n",
              "      <td>1</td>\n",
              "      <td>0</td>\n",
              "      <td>nix vvsdagger childishhippy bigbullyzell ridal...</td>\n",
              "    </tr>\n",
              "  </tbody>\n",
              "</table>\n",
              "<p>1766 rows × 4 columns</p>\n",
              "</div>\n",
              "      <button class=\"colab-df-convert\" onclick=\"convertToInteractive('df-ecfa7c88-5b3e-4327-b921-e26b151b2be3')\"\n",
              "              title=\"Convert this dataframe to an interactive table.\"\n",
              "              style=\"display:none;\">\n",
              "        \n",
              "  <svg xmlns=\"http://www.w3.org/2000/svg\" height=\"24px\"viewBox=\"0 0 24 24\"\n",
              "       width=\"24px\">\n",
              "    <path d=\"M0 0h24v24H0V0z\" fill=\"none\"/>\n",
              "    <path d=\"M18.56 5.44l.94 2.06.94-2.06 2.06-.94-2.06-.94-.94-2.06-.94 2.06-2.06.94zm-11 1L8.5 8.5l.94-2.06 2.06-.94-2.06-.94L8.5 2.5l-.94 2.06-2.06.94zm10 10l.94 2.06.94-2.06 2.06-.94-2.06-.94-.94-2.06-.94 2.06-2.06.94z\"/><path d=\"M17.41 7.96l-1.37-1.37c-.4-.4-.92-.59-1.43-.59-.52 0-1.04.2-1.43.59L10.3 9.45l-7.72 7.72c-.78.78-.78 2.05 0 2.83L4 21.41c.39.39.9.59 1.41.59.51 0 1.02-.2 1.41-.59l7.78-7.78 2.81-2.81c.8-.78.8-2.07 0-2.86zM5.41 20L4 18.59l7.72-7.72 1.47 1.35L5.41 20z\"/>\n",
              "  </svg>\n",
              "      </button>\n",
              "      \n",
              "  <style>\n",
              "    .colab-df-container {\n",
              "      display:flex;\n",
              "      flex-wrap:wrap;\n",
              "      gap: 12px;\n",
              "    }\n",
              "\n",
              "    .colab-df-convert {\n",
              "      background-color: #E8F0FE;\n",
              "      border: none;\n",
              "      border-radius: 50%;\n",
              "      cursor: pointer;\n",
              "      display: none;\n",
              "      fill: #1967D2;\n",
              "      height: 32px;\n",
              "      padding: 0 0 0 0;\n",
              "      width: 32px;\n",
              "    }\n",
              "\n",
              "    .colab-df-convert:hover {\n",
              "      background-color: #E2EBFA;\n",
              "      box-shadow: 0px 1px 2px rgba(60, 64, 67, 0.3), 0px 1px 3px 1px rgba(60, 64, 67, 0.15);\n",
              "      fill: #174EA6;\n",
              "    }\n",
              "\n",
              "    [theme=dark] .colab-df-convert {\n",
              "      background-color: #3B4455;\n",
              "      fill: #D2E3FC;\n",
              "    }\n",
              "\n",
              "    [theme=dark] .colab-df-convert:hover {\n",
              "      background-color: #434B5C;\n",
              "      box-shadow: 0px 1px 3px 1px rgba(0, 0, 0, 0.15);\n",
              "      filter: drop-shadow(0px 1px 2px rgba(0, 0, 0, 0.3));\n",
              "      fill: #FFFFFF;\n",
              "    }\n",
              "  </style>\n",
              "\n",
              "      <script>\n",
              "        const buttonEl =\n",
              "          document.querySelector('#df-ecfa7c88-5b3e-4327-b921-e26b151b2be3 button.colab-df-convert');\n",
              "        buttonEl.style.display =\n",
              "          google.colab.kernel.accessAllowed ? 'block' : 'none';\n",
              "\n",
              "        async function convertToInteractive(key) {\n",
              "          const element = document.querySelector('#df-ecfa7c88-5b3e-4327-b921-e26b151b2be3');\n",
              "          const dataTable =\n",
              "            await google.colab.kernel.invokeFunction('convertToInteractive',\n",
              "                                                     [key], {});\n",
              "          if (!dataTable) return;\n",
              "\n",
              "          const docLinkHtml = 'Like what you see? Visit the ' +\n",
              "            '<a target=\"_blank\" href=https://colab.research.google.com/notebooks/data_table.ipynb>data table notebook</a>'\n",
              "            + ' to learn more about interactive tables.';\n",
              "          element.innerHTML = '';\n",
              "          dataTable['output_type'] = 'display_data';\n",
              "          await google.colab.output.renderOutput(dataTable, element);\n",
              "          const docLink = document.createElement('div');\n",
              "          docLink.innerHTML = docLinkHtml;\n",
              "          element.appendChild(docLink);\n",
              "        }\n",
              "      </script>\n",
              "    </div>\n",
              "  </div>\n",
              "  "
            ]
          },
          "metadata": {},
          "execution_count": 33
        }
      ]
    },
    {
      "cell_type": "markdown",
      "source": [
        "#### Export processed data"
      ],
      "metadata": {
        "id": "93Lz6oLVWWXl"
      }
    },
    {
      "cell_type": "code",
      "source": [
        "label_df.columns"
      ],
      "metadata": {
        "colab": {
          "base_uri": "https://localhost:8080/"
        },
        "id": "YA8s7PxWagub",
        "outputId": "f8d9bd4d-118e-4af4-c0ee-efa236a4501d"
      },
      "execution_count": 34,
      "outputs": [
        {
          "output_type": "execute_result",
          "data": {
            "text/plain": [
              "Index(['raw_text', 'subjectivity', 'polarity', 'clean_text'], dtype='object')"
            ]
          },
          "metadata": {},
          "execution_count": 34
        }
      ]
    },
    {
      "cell_type": "code",
      "source": [
        "new_cols = [\"raw_text\",\"clean_text\",\"subjectivity\",\"polarity\"]\n",
        "label_df = label_df[new_cols]\n",
        "\n",
        "label_df"
      ],
      "metadata": {
        "colab": {
          "base_uri": "https://localhost:8080/",
          "height": 641
        },
        "id": "3CzDTeW8aIyT",
        "outputId": "fb78e1cb-479d-4676-975c-64d2ccbf8d63"
      },
      "execution_count": 35,
      "outputs": [
        {
          "output_type": "execute_result",
          "data": {
            "text/plain": [
              "                                               raw_text  \\\n",
              "0     @RT_com That’s the guy who is funding those fa...   \n",
              "1     Biden apparently just told JTaps that he's goi...   \n",
              "2     @Kingofgameplay1 @HeathMayo They've been given...   \n",
              "3     @conorjrogers @reedgalen They could not raise ...   \n",
              "4     Can`t Biden just fire the board members on the...   \n",
              "...                                                 ...   \n",
              "1761  @KThomasDC @costareports That’s nice, but I ho...   \n",
              "1762  @livingdead1970 OMG.  You are a sensitive soul...   \n",
              "1763  @bryceagen @itsJeffTiedrich @realDonaldTrump @...   \n",
              "1764  @Tomboliko @the_resistor @realDonaldTrump Hill...   \n",
              "1765  @Nix3112 @vvsdagger @childishhippy @BigBullyZe...   \n",
              "\n",
              "                                             clean_text  subjectivity  \\\n",
              "0            rt com guy funding fake story hunter biden             1   \n",
              "1     biden apparently told jtaps going ask everyone...             1   \n",
              "2     kingofgameplay heathmayo given chance blown tr...             1   \n",
              "3     conorjrogers reedgalen could not raise money b...             1   \n",
              "4       biden fire board member postal governor replace             1   \n",
              "...                                                 ...           ...   \n",
              "1761  kthomasdc costareports nice hope biden think m...             0   \n",
              "1762  livingdead omg sensitive soul record massive o...             1   \n",
              "1763  bryceagen itsjefftiedrich realdonaldtrump coac...             1   \n",
              "1764  tomboliko resistor realdonaldtrump hillary che...             1   \n",
              "1765  nix vvsdagger childishhippy bigbullyzell ridal...             1   \n",
              "\n",
              "      polarity  \n",
              "0            1  \n",
              "1            0  \n",
              "2            0  \n",
              "3            1  \n",
              "4            0  \n",
              "...        ...  \n",
              "1761         2  \n",
              "1762         1  \n",
              "1763         1  \n",
              "1764         0  \n",
              "1765         0  \n",
              "\n",
              "[1766 rows x 4 columns]"
            ],
            "text/html": [
              "\n",
              "  <div id=\"df-845abe77-f943-4629-8f8b-d5de6a704115\">\n",
              "    <div class=\"colab-df-container\">\n",
              "      <div>\n",
              "<style scoped>\n",
              "    .dataframe tbody tr th:only-of-type {\n",
              "        vertical-align: middle;\n",
              "    }\n",
              "\n",
              "    .dataframe tbody tr th {\n",
              "        vertical-align: top;\n",
              "    }\n",
              "\n",
              "    .dataframe thead th {\n",
              "        text-align: right;\n",
              "    }\n",
              "</style>\n",
              "<table border=\"1\" class=\"dataframe\">\n",
              "  <thead>\n",
              "    <tr style=\"text-align: right;\">\n",
              "      <th></th>\n",
              "      <th>raw_text</th>\n",
              "      <th>clean_text</th>\n",
              "      <th>subjectivity</th>\n",
              "      <th>polarity</th>\n",
              "    </tr>\n",
              "  </thead>\n",
              "  <tbody>\n",
              "    <tr>\n",
              "      <th>0</th>\n",
              "      <td>@RT_com That’s the guy who is funding those fa...</td>\n",
              "      <td>rt com guy funding fake story hunter biden</td>\n",
              "      <td>1</td>\n",
              "      <td>1</td>\n",
              "    </tr>\n",
              "    <tr>\n",
              "      <th>1</th>\n",
              "      <td>Biden apparently just told JTaps that he's goi...</td>\n",
              "      <td>biden apparently told jtaps going ask everyone...</td>\n",
              "      <td>1</td>\n",
              "      <td>0</td>\n",
              "    </tr>\n",
              "    <tr>\n",
              "      <th>2</th>\n",
              "      <td>@Kingofgameplay1 @HeathMayo They've been given...</td>\n",
              "      <td>kingofgameplay heathmayo given chance blown tr...</td>\n",
              "      <td>1</td>\n",
              "      <td>0</td>\n",
              "    </tr>\n",
              "    <tr>\n",
              "      <th>3</th>\n",
              "      <td>@conorjrogers @reedgalen They could not raise ...</td>\n",
              "      <td>conorjrogers reedgalen could not raise money b...</td>\n",
              "      <td>1</td>\n",
              "      <td>1</td>\n",
              "    </tr>\n",
              "    <tr>\n",
              "      <th>4</th>\n",
              "      <td>Can`t Biden just fire the board members on the...</td>\n",
              "      <td>biden fire board member postal governor replace</td>\n",
              "      <td>1</td>\n",
              "      <td>0</td>\n",
              "    </tr>\n",
              "    <tr>\n",
              "      <th>...</th>\n",
              "      <td>...</td>\n",
              "      <td>...</td>\n",
              "      <td>...</td>\n",
              "      <td>...</td>\n",
              "    </tr>\n",
              "    <tr>\n",
              "      <th>1761</th>\n",
              "      <td>@KThomasDC @costareports That’s nice, but I ho...</td>\n",
              "      <td>kthomasdc costareports nice hope biden think m...</td>\n",
              "      <td>0</td>\n",
              "      <td>2</td>\n",
              "    </tr>\n",
              "    <tr>\n",
              "      <th>1762</th>\n",
              "      <td>@livingdead1970 OMG.  You are a sensitive soul...</td>\n",
              "      <td>livingdead omg sensitive soul record massive o...</td>\n",
              "      <td>1</td>\n",
              "      <td>1</td>\n",
              "    </tr>\n",
              "    <tr>\n",
              "      <th>1763</th>\n",
              "      <td>@bryceagen @itsJeffTiedrich @realDonaldTrump @...</td>\n",
              "      <td>bryceagen itsjefftiedrich realdonaldtrump coac...</td>\n",
              "      <td>1</td>\n",
              "      <td>1</td>\n",
              "    </tr>\n",
              "    <tr>\n",
              "      <th>1764</th>\n",
              "      <td>@Tomboliko @the_resistor @realDonaldTrump Hill...</td>\n",
              "      <td>tomboliko resistor realdonaldtrump hillary che...</td>\n",
              "      <td>1</td>\n",
              "      <td>0</td>\n",
              "    </tr>\n",
              "    <tr>\n",
              "      <th>1765</th>\n",
              "      <td>@Nix3112 @vvsdagger @childishhippy @BigBullyZe...</td>\n",
              "      <td>nix vvsdagger childishhippy bigbullyzell ridal...</td>\n",
              "      <td>1</td>\n",
              "      <td>0</td>\n",
              "    </tr>\n",
              "  </tbody>\n",
              "</table>\n",
              "<p>1766 rows × 4 columns</p>\n",
              "</div>\n",
              "      <button class=\"colab-df-convert\" onclick=\"convertToInteractive('df-845abe77-f943-4629-8f8b-d5de6a704115')\"\n",
              "              title=\"Convert this dataframe to an interactive table.\"\n",
              "              style=\"display:none;\">\n",
              "        \n",
              "  <svg xmlns=\"http://www.w3.org/2000/svg\" height=\"24px\"viewBox=\"0 0 24 24\"\n",
              "       width=\"24px\">\n",
              "    <path d=\"M0 0h24v24H0V0z\" fill=\"none\"/>\n",
              "    <path d=\"M18.56 5.44l.94 2.06.94-2.06 2.06-.94-2.06-.94-.94-2.06-.94 2.06-2.06.94zm-11 1L8.5 8.5l.94-2.06 2.06-.94-2.06-.94L8.5 2.5l-.94 2.06-2.06.94zm10 10l.94 2.06.94-2.06 2.06-.94-2.06-.94-.94-2.06-.94 2.06-2.06.94z\"/><path d=\"M17.41 7.96l-1.37-1.37c-.4-.4-.92-.59-1.43-.59-.52 0-1.04.2-1.43.59L10.3 9.45l-7.72 7.72c-.78.78-.78 2.05 0 2.83L4 21.41c.39.39.9.59 1.41.59.51 0 1.02-.2 1.41-.59l7.78-7.78 2.81-2.81c.8-.78.8-2.07 0-2.86zM5.41 20L4 18.59l7.72-7.72 1.47 1.35L5.41 20z\"/>\n",
              "  </svg>\n",
              "      </button>\n",
              "      \n",
              "  <style>\n",
              "    .colab-df-container {\n",
              "      display:flex;\n",
              "      flex-wrap:wrap;\n",
              "      gap: 12px;\n",
              "    }\n",
              "\n",
              "    .colab-df-convert {\n",
              "      background-color: #E8F0FE;\n",
              "      border: none;\n",
              "      border-radius: 50%;\n",
              "      cursor: pointer;\n",
              "      display: none;\n",
              "      fill: #1967D2;\n",
              "      height: 32px;\n",
              "      padding: 0 0 0 0;\n",
              "      width: 32px;\n",
              "    }\n",
              "\n",
              "    .colab-df-convert:hover {\n",
              "      background-color: #E2EBFA;\n",
              "      box-shadow: 0px 1px 2px rgba(60, 64, 67, 0.3), 0px 1px 3px 1px rgba(60, 64, 67, 0.15);\n",
              "      fill: #174EA6;\n",
              "    }\n",
              "\n",
              "    [theme=dark] .colab-df-convert {\n",
              "      background-color: #3B4455;\n",
              "      fill: #D2E3FC;\n",
              "    }\n",
              "\n",
              "    [theme=dark] .colab-df-convert:hover {\n",
              "      background-color: #434B5C;\n",
              "      box-shadow: 0px 1px 3px 1px rgba(0, 0, 0, 0.15);\n",
              "      filter: drop-shadow(0px 1px 2px rgba(0, 0, 0, 0.3));\n",
              "      fill: #FFFFFF;\n",
              "    }\n",
              "  </style>\n",
              "\n",
              "      <script>\n",
              "        const buttonEl =\n",
              "          document.querySelector('#df-845abe77-f943-4629-8f8b-d5de6a704115 button.colab-df-convert');\n",
              "        buttonEl.style.display =\n",
              "          google.colab.kernel.accessAllowed ? 'block' : 'none';\n",
              "\n",
              "        async function convertToInteractive(key) {\n",
              "          const element = document.querySelector('#df-845abe77-f943-4629-8f8b-d5de6a704115');\n",
              "          const dataTable =\n",
              "            await google.colab.kernel.invokeFunction('convertToInteractive',\n",
              "                                                     [key], {});\n",
              "          if (!dataTable) return;\n",
              "\n",
              "          const docLinkHtml = 'Like what you see? Visit the ' +\n",
              "            '<a target=\"_blank\" href=https://colab.research.google.com/notebooks/data_table.ipynb>data table notebook</a>'\n",
              "            + ' to learn more about interactive tables.';\n",
              "          element.innerHTML = '';\n",
              "          dataTable['output_type'] = 'display_data';\n",
              "          await google.colab.output.renderOutput(dataTable, element);\n",
              "          const docLink = document.createElement('div');\n",
              "          docLink.innerHTML = docLinkHtml;\n",
              "          element.appendChild(docLink);\n",
              "        }\n",
              "      </script>\n",
              "    </div>\n",
              "  </div>\n",
              "  "
            ]
          },
          "metadata": {},
          "execution_count": 35
        }
      ]
    },
    {
      "cell_type": "code",
      "source": [
        "process_label_file_name = 'biden_tweets_labeled_processed.csv'\n",
        "  \n",
        "label_df.to_csv(process_label_file_name)"
      ],
      "metadata": {
        "id": "kkuxfM9qWWdI"
      },
      "execution_count": 36,
      "outputs": []
    },
    {
      "cell_type": "markdown",
      "source": [
        "## Explore dataset"
      ],
      "metadata": {
        "id": "kAGqb5AQ_eD0"
      }
    },
    {
      "cell_type": "markdown",
      "source": [
        "### Full dataset"
      ],
      "metadata": {
        "id": "tqyWsQAwVnRa"
      }
    },
    {
      "cell_type": "markdown",
      "source": [
        "#### Word counts"
      ],
      "metadata": {
        "id": "u7jSKpeLF6bI"
      }
    },
    {
      "cell_type": "code",
      "source": [
        "raw_word_counts = df['raw_text'].apply(lambda x: len(x.split()))\n",
        "\n",
        "raw_word_counts.describe()"
      ],
      "metadata": {
        "colab": {
          "base_uri": "https://localhost:8080/"
        },
        "id": "S8yA2LHs_36m",
        "outputId": "da6e2001-e1fa-47d7-8d73-8211dc96e3ae"
      },
      "execution_count": 37,
      "outputs": [
        {
          "output_type": "execute_result",
          "data": {
            "text/plain": [
              "count    17650.000000\n",
              "mean        25.504589\n",
              "std         14.463978\n",
              "min          2.000000\n",
              "25%         14.000000\n",
              "50%         22.000000\n",
              "75%         37.000000\n",
              "max        101.000000\n",
              "Name: raw_text, dtype: float64"
            ]
          },
          "metadata": {},
          "execution_count": 37
        }
      ]
    },
    {
      "cell_type": "code",
      "source": [
        "clean_word_counts = df['clean_text'].apply(lambda x: len(x.split()))\n",
        "\n",
        "clean_word_counts.describe()"
      ],
      "metadata": {
        "colab": {
          "base_uri": "https://localhost:8080/"
        },
        "id": "_xYt7gN-_39o",
        "outputId": "fd739701-2b6c-4274-e813-efab5df095e7"
      },
      "execution_count": 38,
      "outputs": [
        {
          "output_type": "execute_result",
          "data": {
            "text/plain": [
              "count    17650.000000\n",
              "mean        14.200850\n",
              "std          7.502692\n",
              "min          1.000000\n",
              "25%          8.000000\n",
              "50%         13.000000\n",
              "75%         20.000000\n",
              "max         83.000000\n",
              "Name: clean_text, dtype: float64"
            ]
          },
          "metadata": {},
          "execution_count": 38
        }
      ]
    },
    {
      "cell_type": "markdown",
      "source": [
        "#### Tokenization"
      ],
      "metadata": {
        "id": "nP0DzLIjF4pG"
      }
    },
    {
      "cell_type": "code",
      "source": [
        "nlp = spacy.load('en_core_web_sm')\n",
        "nlp"
      ],
      "metadata": {
        "colab": {
          "base_uri": "https://localhost:8080/"
        },
        "id": "jU7gYyv0AYGg",
        "outputId": "a1f8305f-5504-4bd2-8359-b27f1fb1d952"
      },
      "execution_count": 39,
      "outputs": [
        {
          "output_type": "execute_result",
          "data": {
            "text/plain": [
              "<spacy.lang.en.English at 0x7feb5a9a88d0>"
            ]
          },
          "metadata": {},
          "execution_count": 39
        }
      ]
    },
    {
      "cell_type": "code",
      "source": [
        "clean_text_data = df['clean_text'].values"
      ],
      "metadata": {
        "id": "tAYQcSPiA1qs"
      },
      "execution_count": 40,
      "outputs": []
    },
    {
      "cell_type": "code",
      "source": [
        "# clean_text_data"
      ],
      "metadata": {
        "id": "ZWYF9ivDz25C"
      },
      "execution_count": 41,
      "outputs": []
    },
    {
      "cell_type": "code",
      "source": [
        "len(clean_text_data)"
      ],
      "metadata": {
        "colab": {
          "base_uri": "https://localhost:8080/"
        },
        "id": "FB48I_GHz54o",
        "outputId": "6c2d024e-3188-4c75-a745-ee32b3e628cf"
      },
      "execution_count": 42,
      "outputs": [
        {
          "output_type": "execute_result",
          "data": {
            "text/plain": [
              "17650"
            ]
          },
          "metadata": {},
          "execution_count": 42
        }
      ]
    },
    {
      "cell_type": "code",
      "source": [
        "texts = ''\n",
        "for text in clean_text_data:\n",
        "  texts += ' ' + text"
      ],
      "metadata": {
        "id": "yac_dvEm_k70"
      },
      "execution_count": 43,
      "outputs": []
    },
    {
      "cell_type": "code",
      "source": [
        "# texts"
      ],
      "metadata": {
        "id": "jBdjW-YKDJVK"
      },
      "execution_count": 44,
      "outputs": []
    },
    {
      "cell_type": "code",
      "source": [
        "len(texts)"
      ],
      "metadata": {
        "colab": {
          "base_uri": "https://localhost:8080/"
        },
        "id": "wdIVeZjmz89i",
        "outputId": "24a76bff-d3c2-4a87-d971-d896b9598d3e"
      },
      "execution_count": 45,
      "outputs": [
        {
          "output_type": "execute_result",
          "data": {
            "text/plain": [
              "1769835"
            ]
          },
          "metadata": {},
          "execution_count": 45
        }
      ]
    },
    {
      "cell_type": "code",
      "source": [
        "tokens = nltk.tokenize.word_tokenize(texts)"
      ],
      "metadata": {
        "id": "goNTzipiEthb"
      },
      "execution_count": 46,
      "outputs": []
    },
    {
      "cell_type": "code",
      "source": [
        "# tokens"
      ],
      "metadata": {
        "id": "yOLuuSRzz_R_"
      },
      "execution_count": 47,
      "outputs": []
    },
    {
      "cell_type": "code",
      "source": [
        "len(tokens)"
      ],
      "metadata": {
        "colab": {
          "base_uri": "https://localhost:8080/"
        },
        "id": "s3byM11JFbqH",
        "outputId": "1f4947ef-c5b6-46b4-82bb-480b14441dca"
      },
      "execution_count": 48,
      "outputs": [
        {
          "output_type": "execute_result",
          "data": {
            "text/plain": [
              "250645"
            ]
          },
          "metadata": {},
          "execution_count": 48
        }
      ]
    },
    {
      "cell_type": "markdown",
      "source": [
        "#### Most frequent words"
      ],
      "metadata": {
        "id": "rXb74fVsFELp"
      }
    },
    {
      "cell_type": "code",
      "source": [
        "frequency = nltk.FreqDist(tokens)\n",
        "most_common = frequency.most_common()"
      ],
      "metadata": {
        "id": "pzEaDEq4C0e_"
      },
      "execution_count": 49,
      "outputs": []
    },
    {
      "cell_type": "code",
      "source": [
        "# most_common\n",
        "print(most_common[0:20])"
      ],
      "metadata": {
        "colab": {
          "base_uri": "https://localhost:8080/"
        },
        "id": "3VQmP5JZ0FLn",
        "outputId": "946e69b9-1505-4df6-9c08-5388081eebc9"
      },
      "execution_count": 50,
      "outputs": [
        {
          "output_type": "stream",
          "name": "stdout",
          "text": [
            "[('biden', 17621), ('trump', 3664), ('joe', 3080), ('president', 3074), ('realdonaldtrump', 2906), ('not', 2412), ('vote', 1710), ('election', 1458), ('say', 1307), ('people', 1292), ('day', 1255), ('elect', 1162), ('like', 1114), ('get', 1100), ('mask', 1051), ('american', 1048), ('would', 1034), ('u', 1017), ('know', 867), ('amp', 812)]\n"
          ]
        }
      ]
    },
    {
      "cell_type": "markdown",
      "source": [
        "#### Word cloud"
      ],
      "metadata": {
        "id": "S8RWYaaXFHm6"
      }
    },
    {
      "cell_type": "code",
      "source": [
        "cloud = WordCloud()\n",
        "cloud = cloud.generate(texts)\n",
        "plt.figure(figsize=(15,15))\n",
        "plt.imshow(cloud)\n",
        "plt.axis('off')"
      ],
      "metadata": {
        "colab": {
          "base_uri": "https://localhost:8080/",
          "height": 432
        },
        "id": "tus2fT6tDJac",
        "outputId": "e6116c46-fa5e-4e39-d26f-29e7baf95e55"
      },
      "execution_count": 67,
      "outputs": [
        {
          "output_type": "execute_result",
          "data": {
            "text/plain": [
              "(-0.5, 399.5, 199.5, -0.5)"
            ]
          },
          "metadata": {},
          "execution_count": 67
        },
        {
          "output_type": "display_data",
          "data": {
            "text/plain": [
              "<Figure size 1080x1080 with 1 Axes>"
            ],
            "image/png": "[encoded data removed]"
          },
          "metadata": {
            "needs_background": "light"
          }
        }
      ]
    },
    {
      "cell_type": "markdown",
      "source": [
        "### Labeled dataset"
      ],
      "metadata": {
        "id": "6-Hk3OYeHEG-"
      }
    },
    {
      "cell_type": "markdown",
      "source": [
        "#### Word counts"
      ],
      "metadata": {
        "id": "Xorto_msV_8_"
      }
    },
    {
      "cell_type": "code",
      "source": [
        "label_raw_word_counts = label_df['raw_text'].apply(lambda x: len(x.split()))\n",
        "\n",
        "label_raw_word_counts.describe()"
      ],
      "metadata": {
        "colab": {
          "base_uri": "https://localhost:8080/"
        },
        "id": "moeAm2Y2WAEn",
        "outputId": "c96bafd8-0bb5-4aaa-9de7-1d09db8368ac"
      },
      "execution_count": 51,
      "outputs": [
        {
          "output_type": "execute_result",
          "data": {
            "text/plain": [
              "count    1766.000000\n",
              "mean       24.956399\n",
              "std        14.428796\n",
              "min         2.000000\n",
              "25%        13.000000\n",
              "50%        21.000000\n",
              "75%        36.000000\n",
              "max        87.000000\n",
              "Name: raw_text, dtype: float64"
            ]
          },
          "metadata": {},
          "execution_count": 51
        }
      ]
    },
    {
      "cell_type": "code",
      "source": [
        "label_clean_word_counts = label_df['clean_text'].apply(lambda x: len(x.split()))\n",
        "\n",
        "label_clean_word_counts.describe()"
      ],
      "metadata": {
        "colab": {
          "base_uri": "https://localhost:8080/"
        },
        "id": "5CZZ9PJYXwRi",
        "outputId": "0a17e347-4ffd-4625-fa60-072bde660171"
      },
      "execution_count": 52,
      "outputs": [
        {
          "output_type": "execute_result",
          "data": {
            "text/plain": [
              "count    1766.000000\n",
              "mean       14.007928\n",
              "std         7.727362\n",
              "min         2.000000\n",
              "25%         8.000000\n",
              "50%        12.000000\n",
              "75%        19.000000\n",
              "max        83.000000\n",
              "Name: clean_text, dtype: float64"
            ]
          },
          "metadata": {},
          "execution_count": 52
        }
      ]
    },
    {
      "cell_type": "markdown",
      "source": [
        "#### Sentiment counts\n",
        "\n",
        "* subjectivity: 0 - neutral, 1 - opinionated\n",
        "* polarity: 0 - negative, 1 - positive, 2 - neutral"
      ],
      "metadata": {
        "id": "so3FHygNbC_w"
      }
    },
    {
      "cell_type": "code",
      "source": [
        "label_df['subjectivity'].value_counts()"
      ],
      "metadata": {
        "colab": {
          "base_uri": "https://localhost:8080/"
        },
        "id": "HXbI0tWNbPFU",
        "outputId": "3d819cd5-2ddc-4415-a71c-5c321fcac674"
      },
      "execution_count": 53,
      "outputs": [
        {
          "output_type": "execute_result",
          "data": {
            "text/plain": [
              "1    1287\n",
              "0     479\n",
              "Name: subjectivity, dtype: int64"
            ]
          },
          "metadata": {},
          "execution_count": 53
        }
      ]
    },
    {
      "cell_type": "code",
      "source": [
        "label_df['subjectivity'].value_counts().plot.bar()"
      ],
      "metadata": {
        "colab": {
          "base_uri": "https://localhost:8080/",
          "height": 279
        },
        "id": "vYCgQkHabFFN",
        "outputId": "6995f96b-0f22-4b1c-d229-07cd0e75c15d"
      },
      "execution_count": null,
      "outputs": [
        {
          "output_type": "execute_result",
          "data": {
            "text/plain": [
              "<matplotlib.axes._subplots.AxesSubplot at 0x7f497c078890>"
            ]
          },
          "metadata": {},
          "execution_count": 48
        },
        {
          "output_type": "display_data",
          "data": {
            "text/plain": [
              "<Figure size 432x288 with 1 Axes>"
            ],
            "image/png": "[encoded data removed]"
          },
          "metadata": {
            "needs_background": "light"
          }
        }
      ]
    },
    {
      "cell_type": "code",
      "source": [
        "label_df['polarity'].value_counts()"
      ],
      "metadata": {
        "colab": {
          "base_uri": "https://localhost:8080/"
        },
        "id": "s0SozIPucROk",
        "outputId": "5f540c53-c579-4ff5-ad5c-75ee10255aa4"
      },
      "execution_count": null,
      "outputs": [
        {
          "output_type": "execute_result",
          "data": {
            "text/plain": [
              "0    733\n",
              "1    554\n",
              "2    479\n",
              "Name: polarity, dtype: int64"
            ]
          },
          "metadata": {},
          "execution_count": 49
        }
      ]
    },
    {
      "cell_type": "code",
      "source": [
        "label_df['polarity'].value_counts().plot.bar()"
      ],
      "metadata": {
        "colab": {
          "base_uri": "https://localhost:8080/",
          "height": 279
        },
        "id": "GkAtyZ6QbFIh",
        "outputId": "39215d5e-27e5-42b3-d13b-53711da5abe9"
      },
      "execution_count": null,
      "outputs": [
        {
          "output_type": "execute_result",
          "data": {
            "text/plain": [
              "<matplotlib.axes._subplots.AxesSubplot at 0x7f496db36b50>"
            ]
          },
          "metadata": {},
          "execution_count": 50
        },
        {
          "output_type": "display_data",
          "data": {
            "text/plain": [
              "<Figure size 432x288 with 1 Axes>"
            ],
            "image/png": "[encoded data removed]"
          },
          "metadata": {
            "needs_background": "light"
          }
        }
      ]
    },
    {
      "cell_type": "markdown",
      "source": [
        "#### Tokenization"
      ],
      "metadata": {
        "id": "CuynmlRWWAN_"
      }
    },
    {
      "cell_type": "code",
      "source": [
        "label_clean_text_data = label_df['clean_text'].values"
      ],
      "metadata": {
        "id": "Q1FlD3eZWAXd"
      },
      "execution_count": 54,
      "outputs": []
    },
    {
      "cell_type": "code",
      "source": [
        "# label_clean_text_data"
      ],
      "metadata": {
        "id": "9HY2AAWy1bS-"
      },
      "execution_count": 55,
      "outputs": []
    },
    {
      "cell_type": "code",
      "source": [
        "len(label_clean_text_data)"
      ],
      "metadata": {
        "colab": {
          "base_uri": "https://localhost:8080/"
        },
        "id": "F0dkE-451bs9",
        "outputId": "5f927ad1-4ccc-4d4f-cfd8-f0d605365aa9"
      },
      "execution_count": 56,
      "outputs": [
        {
          "output_type": "execute_result",
          "data": {
            "text/plain": [
              "1766"
            ]
          },
          "metadata": {},
          "execution_count": 56
        }
      ]
    },
    {
      "cell_type": "code",
      "source": [
        "label_texts = ''\n",
        "for text in label_clean_text_data:\n",
        "  label_texts += ' ' + text"
      ],
      "metadata": {
        "id": "5oj3edePYAt5"
      },
      "execution_count": 57,
      "outputs": []
    },
    {
      "cell_type": "code",
      "source": [
        "# label_texts"
      ],
      "metadata": {
        "id": "lujG__-qYAxC"
      },
      "execution_count": 58,
      "outputs": []
    },
    {
      "cell_type": "code",
      "source": [
        "len(label_texts)"
      ],
      "metadata": {
        "colab": {
          "base_uri": "https://localhost:8080/"
        },
        "id": "0guehNXv1ilG",
        "outputId": "9492ed78-e244-4f10-abf0-32fbe0873d3e"
      },
      "execution_count": 60,
      "outputs": [
        {
          "output_type": "execute_result",
          "data": {
            "text/plain": [
              "174642"
            ]
          },
          "metadata": {},
          "execution_count": 60
        }
      ]
    },
    {
      "cell_type": "code",
      "source": [
        "label_tokens = nltk.tokenize.word_tokenize(label_texts)"
      ],
      "metadata": {
        "id": "H0roMDyUYA0U"
      },
      "execution_count": 61,
      "outputs": []
    },
    {
      "cell_type": "code",
      "source": [
        "# label_tokens"
      ],
      "metadata": {
        "id": "e4_dcwRU1p0f"
      },
      "execution_count": 62,
      "outputs": []
    },
    {
      "cell_type": "code",
      "source": [
        "len(label_tokens)"
      ],
      "metadata": {
        "colab": {
          "base_uri": "https://localhost:8080/"
        },
        "id": "Pg8GWolrYULS",
        "outputId": "fa12820c-0e31-41bf-ecf9-f82a365a04ac"
      },
      "execution_count": 63,
      "outputs": [
        {
          "output_type": "execute_result",
          "data": {
            "text/plain": [
              "24738"
            ]
          },
          "metadata": {},
          "execution_count": 63
        }
      ]
    },
    {
      "cell_type": "markdown",
      "source": [
        "#### Most frequent words"
      ],
      "metadata": {
        "id": "MSsVjfERWAnD"
      }
    },
    {
      "cell_type": "code",
      "source": [
        "label_frequency = nltk.FreqDist(label_tokens)\n",
        "label_most_common = label_frequency.most_common()"
      ],
      "metadata": {
        "id": "bGL2UEO6WAvJ"
      },
      "execution_count": 64,
      "outputs": []
    },
    {
      "cell_type": "code",
      "source": [
        "# label_most_common\n",
        "print(label_most_common[0:20])"
      ],
      "metadata": {
        "colab": {
          "base_uri": "https://localhost:8080/"
        },
        "id": "8HW1K8ox1uyn",
        "outputId": "9e5c487d-1761-4723-d506-b9b815cdf7c0"
      },
      "execution_count": 65,
      "outputs": [
        {
          "output_type": "stream",
          "name": "stdout",
          "text": [
            "[('biden', 1765), ('trump', 336), ('president', 313), ('joe', 310), ('realdonaldtrump', 286), ('not', 255), ('election', 155), ('vote', 154), ('say', 139), ('day', 134), ('would', 120), ('elect', 119), ('like', 118), ('get', 113), ('mask', 112), ('people', 112), ('u', 111), ('american', 110), ('know', 105), ('harris', 91)]\n"
          ]
        }
      ]
    },
    {
      "cell_type": "markdown",
      "source": [
        "#### Word cloud"
      ],
      "metadata": {
        "id": "ZhmtKl6iWA3t"
      }
    },
    {
      "cell_type": "code",
      "source": [
        "cloud = WordCloud()\n",
        "cloud = cloud.generate(label_texts)\n",
        "plt.figure(figsize=(15,15))\n",
        "plt.imshow(cloud)\n",
        "plt.axis('off')"
      ],
      "metadata": {
        "colab": {
          "base_uri": "https://localhost:8080/",
          "height": 432
        },
        "id": "50wk9BXtWA-m",
        "outputId": "7e4d80cc-29d6-419b-b1e0-21ba1cae22b5"
      },
      "execution_count": 66,
      "outputs": [
        {
          "output_type": "execute_result",
          "data": {
            "text/plain": [
              "(-0.5, 399.5, 199.5, -0.5)"
            ]
          },
          "metadata": {},
          "execution_count": 66
        },
        {
          "output_type": "display_data",
          "data": {
            "text/plain": [
              "<Figure size 1080x1080 with 1 Axes>"
            ],
            "image/png": "[encoded data removed]"
          },
          "metadata": {
            "needs_background": "light"
          }
        }
      ]
    },
    {
      "cell_type": "markdown",
      "source": [
        "## Create train-test data\n",
        "\n",
        "* split labeled data into train (80%) and test sets (20%)"
      ],
      "metadata": {
        "id": "8nA6joDWmn8E"
      }
    },
    {
      "cell_type": "code",
      "source": [
        "label_df"
      ],
      "metadata": {
        "colab": {
          "base_uri": "https://localhost:8080/",
          "height": 676
        },
        "id": "fDcclsphmrtf",
        "outputId": "bd0d8de5-6085-4812-e669-dbfa9ca94256"
      },
      "execution_count": null,
      "outputs": [
        {
          "output_type": "execute_result",
          "data": {
            "text/plain": [
              "                                               raw_text  \\\n",
              "0     @RT_com That’s the guy who is funding those fa...   \n",
              "1     Biden apparently just told JTaps that he's goi...   \n",
              "2     @Kingofgameplay1 @HeathMayo They've been given...   \n",
              "3     @conorjrogers @reedgalen They could not raise ...   \n",
              "4     Can`t Biden just fire the board members on the...   \n",
              "...                                                 ...   \n",
              "1761  @KThomasDC @costareports That’s nice, but I ho...   \n",
              "1762  @livingdead1970 OMG.  You are a sensitive soul...   \n",
              "1763  @bryceagen @itsJeffTiedrich @realDonaldTrump @...   \n",
              "1764  @Tomboliko @the_resistor @realDonaldTrump Hill...   \n",
              "1765  @Nix3112 @vvsdagger @childishhippy @BigBullyZe...   \n",
              "\n",
              "                                             clean_text  subjectivity  \\\n",
              "0            rt com guy funding fake story hunter biden             1   \n",
              "1     biden apparently told jtaps going ask everyone...             1   \n",
              "2     kingofgameplay heathmayo given chance blown tr...             1   \n",
              "3     conorjrogers reedgalen could not raise money b...             1   \n",
              "4       biden fire board member postal governor replace             1   \n",
              "...                                                 ...           ...   \n",
              "1761  kthomasdc costareports nice hope biden think m...             0   \n",
              "1762  livingdead omg sensitive soul record massive o...             1   \n",
              "1763  bryceagen itsjefftiedrich realdonaldtrump coac...             1   \n",
              "1764  tomboliko resistor realdonaldtrump hillary che...             1   \n",
              "1765  nix vvsdagger childishhippy bigbullyzell ridal...             1   \n",
              "\n",
              "      polarity  \n",
              "0            1  \n",
              "1            0  \n",
              "2            0  \n",
              "3            1  \n",
              "4            0  \n",
              "...        ...  \n",
              "1761         2  \n",
              "1762         1  \n",
              "1763         1  \n",
              "1764         0  \n",
              "1765         0  \n",
              "\n",
              "[1766 rows x 4 columns]"
            ],
            "text/html": [
              "\n",
              "  <div id=\"df-d86ead74-0c1e-427c-93b1-04ec68d92588\">\n",
              "    <div class=\"colab-df-container\">\n",
              "      <div>\n",
              "<style scoped>\n",
              "    .dataframe tbody tr th:only-of-type {\n",
              "        vertical-align: middle;\n",
              "    }\n",
              "\n",
              "    .dataframe tbody tr th {\n",
              "        vertical-align: top;\n",
              "    }\n",
              "\n",
              "    .dataframe thead th {\n",
              "        text-align: right;\n",
              "    }\n",
              "</style>\n",
              "<table border=\"1\" class=\"dataframe\">\n",
              "  <thead>\n",
              "    <tr style=\"text-align: right;\">\n",
              "      <th></th>\n",
              "      <th>raw_text</th>\n",
              "      <th>clean_text</th>\n",
              "      <th>subjectivity</th>\n",
              "      <th>polarity</th>\n",
              "    </tr>\n",
              "  </thead>\n",
              "  <tbody>\n",
              "    <tr>\n",
              "      <th>0</th>\n",
              "      <td>@RT_com That’s the guy who is funding those fa...</td>\n",
              "      <td>rt com guy funding fake story hunter biden</td>\n",
              "      <td>1</td>\n",
              "      <td>1</td>\n",
              "    </tr>\n",
              "    <tr>\n",
              "      <th>1</th>\n",
              "      <td>Biden apparently just told JTaps that he's goi...</td>\n",
              "      <td>biden apparently told jtaps going ask everyone...</td>\n",
              "      <td>1</td>\n",
              "      <td>0</td>\n",
              "    </tr>\n",
              "    <tr>\n",
              "      <th>2</th>\n",
              "      <td>@Kingofgameplay1 @HeathMayo They've been given...</td>\n",
              "      <td>kingofgameplay heathmayo given chance blown tr...</td>\n",
              "      <td>1</td>\n",
              "      <td>0</td>\n",
              "    </tr>\n",
              "    <tr>\n",
              "      <th>3</th>\n",
              "      <td>@conorjrogers @reedgalen They could not raise ...</td>\n",
              "      <td>conorjrogers reedgalen could not raise money b...</td>\n",
              "      <td>1</td>\n",
              "      <td>1</td>\n",
              "    </tr>\n",
              "    <tr>\n",
              "      <th>4</th>\n",
              "      <td>Can`t Biden just fire the board members on the...</td>\n",
              "      <td>biden fire board member postal governor replace</td>\n",
              "      <td>1</td>\n",
              "      <td>0</td>\n",
              "    </tr>\n",
              "    <tr>\n",
              "      <th>...</th>\n",
              "      <td>...</td>\n",
              "      <td>...</td>\n",
              "      <td>...</td>\n",
              "      <td>...</td>\n",
              "    </tr>\n",
              "    <tr>\n",
              "      <th>1761</th>\n",
              "      <td>@KThomasDC @costareports That’s nice, but I ho...</td>\n",
              "      <td>kthomasdc costareports nice hope biden think m...</td>\n",
              "      <td>0</td>\n",
              "      <td>2</td>\n",
              "    </tr>\n",
              "    <tr>\n",
              "      <th>1762</th>\n",
              "      <td>@livingdead1970 OMG.  You are a sensitive soul...</td>\n",
              "      <td>livingdead omg sensitive soul record massive o...</td>\n",
              "      <td>1</td>\n",
              "      <td>1</td>\n",
              "    </tr>\n",
              "    <tr>\n",
              "      <th>1763</th>\n",
              "      <td>@bryceagen @itsJeffTiedrich @realDonaldTrump @...</td>\n",
              "      <td>bryceagen itsjefftiedrich realdonaldtrump coac...</td>\n",
              "      <td>1</td>\n",
              "      <td>1</td>\n",
              "    </tr>\n",
              "    <tr>\n",
              "      <th>1764</th>\n",
              "      <td>@Tomboliko @the_resistor @realDonaldTrump Hill...</td>\n",
              "      <td>tomboliko resistor realdonaldtrump hillary che...</td>\n",
              "      <td>1</td>\n",
              "      <td>0</td>\n",
              "    </tr>\n",
              "    <tr>\n",
              "      <th>1765</th>\n",
              "      <td>@Nix3112 @vvsdagger @childishhippy @BigBullyZe...</td>\n",
              "      <td>nix vvsdagger childishhippy bigbullyzell ridal...</td>\n",
              "      <td>1</td>\n",
              "      <td>0</td>\n",
              "    </tr>\n",
              "  </tbody>\n",
              "</table>\n",
              "<p>1766 rows × 4 columns</p>\n",
              "</div>\n",
              "      <button class=\"colab-df-convert\" onclick=\"convertToInteractive('df-d86ead74-0c1e-427c-93b1-04ec68d92588')\"\n",
              "              title=\"Convert this dataframe to an interactive table.\"\n",
              "              style=\"display:none;\">\n",
              "        \n",
              "  <svg xmlns=\"http://www.w3.org/2000/svg\" height=\"24px\"viewBox=\"0 0 24 24\"\n",
              "       width=\"24px\">\n",
              "    <path d=\"M0 0h24v24H0V0z\" fill=\"none\"/>\n",
              "    <path d=\"M18.56 5.44l.94 2.06.94-2.06 2.06-.94-2.06-.94-.94-2.06-.94 2.06-2.06.94zm-11 1L8.5 8.5l.94-2.06 2.06-.94-2.06-.94L8.5 2.5l-.94 2.06-2.06.94zm10 10l.94 2.06.94-2.06 2.06-.94-2.06-.94-.94-2.06-.94 2.06-2.06.94z\"/><path d=\"M17.41 7.96l-1.37-1.37c-.4-.4-.92-.59-1.43-.59-.52 0-1.04.2-1.43.59L10.3 9.45l-7.72 7.72c-.78.78-.78 2.05 0 2.83L4 21.41c.39.39.9.59 1.41.59.51 0 1.02-.2 1.41-.59l7.78-7.78 2.81-2.81c.8-.78.8-2.07 0-2.86zM5.41 20L4 18.59l7.72-7.72 1.47 1.35L5.41 20z\"/>\n",
              "  </svg>\n",
              "      </button>\n",
              "      \n",
              "  <style>\n",
              "    .colab-df-container {\n",
              "      display:flex;\n",
              "      flex-wrap:wrap;\n",
              "      gap: 12px;\n",
              "    }\n",
              "\n",
              "    .colab-df-convert {\n",
              "      background-color: #E8F0FE;\n",
              "      border: none;\n",
              "      border-radius: 50%;\n",
              "      cursor: pointer;\n",
              "      display: none;\n",
              "      fill: #1967D2;\n",
              "      height: 32px;\n",
              "      padding: 0 0 0 0;\n",
              "      width: 32px;\n",
              "    }\n",
              "\n",
              "    .colab-df-convert:hover {\n",
              "      background-color: #E2EBFA;\n",
              "      box-shadow: 0px 1px 2px rgba(60, 64, 67, 0.3), 0px 1px 3px 1px rgba(60, 64, 67, 0.15);\n",
              "      fill: #174EA6;\n",
              "    }\n",
              "\n",
              "    [theme=dark] .colab-df-convert {\n",
              "      background-color: #3B4455;\n",
              "      fill: #D2E3FC;\n",
              "    }\n",
              "\n",
              "    [theme=dark] .colab-df-convert:hover {\n",
              "      background-color: #434B5C;\n",
              "      box-shadow: 0px 1px 3px 1px rgba(0, 0, 0, 0.15);\n",
              "      filter: drop-shadow(0px 1px 2px rgba(0, 0, 0, 0.3));\n",
              "      fill: #FFFFFF;\n",
              "    }\n",
              "  </style>\n",
              "\n",
              "      <script>\n",
              "        const buttonEl =\n",
              "          document.querySelector('#df-d86ead74-0c1e-427c-93b1-04ec68d92588 button.colab-df-convert');\n",
              "        buttonEl.style.display =\n",
              "          google.colab.kernel.accessAllowed ? 'block' : 'none';\n",
              "\n",
              "        async function convertToInteractive(key) {\n",
              "          const element = document.querySelector('#df-d86ead74-0c1e-427c-93b1-04ec68d92588');\n",
              "          const dataTable =\n",
              "            await google.colab.kernel.invokeFunction('convertToInteractive',\n",
              "                                                     [key], {});\n",
              "          if (!dataTable) return;\n",
              "\n",
              "          const docLinkHtml = 'Like what you see? Visit the ' +\n",
              "            '<a target=\"_blank\" href=https://colab.research.google.com/notebooks/data_table.ipynb>data table notebook</a>'\n",
              "            + ' to learn more about interactive tables.';\n",
              "          element.innerHTML = '';\n",
              "          dataTable['output_type'] = 'display_data';\n",
              "          await google.colab.output.renderOutput(dataTable, element);\n",
              "          const docLink = document.createElement('div');\n",
              "          docLink.innerHTML = docLinkHtml;\n",
              "          element.appendChild(docLink);\n",
              "        }\n",
              "      </script>\n",
              "    </div>\n",
              "  </div>\n",
              "  "
            ]
          },
          "metadata": {},
          "execution_count": 58
        }
      ]
    },
    {
      "cell_type": "code",
      "source": [
        "train_df, test_df = train_test_split(label_df, test_size=0.2, random_state=42)"
      ],
      "metadata": {
        "id": "DZ5Mt-szmrwS"
      },
      "execution_count": null,
      "outputs": []
    },
    {
      "cell_type": "code",
      "source": [
        "train_df.shape, test_df.shape"
      ],
      "metadata": {
        "colab": {
          "base_uri": "https://localhost:8080/"
        },
        "id": "A3wKadM3mrze",
        "outputId": "aba088c9-3f53-4e9f-84d9-f4172799c12d"
      },
      "execution_count": null,
      "outputs": [
        {
          "output_type": "execute_result",
          "data": {
            "text/plain": [
              "((1412, 4), (354, 4))"
            ]
          },
          "metadata": {},
          "execution_count": 70
        }
      ]
    },
    {
      "cell_type": "code",
      "source": [
        "train_df"
      ],
      "metadata": {
        "colab": {
          "base_uri": "https://localhost:8080/",
          "height": 676
        },
        "id": "J7p-8ooUnHiS",
        "outputId": "180be917-8843-4534-d683-916e0c83811d"
      },
      "execution_count": null,
      "outputs": [
        {
          "output_type": "execute_result",
          "data": {
            "text/plain": [
              "                                               raw_text  \\\n",
              "1320  @Sundae_Gurl Biden's first move should be to p...   \n",
              "782   @cobiscool @LilNasX Do you think joe Biden dri...   \n",
              "1128  @ProudGayPatriot Don't worry, in the sense tha...   \n",
              "199   @kclasgens @realDonaldTrump Not alone he didn'...   \n",
              "704   How Biden’s Climate Plans Will Shake Up Global...   \n",
              "...                                                 ...   \n",
              "1130  @CNBC @CNBCPro If Biden comes to power, the go...   \n",
              "1294  @KDFildesMBA We have a real President, Biden a...   \n",
              "860   What I care about at least as much, maybe more...   \n",
              "1459  Joe Biden still doesn’t realize what the voter...   \n",
              "1126  @EpochTimes @JocelynBenson So does that mean i...   \n",
              "\n",
              "                                             clean_text  subjectivity  \\\n",
              "1320  sundae gurl biden first move pardon hunter let...             0   \n",
              "782    cobiscool lilnasx think joe biden drink caprisun             0   \n",
              "1128  proudgaypatriot worry sense not getting electi...             1   \n",
              "199   kclasgens realdonaldtrump not alone right even...             1   \n",
              "704       biden climate plan shake global energy market             0   \n",
              "...                                                 ...           ...   \n",
              "1130    cnbc cnbcpro biden come power gold price return             1   \n",
              "1294  kdfildesmba real president biden vice harris e...             1   \n",
              "860   care least much maybe whether biden trump pres...             0   \n",
              "1459  joe biden still realize voter democrat lost ac...             1   \n",
              "1126  epochtimes jocelynbenson mean delete election ...             1   \n",
              "\n",
              "      polarity  \n",
              "1320         2  \n",
              "782          2  \n",
              "1128         1  \n",
              "199          1  \n",
              "704          2  \n",
              "...        ...  \n",
              "1130         1  \n",
              "1294         1  \n",
              "860          2  \n",
              "1459         0  \n",
              "1126         0  \n",
              "\n",
              "[1412 rows x 4 columns]"
            ],
            "text/html": [
              "\n",
              "  <div id=\"df-91545657-5774-493a-86e8-2d212b57c40d\">\n",
              "    <div class=\"colab-df-container\">\n",
              "      <div>\n",
              "<style scoped>\n",
              "    .dataframe tbody tr th:only-of-type {\n",
              "        vertical-align: middle;\n",
              "    }\n",
              "\n",
              "    .dataframe tbody tr th {\n",
              "        vertical-align: top;\n",
              "    }\n",
              "\n",
              "    .dataframe thead th {\n",
              "        text-align: right;\n",
              "    }\n",
              "</style>\n",
              "<table border=\"1\" class=\"dataframe\">\n",
              "  <thead>\n",
              "    <tr style=\"text-align: right;\">\n",
              "      <th></th>\n",
              "      <th>raw_text</th>\n",
              "      <th>clean_text</th>\n",
              "      <th>subjectivity</th>\n",
              "      <th>polarity</th>\n",
              "    </tr>\n",
              "  </thead>\n",
              "  <tbody>\n",
              "    <tr>\n",
              "      <th>1320</th>\n",
              "      <td>@Sundae_Gurl Biden's first move should be to p...</td>\n",
              "      <td>sundae gurl biden first move pardon hunter let...</td>\n",
              "      <td>0</td>\n",
              "      <td>2</td>\n",
              "    </tr>\n",
              "    <tr>\n",
              "      <th>782</th>\n",
              "      <td>@cobiscool @LilNasX Do you think joe Biden dri...</td>\n",
              "      <td>cobiscool lilnasx think joe biden drink caprisun</td>\n",
              "      <td>0</td>\n",
              "      <td>2</td>\n",
              "    </tr>\n",
              "    <tr>\n",
              "      <th>1128</th>\n",
              "      <td>@ProudGayPatriot Don't worry, in the sense tha...</td>\n",
              "      <td>proudgaypatriot worry sense not getting electi...</td>\n",
              "      <td>1</td>\n",
              "      <td>1</td>\n",
              "    </tr>\n",
              "    <tr>\n",
              "      <th>199</th>\n",
              "      <td>@kclasgens @realDonaldTrump Not alone he didn'...</td>\n",
              "      <td>kclasgens realdonaldtrump not alone right even...</td>\n",
              "      <td>1</td>\n",
              "      <td>1</td>\n",
              "    </tr>\n",
              "    <tr>\n",
              "      <th>704</th>\n",
              "      <td>How Biden’s Climate Plans Will Shake Up Global...</td>\n",
              "      <td>biden climate plan shake global energy market</td>\n",
              "      <td>0</td>\n",
              "      <td>2</td>\n",
              "    </tr>\n",
              "    <tr>\n",
              "      <th>...</th>\n",
              "      <td>...</td>\n",
              "      <td>...</td>\n",
              "      <td>...</td>\n",
              "      <td>...</td>\n",
              "    </tr>\n",
              "    <tr>\n",
              "      <th>1130</th>\n",
              "      <td>@CNBC @CNBCPro If Biden comes to power, the go...</td>\n",
              "      <td>cnbc cnbcpro biden come power gold price return</td>\n",
              "      <td>1</td>\n",
              "      <td>1</td>\n",
              "    </tr>\n",
              "    <tr>\n",
              "      <th>1294</th>\n",
              "      <td>@KDFildesMBA We have a real President, Biden a...</td>\n",
              "      <td>kdfildesmba real president biden vice harris e...</td>\n",
              "      <td>1</td>\n",
              "      <td>1</td>\n",
              "    </tr>\n",
              "    <tr>\n",
              "      <th>860</th>\n",
              "      <td>What I care about at least as much, maybe more...</td>\n",
              "      <td>care least much maybe whether biden trump pres...</td>\n",
              "      <td>0</td>\n",
              "      <td>2</td>\n",
              "    </tr>\n",
              "    <tr>\n",
              "      <th>1459</th>\n",
              "      <td>Joe Biden still doesn’t realize what the voter...</td>\n",
              "      <td>joe biden still realize voter democrat lost ac...</td>\n",
              "      <td>1</td>\n",
              "      <td>0</td>\n",
              "    </tr>\n",
              "    <tr>\n",
              "      <th>1126</th>\n",
              "      <td>@EpochTimes @JocelynBenson So does that mean i...</td>\n",
              "      <td>epochtimes jocelynbenson mean delete election ...</td>\n",
              "      <td>1</td>\n",
              "      <td>0</td>\n",
              "    </tr>\n",
              "  </tbody>\n",
              "</table>\n",
              "<p>1412 rows × 4 columns</p>\n",
              "</div>\n",
              "      <button class=\"colab-df-convert\" onclick=\"convertToInteractive('df-91545657-5774-493a-86e8-2d212b57c40d')\"\n",
              "              title=\"Convert this dataframe to an interactive table.\"\n",
              "              style=\"display:none;\">\n",
              "        \n",
              "  <svg xmlns=\"http://www.w3.org/2000/svg\" height=\"24px\"viewBox=\"0 0 24 24\"\n",
              "       width=\"24px\">\n",
              "    <path d=\"M0 0h24v24H0V0z\" fill=\"none\"/>\n",
              "    <path d=\"M18.56 5.44l.94 2.06.94-2.06 2.06-.94-2.06-.94-.94-2.06-.94 2.06-2.06.94zm-11 1L8.5 8.5l.94-2.06 2.06-.94-2.06-.94L8.5 2.5l-.94 2.06-2.06.94zm10 10l.94 2.06.94-2.06 2.06-.94-2.06-.94-.94-2.06-.94 2.06-2.06.94z\"/><path d=\"M17.41 7.96l-1.37-1.37c-.4-.4-.92-.59-1.43-.59-.52 0-1.04.2-1.43.59L10.3 9.45l-7.72 7.72c-.78.78-.78 2.05 0 2.83L4 21.41c.39.39.9.59 1.41.59.51 0 1.02-.2 1.41-.59l7.78-7.78 2.81-2.81c.8-.78.8-2.07 0-2.86zM5.41 20L4 18.59l7.72-7.72 1.47 1.35L5.41 20z\"/>\n",
              "  </svg>\n",
              "      </button>\n",
              "      \n",
              "  <style>\n",
              "    .colab-df-container {\n",
              "      display:flex;\n",
              "      flex-wrap:wrap;\n",
              "      gap: 12px;\n",
              "    }\n",
              "\n",
              "    .colab-df-convert {\n",
              "      background-color: #E8F0FE;\n",
              "      border: none;\n",
              "      border-radius: 50%;\n",
              "      cursor: pointer;\n",
              "      display: none;\n",
              "      fill: #1967D2;\n",
              "      height: 32px;\n",
              "      padding: 0 0 0 0;\n",
              "      width: 32px;\n",
              "    }\n",
              "\n",
              "    .colab-df-convert:hover {\n",
              "      background-color: #E2EBFA;\n",
              "      box-shadow: 0px 1px 2px rgba(60, 64, 67, 0.3), 0px 1px 3px 1px rgba(60, 64, 67, 0.15);\n",
              "      fill: #174EA6;\n",
              "    }\n",
              "\n",
              "    [theme=dark] .colab-df-convert {\n",
              "      background-color: #3B4455;\n",
              "      fill: #D2E3FC;\n",
              "    }\n",
              "\n",
              "    [theme=dark] .colab-df-convert:hover {\n",
              "      background-color: #434B5C;\n",
              "      box-shadow: 0px 1px 3px 1px rgba(0, 0, 0, 0.15);\n",
              "      filter: drop-shadow(0px 1px 2px rgba(0, 0, 0, 0.3));\n",
              "      fill: #FFFFFF;\n",
              "    }\n",
              "  </style>\n",
              "\n",
              "      <script>\n",
              "        const buttonEl =\n",
              "          document.querySelector('#df-91545657-5774-493a-86e8-2d212b57c40d button.colab-df-convert');\n",
              "        buttonEl.style.display =\n",
              "          google.colab.kernel.accessAllowed ? 'block' : 'none';\n",
              "\n",
              "        async function convertToInteractive(key) {\n",
              "          const element = document.querySelector('#df-91545657-5774-493a-86e8-2d212b57c40d');\n",
              "          const dataTable =\n",
              "            await google.colab.kernel.invokeFunction('convertToInteractive',\n",
              "                                                     [key], {});\n",
              "          if (!dataTable) return;\n",
              "\n",
              "          const docLinkHtml = 'Like what you see? Visit the ' +\n",
              "            '<a target=\"_blank\" href=https://colab.research.google.com/notebooks/data_table.ipynb>data table notebook</a>'\n",
              "            + ' to learn more about interactive tables.';\n",
              "          element.innerHTML = '';\n",
              "          dataTable['output_type'] = 'display_data';\n",
              "          await google.colab.output.renderOutput(dataTable, element);\n",
              "          const docLink = document.createElement('div');\n",
              "          docLink.innerHTML = docLinkHtml;\n",
              "          element.appendChild(docLink);\n",
              "        }\n",
              "      </script>\n",
              "    </div>\n",
              "  </div>\n",
              "  "
            ]
          },
          "metadata": {},
          "execution_count": 71
        }
      ]
    },
    {
      "cell_type": "code",
      "source": [
        "test_df"
      ],
      "metadata": {
        "colab": {
          "base_uri": "https://localhost:8080/",
          "height": 693
        },
        "id": "iqYR3qx_nHnS",
        "outputId": "8fae4138-6ac0-4aec-8a2d-fc3f6d2b61d3"
      },
      "execution_count": null,
      "outputs": [
        {
          "output_type": "execute_result",
          "data": {
            "text/plain": [
              "                                               raw_text  \\\n",
              "1560  Sidney Powell amends court filing that said Ge...   \n",
              "212   @LisaMirandoCNN @wolfblitzer What's your thoug...   \n",
              "1586  Breaking #FoxNews Alert : Joe Biden just revea...   \n",
              "836   @RWPUSA Richard, have you heard there could be...   \n",
              "1245  @LeafCavalier @AFJustinKG1 Is that a real-life...   \n",
              "...                                                 ...   \n",
              "611                 @realDonaldTrump Thank you Biden!!!   \n",
              "694   Kellyanne Conway acknowledges Biden as apparen...   \n",
              "1704  @JeffTutorials @realDonaldTrump Ah Jeff.  I ag...   \n",
              "598   CNN Exclusive: Biden says he will ask American...   \n",
              "712   @mpolletta Little known fact – that Biden’s su...   \n",
              "\n",
              "                                             clean_text  subjectivity  \\\n",
              "1560  sidney powell amends court filing said georgia...             1   \n",
              "212   lisamirandocnn wolfblitzer thought cnn jake ta...             0   \n",
              "1586  breaking foxnews alert joe biden revealed goin...             0   \n",
              "836   rwpusa richard heard could several republican ...             1   \n",
              "1245  leafcavalier afjustinkg real life question not...             1   \n",
              "...                                                 ...           ...   \n",
              "611                         realdonaldtrump thank biden             1   \n",
              "694   kellyanne conway acknowledges biden apparent w...             0   \n",
              "1704  jefftutorials realdonaldtrump ah jeff agree bi...             1   \n",
              "598   cnn exclusive biden say ask american wear mask...             0   \n",
              "712   mpolletta little known fact biden support that...             0   \n",
              "\n",
              "      polarity  \n",
              "1560         0  \n",
              "212          2  \n",
              "1586         2  \n",
              "836          0  \n",
              "1245         1  \n",
              "...        ...  \n",
              "611          1  \n",
              "694          2  \n",
              "1704         0  \n",
              "598          2  \n",
              "712          2  \n",
              "\n",
              "[354 rows x 4 columns]"
            ],
            "text/html": [
              "\n",
              "  <div id=\"df-dd340c59-46f4-41ea-8151-f7187fba0164\">\n",
              "    <div class=\"colab-df-container\">\n",
              "      <div>\n",
              "<style scoped>\n",
              "    .dataframe tbody tr th:only-of-type {\n",
              "        vertical-align: middle;\n",
              "    }\n",
              "\n",
              "    .dataframe tbody tr th {\n",
              "        vertical-align: top;\n",
              "    }\n",
              "\n",
              "    .dataframe thead th {\n",
              "        text-align: right;\n",
              "    }\n",
              "</style>\n",
              "<table border=\"1\" class=\"dataframe\">\n",
              "  <thead>\n",
              "    <tr style=\"text-align: right;\">\n",
              "      <th></th>\n",
              "      <th>raw_text</th>\n",
              "      <th>clean_text</th>\n",
              "      <th>subjectivity</th>\n",
              "      <th>polarity</th>\n",
              "    </tr>\n",
              "  </thead>\n",
              "  <tbody>\n",
              "    <tr>\n",
              "      <th>1560</th>\n",
              "      <td>Sidney Powell amends court filing that said Ge...</td>\n",
              "      <td>sidney powell amends court filing said georgia...</td>\n",
              "      <td>1</td>\n",
              "      <td>0</td>\n",
              "    </tr>\n",
              "    <tr>\n",
              "      <th>212</th>\n",
              "      <td>@LisaMirandoCNN @wolfblitzer What's your thoug...</td>\n",
              "      <td>lisamirandocnn wolfblitzer thought cnn jake ta...</td>\n",
              "      <td>0</td>\n",
              "      <td>2</td>\n",
              "    </tr>\n",
              "    <tr>\n",
              "      <th>1586</th>\n",
              "      <td>Breaking #FoxNews Alert : Joe Biden just revea...</td>\n",
              "      <td>breaking foxnews alert joe biden revealed goin...</td>\n",
              "      <td>0</td>\n",
              "      <td>2</td>\n",
              "    </tr>\n",
              "    <tr>\n",
              "      <th>836</th>\n",
              "      <td>@RWPUSA Richard, have you heard there could be...</td>\n",
              "      <td>rwpusa richard heard could several republican ...</td>\n",
              "      <td>1</td>\n",
              "      <td>0</td>\n",
              "    </tr>\n",
              "    <tr>\n",
              "      <th>1245</th>\n",
              "      <td>@LeafCavalier @AFJustinKG1 Is that a real-life...</td>\n",
              "      <td>leafcavalier afjustinkg real life question not...</td>\n",
              "      <td>1</td>\n",
              "      <td>1</td>\n",
              "    </tr>\n",
              "    <tr>\n",
              "      <th>...</th>\n",
              "      <td>...</td>\n",
              "      <td>...</td>\n",
              "      <td>...</td>\n",
              "      <td>...</td>\n",
              "    </tr>\n",
              "    <tr>\n",
              "      <th>611</th>\n",
              "      <td>@realDonaldTrump Thank you Biden!!!</td>\n",
              "      <td>realdonaldtrump thank biden</td>\n",
              "      <td>1</td>\n",
              "      <td>1</td>\n",
              "    </tr>\n",
              "    <tr>\n",
              "      <th>694</th>\n",
              "      <td>Kellyanne Conway acknowledges Biden as apparen...</td>\n",
              "      <td>kellyanne conway acknowledges biden apparent w...</td>\n",
              "      <td>0</td>\n",
              "      <td>2</td>\n",
              "    </tr>\n",
              "    <tr>\n",
              "      <th>1704</th>\n",
              "      <td>@JeffTutorials @realDonaldTrump Ah Jeff.  I ag...</td>\n",
              "      <td>jefftutorials realdonaldtrump ah jeff agree bi...</td>\n",
              "      <td>1</td>\n",
              "      <td>0</td>\n",
              "    </tr>\n",
              "    <tr>\n",
              "      <th>598</th>\n",
              "      <td>CNN Exclusive: Biden says he will ask American...</td>\n",
              "      <td>cnn exclusive biden say ask american wear mask...</td>\n",
              "      <td>0</td>\n",
              "      <td>2</td>\n",
              "    </tr>\n",
              "    <tr>\n",
              "      <th>712</th>\n",
              "      <td>@mpolletta Little known fact – that Biden’s su...</td>\n",
              "      <td>mpolletta little known fact biden support that...</td>\n",
              "      <td>0</td>\n",
              "      <td>2</td>\n",
              "    </tr>\n",
              "  </tbody>\n",
              "</table>\n",
              "<p>354 rows × 4 columns</p>\n",
              "</div>\n",
              "      <button class=\"colab-df-convert\" onclick=\"convertToInteractive('df-dd340c59-46f4-41ea-8151-f7187fba0164')\"\n",
              "              title=\"Convert this dataframe to an interactive table.\"\n",
              "              style=\"display:none;\">\n",
              "        \n",
              "  <svg xmlns=\"http://www.w3.org/2000/svg\" height=\"24px\"viewBox=\"0 0 24 24\"\n",
              "       width=\"24px\">\n",
              "    <path d=\"M0 0h24v24H0V0z\" fill=\"none\"/>\n",
              "    <path d=\"M18.56 5.44l.94 2.06.94-2.06 2.06-.94-2.06-.94-.94-2.06-.94 2.06-2.06.94zm-11 1L8.5 8.5l.94-2.06 2.06-.94-2.06-.94L8.5 2.5l-.94 2.06-2.06.94zm10 10l.94 2.06.94-2.06 2.06-.94-2.06-.94-.94-2.06-.94 2.06-2.06.94z\"/><path d=\"M17.41 7.96l-1.37-1.37c-.4-.4-.92-.59-1.43-.59-.52 0-1.04.2-1.43.59L10.3 9.45l-7.72 7.72c-.78.78-.78 2.05 0 2.83L4 21.41c.39.39.9.59 1.41.59.51 0 1.02-.2 1.41-.59l7.78-7.78 2.81-2.81c.8-.78.8-2.07 0-2.86zM5.41 20L4 18.59l7.72-7.72 1.47 1.35L5.41 20z\"/>\n",
              "  </svg>\n",
              "      </button>\n",
              "      \n",
              "  <style>\n",
              "    .colab-df-container {\n",
              "      display:flex;\n",
              "      flex-wrap:wrap;\n",
              "      gap: 12px;\n",
              "    }\n",
              "\n",
              "    .colab-df-convert {\n",
              "      background-color: #E8F0FE;\n",
              "      border: none;\n",
              "      border-radius: 50%;\n",
              "      cursor: pointer;\n",
              "      display: none;\n",
              "      fill: #1967D2;\n",
              "      height: 32px;\n",
              "      padding: 0 0 0 0;\n",
              "      width: 32px;\n",
              "    }\n",
              "\n",
              "    .colab-df-convert:hover {\n",
              "      background-color: #E2EBFA;\n",
              "      box-shadow: 0px 1px 2px rgba(60, 64, 67, 0.3), 0px 1px 3px 1px rgba(60, 64, 67, 0.15);\n",
              "      fill: #174EA6;\n",
              "    }\n",
              "\n",
              "    [theme=dark] .colab-df-convert {\n",
              "      background-color: #3B4455;\n",
              "      fill: #D2E3FC;\n",
              "    }\n",
              "\n",
              "    [theme=dark] .colab-df-convert:hover {\n",
              "      background-color: #434B5C;\n",
              "      box-shadow: 0px 1px 3px 1px rgba(0, 0, 0, 0.15);\n",
              "      filter: drop-shadow(0px 1px 2px rgba(0, 0, 0, 0.3));\n",
              "      fill: #FFFFFF;\n",
              "    }\n",
              "  </style>\n",
              "\n",
              "      <script>\n",
              "        const buttonEl =\n",
              "          document.querySelector('#df-dd340c59-46f4-41ea-8151-f7187fba0164 button.colab-df-convert');\n",
              "        buttonEl.style.display =\n",
              "          google.colab.kernel.accessAllowed ? 'block' : 'none';\n",
              "\n",
              "        async function convertToInteractive(key) {\n",
              "          const element = document.querySelector('#df-dd340c59-46f4-41ea-8151-f7187fba0164');\n",
              "          const dataTable =\n",
              "            await google.colab.kernel.invokeFunction('convertToInteractive',\n",
              "                                                     [key], {});\n",
              "          if (!dataTable) return;\n",
              "\n",
              "          const docLinkHtml = 'Like what you see? Visit the ' +\n",
              "            '<a target=\"_blank\" href=https://colab.research.google.com/notebooks/data_table.ipynb>data table notebook</a>'\n",
              "            + ' to learn more about interactive tables.';\n",
              "          element.innerHTML = '';\n",
              "          dataTable['output_type'] = 'display_data';\n",
              "          await google.colab.output.renderOutput(dataTable, element);\n",
              "          const docLink = document.createElement('div');\n",
              "          docLink.innerHTML = docLinkHtml;\n",
              "          element.appendChild(docLink);\n",
              "        }\n",
              "      </script>\n",
              "    </div>\n",
              "  </div>\n",
              "  "
            ]
          },
          "metadata": {},
          "execution_count": 72
        }
      ]
    },
    {
      "cell_type": "code",
      "source": [
        "# labeled train data\n",
        "train_label_file_name = 'biden_tweets_labeled_train.csv'\n",
        "  \n",
        "train_df.to_csv(train_label_file_name)"
      ],
      "metadata": {
        "id": "D3Cebgafm82h"
      },
      "execution_count": null,
      "outputs": []
    },
    {
      "cell_type": "code",
      "source": [
        "# labeled test data\n",
        "test_label_file_name = 'biden_tweets_labeled_test.csv'\n",
        "  \n",
        "test_df.to_csv(test_label_file_name)"
      ],
      "metadata": {
        "id": "19RbsLXhm86M"
      },
      "execution_count": null,
      "outputs": []
    }
  ]
}