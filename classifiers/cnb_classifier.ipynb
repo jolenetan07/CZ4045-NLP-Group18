{
  "nbformat": 4,
  "nbformat_minor": 0,
  "metadata": {
    "colab": {
      "provenance": [],
      "collapsed_sections": [
        "Zpv3MvD0lleh"
      ]
    },
    "kernelspec": {
      "name": "python3",
      "display_name": "Python 3"
    },
    "language_info": {
      "name": "python"
    }
  },
  "cells": [
    {
      "cell_type": "markdown",
      "source": [
        "# Sentiment Analysis with Complement Naive Bayes\n",
        "\n",
        "* python script for sentiment analysis with ComplementNB classifier"
      ],
      "metadata": {
        "id": "v65iy4IuktiZ"
      }
    },
    {
      "cell_type": "markdown",
      "source": [
        "## Install and import required libraries and packages"
      ],
      "metadata": {
        "id": "HAMDj4rXlNwc"
      }
    },
    {
      "cell_type": "code",
      "execution_count": null,
      "metadata": {
        "id": "jXK72aiCzpIv"
      },
      "outputs": [],
      "source": [
        "from google.colab import drive\n",
        "import pandas as pd\n",
        "from sklearn.feature_extraction.text import TfidfVectorizer\n",
        "import time\n",
        "from sklearn.naive_bayes import ComplementNB\n",
        "from sklearn.metrics import accuracy_score\n",
        "from sklearn.metrics import classification_report\n",
        "import pickle"
      ]
    },
    {
      "cell_type": "markdown",
      "source": [
        "## ComplementNB classifier on labeled dataset\n",
        "\n",
        "* train dataset: 80% of manually labeled data\n",
        "* test dataset: 20% of manually labeled data"
      ],
      "metadata": {
        "id": "1Sjd_i_XlXrS"
      }
    },
    {
      "cell_type": "markdown",
      "source": [
        "### Read dataset"
      ],
      "metadata": {
        "id": "Zpv3MvD0lleh"
      }
    },
    {
      "cell_type": "code",
      "source": [
        "drive.mount('/content/drive')"
      ],
      "metadata": {
        "colab": {
          "base_uri": "https://localhost:8080/"
        },
        "id": "z4CsU-kszuM7",
        "outputId": "f4ed9e20-0dcc-454e-9e10-e43e90d71c6f"
      },
      "execution_count": null,
      "outputs": [
        {
          "output_type": "stream",
          "name": "stdout",
          "text": [
            "Mounted at /content/drive\n"
          ]
        }
      ]
    },
    {
      "cell_type": "code",
      "source": [
        "# train data\n",
        "train_df = pd.read_csv('/content/drive/MyDrive/Colab Notebooks/nlp project/Sentiment Analysis/final datasets/biden_tweets_labeled_train.csv')\n",
        "\n",
        "train_df"
      ],
      "metadata": {
        "colab": {
          "base_uri": "https://localhost:8080/"
        },
        "id": "kS_DdL2lzuPZ",
        "outputId": "f704f184-09f2-4b78-90d8-27c8994b9fd9"
      },
      "execution_count": null,
      "outputs": [
        {
          "output_type": "execute_result",
          "data": {
            "text/plain": [
              "      Unnamed: 0                                           raw_text  \\\n",
              "0           1320  @Sundae_Gurl Biden's first move should be to p...   \n",
              "1            782  @cobiscool @LilNasX Do you think joe Biden dri...   \n",
              "2           1128  @ProudGayPatriot Don't worry, in the sense tha...   \n",
              "3            199  @kclasgens @realDonaldTrump Not alone he didn'...   \n",
              "4            704  How Biden’s Climate Plans Will Shake Up Global...   \n",
              "...          ...                                                ...   \n",
              "1407        1130  @CNBC @CNBCPro If Biden comes to power, the go...   \n",
              "1408        1294  @KDFildesMBA We have a real President, Biden a...   \n",
              "1409         860  What I care about at least as much, maybe more...   \n",
              "1410        1459  Joe Biden still doesn’t realize what the voter...   \n",
              "1411        1126  @EpochTimes @JocelynBenson So does that mean i...   \n",
              "\n",
              "                                             clean_text  subjectivity  \\\n",
              "0     sundae gurl biden first move pardon hunter let...             0   \n",
              "1      cobiscool lilnasx think joe biden drink caprisun             0   \n",
              "2     proudgaypatriot worry sense not getting electi...             1   \n",
              "3     kclasgens realdonaldtrump not alone right even...             1   \n",
              "4         biden climate plan shake global energy market             0   \n",
              "...                                                 ...           ...   \n",
              "1407    cnbc cnbcpro biden come power gold price return             1   \n",
              "1408  kdfildesmba real president biden vice harris e...             1   \n",
              "1409  care least much maybe whether biden trump pres...             0   \n",
              "1410  joe biden still realize voter democrat lost ac...             1   \n",
              "1411  epochtimes jocelynbenson mean delete election ...             1   \n",
              "\n",
              "      polarity  \n",
              "0            2  \n",
              "1            2  \n",
              "2            1  \n",
              "3            1  \n",
              "4            2  \n",
              "...        ...  \n",
              "1407         1  \n",
              "1408         1  \n",
              "1409         2  \n",
              "1410         0  \n",
              "1411         0  \n",
              "\n",
              "[1412 rows x 5 columns]"
            ],
            "text/html": [
              "\n",
              "  <div id=\"df-aa64d329-7d63-481c-b9e9-7686a79cef77\">\n",
              "    <div class=\"colab-df-container\">\n",
              "      <div>\n",
              "<style scoped>\n",
              "    .dataframe tbody tr th:only-of-type {\n",
              "        vertical-align: middle;\n",
              "    }\n",
              "\n",
              "    .dataframe tbody tr th {\n",
              "        vertical-align: top;\n",
              "    }\n",
              "\n",
              "    .dataframe thead th {\n",
              "        text-align: right;\n",
              "    }\n",
              "</style>\n",
              "<table border=\"1\" class=\"dataframe\">\n",
              "  <thead>\n",
              "    <tr style=\"text-align: right;\">\n",
              "      <th></th>\n",
              "      <th>Unnamed: 0</th>\n",
              "      <th>raw_text</th>\n",
              "      <th>clean_text</th>\n",
              "      <th>subjectivity</th>\n",
              "      <th>polarity</th>\n",
              "    </tr>\n",
              "  </thead>\n",
              "  <tbody>\n",
              "    <tr>\n",
              "      <th>0</th>\n",
              "      <td>1320</td>\n",
              "      <td>@Sundae_Gurl Biden's first move should be to p...</td>\n",
              "      <td>sundae gurl biden first move pardon hunter let...</td>\n",
              "      <td>0</td>\n",
              "      <td>2</td>\n",
              "    </tr>\n",
              "    <tr>\n",
              "      <th>1</th>\n",
              "      <td>782</td>\n",
              "      <td>@cobiscool @LilNasX Do you think joe Biden dri...</td>\n",
              "      <td>cobiscool lilnasx think joe biden drink caprisun</td>\n",
              "      <td>0</td>\n",
              "      <td>2</td>\n",
              "    </tr>\n",
              "    <tr>\n",
              "      <th>2</th>\n",
              "      <td>1128</td>\n",
              "      <td>@ProudGayPatriot Don't worry, in the sense tha...</td>\n",
              "      <td>proudgaypatriot worry sense not getting electi...</td>\n",
              "      <td>1</td>\n",
              "      <td>1</td>\n",
              "    </tr>\n",
              "    <tr>\n",
              "      <th>3</th>\n",
              "      <td>199</td>\n",
              "      <td>@kclasgens @realDonaldTrump Not alone he didn'...</td>\n",
              "      <td>kclasgens realdonaldtrump not alone right even...</td>\n",
              "      <td>1</td>\n",
              "      <td>1</td>\n",
              "    </tr>\n",
              "    <tr>\n",
              "      <th>4</th>\n",
              "      <td>704</td>\n",
              "      <td>How Biden’s Climate Plans Will Shake Up Global...</td>\n",
              "      <td>biden climate plan shake global energy market</td>\n",
              "      <td>0</td>\n",
              "      <td>2</td>\n",
              "    </tr>\n",
              "    <tr>\n",
              "      <th>...</th>\n",
              "      <td>...</td>\n",
              "      <td>...</td>\n",
              "      <td>...</td>\n",
              "      <td>...</td>\n",
              "      <td>...</td>\n",
              "    </tr>\n",
              "    <tr>\n",
              "      <th>1407</th>\n",
              "      <td>1130</td>\n",
              "      <td>@CNBC @CNBCPro If Biden comes to power, the go...</td>\n",
              "      <td>cnbc cnbcpro biden come power gold price return</td>\n",
              "      <td>1</td>\n",
              "      <td>1</td>\n",
              "    </tr>\n",
              "    <tr>\n",
              "      <th>1408</th>\n",
              "      <td>1294</td>\n",
              "      <td>@KDFildesMBA We have a real President, Biden a...</td>\n",
              "      <td>kdfildesmba real president biden vice harris e...</td>\n",
              "      <td>1</td>\n",
              "      <td>1</td>\n",
              "    </tr>\n",
              "    <tr>\n",
              "      <th>1409</th>\n",
              "      <td>860</td>\n",
              "      <td>What I care about at least as much, maybe more...</td>\n",
              "      <td>care least much maybe whether biden trump pres...</td>\n",
              "      <td>0</td>\n",
              "      <td>2</td>\n",
              "    </tr>\n",
              "    <tr>\n",
              "      <th>1410</th>\n",
              "      <td>1459</td>\n",
              "      <td>Joe Biden still doesn’t realize what the voter...</td>\n",
              "      <td>joe biden still realize voter democrat lost ac...</td>\n",
              "      <td>1</td>\n",
              "      <td>0</td>\n",
              "    </tr>\n",
              "    <tr>\n",
              "      <th>1411</th>\n",
              "      <td>1126</td>\n",
              "      <td>@EpochTimes @JocelynBenson So does that mean i...</td>\n",
              "      <td>epochtimes jocelynbenson mean delete election ...</td>\n",
              "      <td>1</td>\n",
              "      <td>0</td>\n",
              "    </tr>\n",
              "  </tbody>\n",
              "</table>\n",
              "<p>1412 rows × 5 columns</p>\n",
              "</div>\n",
              "      <button class=\"colab-df-convert\" onclick=\"convertToInteractive('df-aa64d329-7d63-481c-b9e9-7686a79cef77')\"\n",
              "              title=\"Convert this dataframe to an interactive table.\"\n",
              "              style=\"display:none;\">\n",
              "        \n",
              "  <svg xmlns=\"http://www.w3.org/2000/svg\" height=\"24px\"viewBox=\"0 0 24 24\"\n",
              "       width=\"24px\">\n",
              "    <path d=\"M0 0h24v24H0V0z\" fill=\"none\"/>\n",
              "    <path d=\"M18.56 5.44l.94 2.06.94-2.06 2.06-.94-2.06-.94-.94-2.06-.94 2.06-2.06.94zm-11 1L8.5 8.5l.94-2.06 2.06-.94-2.06-.94L8.5 2.5l-.94 2.06-2.06.94zm10 10l.94 2.06.94-2.06 2.06-.94-2.06-.94-.94-2.06-.94 2.06-2.06.94z\"/><path d=\"M17.41 7.96l-1.37-1.37c-.4-.4-.92-.59-1.43-.59-.52 0-1.04.2-1.43.59L10.3 9.45l-7.72 7.72c-.78.78-.78 2.05 0 2.83L4 21.41c.39.39.9.59 1.41.59.51 0 1.02-.2 1.41-.59l7.78-7.78 2.81-2.81c.8-.78.8-2.07 0-2.86zM5.41 20L4 18.59l7.72-7.72 1.47 1.35L5.41 20z\"/>\n",
              "  </svg>\n",
              "      </button>\n",
              "      \n",
              "  <style>\n",
              "    .colab-df-container {\n",
              "      display:flex;\n",
              "      flex-wrap:wrap;\n",
              "      gap: 12px;\n",
              "    }\n",
              "\n",
              "    .colab-df-convert {\n",
              "      background-color: #E8F0FE;\n",
              "      border: none;\n",
              "      border-radius: 50%;\n",
              "      cursor: pointer;\n",
              "      display: none;\n",
              "      fill: #1967D2;\n",
              "      height: 32px;\n",
              "      padding: 0 0 0 0;\n",
              "      width: 32px;\n",
              "    }\n",
              "\n",
              "    .colab-df-convert:hover {\n",
              "      background-color: #E2EBFA;\n",
              "      box-shadow: 0px 1px 2px rgba(60, 64, 67, 0.3), 0px 1px 3px 1px rgba(60, 64, 67, 0.15);\n",
              "      fill: #174EA6;\n",
              "    }\n",
              "\n",
              "    [theme=dark] .colab-df-convert {\n",
              "      background-color: #3B4455;\n",
              "      fill: #D2E3FC;\n",
              "    }\n",
              "\n",
              "    [theme=dark] .colab-df-convert:hover {\n",
              "      background-color: #434B5C;\n",
              "      box-shadow: 0px 1px 3px 1px rgba(0, 0, 0, 0.15);\n",
              "      filter: drop-shadow(0px 1px 2px rgba(0, 0, 0, 0.3));\n",
              "      fill: #FFFFFF;\n",
              "    }\n",
              "  </style>\n",
              "\n",
              "      <script>\n",
              "        const buttonEl =\n",
              "          document.querySelector('#df-aa64d329-7d63-481c-b9e9-7686a79cef77 button.colab-df-convert');\n",
              "        buttonEl.style.display =\n",
              "          google.colab.kernel.accessAllowed ? 'block' : 'none';\n",
              "\n",
              "        async function convertToInteractive(key) {\n",
              "          const element = document.querySelector('#df-aa64d329-7d63-481c-b9e9-7686a79cef77');\n",
              "          const dataTable =\n",
              "            await google.colab.kernel.invokeFunction('convertToInteractive',\n",
              "                                                     [key], {});\n",
              "          if (!dataTable) return;\n",
              "\n",
              "          const docLinkHtml = 'Like what you see? Visit the ' +\n",
              "            '<a target=\"_blank\" href=https://colab.research.google.com/notebooks/data_table.ipynb>data table notebook</a>'\n",
              "            + ' to learn more about interactive tables.';\n",
              "          element.innerHTML = '';\n",
              "          dataTable['output_type'] = 'display_data';\n",
              "          await google.colab.output.renderOutput(dataTable, element);\n",
              "          const docLink = document.createElement('div');\n",
              "          docLink.innerHTML = docLinkHtml;\n",
              "          element.appendChild(docLink);\n",
              "        }\n",
              "      </script>\n",
              "    </div>\n",
              "  </div>\n",
              "  "
            ]
          },
          "metadata": {},
          "execution_count": 3
        }
      ]
    },
    {
      "cell_type": "code",
      "source": [
        "train_df.columns"
      ],
      "metadata": {
        "colab": {
          "base_uri": "https://localhost:8080/"
        },
        "id": "eTrDPhwqzuRh",
        "outputId": "76db0808-eae8-45f7-ae72-bc402b18bdfc"
      },
      "execution_count": null,
      "outputs": [
        {
          "output_type": "execute_result",
          "data": {
            "text/plain": [
              "Index(['Unnamed: 0', 'raw_text', 'clean_text', 'subjectivity', 'polarity'], dtype='object')"
            ]
          },
          "metadata": {},
          "execution_count": 4
        }
      ]
    },
    {
      "cell_type": "code",
      "source": [
        "train_df = train_df.drop('Unnamed: 0', axis=1)\n",
        "\n",
        "train_df"
      ],
      "metadata": {
        "colab": {
          "base_uri": "https://localhost:8080/"
        },
        "id": "BM3wUbBIzuVn",
        "outputId": "0ed0c5ac-f291-4f9e-c11a-cd9f035c71d7"
      },
      "execution_count": null,
      "outputs": [
        {
          "output_type": "execute_result",
          "data": {
            "text/plain": [
              "                                               raw_text  \\\n",
              "0     @Sundae_Gurl Biden's first move should be to p...   \n",
              "1     @cobiscool @LilNasX Do you think joe Biden dri...   \n",
              "2     @ProudGayPatriot Don't worry, in the sense tha...   \n",
              "3     @kclasgens @realDonaldTrump Not alone he didn'...   \n",
              "4     How Biden’s Climate Plans Will Shake Up Global...   \n",
              "...                                                 ...   \n",
              "1407  @CNBC @CNBCPro If Biden comes to power, the go...   \n",
              "1408  @KDFildesMBA We have a real President, Biden a...   \n",
              "1409  What I care about at least as much, maybe more...   \n",
              "1410  Joe Biden still doesn’t realize what the voter...   \n",
              "1411  @EpochTimes @JocelynBenson So does that mean i...   \n",
              "\n",
              "                                             clean_text  subjectivity  \\\n",
              "0     sundae gurl biden first move pardon hunter let...             0   \n",
              "1      cobiscool lilnasx think joe biden drink caprisun             0   \n",
              "2     proudgaypatriot worry sense not getting electi...             1   \n",
              "3     kclasgens realdonaldtrump not alone right even...             1   \n",
              "4         biden climate plan shake global energy market             0   \n",
              "...                                                 ...           ...   \n",
              "1407    cnbc cnbcpro biden come power gold price return             1   \n",
              "1408  kdfildesmba real president biden vice harris e...             1   \n",
              "1409  care least much maybe whether biden trump pres...             0   \n",
              "1410  joe biden still realize voter democrat lost ac...             1   \n",
              "1411  epochtimes jocelynbenson mean delete election ...             1   \n",
              "\n",
              "      polarity  \n",
              "0            2  \n",
              "1            2  \n",
              "2            1  \n",
              "3            1  \n",
              "4            2  \n",
              "...        ...  \n",
              "1407         1  \n",
              "1408         1  \n",
              "1409         2  \n",
              "1410         0  \n",
              "1411         0  \n",
              "\n",
              "[1412 rows x 4 columns]"
            ],
            "text/html": [
              "\n",
              "  <div id=\"df-94f7b3cf-c457-4361-b897-9f4001d05550\">\n",
              "    <div class=\"colab-df-container\">\n",
              "      <div>\n",
              "<style scoped>\n",
              "    .dataframe tbody tr th:only-of-type {\n",
              "        vertical-align: middle;\n",
              "    }\n",
              "\n",
              "    .dataframe tbody tr th {\n",
              "        vertical-align: top;\n",
              "    }\n",
              "\n",
              "    .dataframe thead th {\n",
              "        text-align: right;\n",
              "    }\n",
              "</style>\n",
              "<table border=\"1\" class=\"dataframe\">\n",
              "  <thead>\n",
              "    <tr style=\"text-align: right;\">\n",
              "      <th></th>\n",
              "      <th>raw_text</th>\n",
              "      <th>clean_text</th>\n",
              "      <th>subjectivity</th>\n",
              "      <th>polarity</th>\n",
              "    </tr>\n",
              "  </thead>\n",
              "  <tbody>\n",
              "    <tr>\n",
              "      <th>0</th>\n",
              "      <td>@Sundae_Gurl Biden's first move should be to p...</td>\n",
              "      <td>sundae gurl biden first move pardon hunter let...</td>\n",
              "      <td>0</td>\n",
              "      <td>2</td>\n",
              "    </tr>\n",
              "    <tr>\n",
              "      <th>1</th>\n",
              "      <td>@cobiscool @LilNasX Do you think joe Biden dri...</td>\n",
              "      <td>cobiscool lilnasx think joe biden drink caprisun</td>\n",
              "      <td>0</td>\n",
              "      <td>2</td>\n",
              "    </tr>\n",
              "    <tr>\n",
              "      <th>2</th>\n",
              "      <td>@ProudGayPatriot Don't worry, in the sense tha...</td>\n",
              "      <td>proudgaypatriot worry sense not getting electi...</td>\n",
              "      <td>1</td>\n",
              "      <td>1</td>\n",
              "    </tr>\n",
              "    <tr>\n",
              "      <th>3</th>\n",
              "      <td>@kclasgens @realDonaldTrump Not alone he didn'...</td>\n",
              "      <td>kclasgens realdonaldtrump not alone right even...</td>\n",
              "      <td>1</td>\n",
              "      <td>1</td>\n",
              "    </tr>\n",
              "    <tr>\n",
              "      <th>4</th>\n",
              "      <td>How Biden’s Climate Plans Will Shake Up Global...</td>\n",
              "      <td>biden climate plan shake global energy market</td>\n",
              "      <td>0</td>\n",
              "      <td>2</td>\n",
              "    </tr>\n",
              "    <tr>\n",
              "      <th>...</th>\n",
              "      <td>...</td>\n",
              "      <td>...</td>\n",
              "      <td>...</td>\n",
              "      <td>...</td>\n",
              "    </tr>\n",
              "    <tr>\n",
              "      <th>1407</th>\n",
              "      <td>@CNBC @CNBCPro If Biden comes to power, the go...</td>\n",
              "      <td>cnbc cnbcpro biden come power gold price return</td>\n",
              "      <td>1</td>\n",
              "      <td>1</td>\n",
              "    </tr>\n",
              "    <tr>\n",
              "      <th>1408</th>\n",
              "      <td>@KDFildesMBA We have a real President, Biden a...</td>\n",
              "      <td>kdfildesmba real president biden vice harris e...</td>\n",
              "      <td>1</td>\n",
              "      <td>1</td>\n",
              "    </tr>\n",
              "    <tr>\n",
              "      <th>1409</th>\n",
              "      <td>What I care about at least as much, maybe more...</td>\n",
              "      <td>care least much maybe whether biden trump pres...</td>\n",
              "      <td>0</td>\n",
              "      <td>2</td>\n",
              "    </tr>\n",
              "    <tr>\n",
              "      <th>1410</th>\n",
              "      <td>Joe Biden still doesn’t realize what the voter...</td>\n",
              "      <td>joe biden still realize voter democrat lost ac...</td>\n",
              "      <td>1</td>\n",
              "      <td>0</td>\n",
              "    </tr>\n",
              "    <tr>\n",
              "      <th>1411</th>\n",
              "      <td>@EpochTimes @JocelynBenson So does that mean i...</td>\n",
              "      <td>epochtimes jocelynbenson mean delete election ...</td>\n",
              "      <td>1</td>\n",
              "      <td>0</td>\n",
              "    </tr>\n",
              "  </tbody>\n",
              "</table>\n",
              "<p>1412 rows × 4 columns</p>\n",
              "</div>\n",
              "      <button class=\"colab-df-convert\" onclick=\"convertToInteractive('df-94f7b3cf-c457-4361-b897-9f4001d05550')\"\n",
              "              title=\"Convert this dataframe to an interactive table.\"\n",
              "              style=\"display:none;\">\n",
              "        \n",
              "  <svg xmlns=\"http://www.w3.org/2000/svg\" height=\"24px\"viewBox=\"0 0 24 24\"\n",
              "       width=\"24px\">\n",
              "    <path d=\"M0 0h24v24H0V0z\" fill=\"none\"/>\n",
              "    <path d=\"M18.56 5.44l.94 2.06.94-2.06 2.06-.94-2.06-.94-.94-2.06-.94 2.06-2.06.94zm-11 1L8.5 8.5l.94-2.06 2.06-.94-2.06-.94L8.5 2.5l-.94 2.06-2.06.94zm10 10l.94 2.06.94-2.06 2.06-.94-2.06-.94-.94-2.06-.94 2.06-2.06.94z\"/><path d=\"M17.41 7.96l-1.37-1.37c-.4-.4-.92-.59-1.43-.59-.52 0-1.04.2-1.43.59L10.3 9.45l-7.72 7.72c-.78.78-.78 2.05 0 2.83L4 21.41c.39.39.9.59 1.41.59.51 0 1.02-.2 1.41-.59l7.78-7.78 2.81-2.81c.8-.78.8-2.07 0-2.86zM5.41 20L4 18.59l7.72-7.72 1.47 1.35L5.41 20z\"/>\n",
              "  </svg>\n",
              "      </button>\n",
              "      \n",
              "  <style>\n",
              "    .colab-df-container {\n",
              "      display:flex;\n",
              "      flex-wrap:wrap;\n",
              "      gap: 12px;\n",
              "    }\n",
              "\n",
              "    .colab-df-convert {\n",
              "      background-color: #E8F0FE;\n",
              "      border: none;\n",
              "      border-radius: 50%;\n",
              "      cursor: pointer;\n",
              "      display: none;\n",
              "      fill: #1967D2;\n",
              "      height: 32px;\n",
              "      padding: 0 0 0 0;\n",
              "      width: 32px;\n",
              "    }\n",
              "\n",
              "    .colab-df-convert:hover {\n",
              "      background-color: #E2EBFA;\n",
              "      box-shadow: 0px 1px 2px rgba(60, 64, 67, 0.3), 0px 1px 3px 1px rgba(60, 64, 67, 0.15);\n",
              "      fill: #174EA6;\n",
              "    }\n",
              "\n",
              "    [theme=dark] .colab-df-convert {\n",
              "      background-color: #3B4455;\n",
              "      fill: #D2E3FC;\n",
              "    }\n",
              "\n",
              "    [theme=dark] .colab-df-convert:hover {\n",
              "      background-color: #434B5C;\n",
              "      box-shadow: 0px 1px 3px 1px rgba(0, 0, 0, 0.15);\n",
              "      filter: drop-shadow(0px 1px 2px rgba(0, 0, 0, 0.3));\n",
              "      fill: #FFFFFF;\n",
              "    }\n",
              "  </style>\n",
              "\n",
              "      <script>\n",
              "        const buttonEl =\n",
              "          document.querySelector('#df-94f7b3cf-c457-4361-b897-9f4001d05550 button.colab-df-convert');\n",
              "        buttonEl.style.display =\n",
              "          google.colab.kernel.accessAllowed ? 'block' : 'none';\n",
              "\n",
              "        async function convertToInteractive(key) {\n",
              "          const element = document.querySelector('#df-94f7b3cf-c457-4361-b897-9f4001d05550');\n",
              "          const dataTable =\n",
              "            await google.colab.kernel.invokeFunction('convertToInteractive',\n",
              "                                                     [key], {});\n",
              "          if (!dataTable) return;\n",
              "\n",
              "          const docLinkHtml = 'Like what you see? Visit the ' +\n",
              "            '<a target=\"_blank\" href=https://colab.research.google.com/notebooks/data_table.ipynb>data table notebook</a>'\n",
              "            + ' to learn more about interactive tables.';\n",
              "          element.innerHTML = '';\n",
              "          dataTable['output_type'] = 'display_data';\n",
              "          await google.colab.output.renderOutput(dataTable, element);\n",
              "          const docLink = document.createElement('div');\n",
              "          docLink.innerHTML = docLinkHtml;\n",
              "          element.appendChild(docLink);\n",
              "        }\n",
              "      </script>\n",
              "    </div>\n",
              "  </div>\n",
              "  "
            ]
          },
          "metadata": {},
          "execution_count": 5
        }
      ]
    },
    {
      "cell_type": "code",
      "source": [
        "# test data\n",
        "test_df = pd.read_csv('/content/drive/MyDrive/Colab Notebooks/nlp project/Sentiment Analysis/final datasets/biden_tweets_labeled_test.csv')\n",
        "\n",
        "test_df"
      ],
      "metadata": {
        "colab": {
          "base_uri": "https://localhost:8080/"
        },
        "id": "f6167v7YzuYF",
        "outputId": "017303d0-fd2d-4825-8c58-18776e2b9e83"
      },
      "execution_count": null,
      "outputs": [
        {
          "output_type": "execute_result",
          "data": {
            "text/plain": [
              "     Unnamed: 0                                           raw_text  \\\n",
              "0             0  Sidney Powell amends court filing that said Ge...   \n",
              "1             1  @LisaMirandoCNN @wolfblitzer What's your thoug...   \n",
              "2             2  Breaking #FoxNews Alert : Joe Biden just revea...   \n",
              "3             3  @RWPUSA Richard, have you heard there could be...   \n",
              "4             4  @LeafCavalier @AFJustinKG1 Is that a real-life...   \n",
              "..          ...                                                ...   \n",
              "349         349                @realDonaldTrump Thank you Biden!!!   \n",
              "350         350  Kellyanne Conway acknowledges Biden as apparen...   \n",
              "351         351  @JeffTutorials @realDonaldTrump Ah Jeff.  I ag...   \n",
              "352         352  CNN Exclusive: Biden says he will ask American...   \n",
              "353         353  @mpolletta Little known fact – that Biden’s su...   \n",
              "\n",
              "                                            clean_text  subjectivity  polarity  \n",
              "0    sidney powell amends court filing said georgia...             1         1  \n",
              "1    lisamirandocnn wolfblitzer thought cnn jake ta...             0         2  \n",
              "2    breaking foxnews alert joe biden revealed goin...             0         2  \n",
              "3    rwpusa richard heard could several republican ...             1         0  \n",
              "4    leafcavalier afjustinkg real life question not...             1         0  \n",
              "..                                                 ...           ...       ...  \n",
              "349                        realdonaldtrump thank biden             1         1  \n",
              "350  kellyanne conway acknowledges biden apparent w...             0         2  \n",
              "351  jefftutorials realdonaldtrump ah jeff agree bi...             1         0  \n",
              "352  cnn exclusive biden say ask american wear mask...             0         2  \n",
              "353  mpolletta little known fact biden support that...             0         2  \n",
              "\n",
              "[354 rows x 5 columns]"
            ],
            "text/html": [
              "\n",
              "  <div id=\"df-3b280db7-3383-4107-af4e-1fcd711e2371\">\n",
              "    <div class=\"colab-df-container\">\n",
              "      <div>\n",
              "<style scoped>\n",
              "    .dataframe tbody tr th:only-of-type {\n",
              "        vertical-align: middle;\n",
              "    }\n",
              "\n",
              "    .dataframe tbody tr th {\n",
              "        vertical-align: top;\n",
              "    }\n",
              "\n",
              "    .dataframe thead th {\n",
              "        text-align: right;\n",
              "    }\n",
              "</style>\n",
              "<table border=\"1\" class=\"dataframe\">\n",
              "  <thead>\n",
              "    <tr style=\"text-align: right;\">\n",
              "      <th></th>\n",
              "      <th>Unnamed: 0</th>\n",
              "      <th>raw_text</th>\n",
              "      <th>clean_text</th>\n",
              "      <th>subjectivity</th>\n",
              "      <th>polarity</th>\n",
              "    </tr>\n",
              "  </thead>\n",
              "  <tbody>\n",
              "    <tr>\n",
              "      <th>0</th>\n",
              "      <td>0</td>\n",
              "      <td>Sidney Powell amends court filing that said Ge...</td>\n",
              "      <td>sidney powell amends court filing said georgia...</td>\n",
              "      <td>1</td>\n",
              "      <td>1</td>\n",
              "    </tr>\n",
              "    <tr>\n",
              "      <th>1</th>\n",
              "      <td>1</td>\n",
              "      <td>@LisaMirandoCNN @wolfblitzer What's your thoug...</td>\n",
              "      <td>lisamirandocnn wolfblitzer thought cnn jake ta...</td>\n",
              "      <td>0</td>\n",
              "      <td>2</td>\n",
              "    </tr>\n",
              "    <tr>\n",
              "      <th>2</th>\n",
              "      <td>2</td>\n",
              "      <td>Breaking #FoxNews Alert : Joe Biden just revea...</td>\n",
              "      <td>breaking foxnews alert joe biden revealed goin...</td>\n",
              "      <td>0</td>\n",
              "      <td>2</td>\n",
              "    </tr>\n",
              "    <tr>\n",
              "      <th>3</th>\n",
              "      <td>3</td>\n",
              "      <td>@RWPUSA Richard, have you heard there could be...</td>\n",
              "      <td>rwpusa richard heard could several republican ...</td>\n",
              "      <td>1</td>\n",
              "      <td>0</td>\n",
              "    </tr>\n",
              "    <tr>\n",
              "      <th>4</th>\n",
              "      <td>4</td>\n",
              "      <td>@LeafCavalier @AFJustinKG1 Is that a real-life...</td>\n",
              "      <td>leafcavalier afjustinkg real life question not...</td>\n",
              "      <td>1</td>\n",
              "      <td>0</td>\n",
              "    </tr>\n",
              "    <tr>\n",
              "      <th>...</th>\n",
              "      <td>...</td>\n",
              "      <td>...</td>\n",
              "      <td>...</td>\n",
              "      <td>...</td>\n",
              "      <td>...</td>\n",
              "    </tr>\n",
              "    <tr>\n",
              "      <th>349</th>\n",
              "      <td>349</td>\n",
              "      <td>@realDonaldTrump Thank you Biden!!!</td>\n",
              "      <td>realdonaldtrump thank biden</td>\n",
              "      <td>1</td>\n",
              "      <td>1</td>\n",
              "    </tr>\n",
              "    <tr>\n",
              "      <th>350</th>\n",
              "      <td>350</td>\n",
              "      <td>Kellyanne Conway acknowledges Biden as apparen...</td>\n",
              "      <td>kellyanne conway acknowledges biden apparent w...</td>\n",
              "      <td>0</td>\n",
              "      <td>2</td>\n",
              "    </tr>\n",
              "    <tr>\n",
              "      <th>351</th>\n",
              "      <td>351</td>\n",
              "      <td>@JeffTutorials @realDonaldTrump Ah Jeff.  I ag...</td>\n",
              "      <td>jefftutorials realdonaldtrump ah jeff agree bi...</td>\n",
              "      <td>1</td>\n",
              "      <td>0</td>\n",
              "    </tr>\n",
              "    <tr>\n",
              "      <th>352</th>\n",
              "      <td>352</td>\n",
              "      <td>CNN Exclusive: Biden says he will ask American...</td>\n",
              "      <td>cnn exclusive biden say ask american wear mask...</td>\n",
              "      <td>0</td>\n",
              "      <td>2</td>\n",
              "    </tr>\n",
              "    <tr>\n",
              "      <th>353</th>\n",
              "      <td>353</td>\n",
              "      <td>@mpolletta Little known fact – that Biden’s su...</td>\n",
              "      <td>mpolletta little known fact biden support that...</td>\n",
              "      <td>0</td>\n",
              "      <td>2</td>\n",
              "    </tr>\n",
              "  </tbody>\n",
              "</table>\n",
              "<p>354 rows × 5 columns</p>\n",
              "</div>\n",
              "      <button class=\"colab-df-convert\" onclick=\"convertToInteractive('df-3b280db7-3383-4107-af4e-1fcd711e2371')\"\n",
              "              title=\"Convert this dataframe to an interactive table.\"\n",
              "              style=\"display:none;\">\n",
              "        \n",
              "  <svg xmlns=\"http://www.w3.org/2000/svg\" height=\"24px\"viewBox=\"0 0 24 24\"\n",
              "       width=\"24px\">\n",
              "    <path d=\"M0 0h24v24H0V0z\" fill=\"none\"/>\n",
              "    <path d=\"M18.56 5.44l.94 2.06.94-2.06 2.06-.94-2.06-.94-.94-2.06-.94 2.06-2.06.94zm-11 1L8.5 8.5l.94-2.06 2.06-.94-2.06-.94L8.5 2.5l-.94 2.06-2.06.94zm10 10l.94 2.06.94-2.06 2.06-.94-2.06-.94-.94-2.06-.94 2.06-2.06.94z\"/><path d=\"M17.41 7.96l-1.37-1.37c-.4-.4-.92-.59-1.43-.59-.52 0-1.04.2-1.43.59L10.3 9.45l-7.72 7.72c-.78.78-.78 2.05 0 2.83L4 21.41c.39.39.9.59 1.41.59.51 0 1.02-.2 1.41-.59l7.78-7.78 2.81-2.81c.8-.78.8-2.07 0-2.86zM5.41 20L4 18.59l7.72-7.72 1.47 1.35L5.41 20z\"/>\n",
              "  </svg>\n",
              "      </button>\n",
              "      \n",
              "  <style>\n",
              "    .colab-df-container {\n",
              "      display:flex;\n",
              "      flex-wrap:wrap;\n",
              "      gap: 12px;\n",
              "    }\n",
              "\n",
              "    .colab-df-convert {\n",
              "      background-color: #E8F0FE;\n",
              "      border: none;\n",
              "      border-radius: 50%;\n",
              "      cursor: pointer;\n",
              "      display: none;\n",
              "      fill: #1967D2;\n",
              "      height: 32px;\n",
              "      padding: 0 0 0 0;\n",
              "      width: 32px;\n",
              "    }\n",
              "\n",
              "    .colab-df-convert:hover {\n",
              "      background-color: #E2EBFA;\n",
              "      box-shadow: 0px 1px 2px rgba(60, 64, 67, 0.3), 0px 1px 3px 1px rgba(60, 64, 67, 0.15);\n",
              "      fill: #174EA6;\n",
              "    }\n",
              "\n",
              "    [theme=dark] .colab-df-convert {\n",
              "      background-color: #3B4455;\n",
              "      fill: #D2E3FC;\n",
              "    }\n",
              "\n",
              "    [theme=dark] .colab-df-convert:hover {\n",
              "      background-color: #434B5C;\n",
              "      box-shadow: 0px 1px 3px 1px rgba(0, 0, 0, 0.15);\n",
              "      filter: drop-shadow(0px 1px 2px rgba(0, 0, 0, 0.3));\n",
              "      fill: #FFFFFF;\n",
              "    }\n",
              "  </style>\n",
              "\n",
              "      <script>\n",
              "        const buttonEl =\n",
              "          document.querySelector('#df-3b280db7-3383-4107-af4e-1fcd711e2371 button.colab-df-convert');\n",
              "        buttonEl.style.display =\n",
              "          google.colab.kernel.accessAllowed ? 'block' : 'none';\n",
              "\n",
              "        async function convertToInteractive(key) {\n",
              "          const element = document.querySelector('#df-3b280db7-3383-4107-af4e-1fcd711e2371');\n",
              "          const dataTable =\n",
              "            await google.colab.kernel.invokeFunction('convertToInteractive',\n",
              "                                                     [key], {});\n",
              "          if (!dataTable) return;\n",
              "\n",
              "          const docLinkHtml = 'Like what you see? Visit the ' +\n",
              "            '<a target=\"_blank\" href=https://colab.research.google.com/notebooks/data_table.ipynb>data table notebook</a>'\n",
              "            + ' to learn more about interactive tables.';\n",
              "          element.innerHTML = '';\n",
              "          dataTable['output_type'] = 'display_data';\n",
              "          await google.colab.output.renderOutput(dataTable, element);\n",
              "          const docLink = document.createElement('div');\n",
              "          docLink.innerHTML = docLinkHtml;\n",
              "          element.appendChild(docLink);\n",
              "        }\n",
              "      </script>\n",
              "    </div>\n",
              "  </div>\n",
              "  "
            ]
          },
          "metadata": {},
          "execution_count": 6
        }
      ]
    },
    {
      "cell_type": "code",
      "source": [
        "test_df.columns"
      ],
      "metadata": {
        "colab": {
          "base_uri": "https://localhost:8080/"
        },
        "id": "ne2m2gR-z1wV",
        "outputId": "be15a2c6-135c-4f55-9ac3-cf3d3d29148f"
      },
      "execution_count": null,
      "outputs": [
        {
          "output_type": "execute_result",
          "data": {
            "text/plain": [
              "Index(['Unnamed: 0', 'raw_text', 'clean_text', 'subjectivity', 'polarity'], dtype='object')"
            ]
          },
          "metadata": {},
          "execution_count": 7
        }
      ]
    },
    {
      "cell_type": "code",
      "source": [
        "test_df = test_df.drop('Unnamed: 0', axis=1)\n",
        "\n",
        "test_df"
      ],
      "metadata": {
        "colab": {
          "base_uri": "https://localhost:8080/"
        },
        "id": "kP1wx_Lyz1yj",
        "outputId": "10e7024b-af1b-411e-de32-e1b43af6e98e"
      },
      "execution_count": null,
      "outputs": [
        {
          "output_type": "execute_result",
          "data": {
            "text/plain": [
              "                                              raw_text  \\\n",
              "0    Sidney Powell amends court filing that said Ge...   \n",
              "1    @LisaMirandoCNN @wolfblitzer What's your thoug...   \n",
              "2    Breaking #FoxNews Alert : Joe Biden just revea...   \n",
              "3    @RWPUSA Richard, have you heard there could be...   \n",
              "4    @LeafCavalier @AFJustinKG1 Is that a real-life...   \n",
              "..                                                 ...   \n",
              "349                @realDonaldTrump Thank you Biden!!!   \n",
              "350  Kellyanne Conway acknowledges Biden as apparen...   \n",
              "351  @JeffTutorials @realDonaldTrump Ah Jeff.  I ag...   \n",
              "352  CNN Exclusive: Biden says he will ask American...   \n",
              "353  @mpolletta Little known fact – that Biden’s su...   \n",
              "\n",
              "                                            clean_text  subjectivity  polarity  \n",
              "0    sidney powell amends court filing said georgia...             1         1  \n",
              "1    lisamirandocnn wolfblitzer thought cnn jake ta...             0         2  \n",
              "2    breaking foxnews alert joe biden revealed goin...             0         2  \n",
              "3    rwpusa richard heard could several republican ...             1         0  \n",
              "4    leafcavalier afjustinkg real life question not...             1         0  \n",
              "..                                                 ...           ...       ...  \n",
              "349                        realdonaldtrump thank biden             1         1  \n",
              "350  kellyanne conway acknowledges biden apparent w...             0         2  \n",
              "351  jefftutorials realdonaldtrump ah jeff agree bi...             1         0  \n",
              "352  cnn exclusive biden say ask american wear mask...             0         2  \n",
              "353  mpolletta little known fact biden support that...             0         2  \n",
              "\n",
              "[354 rows x 4 columns]"
            ],
            "text/html": [
              "\n",
              "  <div id=\"df-667724c7-c85d-4f62-8d47-c98d5df7d508\">\n",
              "    <div class=\"colab-df-container\">\n",
              "      <div>\n",
              "<style scoped>\n",
              "    .dataframe tbody tr th:only-of-type {\n",
              "        vertical-align: middle;\n",
              "    }\n",
              "\n",
              "    .dataframe tbody tr th {\n",
              "        vertical-align: top;\n",
              "    }\n",
              "\n",
              "    .dataframe thead th {\n",
              "        text-align: right;\n",
              "    }\n",
              "</style>\n",
              "<table border=\"1\" class=\"dataframe\">\n",
              "  <thead>\n",
              "    <tr style=\"text-align: right;\">\n",
              "      <th></th>\n",
              "      <th>raw_text</th>\n",
              "      <th>clean_text</th>\n",
              "      <th>subjectivity</th>\n",
              "      <th>polarity</th>\n",
              "    </tr>\n",
              "  </thead>\n",
              "  <tbody>\n",
              "    <tr>\n",
              "      <th>0</th>\n",
              "      <td>Sidney Powell amends court filing that said Ge...</td>\n",
              "      <td>sidney powell amends court filing said georgia...</td>\n",
              "      <td>1</td>\n",
              "      <td>1</td>\n",
              "    </tr>\n",
              "    <tr>\n",
              "      <th>1</th>\n",
              "      <td>@LisaMirandoCNN @wolfblitzer What's your thoug...</td>\n",
              "      <td>lisamirandocnn wolfblitzer thought cnn jake ta...</td>\n",
              "      <td>0</td>\n",
              "      <td>2</td>\n",
              "    </tr>\n",
              "    <tr>\n",
              "      <th>2</th>\n",
              "      <td>Breaking #FoxNews Alert : Joe Biden just revea...</td>\n",
              "      <td>breaking foxnews alert joe biden revealed goin...</td>\n",
              "      <td>0</td>\n",
              "      <td>2</td>\n",
              "    </tr>\n",
              "    <tr>\n",
              "      <th>3</th>\n",
              "      <td>@RWPUSA Richard, have you heard there could be...</td>\n",
              "      <td>rwpusa richard heard could several republican ...</td>\n",
              "      <td>1</td>\n",
              "      <td>0</td>\n",
              "    </tr>\n",
              "    <tr>\n",
              "      <th>4</th>\n",
              "      <td>@LeafCavalier @AFJustinKG1 Is that a real-life...</td>\n",
              "      <td>leafcavalier afjustinkg real life question not...</td>\n",
              "      <td>1</td>\n",
              "      <td>0</td>\n",
              "    </tr>\n",
              "    <tr>\n",
              "      <th>...</th>\n",
              "      <td>...</td>\n",
              "      <td>...</td>\n",
              "      <td>...</td>\n",
              "      <td>...</td>\n",
              "    </tr>\n",
              "    <tr>\n",
              "      <th>349</th>\n",
              "      <td>@realDonaldTrump Thank you Biden!!!</td>\n",
              "      <td>realdonaldtrump thank biden</td>\n",
              "      <td>1</td>\n",
              "      <td>1</td>\n",
              "    </tr>\n",
              "    <tr>\n",
              "      <th>350</th>\n",
              "      <td>Kellyanne Conway acknowledges Biden as apparen...</td>\n",
              "      <td>kellyanne conway acknowledges biden apparent w...</td>\n",
              "      <td>0</td>\n",
              "      <td>2</td>\n",
              "    </tr>\n",
              "    <tr>\n",
              "      <th>351</th>\n",
              "      <td>@JeffTutorials @realDonaldTrump Ah Jeff.  I ag...</td>\n",
              "      <td>jefftutorials realdonaldtrump ah jeff agree bi...</td>\n",
              "      <td>1</td>\n",
              "      <td>0</td>\n",
              "    </tr>\n",
              "    <tr>\n",
              "      <th>352</th>\n",
              "      <td>CNN Exclusive: Biden says he will ask American...</td>\n",
              "      <td>cnn exclusive biden say ask american wear mask...</td>\n",
              "      <td>0</td>\n",
              "      <td>2</td>\n",
              "    </tr>\n",
              "    <tr>\n",
              "      <th>353</th>\n",
              "      <td>@mpolletta Little known fact – that Biden’s su...</td>\n",
              "      <td>mpolletta little known fact biden support that...</td>\n",
              "      <td>0</td>\n",
              "      <td>2</td>\n",
              "    </tr>\n",
              "  </tbody>\n",
              "</table>\n",
              "<p>354 rows × 4 columns</p>\n",
              "</div>\n",
              "      <button class=\"colab-df-convert\" onclick=\"convertToInteractive('df-667724c7-c85d-4f62-8d47-c98d5df7d508')\"\n",
              "              title=\"Convert this dataframe to an interactive table.\"\n",
              "              style=\"display:none;\">\n",
              "        \n",
              "  <svg xmlns=\"http://www.w3.org/2000/svg\" height=\"24px\"viewBox=\"0 0 24 24\"\n",
              "       width=\"24px\">\n",
              "    <path d=\"M0 0h24v24H0V0z\" fill=\"none\"/>\n",
              "    <path d=\"M18.56 5.44l.94 2.06.94-2.06 2.06-.94-2.06-.94-.94-2.06-.94 2.06-2.06.94zm-11 1L8.5 8.5l.94-2.06 2.06-.94-2.06-.94L8.5 2.5l-.94 2.06-2.06.94zm10 10l.94 2.06.94-2.06 2.06-.94-2.06-.94-.94-2.06-.94 2.06-2.06.94z\"/><path d=\"M17.41 7.96l-1.37-1.37c-.4-.4-.92-.59-1.43-.59-.52 0-1.04.2-1.43.59L10.3 9.45l-7.72 7.72c-.78.78-.78 2.05 0 2.83L4 21.41c.39.39.9.59 1.41.59.51 0 1.02-.2 1.41-.59l7.78-7.78 2.81-2.81c.8-.78.8-2.07 0-2.86zM5.41 20L4 18.59l7.72-7.72 1.47 1.35L5.41 20z\"/>\n",
              "  </svg>\n",
              "      </button>\n",
              "      \n",
              "  <style>\n",
              "    .colab-df-container {\n",
              "      display:flex;\n",
              "      flex-wrap:wrap;\n",
              "      gap: 12px;\n",
              "    }\n",
              "\n",
              "    .colab-df-convert {\n",
              "      background-color: #E8F0FE;\n",
              "      border: none;\n",
              "      border-radius: 50%;\n",
              "      cursor: pointer;\n",
              "      display: none;\n",
              "      fill: #1967D2;\n",
              "      height: 32px;\n",
              "      padding: 0 0 0 0;\n",
              "      width: 32px;\n",
              "    }\n",
              "\n",
              "    .colab-df-convert:hover {\n",
              "      background-color: #E2EBFA;\n",
              "      box-shadow: 0px 1px 2px rgba(60, 64, 67, 0.3), 0px 1px 3px 1px rgba(60, 64, 67, 0.15);\n",
              "      fill: #174EA6;\n",
              "    }\n",
              "\n",
              "    [theme=dark] .colab-df-convert {\n",
              "      background-color: #3B4455;\n",
              "      fill: #D2E3FC;\n",
              "    }\n",
              "\n",
              "    [theme=dark] .colab-df-convert:hover {\n",
              "      background-color: #434B5C;\n",
              "      box-shadow: 0px 1px 3px 1px rgba(0, 0, 0, 0.15);\n",
              "      filter: drop-shadow(0px 1px 2px rgba(0, 0, 0, 0.3));\n",
              "      fill: #FFFFFF;\n",
              "    }\n",
              "  </style>\n",
              "\n",
              "      <script>\n",
              "        const buttonEl =\n",
              "          document.querySelector('#df-667724c7-c85d-4f62-8d47-c98d5df7d508 button.colab-df-convert');\n",
              "        buttonEl.style.display =\n",
              "          google.colab.kernel.accessAllowed ? 'block' : 'none';\n",
              "\n",
              "        async function convertToInteractive(key) {\n",
              "          const element = document.querySelector('#df-667724c7-c85d-4f62-8d47-c98d5df7d508');\n",
              "          const dataTable =\n",
              "            await google.colab.kernel.invokeFunction('convertToInteractive',\n",
              "                                                     [key], {});\n",
              "          if (!dataTable) return;\n",
              "\n",
              "          const docLinkHtml = 'Like what you see? Visit the ' +\n",
              "            '<a target=\"_blank\" href=https://colab.research.google.com/notebooks/data_table.ipynb>data table notebook</a>'\n",
              "            + ' to learn more about interactive tables.';\n",
              "          element.innerHTML = '';\n",
              "          dataTable['output_type'] = 'display_data';\n",
              "          await google.colab.output.renderOutput(dataTable, element);\n",
              "          const docLink = document.createElement('div');\n",
              "          docLink.innerHTML = docLinkHtml;\n",
              "          element.appendChild(docLink);\n",
              "        }\n",
              "      </script>\n",
              "    </div>\n",
              "  </div>\n",
              "  "
            ]
          },
          "metadata": {},
          "execution_count": 8
        }
      ]
    },
    {
      "cell_type": "code",
      "source": [
        "train_df.shape, test_df.shape"
      ],
      "metadata": {
        "colab": {
          "base_uri": "https://localhost:8080/"
        },
        "id": "AP-oPnSXz12i",
        "outputId": "b60a7d6f-6706-4c11-a194-ed9db0230b9e"
      },
      "execution_count": null,
      "outputs": [
        {
          "output_type": "execute_result",
          "data": {
            "text/plain": [
              "((1412, 4), (354, 4))"
            ]
          },
          "metadata": {},
          "execution_count": 9
        }
      ]
    },
    {
      "cell_type": "markdown",
      "source": [
        "### Vectorize data"
      ],
      "metadata": {
        "id": "0fQeM2bdlprR"
      }
    },
    {
      "cell_type": "code",
      "source": [
        "# Create feature vectors\n",
        "vectorizer = TfidfVectorizer(min_df = 1,\n",
        "                             max_df = 0.8,\n",
        "                             sublinear_tf = True,\n",
        "                             use_idf = True)"
      ],
      "metadata": {
        "id": "yR2e69cXz15e"
      },
      "execution_count": null,
      "outputs": []
    },
    {
      "cell_type": "code",
      "source": [
        "train_vectors = vectorizer.fit_transform(train_df['clean_text'])\n",
        "test_vectors = vectorizer.transform(test_df['clean_text'])"
      ],
      "metadata": {
        "id": "c2qJEhJGzuZ8"
      },
      "execution_count": null,
      "outputs": []
    },
    {
      "cell_type": "markdown",
      "source": [
        "### ComplementNB model"
      ],
      "metadata": {
        "id": "bzvmmXTj7vpC"
      }
    },
    {
      "cell_type": "code",
      "source": [
        "# define & compiile model\n",
        "CNB =ComplementNB()\n",
        "\n",
        "# fit model\n",
        "cnb_t0 = time.time()\n",
        "CNB.fit(train_vectors, train_df['polarity'])\n",
        "cnb_t1 = time.time()\n",
        "\n",
        "# predict with model\n",
        "cnb_prediction_linear = CNB.predict(test_vectors)\n",
        "cnb_t2 = time.time()\n",
        "\n",
        "# get train and test timings\n",
        "cnb_time_linear_train = cnb_t1-cnb_t0\n",
        "cnb_time_linear_predict = cnb_t2-cnb_t1"
      ],
      "metadata": {
        "id": "8IXRLRqe7tql"
      },
      "execution_count": null,
      "outputs": []
    },
    {
      "cell_type": "code",
      "source": [
        "cnb_prediction_linear"
      ],
      "metadata": {
        "colab": {
          "base_uri": "https://localhost:8080/"
        },
        "id": "IYpBrsaR7ttg",
        "outputId": "824b1882-4eec-4ff0-e301-0d522596e6cd"
      },
      "execution_count": null,
      "outputs": [
        {
          "output_type": "execute_result",
          "data": {
            "text/plain": [
              "array([0, 2, 2, 0, 0, 2, 1, 0, 2, 2, 0, 2, 0, 0, 0, 0, 0, 2, 1, 0, 0, 0,\n",
              "       0, 0, 0, 0, 0, 0, 0, 0, 1, 2, 1, 0, 2, 2, 0, 2, 0, 0, 1, 0, 1, 1,\n",
              "       2, 1, 2, 0, 0, 1, 2, 2, 1, 1, 0, 0, 2, 2, 1, 0, 0, 0, 2, 1, 0, 1,\n",
              "       2, 2, 1, 1, 0, 2, 2, 0, 1, 0, 0, 0, 1, 1, 2, 1, 1, 0, 2, 2, 1, 1,\n",
              "       0, 0, 0, 1, 0, 2, 0, 1, 0, 0, 1, 2, 1, 0, 1, 1, 2, 2, 0, 0, 2, 1,\n",
              "       2, 2, 1, 2, 0, 0, 0, 0, 0, 0, 2, 0, 0, 2, 1, 2, 2, 0, 0, 0, 0, 2,\n",
              "       0, 0, 0, 0, 2, 0, 2, 2, 2, 2, 1, 2, 0, 1, 0, 2, 1, 0, 2, 0, 0, 0,\n",
              "       0, 0, 0, 0, 2, 0, 0, 1, 0, 0, 0, 2, 0, 2, 0, 0, 0, 0, 0, 0, 1, 1,\n",
              "       1, 2, 0, 2, 1, 2, 1, 0, 0, 0, 0, 0, 0, 0, 2, 0, 1, 1, 1, 2, 1, 1,\n",
              "       2, 1, 0, 1, 1, 1, 1, 1, 0, 2, 0, 1, 1, 0, 1, 1, 2, 0, 0, 0, 1, 0,\n",
              "       1, 2, 1, 0, 1, 0, 0, 0, 2, 2, 0, 1, 1, 2, 0, 0, 0, 0, 0, 2, 2, 1,\n",
              "       0, 2, 1, 0, 1, 0, 2, 0, 0, 1, 1, 1, 1, 0, 0, 1, 0, 0, 0, 0, 0, 2,\n",
              "       1, 1, 0, 0, 0, 0, 2, 0, 1, 0, 0, 0, 1, 0, 0, 1, 1, 2, 0, 2, 0, 0,\n",
              "       2, 2, 1, 2, 1, 1, 1, 1, 2, 0, 0, 1, 1, 2, 1, 1, 0, 2, 0, 0, 0, 2,\n",
              "       0, 0, 0, 2, 0, 0, 2, 0, 0, 0, 2, 0, 0, 2, 0, 1, 0, 0, 0, 0, 1, 1,\n",
              "       1, 2, 2, 0, 1, 2, 0, 2, 0, 0, 1, 0, 0, 1, 0, 1, 1, 1, 2, 1, 1, 0,\n",
              "       2, 2])"
            ]
          },
          "metadata": {},
          "execution_count": 13
        }
      ]
    },
    {
      "cell_type": "markdown",
      "source": [
        "### Export model and results"
      ],
      "metadata": {
        "id": "UorCbmeW-AhE"
      }
    },
    {
      "cell_type": "code",
      "source": [
        "# add cnb scores to dataframe\n",
        "test_df['cnb_score'] = cnb_prediction_linear.tolist()\n",
        "\n",
        "test_df"
      ],
      "metadata": {
        "colab": {
          "base_uri": "https://localhost:8080/",
          "height": 624
        },
        "id": "nW547Ron9_m8",
        "outputId": "7dbd22e8-1a82-4be0-f50d-035d9412c1fb"
      },
      "execution_count": null,
      "outputs": [
        {
          "output_type": "execute_result",
          "data": {
            "text/plain": [
              "                                              raw_text  \\\n",
              "0    Sidney Powell amends court filing that said Ge...   \n",
              "1    @LisaMirandoCNN @wolfblitzer What's your thoug...   \n",
              "2    Breaking #FoxNews Alert : Joe Biden just revea...   \n",
              "3    @RWPUSA Richard, have you heard there could be...   \n",
              "4    @LeafCavalier @AFJustinKG1 Is that a real-life...   \n",
              "..                                                 ...   \n",
              "349                @realDonaldTrump Thank you Biden!!!   \n",
              "350  Kellyanne Conway acknowledges Biden as apparen...   \n",
              "351  @JeffTutorials @realDonaldTrump Ah Jeff.  I ag...   \n",
              "352  CNN Exclusive: Biden says he will ask American...   \n",
              "353  @mpolletta Little known fact – that Biden’s su...   \n",
              "\n",
              "                                            clean_text  subjectivity  \\\n",
              "0    sidney powell amends court filing said georgia...             1   \n",
              "1    lisamirandocnn wolfblitzer thought cnn jake ta...             0   \n",
              "2    breaking foxnews alert joe biden revealed goin...             0   \n",
              "3    rwpusa richard heard could several republican ...             1   \n",
              "4    leafcavalier afjustinkg real life question not...             1   \n",
              "..                                                 ...           ...   \n",
              "349                        realdonaldtrump thank biden             1   \n",
              "350  kellyanne conway acknowledges biden apparent w...             0   \n",
              "351  jefftutorials realdonaldtrump ah jeff agree bi...             1   \n",
              "352  cnn exclusive biden say ask american wear mask...             0   \n",
              "353  mpolletta little known fact biden support that...             0   \n",
              "\n",
              "     polarity  cnb_score  \n",
              "0           1          0  \n",
              "1           2          2  \n",
              "2           2          2  \n",
              "3           0          0  \n",
              "4           0          0  \n",
              "..        ...        ...  \n",
              "349         1          1  \n",
              "350         2          1  \n",
              "351         0          0  \n",
              "352         2          2  \n",
              "353         2          2  \n",
              "\n",
              "[354 rows x 5 columns]"
            ],
            "text/html": [
              "\n",
              "  <div id=\"df-e31fd0c5-cfb3-43a3-b68c-ed440e59fdf2\">\n",
              "    <div class=\"colab-df-container\">\n",
              "      <div>\n",
              "<style scoped>\n",
              "    .dataframe tbody tr th:only-of-type {\n",
              "        vertical-align: middle;\n",
              "    }\n",
              "\n",
              "    .dataframe tbody tr th {\n",
              "        vertical-align: top;\n",
              "    }\n",
              "\n",
              "    .dataframe thead th {\n",
              "        text-align: right;\n",
              "    }\n",
              "</style>\n",
              "<table border=\"1\" class=\"dataframe\">\n",
              "  <thead>\n",
              "    <tr style=\"text-align: right;\">\n",
              "      <th></th>\n",
              "      <th>raw_text</th>\n",
              "      <th>clean_text</th>\n",
              "      <th>subjectivity</th>\n",
              "      <th>polarity</th>\n",
              "      <th>cnb_score</th>\n",
              "    </tr>\n",
              "  </thead>\n",
              "  <tbody>\n",
              "    <tr>\n",
              "      <th>0</th>\n",
              "      <td>Sidney Powell amends court filing that said Ge...</td>\n",
              "      <td>sidney powell amends court filing said georgia...</td>\n",
              "      <td>1</td>\n",
              "      <td>1</td>\n",
              "      <td>0</td>\n",
              "    </tr>\n",
              "    <tr>\n",
              "      <th>1</th>\n",
              "      <td>@LisaMirandoCNN @wolfblitzer What's your thoug...</td>\n",
              "      <td>lisamirandocnn wolfblitzer thought cnn jake ta...</td>\n",
              "      <td>0</td>\n",
              "      <td>2</td>\n",
              "      <td>2</td>\n",
              "    </tr>\n",
              "    <tr>\n",
              "      <th>2</th>\n",
              "      <td>Breaking #FoxNews Alert : Joe Biden just revea...</td>\n",
              "      <td>breaking foxnews alert joe biden revealed goin...</td>\n",
              "      <td>0</td>\n",
              "      <td>2</td>\n",
              "      <td>2</td>\n",
              "    </tr>\n",
              "    <tr>\n",
              "      <th>3</th>\n",
              "      <td>@RWPUSA Richard, have you heard there could be...</td>\n",
              "      <td>rwpusa richard heard could several republican ...</td>\n",
              "      <td>1</td>\n",
              "      <td>0</td>\n",
              "      <td>0</td>\n",
              "    </tr>\n",
              "    <tr>\n",
              "      <th>4</th>\n",
              "      <td>@LeafCavalier @AFJustinKG1 Is that a real-life...</td>\n",
              "      <td>leafcavalier afjustinkg real life question not...</td>\n",
              "      <td>1</td>\n",
              "      <td>0</td>\n",
              "      <td>0</td>\n",
              "    </tr>\n",
              "    <tr>\n",
              "      <th>...</th>\n",
              "      <td>...</td>\n",
              "      <td>...</td>\n",
              "      <td>...</td>\n",
              "      <td>...</td>\n",
              "      <td>...</td>\n",
              "    </tr>\n",
              "    <tr>\n",
              "      <th>349</th>\n",
              "      <td>@realDonaldTrump Thank you Biden!!!</td>\n",
              "      <td>realdonaldtrump thank biden</td>\n",
              "      <td>1</td>\n",
              "      <td>1</td>\n",
              "      <td>1</td>\n",
              "    </tr>\n",
              "    <tr>\n",
              "      <th>350</th>\n",
              "      <td>Kellyanne Conway acknowledges Biden as apparen...</td>\n",
              "      <td>kellyanne conway acknowledges biden apparent w...</td>\n",
              "      <td>0</td>\n",
              "      <td>2</td>\n",
              "      <td>1</td>\n",
              "    </tr>\n",
              "    <tr>\n",
              "      <th>351</th>\n",
              "      <td>@JeffTutorials @realDonaldTrump Ah Jeff.  I ag...</td>\n",
              "      <td>jefftutorials realdonaldtrump ah jeff agree bi...</td>\n",
              "      <td>1</td>\n",
              "      <td>0</td>\n",
              "      <td>0</td>\n",
              "    </tr>\n",
              "    <tr>\n",
              "      <th>352</th>\n",
              "      <td>CNN Exclusive: Biden says he will ask American...</td>\n",
              "      <td>cnn exclusive biden say ask american wear mask...</td>\n",
              "      <td>0</td>\n",
              "      <td>2</td>\n",
              "      <td>2</td>\n",
              "    </tr>\n",
              "    <tr>\n",
              "      <th>353</th>\n",
              "      <td>@mpolletta Little known fact – that Biden’s su...</td>\n",
              "      <td>mpolletta little known fact biden support that...</td>\n",
              "      <td>0</td>\n",
              "      <td>2</td>\n",
              "      <td>2</td>\n",
              "    </tr>\n",
              "  </tbody>\n",
              "</table>\n",
              "<p>354 rows × 5 columns</p>\n",
              "</div>\n",
              "      <button class=\"colab-df-convert\" onclick=\"convertToInteractive('df-e31fd0c5-cfb3-43a3-b68c-ed440e59fdf2')\"\n",
              "              title=\"Convert this dataframe to an interactive table.\"\n",
              "              style=\"display:none;\">\n",
              "        \n",
              "  <svg xmlns=\"http://www.w3.org/2000/svg\" height=\"24px\"viewBox=\"0 0 24 24\"\n",
              "       width=\"24px\">\n",
              "    <path d=\"M0 0h24v24H0V0z\" fill=\"none\"/>\n",
              "    <path d=\"M18.56 5.44l.94 2.06.94-2.06 2.06-.94-2.06-.94-.94-2.06-.94 2.06-2.06.94zm-11 1L8.5 8.5l.94-2.06 2.06-.94-2.06-.94L8.5 2.5l-.94 2.06-2.06.94zm10 10l.94 2.06.94-2.06 2.06-.94-2.06-.94-.94-2.06-.94 2.06-2.06.94z\"/><path d=\"M17.41 7.96l-1.37-1.37c-.4-.4-.92-.59-1.43-.59-.52 0-1.04.2-1.43.59L10.3 9.45l-7.72 7.72c-.78.78-.78 2.05 0 2.83L4 21.41c.39.39.9.59 1.41.59.51 0 1.02-.2 1.41-.59l7.78-7.78 2.81-2.81c.8-.78.8-2.07 0-2.86zM5.41 20L4 18.59l7.72-7.72 1.47 1.35L5.41 20z\"/>\n",
              "  </svg>\n",
              "      </button>\n",
              "      \n",
              "  <style>\n",
              "    .colab-df-container {\n",
              "      display:flex;\n",
              "      flex-wrap:wrap;\n",
              "      gap: 12px;\n",
              "    }\n",
              "\n",
              "    .colab-df-convert {\n",
              "      background-color: #E8F0FE;\n",
              "      border: none;\n",
              "      border-radius: 50%;\n",
              "      cursor: pointer;\n",
              "      display: none;\n",
              "      fill: #1967D2;\n",
              "      height: 32px;\n",
              "      padding: 0 0 0 0;\n",
              "      width: 32px;\n",
              "    }\n",
              "\n",
              "    .colab-df-convert:hover {\n",
              "      background-color: #E2EBFA;\n",
              "      box-shadow: 0px 1px 2px rgba(60, 64, 67, 0.3), 0px 1px 3px 1px rgba(60, 64, 67, 0.15);\n",
              "      fill: #174EA6;\n",
              "    }\n",
              "\n",
              "    [theme=dark] .colab-df-convert {\n",
              "      background-color: #3B4455;\n",
              "      fill: #D2E3FC;\n",
              "    }\n",
              "\n",
              "    [theme=dark] .colab-df-convert:hover {\n",
              "      background-color: #434B5C;\n",
              "      box-shadow: 0px 1px 3px 1px rgba(0, 0, 0, 0.15);\n",
              "      filter: drop-shadow(0px 1px 2px rgba(0, 0, 0, 0.3));\n",
              "      fill: #FFFFFF;\n",
              "    }\n",
              "  </style>\n",
              "\n",
              "      <script>\n",
              "        const buttonEl =\n",
              "          document.querySelector('#df-e31fd0c5-cfb3-43a3-b68c-ed440e59fdf2 button.colab-df-convert');\n",
              "        buttonEl.style.display =\n",
              "          google.colab.kernel.accessAllowed ? 'block' : 'none';\n",
              "\n",
              "        async function convertToInteractive(key) {\n",
              "          const element = document.querySelector('#df-e31fd0c5-cfb3-43a3-b68c-ed440e59fdf2');\n",
              "          const dataTable =\n",
              "            await google.colab.kernel.invokeFunction('convertToInteractive',\n",
              "                                                     [key], {});\n",
              "          if (!dataTable) return;\n",
              "\n",
              "          const docLinkHtml = 'Like what you see? Visit the ' +\n",
              "            '<a target=\"_blank\" href=https://colab.research.google.com/notebooks/data_table.ipynb>data table notebook</a>'\n",
              "            + ' to learn more about interactive tables.';\n",
              "          element.innerHTML = '';\n",
              "          dataTable['output_type'] = 'display_data';\n",
              "          await google.colab.output.renderOutput(dataTable, element);\n",
              "          const docLink = document.createElement('div');\n",
              "          docLink.innerHTML = docLinkHtml;\n",
              "          element.appendChild(docLink);\n",
              "        }\n",
              "      </script>\n",
              "    </div>\n",
              "  </div>\n",
              "  "
            ]
          },
          "metadata": {},
          "execution_count": 18
        }
      ]
    },
    {
      "cell_type": "code",
      "source": [
        "# labeled test data\n",
        "nb_label_file_name = 'cnb_results_test_labeled.csv'\n",
        "  \n",
        "test_df.to_csv(nb_label_file_name)"
      ],
      "metadata": {
        "id": "IaqZh0tq9_sX"
      },
      "execution_count": null,
      "outputs": []
    },
    {
      "cell_type": "code",
      "source": [
        "# pickling the vectorizer\n",
        "pickle.dump(vectorizer, open('cnb_vectorizer.sav', 'wb'))"
      ],
      "metadata": {
        "id": "r1Rr4OxZne4H"
      },
      "execution_count": null,
      "outputs": []
    },
    {
      "cell_type": "code",
      "source": [
        "# pickling the model\n",
        "pickle.dump(CNB, open('cnb_classifier.sav', 'wb'))"
      ],
      "metadata": {
        "id": "7i1p55-rne7-"
      },
      "execution_count": null,
      "outputs": []
    },
    {
      "cell_type": "markdown",
      "source": [
        "### Evaluate model"
      ],
      "metadata": {
        "id": "Ovu6EQ6DmfNj"
      }
    },
    {
      "cell_type": "code",
      "source": [
        "print(\"Training time: %fs; Prediction time: %fs\" % (cnb_time_linear_train, cnb_time_linear_predict))"
      ],
      "metadata": {
        "colab": {
          "base_uri": "https://localhost:8080/"
        },
        "id": "AEL7D1q07twF",
        "outputId": "99f899da-8ec3-4a73-c191-adac371ce309"
      },
      "execution_count": null,
      "outputs": [
        {
          "output_type": "stream",
          "name": "stdout",
          "text": [
            "Training time: 0.006018s; Prediction time: 0.000563s\n"
          ]
        }
      ]
    },
    {
      "cell_type": "code",
      "source": [
        "cnb_acc_score = accuracy_score(test_df['polarity'], cnb_prediction_linear)\n",
        "\n",
        "print(\"accuracy: \", str(cnb_acc_score))"
      ],
      "metadata": {
        "colab": {
          "base_uri": "https://localhost:8080/"
        },
        "id": "Ut7w3Bpz7tyb",
        "outputId": "23345bc5-067d-4a36-d958-12c1bf93d43b"
      },
      "execution_count": null,
      "outputs": [
        {
          "output_type": "stream",
          "name": "stdout",
          "text": [
            "accuracy:  0.8305084745762712\n"
          ]
        }
      ]
    },
    {
      "cell_type": "code",
      "source": [
        "cnb_report_dict = classification_report(test_df['polarity'], cnb_prediction_linear, output_dict=True)\n",
        "\n",
        "print('negative: ', cnb_report_dict['0'])\n",
        "print('positive: ', cnb_report_dict['1'])\n",
        "print('neutral: ', cnb_report_dict['2'])"
      ],
      "metadata": {
        "colab": {
          "base_uri": "https://localhost:8080/"
        },
        "id": "mZLAxh4c7t0T",
        "outputId": "a63d928c-4c13-4655-d113-6f5d46401df9"
      },
      "execution_count": null,
      "outputs": [
        {
          "output_type": "stream",
          "name": "stdout",
          "text": [
            "negative:  {'precision': 0.8411764705882353, 'recall': 0.8562874251497006, 'f1-score': 0.8486646884272998, 'support': 167}\n",
            "positive:  {'precision': 0.7938144329896907, 'recall': 0.8020833333333334, 'f1-score': 0.7979274611398963, 'support': 96}\n",
            "neutral:  {'precision': 0.8505747126436781, 'recall': 0.8131868131868132, 'f1-score': 0.8314606741573034, 'support': 91}\n"
          ]
        }
      ]
    },
    {
      "cell_type": "code",
      "source": [
        "cnb_report = classification_report(test_df['polarity'], cnb_prediction_linear)\n",
        "\n",
        "print(cnb_report)"
      ],
      "metadata": {
        "colab": {
          "base_uri": "https://localhost:8080/"
        },
        "id": "eG2tjMxZ7t2X",
        "outputId": "61ed065d-af3c-4bd0-d40d-2a62d7033388"
      },
      "execution_count": null,
      "outputs": [
        {
          "output_type": "stream",
          "name": "stdout",
          "text": [
            "              precision    recall  f1-score   support\n",
            "\n",
            "           0       0.84      0.86      0.85       167\n",
            "           1       0.79      0.80      0.80        96\n",
            "           2       0.85      0.81      0.83        91\n",
            "\n",
            "    accuracy                           0.83       354\n",
            "   macro avg       0.83      0.82      0.83       354\n",
            "weighted avg       0.83      0.83      0.83       354\n",
            "\n"
          ]
        }
      ]
    },
    {
      "cell_type": "markdown",
      "source": [
        "## Apply on full dataset"
      ],
      "metadata": {
        "id": "npgAK3mCoC2T"
      }
    },
    {
      "cell_type": "markdown",
      "source": [
        "### Read dataset"
      ],
      "metadata": {
        "id": "vCcJfAPToE3s"
      }
    },
    {
      "cell_type": "code",
      "source": [
        "# full data\n",
        "df_full = pd.read_csv('/content/drive/MyDrive/Colab Notebooks/nlp project/Sentiment Analysis/final datasets/biden_tweets_processed.csv')\n",
        "\n",
        "df_full"
      ],
      "metadata": {
        "colab": {
          "base_uri": "https://localhost:8080/",
          "height": 468
        },
        "id": "HHjaTx-RoF5N",
        "outputId": "4a40dcf3-f096-4ca6-ad2b-d2b319271cc4"
      },
      "execution_count": null,
      "outputs": [
        {
          "output_type": "execute_result",
          "data": {
            "text/plain": [
              "       Unnamed: 0                                           raw_text  \\\n",
              "0               0  @NCatalyst19 @RattlerGator This fake virus is ...   \n",
              "1               1  @propublica I now think Biden should keep Trum...   \n",
              "2               2  @Acosta Hopefully it's a foregone conclusion t...   \n",
              "3               3  @realDonaldTrump @POTUS I don't trust the @FBI...   \n",
              "4               4  President-elect Joe Biden is predicting a “ble...   \n",
              "...           ...                                                ...   \n",
              "17626       17626  @MSNBC I mean shit, what if Biden turns out to...   \n",
              "17627       17627  Pentagon blocks visits to military spy agencie...   \n",
              "17628       17628  CNN Exclusive: Biden says he will ask American...   \n",
              "17629       17629  @Tomboliko @the_resistor @realDonaldTrump Hill...   \n",
              "17630       17630  Biden says Trump should attend his inauguratio...   \n",
              "\n",
              "                                              clean_text  \n",
              "0      ncatalyst rattlergator fake virus deep state g...  \n",
              "1      propublica think biden keep trump anti deep st...  \n",
              "2      acosta hopefully foregone conclusion president...  \n",
              "3      realdonaldtrump potus trust fbi wray even look...  \n",
              "4      president elect joe biden predicting bleak fut...  \n",
              "...                                                  ...  \n",
              "17626  msnbc mean shit biden turn disaster people flo...  \n",
              "17627  pentagon block visit military spy agency biden...  \n",
              "17628  cnn exclusive biden say ask american wear mask...  \n",
              "17629  tomboliko resistor realdonaldtrump hillary che...  \n",
              "17630  biden say trump attend inauguration sake ameri...  \n",
              "\n",
              "[17631 rows x 3 columns]"
            ],
            "text/html": [
              "\n",
              "  <div id=\"df-4b3a8b95-420d-498a-8ae9-456f0fc249cc\">\n",
              "    <div class=\"colab-df-container\">\n",
              "      <div>\n",
              "<style scoped>\n",
              "    .dataframe tbody tr th:only-of-type {\n",
              "        vertical-align: middle;\n",
              "    }\n",
              "\n",
              "    .dataframe tbody tr th {\n",
              "        vertical-align: top;\n",
              "    }\n",
              "\n",
              "    .dataframe thead th {\n",
              "        text-align: right;\n",
              "    }\n",
              "</style>\n",
              "<table border=\"1\" class=\"dataframe\">\n",
              "  <thead>\n",
              "    <tr style=\"text-align: right;\">\n",
              "      <th></th>\n",
              "      <th>Unnamed: 0</th>\n",
              "      <th>raw_text</th>\n",
              "      <th>clean_text</th>\n",
              "    </tr>\n",
              "  </thead>\n",
              "  <tbody>\n",
              "    <tr>\n",
              "      <th>0</th>\n",
              "      <td>0</td>\n",
              "      <td>@NCatalyst19 @RattlerGator This fake virus is ...</td>\n",
              "      <td>ncatalyst rattlergator fake virus deep state g...</td>\n",
              "    </tr>\n",
              "    <tr>\n",
              "      <th>1</th>\n",
              "      <td>1</td>\n",
              "      <td>@propublica I now think Biden should keep Trum...</td>\n",
              "      <td>propublica think biden keep trump anti deep st...</td>\n",
              "    </tr>\n",
              "    <tr>\n",
              "      <th>2</th>\n",
              "      <td>2</td>\n",
              "      <td>@Acosta Hopefully it's a foregone conclusion t...</td>\n",
              "      <td>acosta hopefully foregone conclusion president...</td>\n",
              "    </tr>\n",
              "    <tr>\n",
              "      <th>3</th>\n",
              "      <td>3</td>\n",
              "      <td>@realDonaldTrump @POTUS I don't trust the @FBI...</td>\n",
              "      <td>realdonaldtrump potus trust fbi wray even look...</td>\n",
              "    </tr>\n",
              "    <tr>\n",
              "      <th>4</th>\n",
              "      <td>4</td>\n",
              "      <td>President-elect Joe Biden is predicting a “ble...</td>\n",
              "      <td>president elect joe biden predicting bleak fut...</td>\n",
              "    </tr>\n",
              "    <tr>\n",
              "      <th>...</th>\n",
              "      <td>...</td>\n",
              "      <td>...</td>\n",
              "      <td>...</td>\n",
              "    </tr>\n",
              "    <tr>\n",
              "      <th>17626</th>\n",
              "      <td>17626</td>\n",
              "      <td>@MSNBC I mean shit, what if Biden turns out to...</td>\n",
              "      <td>msnbc mean shit biden turn disaster people flo...</td>\n",
              "    </tr>\n",
              "    <tr>\n",
              "      <th>17627</th>\n",
              "      <td>17627</td>\n",
              "      <td>Pentagon blocks visits to military spy agencie...</td>\n",
              "      <td>pentagon block visit military spy agency biden...</td>\n",
              "    </tr>\n",
              "    <tr>\n",
              "      <th>17628</th>\n",
              "      <td>17628</td>\n",
              "      <td>CNN Exclusive: Biden says he will ask American...</td>\n",
              "      <td>cnn exclusive biden say ask american wear mask...</td>\n",
              "    </tr>\n",
              "    <tr>\n",
              "      <th>17629</th>\n",
              "      <td>17629</td>\n",
              "      <td>@Tomboliko @the_resistor @realDonaldTrump Hill...</td>\n",
              "      <td>tomboliko resistor realdonaldtrump hillary che...</td>\n",
              "    </tr>\n",
              "    <tr>\n",
              "      <th>17630</th>\n",
              "      <td>17630</td>\n",
              "      <td>Biden says Trump should attend his inauguratio...</td>\n",
              "      <td>biden say trump attend inauguration sake ameri...</td>\n",
              "    </tr>\n",
              "  </tbody>\n",
              "</table>\n",
              "<p>17631 rows × 3 columns</p>\n",
              "</div>\n",
              "      <button class=\"colab-df-convert\" onclick=\"convertToInteractive('df-4b3a8b95-420d-498a-8ae9-456f0fc249cc')\"\n",
              "              title=\"Convert this dataframe to an interactive table.\"\n",
              "              style=\"display:none;\">\n",
              "        \n",
              "  <svg xmlns=\"http://www.w3.org/2000/svg\" height=\"24px\"viewBox=\"0 0 24 24\"\n",
              "       width=\"24px\">\n",
              "    <path d=\"M0 0h24v24H0V0z\" fill=\"none\"/>\n",
              "    <path d=\"M18.56 5.44l.94 2.06.94-2.06 2.06-.94-2.06-.94-.94-2.06-.94 2.06-2.06.94zm-11 1L8.5 8.5l.94-2.06 2.06-.94-2.06-.94L8.5 2.5l-.94 2.06-2.06.94zm10 10l.94 2.06.94-2.06 2.06-.94-2.06-.94-.94-2.06-.94 2.06-2.06.94z\"/><path d=\"M17.41 7.96l-1.37-1.37c-.4-.4-.92-.59-1.43-.59-.52 0-1.04.2-1.43.59L10.3 9.45l-7.72 7.72c-.78.78-.78 2.05 0 2.83L4 21.41c.39.39.9.59 1.41.59.51 0 1.02-.2 1.41-.59l7.78-7.78 2.81-2.81c.8-.78.8-2.07 0-2.86zM5.41 20L4 18.59l7.72-7.72 1.47 1.35L5.41 20z\"/>\n",
              "  </svg>\n",
              "      </button>\n",
              "      \n",
              "  <style>\n",
              "    .colab-df-container {\n",
              "      display:flex;\n",
              "      flex-wrap:wrap;\n",
              "      gap: 12px;\n",
              "    }\n",
              "\n",
              "    .colab-df-convert {\n",
              "      background-color: #E8F0FE;\n",
              "      border: none;\n",
              "      border-radius: 50%;\n",
              "      cursor: pointer;\n",
              "      display: none;\n",
              "      fill: #1967D2;\n",
              "      height: 32px;\n",
              "      padding: 0 0 0 0;\n",
              "      width: 32px;\n",
              "    }\n",
              "\n",
              "    .colab-df-convert:hover {\n",
              "      background-color: #E2EBFA;\n",
              "      box-shadow: 0px 1px 2px rgba(60, 64, 67, 0.3), 0px 1px 3px 1px rgba(60, 64, 67, 0.15);\n",
              "      fill: #174EA6;\n",
              "    }\n",
              "\n",
              "    [theme=dark] .colab-df-convert {\n",
              "      background-color: #3B4455;\n",
              "      fill: #D2E3FC;\n",
              "    }\n",
              "\n",
              "    [theme=dark] .colab-df-convert:hover {\n",
              "      background-color: #434B5C;\n",
              "      box-shadow: 0px 1px 3px 1px rgba(0, 0, 0, 0.15);\n",
              "      filter: drop-shadow(0px 1px 2px rgba(0, 0, 0, 0.3));\n",
              "      fill: #FFFFFF;\n",
              "    }\n",
              "  </style>\n",
              "\n",
              "      <script>\n",
              "        const buttonEl =\n",
              "          document.querySelector('#df-4b3a8b95-420d-498a-8ae9-456f0fc249cc button.colab-df-convert');\n",
              "        buttonEl.style.display =\n",
              "          google.colab.kernel.accessAllowed ? 'block' : 'none';\n",
              "\n",
              "        async function convertToInteractive(key) {\n",
              "          const element = document.querySelector('#df-4b3a8b95-420d-498a-8ae9-456f0fc249cc');\n",
              "          const dataTable =\n",
              "            await google.colab.kernel.invokeFunction('convertToInteractive',\n",
              "                                                     [key], {});\n",
              "          if (!dataTable) return;\n",
              "\n",
              "          const docLinkHtml = 'Like what you see? Visit the ' +\n",
              "            '<a target=\"_blank\" href=https://colab.research.google.com/notebooks/data_table.ipynb>data table notebook</a>'\n",
              "            + ' to learn more about interactive tables.';\n",
              "          element.innerHTML = '';\n",
              "          dataTable['output_type'] = 'display_data';\n",
              "          await google.colab.output.renderOutput(dataTable, element);\n",
              "          const docLink = document.createElement('div');\n",
              "          docLink.innerHTML = docLinkHtml;\n",
              "          element.appendChild(docLink);\n",
              "        }\n",
              "      </script>\n",
              "    </div>\n",
              "  </div>\n",
              "  "
            ]
          },
          "metadata": {},
          "execution_count": 22
        }
      ]
    },
    {
      "cell_type": "code",
      "source": [
        "df_full.columns"
      ],
      "metadata": {
        "colab": {
          "base_uri": "https://localhost:8080/"
        },
        "id": "QnQYqggUoMVP",
        "outputId": "2049006c-2c7b-43a7-fafc-6b3bcc33af8d"
      },
      "execution_count": null,
      "outputs": [
        {
          "output_type": "execute_result",
          "data": {
            "text/plain": [
              "Index(['Unnamed: 0', 'raw_text', 'clean_text'], dtype='object')"
            ]
          },
          "metadata": {},
          "execution_count": 23
        }
      ]
    },
    {
      "cell_type": "code",
      "source": [
        "df_full = df_full.drop('Unnamed: 0', axis=1)\n",
        "\n",
        "df_full"
      ],
      "metadata": {
        "colab": {
          "base_uri": "https://localhost:8080/",
          "height": 424
        },
        "id": "AVYla0dzoMXk",
        "outputId": "75f4f5c0-f7a6-41ef-e5aa-22d8790a0fc1"
      },
      "execution_count": null,
      "outputs": [
        {
          "output_type": "execute_result",
          "data": {
            "text/plain": [
              "                                                raw_text  \\\n",
              "0      @NCatalyst19 @RattlerGator This fake virus is ...   \n",
              "1      @propublica I now think Biden should keep Trum...   \n",
              "2      @Acosta Hopefully it's a foregone conclusion t...   \n",
              "3      @realDonaldTrump @POTUS I don't trust the @FBI...   \n",
              "4      President-elect Joe Biden is predicting a “ble...   \n",
              "...                                                  ...   \n",
              "17626  @MSNBC I mean shit, what if Biden turns out to...   \n",
              "17627  Pentagon blocks visits to military spy agencie...   \n",
              "17628  CNN Exclusive: Biden says he will ask American...   \n",
              "17629  @Tomboliko @the_resistor @realDonaldTrump Hill...   \n",
              "17630  Biden says Trump should attend his inauguratio...   \n",
              "\n",
              "                                              clean_text  \n",
              "0      ncatalyst rattlergator fake virus deep state g...  \n",
              "1      propublica think biden keep trump anti deep st...  \n",
              "2      acosta hopefully foregone conclusion president...  \n",
              "3      realdonaldtrump potus trust fbi wray even look...  \n",
              "4      president elect joe biden predicting bleak fut...  \n",
              "...                                                  ...  \n",
              "17626  msnbc mean shit biden turn disaster people flo...  \n",
              "17627  pentagon block visit military spy agency biden...  \n",
              "17628  cnn exclusive biden say ask american wear mask...  \n",
              "17629  tomboliko resistor realdonaldtrump hillary che...  \n",
              "17630  biden say trump attend inauguration sake ameri...  \n",
              "\n",
              "[17631 rows x 2 columns]"
            ],
            "text/html": [
              "\n",
              "  <div id=\"df-e5da9524-6a50-4db9-bd15-1d286101de77\">\n",
              "    <div class=\"colab-df-container\">\n",
              "      <div>\n",
              "<style scoped>\n",
              "    .dataframe tbody tr th:only-of-type {\n",
              "        vertical-align: middle;\n",
              "    }\n",
              "\n",
              "    .dataframe tbody tr th {\n",
              "        vertical-align: top;\n",
              "    }\n",
              "\n",
              "    .dataframe thead th {\n",
              "        text-align: right;\n",
              "    }\n",
              "</style>\n",
              "<table border=\"1\" class=\"dataframe\">\n",
              "  <thead>\n",
              "    <tr style=\"text-align: right;\">\n",
              "      <th></th>\n",
              "      <th>raw_text</th>\n",
              "      <th>clean_text</th>\n",
              "    </tr>\n",
              "  </thead>\n",
              "  <tbody>\n",
              "    <tr>\n",
              "      <th>0</th>\n",
              "      <td>@NCatalyst19 @RattlerGator This fake virus is ...</td>\n",
              "      <td>ncatalyst rattlergator fake virus deep state g...</td>\n",
              "    </tr>\n",
              "    <tr>\n",
              "      <th>1</th>\n",
              "      <td>@propublica I now think Biden should keep Trum...</td>\n",
              "      <td>propublica think biden keep trump anti deep st...</td>\n",
              "    </tr>\n",
              "    <tr>\n",
              "      <th>2</th>\n",
              "      <td>@Acosta Hopefully it's a foregone conclusion t...</td>\n",
              "      <td>acosta hopefully foregone conclusion president...</td>\n",
              "    </tr>\n",
              "    <tr>\n",
              "      <th>3</th>\n",
              "      <td>@realDonaldTrump @POTUS I don't trust the @FBI...</td>\n",
              "      <td>realdonaldtrump potus trust fbi wray even look...</td>\n",
              "    </tr>\n",
              "    <tr>\n",
              "      <th>4</th>\n",
              "      <td>President-elect Joe Biden is predicting a “ble...</td>\n",
              "      <td>president elect joe biden predicting bleak fut...</td>\n",
              "    </tr>\n",
              "    <tr>\n",
              "      <th>...</th>\n",
              "      <td>...</td>\n",
              "      <td>...</td>\n",
              "    </tr>\n",
              "    <tr>\n",
              "      <th>17626</th>\n",
              "      <td>@MSNBC I mean shit, what if Biden turns out to...</td>\n",
              "      <td>msnbc mean shit biden turn disaster people flo...</td>\n",
              "    </tr>\n",
              "    <tr>\n",
              "      <th>17627</th>\n",
              "      <td>Pentagon blocks visits to military spy agencie...</td>\n",
              "      <td>pentagon block visit military spy agency biden...</td>\n",
              "    </tr>\n",
              "    <tr>\n",
              "      <th>17628</th>\n",
              "      <td>CNN Exclusive: Biden says he will ask American...</td>\n",
              "      <td>cnn exclusive biden say ask american wear mask...</td>\n",
              "    </tr>\n",
              "    <tr>\n",
              "      <th>17629</th>\n",
              "      <td>@Tomboliko @the_resistor @realDonaldTrump Hill...</td>\n",
              "      <td>tomboliko resistor realdonaldtrump hillary che...</td>\n",
              "    </tr>\n",
              "    <tr>\n",
              "      <th>17630</th>\n",
              "      <td>Biden says Trump should attend his inauguratio...</td>\n",
              "      <td>biden say trump attend inauguration sake ameri...</td>\n",
              "    </tr>\n",
              "  </tbody>\n",
              "</table>\n",
              "<p>17631 rows × 2 columns</p>\n",
              "</div>\n",
              "      <button class=\"colab-df-convert\" onclick=\"convertToInteractive('df-e5da9524-6a50-4db9-bd15-1d286101de77')\"\n",
              "              title=\"Convert this dataframe to an interactive table.\"\n",
              "              style=\"display:none;\">\n",
              "        \n",
              "  <svg xmlns=\"http://www.w3.org/2000/svg\" height=\"24px\"viewBox=\"0 0 24 24\"\n",
              "       width=\"24px\">\n",
              "    <path d=\"M0 0h24v24H0V0z\" fill=\"none\"/>\n",
              "    <path d=\"M18.56 5.44l.94 2.06.94-2.06 2.06-.94-2.06-.94-.94-2.06-.94 2.06-2.06.94zm-11 1L8.5 8.5l.94-2.06 2.06-.94-2.06-.94L8.5 2.5l-.94 2.06-2.06.94zm10 10l.94 2.06.94-2.06 2.06-.94-2.06-.94-.94-2.06-.94 2.06-2.06.94z\"/><path d=\"M17.41 7.96l-1.37-1.37c-.4-.4-.92-.59-1.43-.59-.52 0-1.04.2-1.43.59L10.3 9.45l-7.72 7.72c-.78.78-.78 2.05 0 2.83L4 21.41c.39.39.9.59 1.41.59.51 0 1.02-.2 1.41-.59l7.78-7.78 2.81-2.81c.8-.78.8-2.07 0-2.86zM5.41 20L4 18.59l7.72-7.72 1.47 1.35L5.41 20z\"/>\n",
              "  </svg>\n",
              "      </button>\n",
              "      \n",
              "  <style>\n",
              "    .colab-df-container {\n",
              "      display:flex;\n",
              "      flex-wrap:wrap;\n",
              "      gap: 12px;\n",
              "    }\n",
              "\n",
              "    .colab-df-convert {\n",
              "      background-color: #E8F0FE;\n",
              "      border: none;\n",
              "      border-radius: 50%;\n",
              "      cursor: pointer;\n",
              "      display: none;\n",
              "      fill: #1967D2;\n",
              "      height: 32px;\n",
              "      padding: 0 0 0 0;\n",
              "      width: 32px;\n",
              "    }\n",
              "\n",
              "    .colab-df-convert:hover {\n",
              "      background-color: #E2EBFA;\n",
              "      box-shadow: 0px 1px 2px rgba(60, 64, 67, 0.3), 0px 1px 3px 1px rgba(60, 64, 67, 0.15);\n",
              "      fill: #174EA6;\n",
              "    }\n",
              "\n",
              "    [theme=dark] .colab-df-convert {\n",
              "      background-color: #3B4455;\n",
              "      fill: #D2E3FC;\n",
              "    }\n",
              "\n",
              "    [theme=dark] .colab-df-convert:hover {\n",
              "      background-color: #434B5C;\n",
              "      box-shadow: 0px 1px 3px 1px rgba(0, 0, 0, 0.15);\n",
              "      filter: drop-shadow(0px 1px 2px rgba(0, 0, 0, 0.3));\n",
              "      fill: #FFFFFF;\n",
              "    }\n",
              "  </style>\n",
              "\n",
              "      <script>\n",
              "        const buttonEl =\n",
              "          document.querySelector('#df-e5da9524-6a50-4db9-bd15-1d286101de77 button.colab-df-convert');\n",
              "        buttonEl.style.display =\n",
              "          google.colab.kernel.accessAllowed ? 'block' : 'none';\n",
              "\n",
              "        async function convertToInteractive(key) {\n",
              "          const element = document.querySelector('#df-e5da9524-6a50-4db9-bd15-1d286101de77');\n",
              "          const dataTable =\n",
              "            await google.colab.kernel.invokeFunction('convertToInteractive',\n",
              "                                                     [key], {});\n",
              "          if (!dataTable) return;\n",
              "\n",
              "          const docLinkHtml = 'Like what you see? Visit the ' +\n",
              "            '<a target=\"_blank\" href=https://colab.research.google.com/notebooks/data_table.ipynb>data table notebook</a>'\n",
              "            + ' to learn more about interactive tables.';\n",
              "          element.innerHTML = '';\n",
              "          dataTable['output_type'] = 'display_data';\n",
              "          await google.colab.output.renderOutput(dataTable, element);\n",
              "          const docLink = document.createElement('div');\n",
              "          docLink.innerHTML = docLinkHtml;\n",
              "          element.appendChild(docLink);\n",
              "        }\n",
              "      </script>\n",
              "    </div>\n",
              "  </div>\n",
              "  "
            ]
          },
          "metadata": {},
          "execution_count": 24
        }
      ]
    },
    {
      "cell_type": "markdown",
      "source": [
        "### Vectorize data"
      ],
      "metadata": {
        "id": "iRf_VBDCoPLH"
      }
    },
    {
      "cell_type": "code",
      "source": [
        "full_vectors = vectorizer.transform(df_full['clean_text'])"
      ],
      "metadata": {
        "id": "wLkVyYv8oMZl"
      },
      "execution_count": null,
      "outputs": []
    },
    {
      "cell_type": "markdown",
      "source": [
        "### ComplementNB sentiment analysis"
      ],
      "metadata": {
        "id": "iVC_qAEQoTU6"
      }
    },
    {
      "cell_type": "code",
      "source": [
        "full_prediction_linear = CNB.predict(full_vectors)"
      ],
      "metadata": {
        "id": "CY50rvu4oMb4"
      },
      "execution_count": null,
      "outputs": []
    },
    {
      "cell_type": "code",
      "source": [
        "full_prediction_linear"
      ],
      "metadata": {
        "colab": {
          "base_uri": "https://localhost:8080/"
        },
        "id": "tOL0QjEMoMf-",
        "outputId": "52dde1ef-3777-4cca-8042-38d7c8f5bda2"
      },
      "execution_count": null,
      "outputs": [
        {
          "output_type": "execute_result",
          "data": {
            "text/plain": [
              "array([2, 0, 1, ..., 2, 0, 2])"
            ]
          },
          "metadata": {},
          "execution_count": 27
        }
      ]
    },
    {
      "cell_type": "code",
      "source": [
        "# add cnb scores to dataframe\n",
        "df_full['cnb_score'] = full_prediction_linear.tolist()\n",
        "\n",
        "df_full"
      ],
      "metadata": {
        "colab": {
          "base_uri": "https://localhost:8080/",
          "height": 468
        },
        "id": "eTC98bxKoMid",
        "outputId": "700c8607-7962-49ae-cd2b-2a0b00cd6cd1"
      },
      "execution_count": null,
      "outputs": [
        {
          "output_type": "execute_result",
          "data": {
            "text/plain": [
              "                                                raw_text  \\\n",
              "0      @NCatalyst19 @RattlerGator This fake virus is ...   \n",
              "1      @propublica I now think Biden should keep Trum...   \n",
              "2      @Acosta Hopefully it's a foregone conclusion t...   \n",
              "3      @realDonaldTrump @POTUS I don't trust the @FBI...   \n",
              "4      President-elect Joe Biden is predicting a “ble...   \n",
              "...                                                  ...   \n",
              "17626  @MSNBC I mean shit, what if Biden turns out to...   \n",
              "17627  Pentagon blocks visits to military spy agencie...   \n",
              "17628  CNN Exclusive: Biden says he will ask American...   \n",
              "17629  @Tomboliko @the_resistor @realDonaldTrump Hill...   \n",
              "17630  Biden says Trump should attend his inauguratio...   \n",
              "\n",
              "                                              clean_text  cnb_score  \n",
              "0      ncatalyst rattlergator fake virus deep state g...          2  \n",
              "1      propublica think biden keep trump anti deep st...          0  \n",
              "2      acosta hopefully foregone conclusion president...          1  \n",
              "3      realdonaldtrump potus trust fbi wray even look...          0  \n",
              "4      president elect joe biden predicting bleak fut...          2  \n",
              "...                                                  ...        ...  \n",
              "17626  msnbc mean shit biden turn disaster people flo...          0  \n",
              "17627  pentagon block visit military spy agency biden...          2  \n",
              "17628  cnn exclusive biden say ask american wear mask...          2  \n",
              "17629  tomboliko resistor realdonaldtrump hillary che...          0  \n",
              "17630  biden say trump attend inauguration sake ameri...          2  \n",
              "\n",
              "[17631 rows x 3 columns]"
            ],
            "text/html": [
              "\n",
              "  <div id=\"df-a316b0e0-dc9a-4436-934d-50e1a6684aef\">\n",
              "    <div class=\"colab-df-container\">\n",
              "      <div>\n",
              "<style scoped>\n",
              "    .dataframe tbody tr th:only-of-type {\n",
              "        vertical-align: middle;\n",
              "    }\n",
              "\n",
              "    .dataframe tbody tr th {\n",
              "        vertical-align: top;\n",
              "    }\n",
              "\n",
              "    .dataframe thead th {\n",
              "        text-align: right;\n",
              "    }\n",
              "</style>\n",
              "<table border=\"1\" class=\"dataframe\">\n",
              "  <thead>\n",
              "    <tr style=\"text-align: right;\">\n",
              "      <th></th>\n",
              "      <th>raw_text</th>\n",
              "      <th>clean_text</th>\n",
              "      <th>cnb_score</th>\n",
              "    </tr>\n",
              "  </thead>\n",
              "  <tbody>\n",
              "    <tr>\n",
              "      <th>0</th>\n",
              "      <td>@NCatalyst19 @RattlerGator This fake virus is ...</td>\n",
              "      <td>ncatalyst rattlergator fake virus deep state g...</td>\n",
              "      <td>2</td>\n",
              "    </tr>\n",
              "    <tr>\n",
              "      <th>1</th>\n",
              "      <td>@propublica I now think Biden should keep Trum...</td>\n",
              "      <td>propublica think biden keep trump anti deep st...</td>\n",
              "      <td>0</td>\n",
              "    </tr>\n",
              "    <tr>\n",
              "      <th>2</th>\n",
              "      <td>@Acosta Hopefully it's a foregone conclusion t...</td>\n",
              "      <td>acosta hopefully foregone conclusion president...</td>\n",
              "      <td>1</td>\n",
              "    </tr>\n",
              "    <tr>\n",
              "      <th>3</th>\n",
              "      <td>@realDonaldTrump @POTUS I don't trust the @FBI...</td>\n",
              "      <td>realdonaldtrump potus trust fbi wray even look...</td>\n",
              "      <td>0</td>\n",
              "    </tr>\n",
              "    <tr>\n",
              "      <th>4</th>\n",
              "      <td>President-elect Joe Biden is predicting a “ble...</td>\n",
              "      <td>president elect joe biden predicting bleak fut...</td>\n",
              "      <td>2</td>\n",
              "    </tr>\n",
              "    <tr>\n",
              "      <th>...</th>\n",
              "      <td>...</td>\n",
              "      <td>...</td>\n",
              "      <td>...</td>\n",
              "    </tr>\n",
              "    <tr>\n",
              "      <th>17626</th>\n",
              "      <td>@MSNBC I mean shit, what if Biden turns out to...</td>\n",
              "      <td>msnbc mean shit biden turn disaster people flo...</td>\n",
              "      <td>0</td>\n",
              "    </tr>\n",
              "    <tr>\n",
              "      <th>17627</th>\n",
              "      <td>Pentagon blocks visits to military spy agencie...</td>\n",
              "      <td>pentagon block visit military spy agency biden...</td>\n",
              "      <td>2</td>\n",
              "    </tr>\n",
              "    <tr>\n",
              "      <th>17628</th>\n",
              "      <td>CNN Exclusive: Biden says he will ask American...</td>\n",
              "      <td>cnn exclusive biden say ask american wear mask...</td>\n",
              "      <td>2</td>\n",
              "    </tr>\n",
              "    <tr>\n",
              "      <th>17629</th>\n",
              "      <td>@Tomboliko @the_resistor @realDonaldTrump Hill...</td>\n",
              "      <td>tomboliko resistor realdonaldtrump hillary che...</td>\n",
              "      <td>0</td>\n",
              "    </tr>\n",
              "    <tr>\n",
              "      <th>17630</th>\n",
              "      <td>Biden says Trump should attend his inauguratio...</td>\n",
              "      <td>biden say trump attend inauguration sake ameri...</td>\n",
              "      <td>2</td>\n",
              "    </tr>\n",
              "  </tbody>\n",
              "</table>\n",
              "<p>17631 rows × 3 columns</p>\n",
              "</div>\n",
              "      <button class=\"colab-df-convert\" onclick=\"convertToInteractive('df-a316b0e0-dc9a-4436-934d-50e1a6684aef')\"\n",
              "              title=\"Convert this dataframe to an interactive table.\"\n",
              "              style=\"display:none;\">\n",
              "        \n",
              "  <svg xmlns=\"http://www.w3.org/2000/svg\" height=\"24px\"viewBox=\"0 0 24 24\"\n",
              "       width=\"24px\">\n",
              "    <path d=\"M0 0h24v24H0V0z\" fill=\"none\"/>\n",
              "    <path d=\"M18.56 5.44l.94 2.06.94-2.06 2.06-.94-2.06-.94-.94-2.06-.94 2.06-2.06.94zm-11 1L8.5 8.5l.94-2.06 2.06-.94-2.06-.94L8.5 2.5l-.94 2.06-2.06.94zm10 10l.94 2.06.94-2.06 2.06-.94-2.06-.94-.94-2.06-.94 2.06-2.06.94z\"/><path d=\"M17.41 7.96l-1.37-1.37c-.4-.4-.92-.59-1.43-.59-.52 0-1.04.2-1.43.59L10.3 9.45l-7.72 7.72c-.78.78-.78 2.05 0 2.83L4 21.41c.39.39.9.59 1.41.59.51 0 1.02-.2 1.41-.59l7.78-7.78 2.81-2.81c.8-.78.8-2.07 0-2.86zM5.41 20L4 18.59l7.72-7.72 1.47 1.35L5.41 20z\"/>\n",
              "  </svg>\n",
              "      </button>\n",
              "      \n",
              "  <style>\n",
              "    .colab-df-container {\n",
              "      display:flex;\n",
              "      flex-wrap:wrap;\n",
              "      gap: 12px;\n",
              "    }\n",
              "\n",
              "    .colab-df-convert {\n",
              "      background-color: #E8F0FE;\n",
              "      border: none;\n",
              "      border-radius: 50%;\n",
              "      cursor: pointer;\n",
              "      display: none;\n",
              "      fill: #1967D2;\n",
              "      height: 32px;\n",
              "      padding: 0 0 0 0;\n",
              "      width: 32px;\n",
              "    }\n",
              "\n",
              "    .colab-df-convert:hover {\n",
              "      background-color: #E2EBFA;\n",
              "      box-shadow: 0px 1px 2px rgba(60, 64, 67, 0.3), 0px 1px 3px 1px rgba(60, 64, 67, 0.15);\n",
              "      fill: #174EA6;\n",
              "    }\n",
              "\n",
              "    [theme=dark] .colab-df-convert {\n",
              "      background-color: #3B4455;\n",
              "      fill: #D2E3FC;\n",
              "    }\n",
              "\n",
              "    [theme=dark] .colab-df-convert:hover {\n",
              "      background-color: #434B5C;\n",
              "      box-shadow: 0px 1px 3px 1px rgba(0, 0, 0, 0.15);\n",
              "      filter: drop-shadow(0px 1px 2px rgba(0, 0, 0, 0.3));\n",
              "      fill: #FFFFFF;\n",
              "    }\n",
              "  </style>\n",
              "\n",
              "      <script>\n",
              "        const buttonEl =\n",
              "          document.querySelector('#df-a316b0e0-dc9a-4436-934d-50e1a6684aef button.colab-df-convert');\n",
              "        buttonEl.style.display =\n",
              "          google.colab.kernel.accessAllowed ? 'block' : 'none';\n",
              "\n",
              "        async function convertToInteractive(key) {\n",
              "          const element = document.querySelector('#df-a316b0e0-dc9a-4436-934d-50e1a6684aef');\n",
              "          const dataTable =\n",
              "            await google.colab.kernel.invokeFunction('convertToInteractive',\n",
              "                                                     [key], {});\n",
              "          if (!dataTable) return;\n",
              "\n",
              "          const docLinkHtml = 'Like what you see? Visit the ' +\n",
              "            '<a target=\"_blank\" href=https://colab.research.google.com/notebooks/data_table.ipynb>data table notebook</a>'\n",
              "            + ' to learn more about interactive tables.';\n",
              "          element.innerHTML = '';\n",
              "          dataTable['output_type'] = 'display_data';\n",
              "          await google.colab.output.renderOutput(dataTable, element);\n",
              "          const docLink = document.createElement('div');\n",
              "          docLink.innerHTML = docLinkHtml;\n",
              "          element.appendChild(docLink);\n",
              "        }\n",
              "      </script>\n",
              "    </div>\n",
              "  </div>\n",
              "  "
            ]
          },
          "metadata": {},
          "execution_count": 28
        }
      ]
    },
    {
      "cell_type": "markdown",
      "source": [
        "### Results summary"
      ],
      "metadata": {
        "id": "yyH2LzzpolJp"
      }
    },
    {
      "cell_type": "code",
      "source": [
        "total_counts = len(df_full.index)\n",
        "\n",
        "total_counts"
      ],
      "metadata": {
        "colab": {
          "base_uri": "https://localhost:8080/"
        },
        "id": "BGyDLnNKoMmQ",
        "outputId": "97c0c817-7072-4a48-9102-8b74dc7f1af3"
      },
      "execution_count": null,
      "outputs": [
        {
          "output_type": "execute_result",
          "data": {
            "text/plain": [
              "17631"
            ]
          },
          "metadata": {},
          "execution_count": 29
        }
      ]
    },
    {
      "cell_type": "code",
      "source": [
        "df_full['cnb_score'].unique()"
      ],
      "metadata": {
        "colab": {
          "base_uri": "https://localhost:8080/"
        },
        "id": "V9bhIN_uoMqF",
        "outputId": "e11da2b6-5358-4a39-f8a2-128e9d720f21"
      },
      "execution_count": null,
      "outputs": [
        {
          "output_type": "execute_result",
          "data": {
            "text/plain": [
              "array([2, 0, 1])"
            ]
          },
          "metadata": {},
          "execution_count": 30
        }
      ]
    },
    {
      "cell_type": "code",
      "source": [
        "cnb_counts = df_full['cnb_score'].value_counts()\n",
        "\n",
        "cnb_counts"
      ],
      "metadata": {
        "colab": {
          "base_uri": "https://localhost:8080/"
        },
        "id": "gFIWFv1woMyK",
        "outputId": "2fff59c8-af64-4fcb-d507-9a30ba7a6afc"
      },
      "execution_count": null,
      "outputs": [
        {
          "output_type": "execute_result",
          "data": {
            "text/plain": [
              "0    8355\n",
              "1    5078\n",
              "2    4198\n",
              "Name: cnb_score, dtype: int64"
            ]
          },
          "metadata": {},
          "execution_count": 31
        }
      ]
    },
    {
      "cell_type": "code",
      "source": [
        "neg_counts = df_full['cnb_score'].value_counts()[0]\n",
        "\n",
        "neg_counts"
      ],
      "metadata": {
        "colab": {
          "base_uri": "https://localhost:8080/"
        },
        "id": "6fPi95MUoqkb",
        "outputId": "8ce6098b-4f8b-473b-8b41-3ea4b9700e4b"
      },
      "execution_count": null,
      "outputs": [
        {
          "output_type": "execute_result",
          "data": {
            "text/plain": [
              "8355"
            ]
          },
          "metadata": {},
          "execution_count": 32
        }
      ]
    },
    {
      "cell_type": "code",
      "source": [
        "pos_counts = df_full['cnb_score'].value_counts()[1]\n",
        "\n",
        "pos_counts"
      ],
      "metadata": {
        "colab": {
          "base_uri": "https://localhost:8080/"
        },
        "id": "G2daSdk8oqor",
        "outputId": "dada3f36-e9e2-4b76-a0b3-d57f240ac679"
      },
      "execution_count": null,
      "outputs": [
        {
          "output_type": "execute_result",
          "data": {
            "text/plain": [
              "5078"
            ]
          },
          "metadata": {},
          "execution_count": 33
        }
      ]
    },
    {
      "cell_type": "code",
      "source": [
        "neu_counts = df_full['cnb_score'].value_counts()[2]\n",
        "\n",
        "neu_counts"
      ],
      "metadata": {
        "colab": {
          "base_uri": "https://localhost:8080/"
        },
        "id": "0q3V8OcDoqrJ",
        "outputId": "33e23ec4-c36a-472a-d51e-9a7ce403d10e"
      },
      "execution_count": null,
      "outputs": [
        {
          "output_type": "execute_result",
          "data": {
            "text/plain": [
              "4198"
            ]
          },
          "metadata": {},
          "execution_count": 34
        }
      ]
    },
    {
      "cell_type": "code",
      "source": [
        "print(\"Total number of tweets: \" + str(total_counts))\n",
        "print('\\n')\n",
        "print(\"Number of negative tweets: \" + str(neg_counts))\n",
        "print(\"Number of positive tweets: \" + str(pos_counts))\n",
        "print(\"Number of neutral tweets: \" + str(neu_counts))"
      ],
      "metadata": {
        "colab": {
          "base_uri": "https://localhost:8080/"
        },
        "id": "vtIkL2R-oqtc",
        "outputId": "90e9bb31-bf49-4bb5-9ee2-808be0a5d736"
      },
      "execution_count": null,
      "outputs": [
        {
          "output_type": "stream",
          "name": "stdout",
          "text": [
            "Total number of tweets: 17631\n",
            "\n",
            "\n",
            "Number of negative tweets: 8355\n",
            "Number of positive tweets: 5078\n",
            "Number of neutral tweets: 4198\n"
          ]
        }
      ]
    },
    {
      "cell_type": "code",
      "source": [
        "df_full['cnb_score'].value_counts().plot.bar()"
      ],
      "metadata": {
        "colab": {
          "base_uri": "https://localhost:8080/",
          "height": 279
        },
        "id": "rWt_2Kg7oqvz",
        "outputId": "699e9b47-d98b-44b8-a8f3-af209d958034"
      },
      "execution_count": null,
      "outputs": [
        {
          "output_type": "execute_result",
          "data": {
            "text/plain": [
              "<matplotlib.axes._subplots.AxesSubplot at 0x7fe1c16fecd0>"
            ]
          },
          "metadata": {},
          "execution_count": 36
        },
        {
          "output_type": "display_data",
          "data": {
            "text/plain": [
              "<Figure size 432x288 with 1 Axes>"
            ],
            "image/png": "[encoded data removed]"
          },
          "metadata": {
            "needs_background": "light"
          }
        }
      ]
    },
    {
      "cell_type": "markdown",
      "source": [
        "### Export results"
      ],
      "metadata": {
        "id": "E_27XZeHozIP"
      }
    },
    {
      "cell_type": "code",
      "source": [
        "# full data\n",
        "cnb_file_name = 'cnb_results_full.csv'\n",
        "  \n",
        "df_full.to_csv(cnb_file_name)"
      ],
      "metadata": {
        "id": "G8cJ5zn9o0VX"
      },
      "execution_count": null,
      "outputs": []
    }
  ]
}