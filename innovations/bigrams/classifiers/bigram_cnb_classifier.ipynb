{
  "nbformat": 4,
  "nbformat_minor": 0,
  "metadata": {
    "colab": {
      "provenance": [],
      "collapsed_sections": [
        "Zpv3MvD0lleh"
      ]
    },
    "kernelspec": {
      "name": "python3",
      "display_name": "Python 3"
    },
    "language_info": {
      "name": "python"
    }
  },
  "cells": [
    {
      "cell_type": "markdown",
      "source": [
        "# Sentiment Analysis with Complement Naive Bayes + Bi-gram\n",
        "\n",
        "* python script for sentiment analysis with ComplementNB classifier + bigram"
      ],
      "metadata": {
        "id": "v65iy4IuktiZ"
      }
    },
    {
      "cell_type": "markdown",
      "source": [
        "## Install and import required libraries and packages"
      ],
      "metadata": {
        "id": "HAMDj4rXlNwc"
      }
    },
    {
      "cell_type": "code",
      "execution_count": 1,
      "metadata": {
        "id": "jXK72aiCzpIv"
      },
      "outputs": [],
      "source": [
        "from google.colab import drive\n",
        "import pandas as pd\n",
        "from sklearn.feature_extraction.text import TfidfVectorizer\n",
        "import time\n",
        "from sklearn.naive_bayes import ComplementNB\n",
        "from sklearn.metrics import accuracy_score\n",
        "from sklearn.metrics import classification_report\n",
        "import pickle"
      ]
    },
    {
      "cell_type": "markdown",
      "source": [
        "## ComplementNB classifier on labeled dataset\n",
        "\n",
        "* train dataset: 80% of manually labeled data\n",
        "* test dataset: 20% of manually labeled data"
      ],
      "metadata": {
        "id": "1Sjd_i_XlXrS"
      }
    },
    {
      "cell_type": "markdown",
      "source": [
        "### Read dataset"
      ],
      "metadata": {
        "id": "Zpv3MvD0lleh"
      }
    },
    {
      "cell_type": "code",
      "source": [
        "drive.mount('/content/drive')"
      ],
      "metadata": {
        "colab": {
          "base_uri": "https://localhost:8080/"
        },
        "id": "z4CsU-kszuM7",
        "outputId": "c1a36d3e-5a34-4e68-feda-843b6fce3f93"
      },
      "execution_count": 2,
      "outputs": [
        {
          "output_type": "stream",
          "name": "stdout",
          "text": [
            "Mounted at /content/drive\n"
          ]
        }
      ]
    },
    {
      "cell_type": "code",
      "source": [
        "# train data\n",
        "train_df = pd.read_csv('/content/drive/MyDrive/Colab Notebooks/nlp project/Sentiment Analysis/final datasets/biden_tweets_labeled_train.csv')\n",
        "\n",
        "train_df"
      ],
      "metadata": {
        "colab": {
          "base_uri": "https://localhost:8080/",
          "height": 0
        },
        "id": "kS_DdL2lzuPZ",
        "outputId": "7f2c3c82-2a96-4b89-aec3-f2a11f356310"
      },
      "execution_count": 3,
      "outputs": [
        {
          "output_type": "execute_result",
          "data": {
            "text/plain": [
              "      Unnamed: 0                                           raw_text  \\\n",
              "0           1320  @Sundae_Gurl Biden's first move should be to p...   \n",
              "1            782  @cobiscool @LilNasX Do you think joe Biden dri...   \n",
              "2           1128  @ProudGayPatriot Don't worry, in the sense tha...   \n",
              "3            199  @kclasgens @realDonaldTrump Not alone he didn'...   \n",
              "4            704  How Biden’s Climate Plans Will Shake Up Global...   \n",
              "...          ...                                                ...   \n",
              "1407        1130  @CNBC @CNBCPro If Biden comes to power, the go...   \n",
              "1408        1294  @KDFildesMBA We have a real President, Biden a...   \n",
              "1409         860  What I care about at least as much, maybe more...   \n",
              "1410        1459  Joe Biden still doesn’t realize what the voter...   \n",
              "1411        1126  @EpochTimes @JocelynBenson So does that mean i...   \n",
              "\n",
              "                                             clean_text  subjectivity  \\\n",
              "0     sundae gurl biden first move pardon hunter let...             0   \n",
              "1      cobiscool lilnasx think joe biden drink caprisun             0   \n",
              "2     proudgaypatriot worry sense not getting electi...             1   \n",
              "3     kclasgens realdonaldtrump not alone right even...             1   \n",
              "4         biden climate plan shake global energy market             0   \n",
              "...                                                 ...           ...   \n",
              "1407    cnbc cnbcpro biden come power gold price return             1   \n",
              "1408  kdfildesmba real president biden vice harris e...             1   \n",
              "1409  care least much maybe whether biden trump pres...             0   \n",
              "1410  joe biden still realize voter democrat lost ac...             1   \n",
              "1411  epochtimes jocelynbenson mean delete election ...             1   \n",
              "\n",
              "      polarity  \n",
              "0            2  \n",
              "1            2  \n",
              "2            1  \n",
              "3            1  \n",
              "4            2  \n",
              "...        ...  \n",
              "1407         1  \n",
              "1408         1  \n",
              "1409         2  \n",
              "1410         0  \n",
              "1411         0  \n",
              "\n",
              "[1412 rows x 5 columns]"
            ],
            "text/html": [
              "\n",
              "  <div id=\"df-df3e8d61-afb4-4a64-b1a3-ae1e03f4dbd4\">\n",
              "    <div class=\"colab-df-container\">\n",
              "      <div>\n",
              "<style scoped>\n",
              "    .dataframe tbody tr th:only-of-type {\n",
              "        vertical-align: middle;\n",
              "    }\n",
              "\n",
              "    .dataframe tbody tr th {\n",
              "        vertical-align: top;\n",
              "    }\n",
              "\n",
              "    .dataframe thead th {\n",
              "        text-align: right;\n",
              "    }\n",
              "</style>\n",
              "<table border=\"1\" class=\"dataframe\">\n",
              "  <thead>\n",
              "    <tr style=\"text-align: right;\">\n",
              "      <th></th>\n",
              "      <th>Unnamed: 0</th>\n",
              "      <th>raw_text</th>\n",
              "      <th>clean_text</th>\n",
              "      <th>subjectivity</th>\n",
              "      <th>polarity</th>\n",
              "    </tr>\n",
              "  </thead>\n",
              "  <tbody>\n",
              "    <tr>\n",
              "      <th>0</th>\n",
              "      <td>1320</td>\n",
              "      <td>@Sundae_Gurl Biden's first move should be to p...</td>\n",
              "      <td>sundae gurl biden first move pardon hunter let...</td>\n",
              "      <td>0</td>\n",
              "      <td>2</td>\n",
              "    </tr>\n",
              "    <tr>\n",
              "      <th>1</th>\n",
              "      <td>782</td>\n",
              "      <td>@cobiscool @LilNasX Do you think joe Biden dri...</td>\n",
              "      <td>cobiscool lilnasx think joe biden drink caprisun</td>\n",
              "      <td>0</td>\n",
              "      <td>2</td>\n",
              "    </tr>\n",
              "    <tr>\n",
              "      <th>2</th>\n",
              "      <td>1128</td>\n",
              "      <td>@ProudGayPatriot Don't worry, in the sense tha...</td>\n",
              "      <td>proudgaypatriot worry sense not getting electi...</td>\n",
              "      <td>1</td>\n",
              "      <td>1</td>\n",
              "    </tr>\n",
              "    <tr>\n",
              "      <th>3</th>\n",
              "      <td>199</td>\n",
              "      <td>@kclasgens @realDonaldTrump Not alone he didn'...</td>\n",
              "      <td>kclasgens realdonaldtrump not alone right even...</td>\n",
              "      <td>1</td>\n",
              "      <td>1</td>\n",
              "    </tr>\n",
              "    <tr>\n",
              "      <th>4</th>\n",
              "      <td>704</td>\n",
              "      <td>How Biden’s Climate Plans Will Shake Up Global...</td>\n",
              "      <td>biden climate plan shake global energy market</td>\n",
              "      <td>0</td>\n",
              "      <td>2</td>\n",
              "    </tr>\n",
              "    <tr>\n",
              "      <th>...</th>\n",
              "      <td>...</td>\n",
              "      <td>...</td>\n",
              "      <td>...</td>\n",
              "      <td>...</td>\n",
              "      <td>...</td>\n",
              "    </tr>\n",
              "    <tr>\n",
              "      <th>1407</th>\n",
              "      <td>1130</td>\n",
              "      <td>@CNBC @CNBCPro If Biden comes to power, the go...</td>\n",
              "      <td>cnbc cnbcpro biden come power gold price return</td>\n",
              "      <td>1</td>\n",
              "      <td>1</td>\n",
              "    </tr>\n",
              "    <tr>\n",
              "      <th>1408</th>\n",
              "      <td>1294</td>\n",
              "      <td>@KDFildesMBA We have a real President, Biden a...</td>\n",
              "      <td>kdfildesmba real president biden vice harris e...</td>\n",
              "      <td>1</td>\n",
              "      <td>1</td>\n",
              "    </tr>\n",
              "    <tr>\n",
              "      <th>1409</th>\n",
              "      <td>860</td>\n",
              "      <td>What I care about at least as much, maybe more...</td>\n",
              "      <td>care least much maybe whether biden trump pres...</td>\n",
              "      <td>0</td>\n",
              "      <td>2</td>\n",
              "    </tr>\n",
              "    <tr>\n",
              "      <th>1410</th>\n",
              "      <td>1459</td>\n",
              "      <td>Joe Biden still doesn’t realize what the voter...</td>\n",
              "      <td>joe biden still realize voter democrat lost ac...</td>\n",
              "      <td>1</td>\n",
              "      <td>0</td>\n",
              "    </tr>\n",
              "    <tr>\n",
              "      <th>1411</th>\n",
              "      <td>1126</td>\n",
              "      <td>@EpochTimes @JocelynBenson So does that mean i...</td>\n",
              "      <td>epochtimes jocelynbenson mean delete election ...</td>\n",
              "      <td>1</td>\n",
              "      <td>0</td>\n",
              "    </tr>\n",
              "  </tbody>\n",
              "</table>\n",
              "<p>1412 rows × 5 columns</p>\n",
              "</div>\n",
              "      <button class=\"colab-df-convert\" onclick=\"convertToInteractive('df-df3e8d61-afb4-4a64-b1a3-ae1e03f4dbd4')\"\n",
              "              title=\"Convert this dataframe to an interactive table.\"\n",
              "              style=\"display:none;\">\n",
              "        \n",
              "  <svg xmlns=\"http://www.w3.org/2000/svg\" height=\"24px\"viewBox=\"0 0 24 24\"\n",
              "       width=\"24px\">\n",
              "    <path d=\"M0 0h24v24H0V0z\" fill=\"none\"/>\n",
              "    <path d=\"M18.56 5.44l.94 2.06.94-2.06 2.06-.94-2.06-.94-.94-2.06-.94 2.06-2.06.94zm-11 1L8.5 8.5l.94-2.06 2.06-.94-2.06-.94L8.5 2.5l-.94 2.06-2.06.94zm10 10l.94 2.06.94-2.06 2.06-.94-2.06-.94-.94-2.06-.94 2.06-2.06.94z\"/><path d=\"M17.41 7.96l-1.37-1.37c-.4-.4-.92-.59-1.43-.59-.52 0-1.04.2-1.43.59L10.3 9.45l-7.72 7.72c-.78.78-.78 2.05 0 2.83L4 21.41c.39.39.9.59 1.41.59.51 0 1.02-.2 1.41-.59l7.78-7.78 2.81-2.81c.8-.78.8-2.07 0-2.86zM5.41 20L4 18.59l7.72-7.72 1.47 1.35L5.41 20z\"/>\n",
              "  </svg>\n",
              "      </button>\n",
              "      \n",
              "  <style>\n",
              "    .colab-df-container {\n",
              "      display:flex;\n",
              "      flex-wrap:wrap;\n",
              "      gap: 12px;\n",
              "    }\n",
              "\n",
              "    .colab-df-convert {\n",
              "      background-color: #E8F0FE;\n",
              "      border: none;\n",
              "      border-radius: 50%;\n",
              "      cursor: pointer;\n",
              "      display: none;\n",
              "      fill: #1967D2;\n",
              "      height: 32px;\n",
              "      padding: 0 0 0 0;\n",
              "      width: 32px;\n",
              "    }\n",
              "\n",
              "    .colab-df-convert:hover {\n",
              "      background-color: #E2EBFA;\n",
              "      box-shadow: 0px 1px 2px rgba(60, 64, 67, 0.3), 0px 1px 3px 1px rgba(60, 64, 67, 0.15);\n",
              "      fill: #174EA6;\n",
              "    }\n",
              "\n",
              "    [theme=dark] .colab-df-convert {\n",
              "      background-color: #3B4455;\n",
              "      fill: #D2E3FC;\n",
              "    }\n",
              "\n",
              "    [theme=dark] .colab-df-convert:hover {\n",
              "      background-color: #434B5C;\n",
              "      box-shadow: 0px 1px 3px 1px rgba(0, 0, 0, 0.15);\n",
              "      filter: drop-shadow(0px 1px 2px rgba(0, 0, 0, 0.3));\n",
              "      fill: #FFFFFF;\n",
              "    }\n",
              "  </style>\n",
              "\n",
              "      <script>\n",
              "        const buttonEl =\n",
              "          document.querySelector('#df-df3e8d61-afb4-4a64-b1a3-ae1e03f4dbd4 button.colab-df-convert');\n",
              "        buttonEl.style.display =\n",
              "          google.colab.kernel.accessAllowed ? 'block' : 'none';\n",
              "\n",
              "        async function convertToInteractive(key) {\n",
              "          const element = document.querySelector('#df-df3e8d61-afb4-4a64-b1a3-ae1e03f4dbd4');\n",
              "          const dataTable =\n",
              "            await google.colab.kernel.invokeFunction('convertToInteractive',\n",
              "                                                     [key], {});\n",
              "          if (!dataTable) return;\n",
              "\n",
              "          const docLinkHtml = 'Like what you see? Visit the ' +\n",
              "            '<a target=\"_blank\" href=https://colab.research.google.com/notebooks/data_table.ipynb>data table notebook</a>'\n",
              "            + ' to learn more about interactive tables.';\n",
              "          element.innerHTML = '';\n",
              "          dataTable['output_type'] = 'display_data';\n",
              "          await google.colab.output.renderOutput(dataTable, element);\n",
              "          const docLink = document.createElement('div');\n",
              "          docLink.innerHTML = docLinkHtml;\n",
              "          element.appendChild(docLink);\n",
              "        }\n",
              "      </script>\n",
              "    </div>\n",
              "  </div>\n",
              "  "
            ]
          },
          "metadata": {},
          "execution_count": 3
        }
      ]
    },
    {
      "cell_type": "code",
      "source": [
        "train_df.columns"
      ],
      "metadata": {
        "colab": {
          "base_uri": "https://localhost:8080/"
        },
        "id": "eTrDPhwqzuRh",
        "outputId": "70e79ed3-f705-40b2-8f70-8f767a909243"
      },
      "execution_count": 4,
      "outputs": [
        {
          "output_type": "execute_result",
          "data": {
            "text/plain": [
              "Index(['Unnamed: 0', 'raw_text', 'clean_text', 'subjectivity', 'polarity'], dtype='object')"
            ]
          },
          "metadata": {},
          "execution_count": 4
        }
      ]
    },
    {
      "cell_type": "code",
      "source": [
        "train_df = train_df.drop('Unnamed: 0', axis=1)\n",
        "\n",
        "train_df"
      ],
      "metadata": {
        "colab": {
          "base_uri": "https://localhost:8080/",
          "height": 0
        },
        "id": "BM3wUbBIzuVn",
        "outputId": "8df6fd28-8f58-437d-ef56-a558df388dcf"
      },
      "execution_count": 5,
      "outputs": [
        {
          "output_type": "execute_result",
          "data": {
            "text/plain": [
              "                                               raw_text  \\\n",
              "0     @Sundae_Gurl Biden's first move should be to p...   \n",
              "1     @cobiscool @LilNasX Do you think joe Biden dri...   \n",
              "2     @ProudGayPatriot Don't worry, in the sense tha...   \n",
              "3     @kclasgens @realDonaldTrump Not alone he didn'...   \n",
              "4     How Biden’s Climate Plans Will Shake Up Global...   \n",
              "...                                                 ...   \n",
              "1407  @CNBC @CNBCPro If Biden comes to power, the go...   \n",
              "1408  @KDFildesMBA We have a real President, Biden a...   \n",
              "1409  What I care about at least as much, maybe more...   \n",
              "1410  Joe Biden still doesn’t realize what the voter...   \n",
              "1411  @EpochTimes @JocelynBenson So does that mean i...   \n",
              "\n",
              "                                             clean_text  subjectivity  \\\n",
              "0     sundae gurl biden first move pardon hunter let...             0   \n",
              "1      cobiscool lilnasx think joe biden drink caprisun             0   \n",
              "2     proudgaypatriot worry sense not getting electi...             1   \n",
              "3     kclasgens realdonaldtrump not alone right even...             1   \n",
              "4         biden climate plan shake global energy market             0   \n",
              "...                                                 ...           ...   \n",
              "1407    cnbc cnbcpro biden come power gold price return             1   \n",
              "1408  kdfildesmba real president biden vice harris e...             1   \n",
              "1409  care least much maybe whether biden trump pres...             0   \n",
              "1410  joe biden still realize voter democrat lost ac...             1   \n",
              "1411  epochtimes jocelynbenson mean delete election ...             1   \n",
              "\n",
              "      polarity  \n",
              "0            2  \n",
              "1            2  \n",
              "2            1  \n",
              "3            1  \n",
              "4            2  \n",
              "...        ...  \n",
              "1407         1  \n",
              "1408         1  \n",
              "1409         2  \n",
              "1410         0  \n",
              "1411         0  \n",
              "\n",
              "[1412 rows x 4 columns]"
            ],
            "text/html": [
              "\n",
              "  <div id=\"df-5b7d6e2a-b3bc-4ff3-9fab-5cb2f7991d77\">\n",
              "    <div class=\"colab-df-container\">\n",
              "      <div>\n",
              "<style scoped>\n",
              "    .dataframe tbody tr th:only-of-type {\n",
              "        vertical-align: middle;\n",
              "    }\n",
              "\n",
              "    .dataframe tbody tr th {\n",
              "        vertical-align: top;\n",
              "    }\n",
              "\n",
              "    .dataframe thead th {\n",
              "        text-align: right;\n",
              "    }\n",
              "</style>\n",
              "<table border=\"1\" class=\"dataframe\">\n",
              "  <thead>\n",
              "    <tr style=\"text-align: right;\">\n",
              "      <th></th>\n",
              "      <th>raw_text</th>\n",
              "      <th>clean_text</th>\n",
              "      <th>subjectivity</th>\n",
              "      <th>polarity</th>\n",
              "    </tr>\n",
              "  </thead>\n",
              "  <tbody>\n",
              "    <tr>\n",
              "      <th>0</th>\n",
              "      <td>@Sundae_Gurl Biden's first move should be to p...</td>\n",
              "      <td>sundae gurl biden first move pardon hunter let...</td>\n",
              "      <td>0</td>\n",
              "      <td>2</td>\n",
              "    </tr>\n",
              "    <tr>\n",
              "      <th>1</th>\n",
              "      <td>@cobiscool @LilNasX Do you think joe Biden dri...</td>\n",
              "      <td>cobiscool lilnasx think joe biden drink caprisun</td>\n",
              "      <td>0</td>\n",
              "      <td>2</td>\n",
              "    </tr>\n",
              "    <tr>\n",
              "      <th>2</th>\n",
              "      <td>@ProudGayPatriot Don't worry, in the sense tha...</td>\n",
              "      <td>proudgaypatriot worry sense not getting electi...</td>\n",
              "      <td>1</td>\n",
              "      <td>1</td>\n",
              "    </tr>\n",
              "    <tr>\n",
              "      <th>3</th>\n",
              "      <td>@kclasgens @realDonaldTrump Not alone he didn'...</td>\n",
              "      <td>kclasgens realdonaldtrump not alone right even...</td>\n",
              "      <td>1</td>\n",
              "      <td>1</td>\n",
              "    </tr>\n",
              "    <tr>\n",
              "      <th>4</th>\n",
              "      <td>How Biden’s Climate Plans Will Shake Up Global...</td>\n",
              "      <td>biden climate plan shake global energy market</td>\n",
              "      <td>0</td>\n",
              "      <td>2</td>\n",
              "    </tr>\n",
              "    <tr>\n",
              "      <th>...</th>\n",
              "      <td>...</td>\n",
              "      <td>...</td>\n",
              "      <td>...</td>\n",
              "      <td>...</td>\n",
              "    </tr>\n",
              "    <tr>\n",
              "      <th>1407</th>\n",
              "      <td>@CNBC @CNBCPro If Biden comes to power, the go...</td>\n",
              "      <td>cnbc cnbcpro biden come power gold price return</td>\n",
              "      <td>1</td>\n",
              "      <td>1</td>\n",
              "    </tr>\n",
              "    <tr>\n",
              "      <th>1408</th>\n",
              "      <td>@KDFildesMBA We have a real President, Biden a...</td>\n",
              "      <td>kdfildesmba real president biden vice harris e...</td>\n",
              "      <td>1</td>\n",
              "      <td>1</td>\n",
              "    </tr>\n",
              "    <tr>\n",
              "      <th>1409</th>\n",
              "      <td>What I care about at least as much, maybe more...</td>\n",
              "      <td>care least much maybe whether biden trump pres...</td>\n",
              "      <td>0</td>\n",
              "      <td>2</td>\n",
              "    </tr>\n",
              "    <tr>\n",
              "      <th>1410</th>\n",
              "      <td>Joe Biden still doesn’t realize what the voter...</td>\n",
              "      <td>joe biden still realize voter democrat lost ac...</td>\n",
              "      <td>1</td>\n",
              "      <td>0</td>\n",
              "    </tr>\n",
              "    <tr>\n",
              "      <th>1411</th>\n",
              "      <td>@EpochTimes @JocelynBenson So does that mean i...</td>\n",
              "      <td>epochtimes jocelynbenson mean delete election ...</td>\n",
              "      <td>1</td>\n",
              "      <td>0</td>\n",
              "    </tr>\n",
              "  </tbody>\n",
              "</table>\n",
              "<p>1412 rows × 4 columns</p>\n",
              "</div>\n",
              "      <button class=\"colab-df-convert\" onclick=\"convertToInteractive('df-5b7d6e2a-b3bc-4ff3-9fab-5cb2f7991d77')\"\n",
              "              title=\"Convert this dataframe to an interactive table.\"\n",
              "              style=\"display:none;\">\n",
              "        \n",
              "  <svg xmlns=\"http://www.w3.org/2000/svg\" height=\"24px\"viewBox=\"0 0 24 24\"\n",
              "       width=\"24px\">\n",
              "    <path d=\"M0 0h24v24H0V0z\" fill=\"none\"/>\n",
              "    <path d=\"M18.56 5.44l.94 2.06.94-2.06 2.06-.94-2.06-.94-.94-2.06-.94 2.06-2.06.94zm-11 1L8.5 8.5l.94-2.06 2.06-.94-2.06-.94L8.5 2.5l-.94 2.06-2.06.94zm10 10l.94 2.06.94-2.06 2.06-.94-2.06-.94-.94-2.06-.94 2.06-2.06.94z\"/><path d=\"M17.41 7.96l-1.37-1.37c-.4-.4-.92-.59-1.43-.59-.52 0-1.04.2-1.43.59L10.3 9.45l-7.72 7.72c-.78.78-.78 2.05 0 2.83L4 21.41c.39.39.9.59 1.41.59.51 0 1.02-.2 1.41-.59l7.78-7.78 2.81-2.81c.8-.78.8-2.07 0-2.86zM5.41 20L4 18.59l7.72-7.72 1.47 1.35L5.41 20z\"/>\n",
              "  </svg>\n",
              "      </button>\n",
              "      \n",
              "  <style>\n",
              "    .colab-df-container {\n",
              "      display:flex;\n",
              "      flex-wrap:wrap;\n",
              "      gap: 12px;\n",
              "    }\n",
              "\n",
              "    .colab-df-convert {\n",
              "      background-color: #E8F0FE;\n",
              "      border: none;\n",
              "      border-radius: 50%;\n",
              "      cursor: pointer;\n",
              "      display: none;\n",
              "      fill: #1967D2;\n",
              "      height: 32px;\n",
              "      padding: 0 0 0 0;\n",
              "      width: 32px;\n",
              "    }\n",
              "\n",
              "    .colab-df-convert:hover {\n",
              "      background-color: #E2EBFA;\n",
              "      box-shadow: 0px 1px 2px rgba(60, 64, 67, 0.3), 0px 1px 3px 1px rgba(60, 64, 67, 0.15);\n",
              "      fill: #174EA6;\n",
              "    }\n",
              "\n",
              "    [theme=dark] .colab-df-convert {\n",
              "      background-color: #3B4455;\n",
              "      fill: #D2E3FC;\n",
              "    }\n",
              "\n",
              "    [theme=dark] .colab-df-convert:hover {\n",
              "      background-color: #434B5C;\n",
              "      box-shadow: 0px 1px 3px 1px rgba(0, 0, 0, 0.15);\n",
              "      filter: drop-shadow(0px 1px 2px rgba(0, 0, 0, 0.3));\n",
              "      fill: #FFFFFF;\n",
              "    }\n",
              "  </style>\n",
              "\n",
              "      <script>\n",
              "        const buttonEl =\n",
              "          document.querySelector('#df-5b7d6e2a-b3bc-4ff3-9fab-5cb2f7991d77 button.colab-df-convert');\n",
              "        buttonEl.style.display =\n",
              "          google.colab.kernel.accessAllowed ? 'block' : 'none';\n",
              "\n",
              "        async function convertToInteractive(key) {\n",
              "          const element = document.querySelector('#df-5b7d6e2a-b3bc-4ff3-9fab-5cb2f7991d77');\n",
              "          const dataTable =\n",
              "            await google.colab.kernel.invokeFunction('convertToInteractive',\n",
              "                                                     [key], {});\n",
              "          if (!dataTable) return;\n",
              "\n",
              "          const docLinkHtml = 'Like what you see? Visit the ' +\n",
              "            '<a target=\"_blank\" href=https://colab.research.google.com/notebooks/data_table.ipynb>data table notebook</a>'\n",
              "            + ' to learn more about interactive tables.';\n",
              "          element.innerHTML = '';\n",
              "          dataTable['output_type'] = 'display_data';\n",
              "          await google.colab.output.renderOutput(dataTable, element);\n",
              "          const docLink = document.createElement('div');\n",
              "          docLink.innerHTML = docLinkHtml;\n",
              "          element.appendChild(docLink);\n",
              "        }\n",
              "      </script>\n",
              "    </div>\n",
              "  </div>\n",
              "  "
            ]
          },
          "metadata": {},
          "execution_count": 5
        }
      ]
    },
    {
      "cell_type": "code",
      "source": [
        "# test data\n",
        "test_df = pd.read_csv('/content/drive/MyDrive/Colab Notebooks/nlp project/Sentiment Analysis/final datasets/biden_tweets_labeled_test.csv')\n",
        "\n",
        "test_df"
      ],
      "metadata": {
        "colab": {
          "base_uri": "https://localhost:8080/",
          "height": 0
        },
        "id": "f6167v7YzuYF",
        "outputId": "3a1025ba-ae9c-4fbc-c230-d9f29da80109"
      },
      "execution_count": 6,
      "outputs": [
        {
          "output_type": "execute_result",
          "data": {
            "text/plain": [
              "     Unnamed: 0                                           raw_text  \\\n",
              "0             0  Sidney Powell amends court filing that said Ge...   \n",
              "1             1  @LisaMirandoCNN @wolfblitzer What's your thoug...   \n",
              "2             2  Breaking #FoxNews Alert : Joe Biden just revea...   \n",
              "3             3  @RWPUSA Richard, have you heard there could be...   \n",
              "4             4  @LeafCavalier @AFJustinKG1 Is that a real-life...   \n",
              "..          ...                                                ...   \n",
              "349         349                @realDonaldTrump Thank you Biden!!!   \n",
              "350         350  Kellyanne Conway acknowledges Biden as apparen...   \n",
              "351         351  @JeffTutorials @realDonaldTrump Ah Jeff.  I ag...   \n",
              "352         352  CNN Exclusive: Biden says he will ask American...   \n",
              "353         353  @mpolletta Little known fact – that Biden’s su...   \n",
              "\n",
              "                                            clean_text  subjectivity  polarity  \n",
              "0    sidney powell amends court filing said georgia...             1         1  \n",
              "1    lisamirandocnn wolfblitzer thought cnn jake ta...             0         2  \n",
              "2    breaking foxnews alert joe biden revealed goin...             0         2  \n",
              "3    rwpusa richard heard could several republican ...             1         0  \n",
              "4    leafcavalier afjustinkg real life question not...             1         0  \n",
              "..                                                 ...           ...       ...  \n",
              "349                        realdonaldtrump thank biden             1         1  \n",
              "350  kellyanne conway acknowledges biden apparent w...             0         2  \n",
              "351  jefftutorials realdonaldtrump ah jeff agree bi...             1         0  \n",
              "352  cnn exclusive biden say ask american wear mask...             0         2  \n",
              "353  mpolletta little known fact biden support that...             0         2  \n",
              "\n",
              "[354 rows x 5 columns]"
            ],
            "text/html": [
              "\n",
              "  <div id=\"df-c3da89b0-07b7-414e-9dd6-ed458368bd54\">\n",
              "    <div class=\"colab-df-container\">\n",
              "      <div>\n",
              "<style scoped>\n",
              "    .dataframe tbody tr th:only-of-type {\n",
              "        vertical-align: middle;\n",
              "    }\n",
              "\n",
              "    .dataframe tbody tr th {\n",
              "        vertical-align: top;\n",
              "    }\n",
              "\n",
              "    .dataframe thead th {\n",
              "        text-align: right;\n",
              "    }\n",
              "</style>\n",
              "<table border=\"1\" class=\"dataframe\">\n",
              "  <thead>\n",
              "    <tr style=\"text-align: right;\">\n",
              "      <th></th>\n",
              "      <th>Unnamed: 0</th>\n",
              "      <th>raw_text</th>\n",
              "      <th>clean_text</th>\n",
              "      <th>subjectivity</th>\n",
              "      <th>polarity</th>\n",
              "    </tr>\n",
              "  </thead>\n",
              "  <tbody>\n",
              "    <tr>\n",
              "      <th>0</th>\n",
              "      <td>0</td>\n",
              "      <td>Sidney Powell amends court filing that said Ge...</td>\n",
              "      <td>sidney powell amends court filing said georgia...</td>\n",
              "      <td>1</td>\n",
              "      <td>1</td>\n",
              "    </tr>\n",
              "    <tr>\n",
              "      <th>1</th>\n",
              "      <td>1</td>\n",
              "      <td>@LisaMirandoCNN @wolfblitzer What's your thoug...</td>\n",
              "      <td>lisamirandocnn wolfblitzer thought cnn jake ta...</td>\n",
              "      <td>0</td>\n",
              "      <td>2</td>\n",
              "    </tr>\n",
              "    <tr>\n",
              "      <th>2</th>\n",
              "      <td>2</td>\n",
              "      <td>Breaking #FoxNews Alert : Joe Biden just revea...</td>\n",
              "      <td>breaking foxnews alert joe biden revealed goin...</td>\n",
              "      <td>0</td>\n",
              "      <td>2</td>\n",
              "    </tr>\n",
              "    <tr>\n",
              "      <th>3</th>\n",
              "      <td>3</td>\n",
              "      <td>@RWPUSA Richard, have you heard there could be...</td>\n",
              "      <td>rwpusa richard heard could several republican ...</td>\n",
              "      <td>1</td>\n",
              "      <td>0</td>\n",
              "    </tr>\n",
              "    <tr>\n",
              "      <th>4</th>\n",
              "      <td>4</td>\n",
              "      <td>@LeafCavalier @AFJustinKG1 Is that a real-life...</td>\n",
              "      <td>leafcavalier afjustinkg real life question not...</td>\n",
              "      <td>1</td>\n",
              "      <td>0</td>\n",
              "    </tr>\n",
              "    <tr>\n",
              "      <th>...</th>\n",
              "      <td>...</td>\n",
              "      <td>...</td>\n",
              "      <td>...</td>\n",
              "      <td>...</td>\n",
              "      <td>...</td>\n",
              "    </tr>\n",
              "    <tr>\n",
              "      <th>349</th>\n",
              "      <td>349</td>\n",
              "      <td>@realDonaldTrump Thank you Biden!!!</td>\n",
              "      <td>realdonaldtrump thank biden</td>\n",
              "      <td>1</td>\n",
              "      <td>1</td>\n",
              "    </tr>\n",
              "    <tr>\n",
              "      <th>350</th>\n",
              "      <td>350</td>\n",
              "      <td>Kellyanne Conway acknowledges Biden as apparen...</td>\n",
              "      <td>kellyanne conway acknowledges biden apparent w...</td>\n",
              "      <td>0</td>\n",
              "      <td>2</td>\n",
              "    </tr>\n",
              "    <tr>\n",
              "      <th>351</th>\n",
              "      <td>351</td>\n",
              "      <td>@JeffTutorials @realDonaldTrump Ah Jeff.  I ag...</td>\n",
              "      <td>jefftutorials realdonaldtrump ah jeff agree bi...</td>\n",
              "      <td>1</td>\n",
              "      <td>0</td>\n",
              "    </tr>\n",
              "    <tr>\n",
              "      <th>352</th>\n",
              "      <td>352</td>\n",
              "      <td>CNN Exclusive: Biden says he will ask American...</td>\n",
              "      <td>cnn exclusive biden say ask american wear mask...</td>\n",
              "      <td>0</td>\n",
              "      <td>2</td>\n",
              "    </tr>\n",
              "    <tr>\n",
              "      <th>353</th>\n",
              "      <td>353</td>\n",
              "      <td>@mpolletta Little known fact – that Biden’s su...</td>\n",
              "      <td>mpolletta little known fact biden support that...</td>\n",
              "      <td>0</td>\n",
              "      <td>2</td>\n",
              "    </tr>\n",
              "  </tbody>\n",
              "</table>\n",
              "<p>354 rows × 5 columns</p>\n",
              "</div>\n",
              "      <button class=\"colab-df-convert\" onclick=\"convertToInteractive('df-c3da89b0-07b7-414e-9dd6-ed458368bd54')\"\n",
              "              title=\"Convert this dataframe to an interactive table.\"\n",
              "              style=\"display:none;\">\n",
              "        \n",
              "  <svg xmlns=\"http://www.w3.org/2000/svg\" height=\"24px\"viewBox=\"0 0 24 24\"\n",
              "       width=\"24px\">\n",
              "    <path d=\"M0 0h24v24H0V0z\" fill=\"none\"/>\n",
              "    <path d=\"M18.56 5.44l.94 2.06.94-2.06 2.06-.94-2.06-.94-.94-2.06-.94 2.06-2.06.94zm-11 1L8.5 8.5l.94-2.06 2.06-.94-2.06-.94L8.5 2.5l-.94 2.06-2.06.94zm10 10l.94 2.06.94-2.06 2.06-.94-2.06-.94-.94-2.06-.94 2.06-2.06.94z\"/><path d=\"M17.41 7.96l-1.37-1.37c-.4-.4-.92-.59-1.43-.59-.52 0-1.04.2-1.43.59L10.3 9.45l-7.72 7.72c-.78.78-.78 2.05 0 2.83L4 21.41c.39.39.9.59 1.41.59.51 0 1.02-.2 1.41-.59l7.78-7.78 2.81-2.81c.8-.78.8-2.07 0-2.86zM5.41 20L4 18.59l7.72-7.72 1.47 1.35L5.41 20z\"/>\n",
              "  </svg>\n",
              "      </button>\n",
              "      \n",
              "  <style>\n",
              "    .colab-df-container {\n",
              "      display:flex;\n",
              "      flex-wrap:wrap;\n",
              "      gap: 12px;\n",
              "    }\n",
              "\n",
              "    .colab-df-convert {\n",
              "      background-color: #E8F0FE;\n",
              "      border: none;\n",
              "      border-radius: 50%;\n",
              "      cursor: pointer;\n",
              "      display: none;\n",
              "      fill: #1967D2;\n",
              "      height: 32px;\n",
              "      padding: 0 0 0 0;\n",
              "      width: 32px;\n",
              "    }\n",
              "\n",
              "    .colab-df-convert:hover {\n",
              "      background-color: #E2EBFA;\n",
              "      box-shadow: 0px 1px 2px rgba(60, 64, 67, 0.3), 0px 1px 3px 1px rgba(60, 64, 67, 0.15);\n",
              "      fill: #174EA6;\n",
              "    }\n",
              "\n",
              "    [theme=dark] .colab-df-convert {\n",
              "      background-color: #3B4455;\n",
              "      fill: #D2E3FC;\n",
              "    }\n",
              "\n",
              "    [theme=dark] .colab-df-convert:hover {\n",
              "      background-color: #434B5C;\n",
              "      box-shadow: 0px 1px 3px 1px rgba(0, 0, 0, 0.15);\n",
              "      filter: drop-shadow(0px 1px 2px rgba(0, 0, 0, 0.3));\n",
              "      fill: #FFFFFF;\n",
              "    }\n",
              "  </style>\n",
              "\n",
              "      <script>\n",
              "        const buttonEl =\n",
              "          document.querySelector('#df-c3da89b0-07b7-414e-9dd6-ed458368bd54 button.colab-df-convert');\n",
              "        buttonEl.style.display =\n",
              "          google.colab.kernel.accessAllowed ? 'block' : 'none';\n",
              "\n",
              "        async function convertToInteractive(key) {\n",
              "          const element = document.querySelector('#df-c3da89b0-07b7-414e-9dd6-ed458368bd54');\n",
              "          const dataTable =\n",
              "            await google.colab.kernel.invokeFunction('convertToInteractive',\n",
              "                                                     [key], {});\n",
              "          if (!dataTable) return;\n",
              "\n",
              "          const docLinkHtml = 'Like what you see? Visit the ' +\n",
              "            '<a target=\"_blank\" href=https://colab.research.google.com/notebooks/data_table.ipynb>data table notebook</a>'\n",
              "            + ' to learn more about interactive tables.';\n",
              "          element.innerHTML = '';\n",
              "          dataTable['output_type'] = 'display_data';\n",
              "          await google.colab.output.renderOutput(dataTable, element);\n",
              "          const docLink = document.createElement('div');\n",
              "          docLink.innerHTML = docLinkHtml;\n",
              "          element.appendChild(docLink);\n",
              "        }\n",
              "      </script>\n",
              "    </div>\n",
              "  </div>\n",
              "  "
            ]
          },
          "metadata": {},
          "execution_count": 6
        }
      ]
    },
    {
      "cell_type": "code",
      "source": [
        "test_df.columns"
      ],
      "metadata": {
        "colab": {
          "base_uri": "https://localhost:8080/"
        },
        "id": "ne2m2gR-z1wV",
        "outputId": "1b978daf-052f-42ee-d5c7-9d8f6fbb94a4"
      },
      "execution_count": 7,
      "outputs": [
        {
          "output_type": "execute_result",
          "data": {
            "text/plain": [
              "Index(['Unnamed: 0', 'raw_text', 'clean_text', 'subjectivity', 'polarity'], dtype='object')"
            ]
          },
          "metadata": {},
          "execution_count": 7
        }
      ]
    },
    {
      "cell_type": "code",
      "source": [
        "test_df = test_df.drop('Unnamed: 0', axis=1)\n",
        "\n",
        "test_df"
      ],
      "metadata": {
        "colab": {
          "base_uri": "https://localhost:8080/",
          "height": 0
        },
        "id": "kP1wx_Lyz1yj",
        "outputId": "fcb1bf23-342b-46a3-dbf9-0f2f4e12f8db"
      },
      "execution_count": 8,
      "outputs": [
        {
          "output_type": "execute_result",
          "data": {
            "text/plain": [
              "                                              raw_text  \\\n",
              "0    Sidney Powell amends court filing that said Ge...   \n",
              "1    @LisaMirandoCNN @wolfblitzer What's your thoug...   \n",
              "2    Breaking #FoxNews Alert : Joe Biden just revea...   \n",
              "3    @RWPUSA Richard, have you heard there could be...   \n",
              "4    @LeafCavalier @AFJustinKG1 Is that a real-life...   \n",
              "..                                                 ...   \n",
              "349                @realDonaldTrump Thank you Biden!!!   \n",
              "350  Kellyanne Conway acknowledges Biden as apparen...   \n",
              "351  @JeffTutorials @realDonaldTrump Ah Jeff.  I ag...   \n",
              "352  CNN Exclusive: Biden says he will ask American...   \n",
              "353  @mpolletta Little known fact – that Biden’s su...   \n",
              "\n",
              "                                            clean_text  subjectivity  polarity  \n",
              "0    sidney powell amends court filing said georgia...             1         1  \n",
              "1    lisamirandocnn wolfblitzer thought cnn jake ta...             0         2  \n",
              "2    breaking foxnews alert joe biden revealed goin...             0         2  \n",
              "3    rwpusa richard heard could several republican ...             1         0  \n",
              "4    leafcavalier afjustinkg real life question not...             1         0  \n",
              "..                                                 ...           ...       ...  \n",
              "349                        realdonaldtrump thank biden             1         1  \n",
              "350  kellyanne conway acknowledges biden apparent w...             0         2  \n",
              "351  jefftutorials realdonaldtrump ah jeff agree bi...             1         0  \n",
              "352  cnn exclusive biden say ask american wear mask...             0         2  \n",
              "353  mpolletta little known fact biden support that...             0         2  \n",
              "\n",
              "[354 rows x 4 columns]"
            ],
            "text/html": [
              "\n",
              "  <div id=\"df-82234772-cde0-4b6b-8af6-606e4f0a6811\">\n",
              "    <div class=\"colab-df-container\">\n",
              "      <div>\n",
              "<style scoped>\n",
              "    .dataframe tbody tr th:only-of-type {\n",
              "        vertical-align: middle;\n",
              "    }\n",
              "\n",
              "    .dataframe tbody tr th {\n",
              "        vertical-align: top;\n",
              "    }\n",
              "\n",
              "    .dataframe thead th {\n",
              "        text-align: right;\n",
              "    }\n",
              "</style>\n",
              "<table border=\"1\" class=\"dataframe\">\n",
              "  <thead>\n",
              "    <tr style=\"text-align: right;\">\n",
              "      <th></th>\n",
              "      <th>raw_text</th>\n",
              "      <th>clean_text</th>\n",
              "      <th>subjectivity</th>\n",
              "      <th>polarity</th>\n",
              "    </tr>\n",
              "  </thead>\n",
              "  <tbody>\n",
              "    <tr>\n",
              "      <th>0</th>\n",
              "      <td>Sidney Powell amends court filing that said Ge...</td>\n",
              "      <td>sidney powell amends court filing said georgia...</td>\n",
              "      <td>1</td>\n",
              "      <td>1</td>\n",
              "    </tr>\n",
              "    <tr>\n",
              "      <th>1</th>\n",
              "      <td>@LisaMirandoCNN @wolfblitzer What's your thoug...</td>\n",
              "      <td>lisamirandocnn wolfblitzer thought cnn jake ta...</td>\n",
              "      <td>0</td>\n",
              "      <td>2</td>\n",
              "    </tr>\n",
              "    <tr>\n",
              "      <th>2</th>\n",
              "      <td>Breaking #FoxNews Alert : Joe Biden just revea...</td>\n",
              "      <td>breaking foxnews alert joe biden revealed goin...</td>\n",
              "      <td>0</td>\n",
              "      <td>2</td>\n",
              "    </tr>\n",
              "    <tr>\n",
              "      <th>3</th>\n",
              "      <td>@RWPUSA Richard, have you heard there could be...</td>\n",
              "      <td>rwpusa richard heard could several republican ...</td>\n",
              "      <td>1</td>\n",
              "      <td>0</td>\n",
              "    </tr>\n",
              "    <tr>\n",
              "      <th>4</th>\n",
              "      <td>@LeafCavalier @AFJustinKG1 Is that a real-life...</td>\n",
              "      <td>leafcavalier afjustinkg real life question not...</td>\n",
              "      <td>1</td>\n",
              "      <td>0</td>\n",
              "    </tr>\n",
              "    <tr>\n",
              "      <th>...</th>\n",
              "      <td>...</td>\n",
              "      <td>...</td>\n",
              "      <td>...</td>\n",
              "      <td>...</td>\n",
              "    </tr>\n",
              "    <tr>\n",
              "      <th>349</th>\n",
              "      <td>@realDonaldTrump Thank you Biden!!!</td>\n",
              "      <td>realdonaldtrump thank biden</td>\n",
              "      <td>1</td>\n",
              "      <td>1</td>\n",
              "    </tr>\n",
              "    <tr>\n",
              "      <th>350</th>\n",
              "      <td>Kellyanne Conway acknowledges Biden as apparen...</td>\n",
              "      <td>kellyanne conway acknowledges biden apparent w...</td>\n",
              "      <td>0</td>\n",
              "      <td>2</td>\n",
              "    </tr>\n",
              "    <tr>\n",
              "      <th>351</th>\n",
              "      <td>@JeffTutorials @realDonaldTrump Ah Jeff.  I ag...</td>\n",
              "      <td>jefftutorials realdonaldtrump ah jeff agree bi...</td>\n",
              "      <td>1</td>\n",
              "      <td>0</td>\n",
              "    </tr>\n",
              "    <tr>\n",
              "      <th>352</th>\n",
              "      <td>CNN Exclusive: Biden says he will ask American...</td>\n",
              "      <td>cnn exclusive biden say ask american wear mask...</td>\n",
              "      <td>0</td>\n",
              "      <td>2</td>\n",
              "    </tr>\n",
              "    <tr>\n",
              "      <th>353</th>\n",
              "      <td>@mpolletta Little known fact – that Biden’s su...</td>\n",
              "      <td>mpolletta little known fact biden support that...</td>\n",
              "      <td>0</td>\n",
              "      <td>2</td>\n",
              "    </tr>\n",
              "  </tbody>\n",
              "</table>\n",
              "<p>354 rows × 4 columns</p>\n",
              "</div>\n",
              "      <button class=\"colab-df-convert\" onclick=\"convertToInteractive('df-82234772-cde0-4b6b-8af6-606e4f0a6811')\"\n",
              "              title=\"Convert this dataframe to an interactive table.\"\n",
              "              style=\"display:none;\">\n",
              "        \n",
              "  <svg xmlns=\"http://www.w3.org/2000/svg\" height=\"24px\"viewBox=\"0 0 24 24\"\n",
              "       width=\"24px\">\n",
              "    <path d=\"M0 0h24v24H0V0z\" fill=\"none\"/>\n",
              "    <path d=\"M18.56 5.44l.94 2.06.94-2.06 2.06-.94-2.06-.94-.94-2.06-.94 2.06-2.06.94zm-11 1L8.5 8.5l.94-2.06 2.06-.94-2.06-.94L8.5 2.5l-.94 2.06-2.06.94zm10 10l.94 2.06.94-2.06 2.06-.94-2.06-.94-.94-2.06-.94 2.06-2.06.94z\"/><path d=\"M17.41 7.96l-1.37-1.37c-.4-.4-.92-.59-1.43-.59-.52 0-1.04.2-1.43.59L10.3 9.45l-7.72 7.72c-.78.78-.78 2.05 0 2.83L4 21.41c.39.39.9.59 1.41.59.51 0 1.02-.2 1.41-.59l7.78-7.78 2.81-2.81c.8-.78.8-2.07 0-2.86zM5.41 20L4 18.59l7.72-7.72 1.47 1.35L5.41 20z\"/>\n",
              "  </svg>\n",
              "      </button>\n",
              "      \n",
              "  <style>\n",
              "    .colab-df-container {\n",
              "      display:flex;\n",
              "      flex-wrap:wrap;\n",
              "      gap: 12px;\n",
              "    }\n",
              "\n",
              "    .colab-df-convert {\n",
              "      background-color: #E8F0FE;\n",
              "      border: none;\n",
              "      border-radius: 50%;\n",
              "      cursor: pointer;\n",
              "      display: none;\n",
              "      fill: #1967D2;\n",
              "      height: 32px;\n",
              "      padding: 0 0 0 0;\n",
              "      width: 32px;\n",
              "    }\n",
              "\n",
              "    .colab-df-convert:hover {\n",
              "      background-color: #E2EBFA;\n",
              "      box-shadow: 0px 1px 2px rgba(60, 64, 67, 0.3), 0px 1px 3px 1px rgba(60, 64, 67, 0.15);\n",
              "      fill: #174EA6;\n",
              "    }\n",
              "\n",
              "    [theme=dark] .colab-df-convert {\n",
              "      background-color: #3B4455;\n",
              "      fill: #D2E3FC;\n",
              "    }\n",
              "\n",
              "    [theme=dark] .colab-df-convert:hover {\n",
              "      background-color: #434B5C;\n",
              "      box-shadow: 0px 1px 3px 1px rgba(0, 0, 0, 0.15);\n",
              "      filter: drop-shadow(0px 1px 2px rgba(0, 0, 0, 0.3));\n",
              "      fill: #FFFFFF;\n",
              "    }\n",
              "  </style>\n",
              "\n",
              "      <script>\n",
              "        const buttonEl =\n",
              "          document.querySelector('#df-82234772-cde0-4b6b-8af6-606e4f0a6811 button.colab-df-convert');\n",
              "        buttonEl.style.display =\n",
              "          google.colab.kernel.accessAllowed ? 'block' : 'none';\n",
              "\n",
              "        async function convertToInteractive(key) {\n",
              "          const element = document.querySelector('#df-82234772-cde0-4b6b-8af6-606e4f0a6811');\n",
              "          const dataTable =\n",
              "            await google.colab.kernel.invokeFunction('convertToInteractive',\n",
              "                                                     [key], {});\n",
              "          if (!dataTable) return;\n",
              "\n",
              "          const docLinkHtml = 'Like what you see? Visit the ' +\n",
              "            '<a target=\"_blank\" href=https://colab.research.google.com/notebooks/data_table.ipynb>data table notebook</a>'\n",
              "            + ' to learn more about interactive tables.';\n",
              "          element.innerHTML = '';\n",
              "          dataTable['output_type'] = 'display_data';\n",
              "          await google.colab.output.renderOutput(dataTable, element);\n",
              "          const docLink = document.createElement('div');\n",
              "          docLink.innerHTML = docLinkHtml;\n",
              "          element.appendChild(docLink);\n",
              "        }\n",
              "      </script>\n",
              "    </div>\n",
              "  </div>\n",
              "  "
            ]
          },
          "metadata": {},
          "execution_count": 8
        }
      ]
    },
    {
      "cell_type": "code",
      "source": [
        "train_df.shape, test_df.shape"
      ],
      "metadata": {
        "colab": {
          "base_uri": "https://localhost:8080/"
        },
        "id": "AP-oPnSXz12i",
        "outputId": "10210d08-5294-4881-9049-4e97d542b501"
      },
      "execution_count": 9,
      "outputs": [
        {
          "output_type": "execute_result",
          "data": {
            "text/plain": [
              "((1412, 4), (354, 4))"
            ]
          },
          "metadata": {},
          "execution_count": 9
        }
      ]
    },
    {
      "cell_type": "markdown",
      "source": [
        "### Vectorize data"
      ],
      "metadata": {
        "id": "0fQeM2bdlprR"
      }
    },
    {
      "cell_type": "code",
      "source": [
        "# Create feature vectors\n",
        "vectorizer = TfidfVectorizer(ngram_range = (2,2),\n",
        "                             min_df = 1,\n",
        "                             max_df = 0.8,\n",
        "                             sublinear_tf = True,\n",
        "                             use_idf = True)"
      ],
      "metadata": {
        "id": "yR2e69cXz15e"
      },
      "execution_count": 10,
      "outputs": []
    },
    {
      "cell_type": "code",
      "source": [
        "train_vectors = vectorizer.fit_transform(train_df['clean_text'])\n",
        "test_vectors = vectorizer.transform(test_df['clean_text'])"
      ],
      "metadata": {
        "id": "c2qJEhJGzuZ8"
      },
      "execution_count": 11,
      "outputs": []
    },
    {
      "cell_type": "markdown",
      "source": [
        "### ComplementNB model"
      ],
      "metadata": {
        "id": "bzvmmXTj7vpC"
      }
    },
    {
      "cell_type": "code",
      "source": [
        "# define & compiile model\n",
        "CNB =ComplementNB()\n",
        "\n",
        "# fit model\n",
        "cnb_t0 = time.time()\n",
        "CNB.fit(train_vectors, train_df['polarity'])\n",
        "cnb_t1 = time.time()\n",
        "\n",
        "# predict with model\n",
        "cnb_prediction_linear = CNB.predict(test_vectors)\n",
        "cnb_t2 = time.time()\n",
        "\n",
        "# get train and test timings\n",
        "cnb_time_linear_train = cnb_t1-cnb_t0\n",
        "cnb_time_linear_predict = cnb_t2-cnb_t1"
      ],
      "metadata": {
        "id": "8IXRLRqe7tql"
      },
      "execution_count": 12,
      "outputs": []
    },
    {
      "cell_type": "code",
      "source": [
        "cnb_prediction_linear"
      ],
      "metadata": {
        "colab": {
          "base_uri": "https://localhost:8080/"
        },
        "id": "IYpBrsaR7ttg",
        "outputId": "5b69aa78-bc28-44ff-cffc-f20f74bece02"
      },
      "execution_count": 13,
      "outputs": [
        {
          "output_type": "execute_result",
          "data": {
            "text/plain": [
              "array([0, 2, 2, 0, 1, 2, 1, 0, 2, 2, 1, 1, 0, 2, 1, 1, 0, 2, 1, 0, 0, 0,\n",
              "       0, 0, 0, 2, 0, 2, 2, 0, 0, 2, 0, 1, 2, 0, 0, 0, 0, 1, 1, 0, 1, 1,\n",
              "       0, 1, 0, 0, 1, 1, 0, 1, 0, 0, 0, 1, 2, 0, 1, 0, 2, 0, 2, 2, 0, 0,\n",
              "       2, 1, 1, 1, 1, 0, 2, 0, 0, 1, 2, 0, 0, 1, 2, 0, 1, 0, 2, 2, 0, 0,\n",
              "       1, 2, 1, 1, 0, 0, 0, 0, 1, 0, 2, 1, 1, 0, 1, 1, 2, 2, 1, 0, 0, 1,\n",
              "       0, 1, 0, 2, 0, 0, 1, 0, 0, 0, 2, 0, 0, 2, 0, 2, 2, 0, 0, 2, 1, 2,\n",
              "       1, 1, 0, 0, 2, 1, 2, 2, 2, 2, 1, 2, 0, 2, 0, 2, 1, 0, 2, 1, 0, 0,\n",
              "       0, 0, 0, 1, 0, 0, 0, 1, 1, 0, 0, 2, 0, 0, 0, 1, 1, 1, 1, 0, 0, 1,\n",
              "       1, 2, 0, 2, 1, 2, 0, 0, 0, 0, 0, 2, 0, 2, 2, 1, 2, 1, 0, 2, 1, 1,\n",
              "       2, 0, 1, 1, 1, 0, 1, 0, 0, 0, 2, 1, 0, 1, 1, 1, 2, 1, 1, 1, 0, 1,\n",
              "       1, 1, 1, 0, 0, 0, 0, 0, 2, 0, 0, 1, 1, 2, 0, 0, 0, 0, 2, 2, 2, 2,\n",
              "       0, 2, 1, 0, 0, 2, 2, 0, 1, 0, 1, 2, 1, 1, 2, 1, 1, 0, 0, 1, 0, 1,\n",
              "       1, 1, 1, 1, 2, 0, 2, 0, 1, 0, 0, 2, 1, 1, 0, 1, 1, 2, 0, 2, 0, 0,\n",
              "       1, 1, 1, 2, 0, 0, 1, 0, 2, 0, 2, 1, 1, 2, 1, 1, 0, 2, 2, 0, 0, 2,\n",
              "       1, 0, 0, 2, 1, 0, 2, 0, 1, 1, 2, 0, 2, 2, 1, 1, 2, 1, 0, 0, 1, 1,\n",
              "       1, 2, 2, 1, 2, 0, 1, 2, 2, 1, 1, 0, 0, 0, 0, 0, 1, 0, 2, 1, 1, 1,\n",
              "       2, 2])"
            ]
          },
          "metadata": {},
          "execution_count": 13
        }
      ]
    },
    {
      "cell_type": "markdown",
      "source": [
        "#### Evaluate model"
      ],
      "metadata": {
        "id": "Ovu6EQ6DmfNj"
      }
    },
    {
      "cell_type": "code",
      "source": [
        "print(\"Training time: %fs; Prediction time: %fs\" % (cnb_time_linear_train, cnb_time_linear_predict))"
      ],
      "metadata": {
        "colab": {
          "base_uri": "https://localhost:8080/"
        },
        "id": "AEL7D1q07twF",
        "outputId": "57369afd-2a8f-4df7-c212-880147fddcbc"
      },
      "execution_count": 14,
      "outputs": [
        {
          "output_type": "stream",
          "name": "stdout",
          "text": [
            "Training time: 0.006338s; Prediction time: 0.000856s\n"
          ]
        }
      ]
    },
    {
      "cell_type": "code",
      "source": [
        "cnb_acc_score = accuracy_score(test_df['polarity'], cnb_prediction_linear)\n",
        "\n",
        "print(\"accuracy: \", str(cnb_acc_score))"
      ],
      "metadata": {
        "colab": {
          "base_uri": "https://localhost:8080/"
        },
        "id": "Ut7w3Bpz7tyb",
        "outputId": "a5291352-3a20-46fb-aa73-00fe0b2128bd"
      },
      "execution_count": 15,
      "outputs": [
        {
          "output_type": "stream",
          "name": "stdout",
          "text": [
            "accuracy:  0.6073446327683616\n"
          ]
        }
      ]
    },
    {
      "cell_type": "code",
      "source": [
        "cnb_report_dict = classification_report(test_df['polarity'], cnb_prediction_linear, output_dict=True)\n",
        "\n",
        "print('negative: ', cnb_report_dict['0'])\n",
        "print('positive: ', cnb_report_dict['1'])\n",
        "print('neutral: ', cnb_report_dict['2'])"
      ],
      "metadata": {
        "colab": {
          "base_uri": "https://localhost:8080/"
        },
        "id": "mZLAxh4c7t0T",
        "outputId": "41b0df12-5211-49c2-de56-54d76928024d"
      },
      "execution_count": 16,
      "outputs": [
        {
          "output_type": "stream",
          "name": "stdout",
          "text": [
            "negative:  {'precision': 0.6597222222222222, 'recall': 0.5688622754491018, 'f1-score': 0.6109324758842444, 'support': 167}\n",
            "positive:  {'precision': 0.5042016806722689, 'recall': 0.625, 'f1-score': 0.5581395348837209, 'support': 96}\n",
            "neutral:  {'precision': 0.6593406593406593, 'recall': 0.6593406593406593, 'f1-score': 0.6593406593406593, 'support': 91}\n"
          ]
        }
      ]
    },
    {
      "cell_type": "code",
      "source": [
        "cnb_report = classification_report(test_df['polarity'], cnb_prediction_linear)\n",
        "\n",
        "print(cnb_report)"
      ],
      "metadata": {
        "colab": {
          "base_uri": "https://localhost:8080/"
        },
        "id": "eG2tjMxZ7t2X",
        "outputId": "6448f3de-a12d-47a9-a3d1-9f20c8fb1d34"
      },
      "execution_count": 17,
      "outputs": [
        {
          "output_type": "stream",
          "name": "stdout",
          "text": [
            "              precision    recall  f1-score   support\n",
            "\n",
            "           0       0.66      0.57      0.61       167\n",
            "           1       0.50      0.62      0.56        96\n",
            "           2       0.66      0.66      0.66        91\n",
            "\n",
            "    accuracy                           0.61       354\n",
            "   macro avg       0.61      0.62      0.61       354\n",
            "weighted avg       0.62      0.61      0.61       354\n",
            "\n"
          ]
        }
      ]
    },
    {
      "cell_type": "markdown",
      "source": [
        "### Export model and results"
      ],
      "metadata": {
        "id": "UorCbmeW-AhE"
      }
    },
    {
      "cell_type": "code",
      "source": [
        "# add cnb scores to dataframe\n",
        "test_df['bigram_cnb_score'] = cnb_prediction_linear.tolist()\n",
        "\n",
        "test_df"
      ],
      "metadata": {
        "colab": {
          "base_uri": "https://localhost:8080/",
          "height": 641
        },
        "id": "nW547Ron9_m8",
        "outputId": "4b8084a3-900d-4d69-848d-37c831b4411d"
      },
      "execution_count": 18,
      "outputs": [
        {
          "output_type": "execute_result",
          "data": {
            "text/plain": [
              "                                              raw_text  \\\n",
              "0    Sidney Powell amends court filing that said Ge...   \n",
              "1    @LisaMirandoCNN @wolfblitzer What's your thoug...   \n",
              "2    Breaking #FoxNews Alert : Joe Biden just revea...   \n",
              "3    @RWPUSA Richard, have you heard there could be...   \n",
              "4    @LeafCavalier @AFJustinKG1 Is that a real-life...   \n",
              "..                                                 ...   \n",
              "349                @realDonaldTrump Thank you Biden!!!   \n",
              "350  Kellyanne Conway acknowledges Biden as apparen...   \n",
              "351  @JeffTutorials @realDonaldTrump Ah Jeff.  I ag...   \n",
              "352  CNN Exclusive: Biden says he will ask American...   \n",
              "353  @mpolletta Little known fact – that Biden’s su...   \n",
              "\n",
              "                                            clean_text  subjectivity  \\\n",
              "0    sidney powell amends court filing said georgia...             1   \n",
              "1    lisamirandocnn wolfblitzer thought cnn jake ta...             0   \n",
              "2    breaking foxnews alert joe biden revealed goin...             0   \n",
              "3    rwpusa richard heard could several republican ...             1   \n",
              "4    leafcavalier afjustinkg real life question not...             1   \n",
              "..                                                 ...           ...   \n",
              "349                        realdonaldtrump thank biden             1   \n",
              "350  kellyanne conway acknowledges biden apparent w...             0   \n",
              "351  jefftutorials realdonaldtrump ah jeff agree bi...             1   \n",
              "352  cnn exclusive biden say ask american wear mask...             0   \n",
              "353  mpolletta little known fact biden support that...             0   \n",
              "\n",
              "     polarity  bigram_cnb_score  \n",
              "0           1                 0  \n",
              "1           2                 2  \n",
              "2           2                 2  \n",
              "3           0                 0  \n",
              "4           0                 1  \n",
              "..        ...               ...  \n",
              "349         1                 1  \n",
              "350         2                 1  \n",
              "351         0                 1  \n",
              "352         2                 2  \n",
              "353         2                 2  \n",
              "\n",
              "[354 rows x 5 columns]"
            ],
            "text/html": [
              "\n",
              "  <div id=\"df-b3da4965-a634-47df-8203-268dba3c58d3\">\n",
              "    <div class=\"colab-df-container\">\n",
              "      <div>\n",
              "<style scoped>\n",
              "    .dataframe tbody tr th:only-of-type {\n",
              "        vertical-align: middle;\n",
              "    }\n",
              "\n",
              "    .dataframe tbody tr th {\n",
              "        vertical-align: top;\n",
              "    }\n",
              "\n",
              "    .dataframe thead th {\n",
              "        text-align: right;\n",
              "    }\n",
              "</style>\n",
              "<table border=\"1\" class=\"dataframe\">\n",
              "  <thead>\n",
              "    <tr style=\"text-align: right;\">\n",
              "      <th></th>\n",
              "      <th>raw_text</th>\n",
              "      <th>clean_text</th>\n",
              "      <th>subjectivity</th>\n",
              "      <th>polarity</th>\n",
              "      <th>bigram_cnb_score</th>\n",
              "    </tr>\n",
              "  </thead>\n",
              "  <tbody>\n",
              "    <tr>\n",
              "      <th>0</th>\n",
              "      <td>Sidney Powell amends court filing that said Ge...</td>\n",
              "      <td>sidney powell amends court filing said georgia...</td>\n",
              "      <td>1</td>\n",
              "      <td>1</td>\n",
              "      <td>0</td>\n",
              "    </tr>\n",
              "    <tr>\n",
              "      <th>1</th>\n",
              "      <td>@LisaMirandoCNN @wolfblitzer What's your thoug...</td>\n",
              "      <td>lisamirandocnn wolfblitzer thought cnn jake ta...</td>\n",
              "      <td>0</td>\n",
              "      <td>2</td>\n",
              "      <td>2</td>\n",
              "    </tr>\n",
              "    <tr>\n",
              "      <th>2</th>\n",
              "      <td>Breaking #FoxNews Alert : Joe Biden just revea...</td>\n",
              "      <td>breaking foxnews alert joe biden revealed goin...</td>\n",
              "      <td>0</td>\n",
              "      <td>2</td>\n",
              "      <td>2</td>\n",
              "    </tr>\n",
              "    <tr>\n",
              "      <th>3</th>\n",
              "      <td>@RWPUSA Richard, have you heard there could be...</td>\n",
              "      <td>rwpusa richard heard could several republican ...</td>\n",
              "      <td>1</td>\n",
              "      <td>0</td>\n",
              "      <td>0</td>\n",
              "    </tr>\n",
              "    <tr>\n",
              "      <th>4</th>\n",
              "      <td>@LeafCavalier @AFJustinKG1 Is that a real-life...</td>\n",
              "      <td>leafcavalier afjustinkg real life question not...</td>\n",
              "      <td>1</td>\n",
              "      <td>0</td>\n",
              "      <td>1</td>\n",
              "    </tr>\n",
              "    <tr>\n",
              "      <th>...</th>\n",
              "      <td>...</td>\n",
              "      <td>...</td>\n",
              "      <td>...</td>\n",
              "      <td>...</td>\n",
              "      <td>...</td>\n",
              "    </tr>\n",
              "    <tr>\n",
              "      <th>349</th>\n",
              "      <td>@realDonaldTrump Thank you Biden!!!</td>\n",
              "      <td>realdonaldtrump thank biden</td>\n",
              "      <td>1</td>\n",
              "      <td>1</td>\n",
              "      <td>1</td>\n",
              "    </tr>\n",
              "    <tr>\n",
              "      <th>350</th>\n",
              "      <td>Kellyanne Conway acknowledges Biden as apparen...</td>\n",
              "      <td>kellyanne conway acknowledges biden apparent w...</td>\n",
              "      <td>0</td>\n",
              "      <td>2</td>\n",
              "      <td>1</td>\n",
              "    </tr>\n",
              "    <tr>\n",
              "      <th>351</th>\n",
              "      <td>@JeffTutorials @realDonaldTrump Ah Jeff.  I ag...</td>\n",
              "      <td>jefftutorials realdonaldtrump ah jeff agree bi...</td>\n",
              "      <td>1</td>\n",
              "      <td>0</td>\n",
              "      <td>1</td>\n",
              "    </tr>\n",
              "    <tr>\n",
              "      <th>352</th>\n",
              "      <td>CNN Exclusive: Biden says he will ask American...</td>\n",
              "      <td>cnn exclusive biden say ask american wear mask...</td>\n",
              "      <td>0</td>\n",
              "      <td>2</td>\n",
              "      <td>2</td>\n",
              "    </tr>\n",
              "    <tr>\n",
              "      <th>353</th>\n",
              "      <td>@mpolletta Little known fact – that Biden’s su...</td>\n",
              "      <td>mpolletta little known fact biden support that...</td>\n",
              "      <td>0</td>\n",
              "      <td>2</td>\n",
              "      <td>2</td>\n",
              "    </tr>\n",
              "  </tbody>\n",
              "</table>\n",
              "<p>354 rows × 5 columns</p>\n",
              "</div>\n",
              "      <button class=\"colab-df-convert\" onclick=\"convertToInteractive('df-b3da4965-a634-47df-8203-268dba3c58d3')\"\n",
              "              title=\"Convert this dataframe to an interactive table.\"\n",
              "              style=\"display:none;\">\n",
              "        \n",
              "  <svg xmlns=\"http://www.w3.org/2000/svg\" height=\"24px\"viewBox=\"0 0 24 24\"\n",
              "       width=\"24px\">\n",
              "    <path d=\"M0 0h24v24H0V0z\" fill=\"none\"/>\n",
              "    <path d=\"M18.56 5.44l.94 2.06.94-2.06 2.06-.94-2.06-.94-.94-2.06-.94 2.06-2.06.94zm-11 1L8.5 8.5l.94-2.06 2.06-.94-2.06-.94L8.5 2.5l-.94 2.06-2.06.94zm10 10l.94 2.06.94-2.06 2.06-.94-2.06-.94-.94-2.06-.94 2.06-2.06.94z\"/><path d=\"M17.41 7.96l-1.37-1.37c-.4-.4-.92-.59-1.43-.59-.52 0-1.04.2-1.43.59L10.3 9.45l-7.72 7.72c-.78.78-.78 2.05 0 2.83L4 21.41c.39.39.9.59 1.41.59.51 0 1.02-.2 1.41-.59l7.78-7.78 2.81-2.81c.8-.78.8-2.07 0-2.86zM5.41 20L4 18.59l7.72-7.72 1.47 1.35L5.41 20z\"/>\n",
              "  </svg>\n",
              "      </button>\n",
              "      \n",
              "  <style>\n",
              "    .colab-df-container {\n",
              "      display:flex;\n",
              "      flex-wrap:wrap;\n",
              "      gap: 12px;\n",
              "    }\n",
              "\n",
              "    .colab-df-convert {\n",
              "      background-color: #E8F0FE;\n",
              "      border: none;\n",
              "      border-radius: 50%;\n",
              "      cursor: pointer;\n",
              "      display: none;\n",
              "      fill: #1967D2;\n",
              "      height: 32px;\n",
              "      padding: 0 0 0 0;\n",
              "      width: 32px;\n",
              "    }\n",
              "\n",
              "    .colab-df-convert:hover {\n",
              "      background-color: #E2EBFA;\n",
              "      box-shadow: 0px 1px 2px rgba(60, 64, 67, 0.3), 0px 1px 3px 1px rgba(60, 64, 67, 0.15);\n",
              "      fill: #174EA6;\n",
              "    }\n",
              "\n",
              "    [theme=dark] .colab-df-convert {\n",
              "      background-color: #3B4455;\n",
              "      fill: #D2E3FC;\n",
              "    }\n",
              "\n",
              "    [theme=dark] .colab-df-convert:hover {\n",
              "      background-color: #434B5C;\n",
              "      box-shadow: 0px 1px 3px 1px rgba(0, 0, 0, 0.15);\n",
              "      filter: drop-shadow(0px 1px 2px rgba(0, 0, 0, 0.3));\n",
              "      fill: #FFFFFF;\n",
              "    }\n",
              "  </style>\n",
              "\n",
              "      <script>\n",
              "        const buttonEl =\n",
              "          document.querySelector('#df-b3da4965-a634-47df-8203-268dba3c58d3 button.colab-df-convert');\n",
              "        buttonEl.style.display =\n",
              "          google.colab.kernel.accessAllowed ? 'block' : 'none';\n",
              "\n",
              "        async function convertToInteractive(key) {\n",
              "          const element = document.querySelector('#df-b3da4965-a634-47df-8203-268dba3c58d3');\n",
              "          const dataTable =\n",
              "            await google.colab.kernel.invokeFunction('convertToInteractive',\n",
              "                                                     [key], {});\n",
              "          if (!dataTable) return;\n",
              "\n",
              "          const docLinkHtml = 'Like what you see? Visit the ' +\n",
              "            '<a target=\"_blank\" href=https://colab.research.google.com/notebooks/data_table.ipynb>data table notebook</a>'\n",
              "            + ' to learn more about interactive tables.';\n",
              "          element.innerHTML = '';\n",
              "          dataTable['output_type'] = 'display_data';\n",
              "          await google.colab.output.renderOutput(dataTable, element);\n",
              "          const docLink = document.createElement('div');\n",
              "          docLink.innerHTML = docLinkHtml;\n",
              "          element.appendChild(docLink);\n",
              "        }\n",
              "      </script>\n",
              "    </div>\n",
              "  </div>\n",
              "  "
            ]
          },
          "metadata": {},
          "execution_count": 18
        }
      ]
    },
    {
      "cell_type": "code",
      "source": [
        "# labeled test data\n",
        "nb_label_file_name = 'bigram_cnb_results_test_labeled.csv'\n",
        "  \n",
        "test_df.to_csv(nb_label_file_name)"
      ],
      "metadata": {
        "id": "IaqZh0tq9_sX"
      },
      "execution_count": 19,
      "outputs": []
    },
    {
      "cell_type": "code",
      "source": [
        "# pickling the vectorizer\n",
        "pickle.dump(vectorizer, open('bigram_cnb_vectorizer.sav', 'wb'))"
      ],
      "metadata": {
        "id": "r1Rr4OxZne4H"
      },
      "execution_count": 20,
      "outputs": []
    },
    {
      "cell_type": "code",
      "source": [
        "# pickling the model\n",
        "pickle.dump(CNB, open('bigram_cnb_classifier.sav', 'wb'))"
      ],
      "metadata": {
        "id": "7i1p55-rne7-"
      },
      "execution_count": 21,
      "outputs": []
    },
    {
      "cell_type": "markdown",
      "source": [
        "## Apply on full dataset"
      ],
      "metadata": {
        "id": "npgAK3mCoC2T"
      }
    },
    {
      "cell_type": "markdown",
      "source": [
        "### Read dataset"
      ],
      "metadata": {
        "id": "vCcJfAPToE3s"
      }
    },
    {
      "cell_type": "code",
      "source": [
        "# full data\n",
        "df_full = pd.read_csv('/content/drive/MyDrive/Colab Notebooks/nlp project/Sentiment Analysis/final datasets/biden_tweets_processed.csv')\n",
        "\n",
        "df_full"
      ],
      "metadata": {
        "colab": {
          "base_uri": "https://localhost:8080/",
          "height": 468
        },
        "id": "HHjaTx-RoF5N",
        "outputId": "8646552c-f983-4551-8abb-fa95bbb5f6e3"
      },
      "execution_count": 22,
      "outputs": [
        {
          "output_type": "execute_result",
          "data": {
            "text/plain": [
              "       Unnamed: 0                                           raw_text  \\\n",
              "0               0  @NCatalyst19 @RattlerGator This fake virus is ...   \n",
              "1               1  @propublica I now think Biden should keep Trum...   \n",
              "2               2  @Acosta Hopefully it's a foregone conclusion t...   \n",
              "3               3  @realDonaldTrump @POTUS I don't trust the @FBI...   \n",
              "4               4  President-elect Joe Biden is predicting a “ble...   \n",
              "...           ...                                                ...   \n",
              "17626       17626  @MSNBC I mean shit, what if Biden turns out to...   \n",
              "17627       17627  Pentagon blocks visits to military spy agencie...   \n",
              "17628       17628  CNN Exclusive: Biden says he will ask American...   \n",
              "17629       17629  @Tomboliko @the_resistor @realDonaldTrump Hill...   \n",
              "17630       17630  Biden says Trump should attend his inauguratio...   \n",
              "\n",
              "                                              clean_text  \n",
              "0      ncatalyst rattlergator fake virus deep state g...  \n",
              "1      propublica think biden keep trump anti deep st...  \n",
              "2      acosta hopefully foregone conclusion president...  \n",
              "3      realdonaldtrump potus trust fbi wray even look...  \n",
              "4      president elect joe biden predicting bleak fut...  \n",
              "...                                                  ...  \n",
              "17626  msnbc mean shit biden turn disaster people flo...  \n",
              "17627  pentagon block visit military spy agency biden...  \n",
              "17628  cnn exclusive biden say ask american wear mask...  \n",
              "17629  tomboliko resistor realdonaldtrump hillary che...  \n",
              "17630  biden say trump attend inauguration sake ameri...  \n",
              "\n",
              "[17631 rows x 3 columns]"
            ],
            "text/html": [
              "\n",
              "  <div id=\"df-66045ad0-0ec9-4db3-92f9-056e89f47f0a\">\n",
              "    <div class=\"colab-df-container\">\n",
              "      <div>\n",
              "<style scoped>\n",
              "    .dataframe tbody tr th:only-of-type {\n",
              "        vertical-align: middle;\n",
              "    }\n",
              "\n",
              "    .dataframe tbody tr th {\n",
              "        vertical-align: top;\n",
              "    }\n",
              "\n",
              "    .dataframe thead th {\n",
              "        text-align: right;\n",
              "    }\n",
              "</style>\n",
              "<table border=\"1\" class=\"dataframe\">\n",
              "  <thead>\n",
              "    <tr style=\"text-align: right;\">\n",
              "      <th></th>\n",
              "      <th>Unnamed: 0</th>\n",
              "      <th>raw_text</th>\n",
              "      <th>clean_text</th>\n",
              "    </tr>\n",
              "  </thead>\n",
              "  <tbody>\n",
              "    <tr>\n",
              "      <th>0</th>\n",
              "      <td>0</td>\n",
              "      <td>@NCatalyst19 @RattlerGator This fake virus is ...</td>\n",
              "      <td>ncatalyst rattlergator fake virus deep state g...</td>\n",
              "    </tr>\n",
              "    <tr>\n",
              "      <th>1</th>\n",
              "      <td>1</td>\n",
              "      <td>@propublica I now think Biden should keep Trum...</td>\n",
              "      <td>propublica think biden keep trump anti deep st...</td>\n",
              "    </tr>\n",
              "    <tr>\n",
              "      <th>2</th>\n",
              "      <td>2</td>\n",
              "      <td>@Acosta Hopefully it's a foregone conclusion t...</td>\n",
              "      <td>acosta hopefully foregone conclusion president...</td>\n",
              "    </tr>\n",
              "    <tr>\n",
              "      <th>3</th>\n",
              "      <td>3</td>\n",
              "      <td>@realDonaldTrump @POTUS I don't trust the @FBI...</td>\n",
              "      <td>realdonaldtrump potus trust fbi wray even look...</td>\n",
              "    </tr>\n",
              "    <tr>\n",
              "      <th>4</th>\n",
              "      <td>4</td>\n",
              "      <td>President-elect Joe Biden is predicting a “ble...</td>\n",
              "      <td>president elect joe biden predicting bleak fut...</td>\n",
              "    </tr>\n",
              "    <tr>\n",
              "      <th>...</th>\n",
              "      <td>...</td>\n",
              "      <td>...</td>\n",
              "      <td>...</td>\n",
              "    </tr>\n",
              "    <tr>\n",
              "      <th>17626</th>\n",
              "      <td>17626</td>\n",
              "      <td>@MSNBC I mean shit, what if Biden turns out to...</td>\n",
              "      <td>msnbc mean shit biden turn disaster people flo...</td>\n",
              "    </tr>\n",
              "    <tr>\n",
              "      <th>17627</th>\n",
              "      <td>17627</td>\n",
              "      <td>Pentagon blocks visits to military spy agencie...</td>\n",
              "      <td>pentagon block visit military spy agency biden...</td>\n",
              "    </tr>\n",
              "    <tr>\n",
              "      <th>17628</th>\n",
              "      <td>17628</td>\n",
              "      <td>CNN Exclusive: Biden says he will ask American...</td>\n",
              "      <td>cnn exclusive biden say ask american wear mask...</td>\n",
              "    </tr>\n",
              "    <tr>\n",
              "      <th>17629</th>\n",
              "      <td>17629</td>\n",
              "      <td>@Tomboliko @the_resistor @realDonaldTrump Hill...</td>\n",
              "      <td>tomboliko resistor realdonaldtrump hillary che...</td>\n",
              "    </tr>\n",
              "    <tr>\n",
              "      <th>17630</th>\n",
              "      <td>17630</td>\n",
              "      <td>Biden says Trump should attend his inauguratio...</td>\n",
              "      <td>biden say trump attend inauguration sake ameri...</td>\n",
              "    </tr>\n",
              "  </tbody>\n",
              "</table>\n",
              "<p>17631 rows × 3 columns</p>\n",
              "</div>\n",
              "      <button class=\"colab-df-convert\" onclick=\"convertToInteractive('df-66045ad0-0ec9-4db3-92f9-056e89f47f0a')\"\n",
              "              title=\"Convert this dataframe to an interactive table.\"\n",
              "              style=\"display:none;\">\n",
              "        \n",
              "  <svg xmlns=\"http://www.w3.org/2000/svg\" height=\"24px\"viewBox=\"0 0 24 24\"\n",
              "       width=\"24px\">\n",
              "    <path d=\"M0 0h24v24H0V0z\" fill=\"none\"/>\n",
              "    <path d=\"M18.56 5.44l.94 2.06.94-2.06 2.06-.94-2.06-.94-.94-2.06-.94 2.06-2.06.94zm-11 1L8.5 8.5l.94-2.06 2.06-.94-2.06-.94L8.5 2.5l-.94 2.06-2.06.94zm10 10l.94 2.06.94-2.06 2.06-.94-2.06-.94-.94-2.06-.94 2.06-2.06.94z\"/><path d=\"M17.41 7.96l-1.37-1.37c-.4-.4-.92-.59-1.43-.59-.52 0-1.04.2-1.43.59L10.3 9.45l-7.72 7.72c-.78.78-.78 2.05 0 2.83L4 21.41c.39.39.9.59 1.41.59.51 0 1.02-.2 1.41-.59l7.78-7.78 2.81-2.81c.8-.78.8-2.07 0-2.86zM5.41 20L4 18.59l7.72-7.72 1.47 1.35L5.41 20z\"/>\n",
              "  </svg>\n",
              "      </button>\n",
              "      \n",
              "  <style>\n",
              "    .colab-df-container {\n",
              "      display:flex;\n",
              "      flex-wrap:wrap;\n",
              "      gap: 12px;\n",
              "    }\n",
              "\n",
              "    .colab-df-convert {\n",
              "      background-color: #E8F0FE;\n",
              "      border: none;\n",
              "      border-radius: 50%;\n",
              "      cursor: pointer;\n",
              "      display: none;\n",
              "      fill: #1967D2;\n",
              "      height: 32px;\n",
              "      padding: 0 0 0 0;\n",
              "      width: 32px;\n",
              "    }\n",
              "\n",
              "    .colab-df-convert:hover {\n",
              "      background-color: #E2EBFA;\n",
              "      box-shadow: 0px 1px 2px rgba(60, 64, 67, 0.3), 0px 1px 3px 1px rgba(60, 64, 67, 0.15);\n",
              "      fill: #174EA6;\n",
              "    }\n",
              "\n",
              "    [theme=dark] .colab-df-convert {\n",
              "      background-color: #3B4455;\n",
              "      fill: #D2E3FC;\n",
              "    }\n",
              "\n",
              "    [theme=dark] .colab-df-convert:hover {\n",
              "      background-color: #434B5C;\n",
              "      box-shadow: 0px 1px 3px 1px rgba(0, 0, 0, 0.15);\n",
              "      filter: drop-shadow(0px 1px 2px rgba(0, 0, 0, 0.3));\n",
              "      fill: #FFFFFF;\n",
              "    }\n",
              "  </style>\n",
              "\n",
              "      <script>\n",
              "        const buttonEl =\n",
              "          document.querySelector('#df-66045ad0-0ec9-4db3-92f9-056e89f47f0a button.colab-df-convert');\n",
              "        buttonEl.style.display =\n",
              "          google.colab.kernel.accessAllowed ? 'block' : 'none';\n",
              "\n",
              "        async function convertToInteractive(key) {\n",
              "          const element = document.querySelector('#df-66045ad0-0ec9-4db3-92f9-056e89f47f0a');\n",
              "          const dataTable =\n",
              "            await google.colab.kernel.invokeFunction('convertToInteractive',\n",
              "                                                     [key], {});\n",
              "          if (!dataTable) return;\n",
              "\n",
              "          const docLinkHtml = 'Like what you see? Visit the ' +\n",
              "            '<a target=\"_blank\" href=https://colab.research.google.com/notebooks/data_table.ipynb>data table notebook</a>'\n",
              "            + ' to learn more about interactive tables.';\n",
              "          element.innerHTML = '';\n",
              "          dataTable['output_type'] = 'display_data';\n",
              "          await google.colab.output.renderOutput(dataTable, element);\n",
              "          const docLink = document.createElement('div');\n",
              "          docLink.innerHTML = docLinkHtml;\n",
              "          element.appendChild(docLink);\n",
              "        }\n",
              "      </script>\n",
              "    </div>\n",
              "  </div>\n",
              "  "
            ]
          },
          "metadata": {},
          "execution_count": 22
        }
      ]
    },
    {
      "cell_type": "code",
      "source": [
        "df_full.columns"
      ],
      "metadata": {
        "colab": {
          "base_uri": "https://localhost:8080/"
        },
        "id": "QnQYqggUoMVP",
        "outputId": "472ec6e3-5861-4254-d9c6-7f1168801f97"
      },
      "execution_count": 23,
      "outputs": [
        {
          "output_type": "execute_result",
          "data": {
            "text/plain": [
              "Index(['Unnamed: 0', 'raw_text', 'clean_text'], dtype='object')"
            ]
          },
          "metadata": {},
          "execution_count": 23
        }
      ]
    },
    {
      "cell_type": "code",
      "source": [
        "df_full = df_full.drop('Unnamed: 0', axis=1)\n",
        "\n",
        "df_full"
      ],
      "metadata": {
        "colab": {
          "base_uri": "https://localhost:8080/",
          "height": 424
        },
        "id": "AVYla0dzoMXk",
        "outputId": "16082d8d-2e80-43d1-8ce2-9db15032c1d5"
      },
      "execution_count": 24,
      "outputs": [
        {
          "output_type": "execute_result",
          "data": {
            "text/plain": [
              "                                                raw_text  \\\n",
              "0      @NCatalyst19 @RattlerGator This fake virus is ...   \n",
              "1      @propublica I now think Biden should keep Trum...   \n",
              "2      @Acosta Hopefully it's a foregone conclusion t...   \n",
              "3      @realDonaldTrump @POTUS I don't trust the @FBI...   \n",
              "4      President-elect Joe Biden is predicting a “ble...   \n",
              "...                                                  ...   \n",
              "17626  @MSNBC I mean shit, what if Biden turns out to...   \n",
              "17627  Pentagon blocks visits to military spy agencie...   \n",
              "17628  CNN Exclusive: Biden says he will ask American...   \n",
              "17629  @Tomboliko @the_resistor @realDonaldTrump Hill...   \n",
              "17630  Biden says Trump should attend his inauguratio...   \n",
              "\n",
              "                                              clean_text  \n",
              "0      ncatalyst rattlergator fake virus deep state g...  \n",
              "1      propublica think biden keep trump anti deep st...  \n",
              "2      acosta hopefully foregone conclusion president...  \n",
              "3      realdonaldtrump potus trust fbi wray even look...  \n",
              "4      president elect joe biden predicting bleak fut...  \n",
              "...                                                  ...  \n",
              "17626  msnbc mean shit biden turn disaster people flo...  \n",
              "17627  pentagon block visit military spy agency biden...  \n",
              "17628  cnn exclusive biden say ask american wear mask...  \n",
              "17629  tomboliko resistor realdonaldtrump hillary che...  \n",
              "17630  biden say trump attend inauguration sake ameri...  \n",
              "\n",
              "[17631 rows x 2 columns]"
            ],
            "text/html": [
              "\n",
              "  <div id=\"df-dab4e6b6-5a89-45c2-882c-065edd1d06a9\">\n",
              "    <div class=\"colab-df-container\">\n",
              "      <div>\n",
              "<style scoped>\n",
              "    .dataframe tbody tr th:only-of-type {\n",
              "        vertical-align: middle;\n",
              "    }\n",
              "\n",
              "    .dataframe tbody tr th {\n",
              "        vertical-align: top;\n",
              "    }\n",
              "\n",
              "    .dataframe thead th {\n",
              "        text-align: right;\n",
              "    }\n",
              "</style>\n",
              "<table border=\"1\" class=\"dataframe\">\n",
              "  <thead>\n",
              "    <tr style=\"text-align: right;\">\n",
              "      <th></th>\n",
              "      <th>raw_text</th>\n",
              "      <th>clean_text</th>\n",
              "    </tr>\n",
              "  </thead>\n",
              "  <tbody>\n",
              "    <tr>\n",
              "      <th>0</th>\n",
              "      <td>@NCatalyst19 @RattlerGator This fake virus is ...</td>\n",
              "      <td>ncatalyst rattlergator fake virus deep state g...</td>\n",
              "    </tr>\n",
              "    <tr>\n",
              "      <th>1</th>\n",
              "      <td>@propublica I now think Biden should keep Trum...</td>\n",
              "      <td>propublica think biden keep trump anti deep st...</td>\n",
              "    </tr>\n",
              "    <tr>\n",
              "      <th>2</th>\n",
              "      <td>@Acosta Hopefully it's a foregone conclusion t...</td>\n",
              "      <td>acosta hopefully foregone conclusion president...</td>\n",
              "    </tr>\n",
              "    <tr>\n",
              "      <th>3</th>\n",
              "      <td>@realDonaldTrump @POTUS I don't trust the @FBI...</td>\n",
              "      <td>realdonaldtrump potus trust fbi wray even look...</td>\n",
              "    </tr>\n",
              "    <tr>\n",
              "      <th>4</th>\n",
              "      <td>President-elect Joe Biden is predicting a “ble...</td>\n",
              "      <td>president elect joe biden predicting bleak fut...</td>\n",
              "    </tr>\n",
              "    <tr>\n",
              "      <th>...</th>\n",
              "      <td>...</td>\n",
              "      <td>...</td>\n",
              "    </tr>\n",
              "    <tr>\n",
              "      <th>17626</th>\n",
              "      <td>@MSNBC I mean shit, what if Biden turns out to...</td>\n",
              "      <td>msnbc mean shit biden turn disaster people flo...</td>\n",
              "    </tr>\n",
              "    <tr>\n",
              "      <th>17627</th>\n",
              "      <td>Pentagon blocks visits to military spy agencie...</td>\n",
              "      <td>pentagon block visit military spy agency biden...</td>\n",
              "    </tr>\n",
              "    <tr>\n",
              "      <th>17628</th>\n",
              "      <td>CNN Exclusive: Biden says he will ask American...</td>\n",
              "      <td>cnn exclusive biden say ask american wear mask...</td>\n",
              "    </tr>\n",
              "    <tr>\n",
              "      <th>17629</th>\n",
              "      <td>@Tomboliko @the_resistor @realDonaldTrump Hill...</td>\n",
              "      <td>tomboliko resistor realdonaldtrump hillary che...</td>\n",
              "    </tr>\n",
              "    <tr>\n",
              "      <th>17630</th>\n",
              "      <td>Biden says Trump should attend his inauguratio...</td>\n",
              "      <td>biden say trump attend inauguration sake ameri...</td>\n",
              "    </tr>\n",
              "  </tbody>\n",
              "</table>\n",
              "<p>17631 rows × 2 columns</p>\n",
              "</div>\n",
              "      <button class=\"colab-df-convert\" onclick=\"convertToInteractive('df-dab4e6b6-5a89-45c2-882c-065edd1d06a9')\"\n",
              "              title=\"Convert this dataframe to an interactive table.\"\n",
              "              style=\"display:none;\">\n",
              "        \n",
              "  <svg xmlns=\"http://www.w3.org/2000/svg\" height=\"24px\"viewBox=\"0 0 24 24\"\n",
              "       width=\"24px\">\n",
              "    <path d=\"M0 0h24v24H0V0z\" fill=\"none\"/>\n",
              "    <path d=\"M18.56 5.44l.94 2.06.94-2.06 2.06-.94-2.06-.94-.94-2.06-.94 2.06-2.06.94zm-11 1L8.5 8.5l.94-2.06 2.06-.94-2.06-.94L8.5 2.5l-.94 2.06-2.06.94zm10 10l.94 2.06.94-2.06 2.06-.94-2.06-.94-.94-2.06-.94 2.06-2.06.94z\"/><path d=\"M17.41 7.96l-1.37-1.37c-.4-.4-.92-.59-1.43-.59-.52 0-1.04.2-1.43.59L10.3 9.45l-7.72 7.72c-.78.78-.78 2.05 0 2.83L4 21.41c.39.39.9.59 1.41.59.51 0 1.02-.2 1.41-.59l7.78-7.78 2.81-2.81c.8-.78.8-2.07 0-2.86zM5.41 20L4 18.59l7.72-7.72 1.47 1.35L5.41 20z\"/>\n",
              "  </svg>\n",
              "      </button>\n",
              "      \n",
              "  <style>\n",
              "    .colab-df-container {\n",
              "      display:flex;\n",
              "      flex-wrap:wrap;\n",
              "      gap: 12px;\n",
              "    }\n",
              "\n",
              "    .colab-df-convert {\n",
              "      background-color: #E8F0FE;\n",
              "      border: none;\n",
              "      border-radius: 50%;\n",
              "      cursor: pointer;\n",
              "      display: none;\n",
              "      fill: #1967D2;\n",
              "      height: 32px;\n",
              "      padding: 0 0 0 0;\n",
              "      width: 32px;\n",
              "    }\n",
              "\n",
              "    .colab-df-convert:hover {\n",
              "      background-color: #E2EBFA;\n",
              "      box-shadow: 0px 1px 2px rgba(60, 64, 67, 0.3), 0px 1px 3px 1px rgba(60, 64, 67, 0.15);\n",
              "      fill: #174EA6;\n",
              "    }\n",
              "\n",
              "    [theme=dark] .colab-df-convert {\n",
              "      background-color: #3B4455;\n",
              "      fill: #D2E3FC;\n",
              "    }\n",
              "\n",
              "    [theme=dark] .colab-df-convert:hover {\n",
              "      background-color: #434B5C;\n",
              "      box-shadow: 0px 1px 3px 1px rgba(0, 0, 0, 0.15);\n",
              "      filter: drop-shadow(0px 1px 2px rgba(0, 0, 0, 0.3));\n",
              "      fill: #FFFFFF;\n",
              "    }\n",
              "  </style>\n",
              "\n",
              "      <script>\n",
              "        const buttonEl =\n",
              "          document.querySelector('#df-dab4e6b6-5a89-45c2-882c-065edd1d06a9 button.colab-df-convert');\n",
              "        buttonEl.style.display =\n",
              "          google.colab.kernel.accessAllowed ? 'block' : 'none';\n",
              "\n",
              "        async function convertToInteractive(key) {\n",
              "          const element = document.querySelector('#df-dab4e6b6-5a89-45c2-882c-065edd1d06a9');\n",
              "          const dataTable =\n",
              "            await google.colab.kernel.invokeFunction('convertToInteractive',\n",
              "                                                     [key], {});\n",
              "          if (!dataTable) return;\n",
              "\n",
              "          const docLinkHtml = 'Like what you see? Visit the ' +\n",
              "            '<a target=\"_blank\" href=https://colab.research.google.com/notebooks/data_table.ipynb>data table notebook</a>'\n",
              "            + ' to learn more about interactive tables.';\n",
              "          element.innerHTML = '';\n",
              "          dataTable['output_type'] = 'display_data';\n",
              "          await google.colab.output.renderOutput(dataTable, element);\n",
              "          const docLink = document.createElement('div');\n",
              "          docLink.innerHTML = docLinkHtml;\n",
              "          element.appendChild(docLink);\n",
              "        }\n",
              "      </script>\n",
              "    </div>\n",
              "  </div>\n",
              "  "
            ]
          },
          "metadata": {},
          "execution_count": 24
        }
      ]
    },
    {
      "cell_type": "markdown",
      "source": [
        "### Vectorize data"
      ],
      "metadata": {
        "id": "iRf_VBDCoPLH"
      }
    },
    {
      "cell_type": "code",
      "source": [
        "full_vectors = vectorizer.transform(df_full['clean_text'])"
      ],
      "metadata": {
        "id": "wLkVyYv8oMZl"
      },
      "execution_count": 25,
      "outputs": []
    },
    {
      "cell_type": "markdown",
      "source": [
        "### ComplementNB sentiment analysis"
      ],
      "metadata": {
        "id": "iVC_qAEQoTU6"
      }
    },
    {
      "cell_type": "code",
      "source": [
        "full_prediction_linear = CNB.predict(full_vectors)"
      ],
      "metadata": {
        "id": "CY50rvu4oMb4"
      },
      "execution_count": 26,
      "outputs": []
    },
    {
      "cell_type": "code",
      "source": [
        "full_prediction_linear"
      ],
      "metadata": {
        "colab": {
          "base_uri": "https://localhost:8080/"
        },
        "id": "tOL0QjEMoMf-",
        "outputId": "6c4bbee5-fca1-4fcf-d51e-ef2e9bd67da6"
      },
      "execution_count": 27,
      "outputs": [
        {
          "output_type": "execute_result",
          "data": {
            "text/plain": [
              "array([2, 0, 1, ..., 2, 0, 2])"
            ]
          },
          "metadata": {},
          "execution_count": 27
        }
      ]
    },
    {
      "cell_type": "code",
      "source": [
        "# add cnb scores to dataframe\n",
        "df_full['bigram_cnb_score'] = full_prediction_linear.tolist()\n",
        "\n",
        "df_full"
      ],
      "metadata": {
        "colab": {
          "base_uri": "https://localhost:8080/",
          "height": 572
        },
        "id": "eTC98bxKoMid",
        "outputId": "0570a3b6-a432-49fa-b579-fe7ccf430648"
      },
      "execution_count": 28,
      "outputs": [
        {
          "output_type": "execute_result",
          "data": {
            "text/plain": [
              "                                                raw_text  \\\n",
              "0      @NCatalyst19 @RattlerGator This fake virus is ...   \n",
              "1      @propublica I now think Biden should keep Trum...   \n",
              "2      @Acosta Hopefully it's a foregone conclusion t...   \n",
              "3      @realDonaldTrump @POTUS I don't trust the @FBI...   \n",
              "4      President-elect Joe Biden is predicting a “ble...   \n",
              "...                                                  ...   \n",
              "17626  @MSNBC I mean shit, what if Biden turns out to...   \n",
              "17627  Pentagon blocks visits to military spy agencie...   \n",
              "17628  CNN Exclusive: Biden says he will ask American...   \n",
              "17629  @Tomboliko @the_resistor @realDonaldTrump Hill...   \n",
              "17630  Biden says Trump should attend his inauguratio...   \n",
              "\n",
              "                                              clean_text  bigram_cnb_score  \n",
              "0      ncatalyst rattlergator fake virus deep state g...                 2  \n",
              "1      propublica think biden keep trump anti deep st...                 0  \n",
              "2      acosta hopefully foregone conclusion president...                 1  \n",
              "3      realdonaldtrump potus trust fbi wray even look...                 2  \n",
              "4      president elect joe biden predicting bleak fut...                 2  \n",
              "...                                                  ...               ...  \n",
              "17626  msnbc mean shit biden turn disaster people flo...                 0  \n",
              "17627  pentagon block visit military spy agency biden...                 2  \n",
              "17628  cnn exclusive biden say ask american wear mask...                 2  \n",
              "17629  tomboliko resistor realdonaldtrump hillary che...                 0  \n",
              "17630  biden say trump attend inauguration sake ameri...                 2  \n",
              "\n",
              "[17631 rows x 3 columns]"
            ],
            "text/html": [
              "\n",
              "  <div id=\"df-9c8ade9a-efad-4dde-ae81-e48b8797c00a\">\n",
              "    <div class=\"colab-df-container\">\n",
              "      <div>\n",
              "<style scoped>\n",
              "    .dataframe tbody tr th:only-of-type {\n",
              "        vertical-align: middle;\n",
              "    }\n",
              "\n",
              "    .dataframe tbody tr th {\n",
              "        vertical-align: top;\n",
              "    }\n",
              "\n",
              "    .dataframe thead th {\n",
              "        text-align: right;\n",
              "    }\n",
              "</style>\n",
              "<table border=\"1\" class=\"dataframe\">\n",
              "  <thead>\n",
              "    <tr style=\"text-align: right;\">\n",
              "      <th></th>\n",
              "      <th>raw_text</th>\n",
              "      <th>clean_text</th>\n",
              "      <th>bigram_cnb_score</th>\n",
              "    </tr>\n",
              "  </thead>\n",
              "  <tbody>\n",
              "    <tr>\n",
              "      <th>0</th>\n",
              "      <td>@NCatalyst19 @RattlerGator This fake virus is ...</td>\n",
              "      <td>ncatalyst rattlergator fake virus deep state g...</td>\n",
              "      <td>2</td>\n",
              "    </tr>\n",
              "    <tr>\n",
              "      <th>1</th>\n",
              "      <td>@propublica I now think Biden should keep Trum...</td>\n",
              "      <td>propublica think biden keep trump anti deep st...</td>\n",
              "      <td>0</td>\n",
              "    </tr>\n",
              "    <tr>\n",
              "      <th>2</th>\n",
              "      <td>@Acosta Hopefully it's a foregone conclusion t...</td>\n",
              "      <td>acosta hopefully foregone conclusion president...</td>\n",
              "      <td>1</td>\n",
              "    </tr>\n",
              "    <tr>\n",
              "      <th>3</th>\n",
              "      <td>@realDonaldTrump @POTUS I don't trust the @FBI...</td>\n",
              "      <td>realdonaldtrump potus trust fbi wray even look...</td>\n",
              "      <td>2</td>\n",
              "    </tr>\n",
              "    <tr>\n",
              "      <th>4</th>\n",
              "      <td>President-elect Joe Biden is predicting a “ble...</td>\n",
              "      <td>president elect joe biden predicting bleak fut...</td>\n",
              "      <td>2</td>\n",
              "    </tr>\n",
              "    <tr>\n",
              "      <th>...</th>\n",
              "      <td>...</td>\n",
              "      <td>...</td>\n",
              "      <td>...</td>\n",
              "    </tr>\n",
              "    <tr>\n",
              "      <th>17626</th>\n",
              "      <td>@MSNBC I mean shit, what if Biden turns out to...</td>\n",
              "      <td>msnbc mean shit biden turn disaster people flo...</td>\n",
              "      <td>0</td>\n",
              "    </tr>\n",
              "    <tr>\n",
              "      <th>17627</th>\n",
              "      <td>Pentagon blocks visits to military spy agencie...</td>\n",
              "      <td>pentagon block visit military spy agency biden...</td>\n",
              "      <td>2</td>\n",
              "    </tr>\n",
              "    <tr>\n",
              "      <th>17628</th>\n",
              "      <td>CNN Exclusive: Biden says he will ask American...</td>\n",
              "      <td>cnn exclusive biden say ask american wear mask...</td>\n",
              "      <td>2</td>\n",
              "    </tr>\n",
              "    <tr>\n",
              "      <th>17629</th>\n",
              "      <td>@Tomboliko @the_resistor @realDonaldTrump Hill...</td>\n",
              "      <td>tomboliko resistor realdonaldtrump hillary che...</td>\n",
              "      <td>0</td>\n",
              "    </tr>\n",
              "    <tr>\n",
              "      <th>17630</th>\n",
              "      <td>Biden says Trump should attend his inauguratio...</td>\n",
              "      <td>biden say trump attend inauguration sake ameri...</td>\n",
              "      <td>2</td>\n",
              "    </tr>\n",
              "  </tbody>\n",
              "</table>\n",
              "<p>17631 rows × 3 columns</p>\n",
              "</div>\n",
              "      <button class=\"colab-df-convert\" onclick=\"convertToInteractive('df-9c8ade9a-efad-4dde-ae81-e48b8797c00a')\"\n",
              "              title=\"Convert this dataframe to an interactive table.\"\n",
              "              style=\"display:none;\">\n",
              "        \n",
              "  <svg xmlns=\"http://www.w3.org/2000/svg\" height=\"24px\"viewBox=\"0 0 24 24\"\n",
              "       width=\"24px\">\n",
              "    <path d=\"M0 0h24v24H0V0z\" fill=\"none\"/>\n",
              "    <path d=\"M18.56 5.44l.94 2.06.94-2.06 2.06-.94-2.06-.94-.94-2.06-.94 2.06-2.06.94zm-11 1L8.5 8.5l.94-2.06 2.06-.94-2.06-.94L8.5 2.5l-.94 2.06-2.06.94zm10 10l.94 2.06.94-2.06 2.06-.94-2.06-.94-.94-2.06-.94 2.06-2.06.94z\"/><path d=\"M17.41 7.96l-1.37-1.37c-.4-.4-.92-.59-1.43-.59-.52 0-1.04.2-1.43.59L10.3 9.45l-7.72 7.72c-.78.78-.78 2.05 0 2.83L4 21.41c.39.39.9.59 1.41.59.51 0 1.02-.2 1.41-.59l7.78-7.78 2.81-2.81c.8-.78.8-2.07 0-2.86zM5.41 20L4 18.59l7.72-7.72 1.47 1.35L5.41 20z\"/>\n",
              "  </svg>\n",
              "      </button>\n",
              "      \n",
              "  <style>\n",
              "    .colab-df-container {\n",
              "      display:flex;\n",
              "      flex-wrap:wrap;\n",
              "      gap: 12px;\n",
              "    }\n",
              "\n",
              "    .colab-df-convert {\n",
              "      background-color: #E8F0FE;\n",
              "      border: none;\n",
              "      border-radius: 50%;\n",
              "      cursor: pointer;\n",
              "      display: none;\n",
              "      fill: #1967D2;\n",
              "      height: 32px;\n",
              "      padding: 0 0 0 0;\n",
              "      width: 32px;\n",
              "    }\n",
              "\n",
              "    .colab-df-convert:hover {\n",
              "      background-color: #E2EBFA;\n",
              "      box-shadow: 0px 1px 2px rgba(60, 64, 67, 0.3), 0px 1px 3px 1px rgba(60, 64, 67, 0.15);\n",
              "      fill: #174EA6;\n",
              "    }\n",
              "\n",
              "    [theme=dark] .colab-df-convert {\n",
              "      background-color: #3B4455;\n",
              "      fill: #D2E3FC;\n",
              "    }\n",
              "\n",
              "    [theme=dark] .colab-df-convert:hover {\n",
              "      background-color: #434B5C;\n",
              "      box-shadow: 0px 1px 3px 1px rgba(0, 0, 0, 0.15);\n",
              "      filter: drop-shadow(0px 1px 2px rgba(0, 0, 0, 0.3));\n",
              "      fill: #FFFFFF;\n",
              "    }\n",
              "  </style>\n",
              "\n",
              "      <script>\n",
              "        const buttonEl =\n",
              "          document.querySelector('#df-9c8ade9a-efad-4dde-ae81-e48b8797c00a button.colab-df-convert');\n",
              "        buttonEl.style.display =\n",
              "          google.colab.kernel.accessAllowed ? 'block' : 'none';\n",
              "\n",
              "        async function convertToInteractive(key) {\n",
              "          const element = document.querySelector('#df-9c8ade9a-efad-4dde-ae81-e48b8797c00a');\n",
              "          const dataTable =\n",
              "            await google.colab.kernel.invokeFunction('convertToInteractive',\n",
              "                                                     [key], {});\n",
              "          if (!dataTable) return;\n",
              "\n",
              "          const docLinkHtml = 'Like what you see? Visit the ' +\n",
              "            '<a target=\"_blank\" href=https://colab.research.google.com/notebooks/data_table.ipynb>data table notebook</a>'\n",
              "            + ' to learn more about interactive tables.';\n",
              "          element.innerHTML = '';\n",
              "          dataTable['output_type'] = 'display_data';\n",
              "          await google.colab.output.renderOutput(dataTable, element);\n",
              "          const docLink = document.createElement('div');\n",
              "          docLink.innerHTML = docLinkHtml;\n",
              "          element.appendChild(docLink);\n",
              "        }\n",
              "      </script>\n",
              "    </div>\n",
              "  </div>\n",
              "  "
            ]
          },
          "metadata": {},
          "execution_count": 28
        }
      ]
    },
    {
      "cell_type": "markdown",
      "source": [
        "### Results summary"
      ],
      "metadata": {
        "id": "yyH2LzzpolJp"
      }
    },
    {
      "cell_type": "code",
      "source": [
        "total_counts = len(df_full.index)\n",
        "\n",
        "total_counts"
      ],
      "metadata": {
        "colab": {
          "base_uri": "https://localhost:8080/"
        },
        "id": "BGyDLnNKoMmQ",
        "outputId": "eca63da6-c846-47f1-e705-d6730e5bdbc7"
      },
      "execution_count": 29,
      "outputs": [
        {
          "output_type": "execute_result",
          "data": {
            "text/plain": [
              "17631"
            ]
          },
          "metadata": {},
          "execution_count": 29
        }
      ]
    },
    {
      "cell_type": "code",
      "source": [
        "df_full['bigram_cnb_score'].unique()"
      ],
      "metadata": {
        "colab": {
          "base_uri": "https://localhost:8080/"
        },
        "id": "V9bhIN_uoMqF",
        "outputId": "b7cdb7b7-45b1-4a93-a20d-21ba05c1224e"
      },
      "execution_count": 30,
      "outputs": [
        {
          "output_type": "execute_result",
          "data": {
            "text/plain": [
              "array([2, 0, 1])"
            ]
          },
          "metadata": {},
          "execution_count": 30
        }
      ]
    },
    {
      "cell_type": "code",
      "source": [
        "cnb_counts = df_full['bigram_cnb_score'].value_counts()\n",
        "\n",
        "cnb_counts"
      ],
      "metadata": {
        "colab": {
          "base_uri": "https://localhost:8080/"
        },
        "id": "gFIWFv1woMyK",
        "outputId": "409201e7-0122-4a3d-c304-de763efb381a"
      },
      "execution_count": 31,
      "outputs": [
        {
          "output_type": "execute_result",
          "data": {
            "text/plain": [
              "0    6855\n",
              "1    6296\n",
              "2    4480\n",
              "Name: bigram_cnb_score, dtype: int64"
            ]
          },
          "metadata": {},
          "execution_count": 31
        }
      ]
    },
    {
      "cell_type": "code",
      "source": [
        "neg_counts = df_full['bigram_cnb_score'].value_counts()[0]\n",
        "\n",
        "neg_counts"
      ],
      "metadata": {
        "colab": {
          "base_uri": "https://localhost:8080/"
        },
        "id": "6fPi95MUoqkb",
        "outputId": "181f64d4-6495-47b0-f2f4-85b488e505bb"
      },
      "execution_count": 32,
      "outputs": [
        {
          "output_type": "execute_result",
          "data": {
            "text/plain": [
              "6855"
            ]
          },
          "metadata": {},
          "execution_count": 32
        }
      ]
    },
    {
      "cell_type": "code",
      "source": [
        "pos_counts = df_full['bigram_cnb_score'].value_counts()[1]\n",
        "\n",
        "pos_counts"
      ],
      "metadata": {
        "colab": {
          "base_uri": "https://localhost:8080/"
        },
        "id": "G2daSdk8oqor",
        "outputId": "d7ac4747-9a5b-4c5c-a42e-ec6651deddea"
      },
      "execution_count": 33,
      "outputs": [
        {
          "output_type": "execute_result",
          "data": {
            "text/plain": [
              "6296"
            ]
          },
          "metadata": {},
          "execution_count": 33
        }
      ]
    },
    {
      "cell_type": "code",
      "source": [
        "neu_counts = df_full['bigram_cnb_score'].value_counts()[2]\n",
        "\n",
        "neu_counts"
      ],
      "metadata": {
        "colab": {
          "base_uri": "https://localhost:8080/"
        },
        "id": "0q3V8OcDoqrJ",
        "outputId": "6ec26afb-16eb-4dfe-f329-83a0d0d4edc2"
      },
      "execution_count": 34,
      "outputs": [
        {
          "output_type": "execute_result",
          "data": {
            "text/plain": [
              "4480"
            ]
          },
          "metadata": {},
          "execution_count": 34
        }
      ]
    },
    {
      "cell_type": "code",
      "source": [
        "print(\"Total number of tweets: \" + str(total_counts))\n",
        "print('\\n')\n",
        "print(\"Number of negative tweets: \" + str(neg_counts))\n",
        "print(\"Number of positive tweets: \" + str(pos_counts))\n",
        "print(\"Number of neutral tweets: \" + str(neu_counts))"
      ],
      "metadata": {
        "colab": {
          "base_uri": "https://localhost:8080/"
        },
        "id": "vtIkL2R-oqtc",
        "outputId": "74b4ccc0-bbf9-4968-ef95-7199bb334f7f"
      },
      "execution_count": 35,
      "outputs": [
        {
          "output_type": "stream",
          "name": "stdout",
          "text": [
            "Total number of tweets: 17631\n",
            "\n",
            "\n",
            "Number of negative tweets: 6855\n",
            "Number of positive tweets: 6296\n",
            "Number of neutral tweets: 4480\n"
          ]
        }
      ]
    },
    {
      "cell_type": "code",
      "source": [
        "df_full['bigram_cnb_score'].value_counts().plot.bar()"
      ],
      "metadata": {
        "colab": {
          "base_uri": "https://localhost:8080/",
          "height": 279
        },
        "id": "rWt_2Kg7oqvz",
        "outputId": "110e90ab-03ea-4848-ac5c-5d4e4c26053a"
      },
      "execution_count": 36,
      "outputs": [
        {
          "output_type": "execute_result",
          "data": {
            "text/plain": [
              "<matplotlib.axes._subplots.AxesSubplot at 0x7fa11112c490>"
            ]
          },
          "metadata": {},
          "execution_count": 36
        },
        {
          "output_type": "display_data",
          "data": {
            "text/plain": [
              "<Figure size 432x288 with 1 Axes>"
            ],
            "image/png": "[encoded data removed]"
          },
          "metadata": {
            "needs_background": "light"
          }
        }
      ]
    },
    {
      "cell_type": "markdown",
      "source": [
        "### Export results"
      ],
      "metadata": {
        "id": "E_27XZeHozIP"
      }
    },
    {
      "cell_type": "code",
      "source": [
        "# full data\n",
        "cnb_file_name = 'bigram_cnb_results_full.csv'\n",
        "  \n",
        "df_full.to_csv(cnb_file_name)"
      ],
      "metadata": {
        "id": "G8cJ5zn9o0VX"
      },
      "execution_count": 37,
      "outputs": []
    }
  ]
}