{
  "nbformat": 4,
  "nbformat_minor": 0,
  "metadata": {
    "colab": {
      "provenance": [],
      "collapsed_sections": [
        "1Aw7y2wXrg4E",
        "qNTyiXllsWU2"
      ]
    },
    "kernelspec": {
      "name": "python3",
      "display_name": "Python 3"
    },
    "language_info": {
      "name": "python"
    }
  },
  "cells": [
    {
      "cell_type": "markdown",
      "source": [
        "# Sentiment Analysis with Stochastic Gradient Descent + Bi-gram\n",
        "\n",
        "* python script for sentiment analysis with SGDC classifier + bigram"
      ],
      "metadata": {
        "id": "MGJm4GCFrFi7"
      }
    },
    {
      "cell_type": "markdown",
      "source": [
        "## Install and import required libraries and packages"
      ],
      "metadata": {
        "id": "rkpVmXjNrRCI"
      }
    },
    {
      "cell_type": "code",
      "execution_count": 1,
      "metadata": {
        "id": "lLCwExeQ4Yu9"
      },
      "outputs": [],
      "source": [
        "from google.colab import drive\n",
        "import pandas as pd\n",
        "from sklearn.feature_extraction.text import TfidfVectorizer\n",
        "import time\n",
        "from sklearn.linear_model import LogisticRegression, SGDClassifier\n",
        "from sklearn.metrics import accuracy_score\n",
        "from sklearn.metrics import classification_report\n",
        "import pickle"
      ]
    },
    {
      "cell_type": "markdown",
      "source": [
        "## SGDC classifier on labeled dataset\n",
        "\n",
        "* train dataset: 80% of manually labeled data\n",
        "* test dataset: 20% of manually labeled data"
      ],
      "metadata": {
        "id": "q8wozcamrUgX"
      }
    },
    {
      "cell_type": "markdown",
      "source": [
        "### Read dataset"
      ],
      "metadata": {
        "id": "1Aw7y2wXrg4E"
      }
    },
    {
      "cell_type": "code",
      "source": [
        "drive.mount('/content/drive')"
      ],
      "metadata": {
        "colab": {
          "base_uri": "https://localhost:8080/"
        },
        "id": "-tlsiKNV4eWT",
        "outputId": "07687d39-39d0-4ac3-cc7a-6b9e444d78ac"
      },
      "execution_count": 2,
      "outputs": [
        {
          "output_type": "stream",
          "name": "stdout",
          "text": [
            "Mounted at /content/drive\n"
          ]
        }
      ]
    },
    {
      "cell_type": "code",
      "source": [
        "# train data\n",
        "train_df = pd.read_csv('/content/drive/MyDrive/Colab Notebooks/nlp project/Sentiment Analysis/final datasets/biden_tweets_labeled_train.csv')\n",
        "\n",
        "train_df"
      ],
      "metadata": {
        "colab": {
          "base_uri": "https://localhost:8080/",
          "height": 0
        },
        "id": "8-ZqfXE-4eYW",
        "outputId": "5461e75f-4d99-4aa8-e51a-1ce1d7d124a8"
      },
      "execution_count": 3,
      "outputs": [
        {
          "output_type": "execute_result",
          "data": {
            "text/plain": [
              "      Unnamed: 0                                           raw_text  \\\n",
              "0           1320  @Sundae_Gurl Biden's first move should be to p...   \n",
              "1            782  @cobiscool @LilNasX Do you think joe Biden dri...   \n",
              "2           1128  @ProudGayPatriot Don't worry, in the sense tha...   \n",
              "3            199  @kclasgens @realDonaldTrump Not alone he didn'...   \n",
              "4            704  How Biden’s Climate Plans Will Shake Up Global...   \n",
              "...          ...                                                ...   \n",
              "1407        1130  @CNBC @CNBCPro If Biden comes to power, the go...   \n",
              "1408        1294  @KDFildesMBA We have a real President, Biden a...   \n",
              "1409         860  What I care about at least as much, maybe more...   \n",
              "1410        1459  Joe Biden still doesn’t realize what the voter...   \n",
              "1411        1126  @EpochTimes @JocelynBenson So does that mean i...   \n",
              "\n",
              "                                             clean_text  subjectivity  \\\n",
              "0     sundae gurl biden first move pardon hunter let...             0   \n",
              "1      cobiscool lilnasx think joe biden drink caprisun             0   \n",
              "2     proudgaypatriot worry sense not getting electi...             1   \n",
              "3     kclasgens realdonaldtrump not alone right even...             1   \n",
              "4         biden climate plan shake global energy market             0   \n",
              "...                                                 ...           ...   \n",
              "1407    cnbc cnbcpro biden come power gold price return             1   \n",
              "1408  kdfildesmba real president biden vice harris e...             1   \n",
              "1409  care least much maybe whether biden trump pres...             0   \n",
              "1410  joe biden still realize voter democrat lost ac...             1   \n",
              "1411  epochtimes jocelynbenson mean delete election ...             1   \n",
              "\n",
              "      polarity  \n",
              "0            2  \n",
              "1            2  \n",
              "2            1  \n",
              "3            1  \n",
              "4            2  \n",
              "...        ...  \n",
              "1407         1  \n",
              "1408         1  \n",
              "1409         2  \n",
              "1410         0  \n",
              "1411         0  \n",
              "\n",
              "[1412 rows x 5 columns]"
            ],
            "text/html": [
              "\n",
              "  <div id=\"df-af54298e-0544-40f9-9699-5e6cd5d0ee8f\">\n",
              "    <div class=\"colab-df-container\">\n",
              "      <div>\n",
              "<style scoped>\n",
              "    .dataframe tbody tr th:only-of-type {\n",
              "        vertical-align: middle;\n",
              "    }\n",
              "\n",
              "    .dataframe tbody tr th {\n",
              "        vertical-align: top;\n",
              "    }\n",
              "\n",
              "    .dataframe thead th {\n",
              "        text-align: right;\n",
              "    }\n",
              "</style>\n",
              "<table border=\"1\" class=\"dataframe\">\n",
              "  <thead>\n",
              "    <tr style=\"text-align: right;\">\n",
              "      <th></th>\n",
              "      <th>Unnamed: 0</th>\n",
              "      <th>raw_text</th>\n",
              "      <th>clean_text</th>\n",
              "      <th>subjectivity</th>\n",
              "      <th>polarity</th>\n",
              "    </tr>\n",
              "  </thead>\n",
              "  <tbody>\n",
              "    <tr>\n",
              "      <th>0</th>\n",
              "      <td>1320</td>\n",
              "      <td>@Sundae_Gurl Biden's first move should be to p...</td>\n",
              "      <td>sundae gurl biden first move pardon hunter let...</td>\n",
              "      <td>0</td>\n",
              "      <td>2</td>\n",
              "    </tr>\n",
              "    <tr>\n",
              "      <th>1</th>\n",
              "      <td>782</td>\n",
              "      <td>@cobiscool @LilNasX Do you think joe Biden dri...</td>\n",
              "      <td>cobiscool lilnasx think joe biden drink caprisun</td>\n",
              "      <td>0</td>\n",
              "      <td>2</td>\n",
              "    </tr>\n",
              "    <tr>\n",
              "      <th>2</th>\n",
              "      <td>1128</td>\n",
              "      <td>@ProudGayPatriot Don't worry, in the sense tha...</td>\n",
              "      <td>proudgaypatriot worry sense not getting electi...</td>\n",
              "      <td>1</td>\n",
              "      <td>1</td>\n",
              "    </tr>\n",
              "    <tr>\n",
              "      <th>3</th>\n",
              "      <td>199</td>\n",
              "      <td>@kclasgens @realDonaldTrump Not alone he didn'...</td>\n",
              "      <td>kclasgens realdonaldtrump not alone right even...</td>\n",
              "      <td>1</td>\n",
              "      <td>1</td>\n",
              "    </tr>\n",
              "    <tr>\n",
              "      <th>4</th>\n",
              "      <td>704</td>\n",
              "      <td>How Biden’s Climate Plans Will Shake Up Global...</td>\n",
              "      <td>biden climate plan shake global energy market</td>\n",
              "      <td>0</td>\n",
              "      <td>2</td>\n",
              "    </tr>\n",
              "    <tr>\n",
              "      <th>...</th>\n",
              "      <td>...</td>\n",
              "      <td>...</td>\n",
              "      <td>...</td>\n",
              "      <td>...</td>\n",
              "      <td>...</td>\n",
              "    </tr>\n",
              "    <tr>\n",
              "      <th>1407</th>\n",
              "      <td>1130</td>\n",
              "      <td>@CNBC @CNBCPro If Biden comes to power, the go...</td>\n",
              "      <td>cnbc cnbcpro biden come power gold price return</td>\n",
              "      <td>1</td>\n",
              "      <td>1</td>\n",
              "    </tr>\n",
              "    <tr>\n",
              "      <th>1408</th>\n",
              "      <td>1294</td>\n",
              "      <td>@KDFildesMBA We have a real President, Biden a...</td>\n",
              "      <td>kdfildesmba real president biden vice harris e...</td>\n",
              "      <td>1</td>\n",
              "      <td>1</td>\n",
              "    </tr>\n",
              "    <tr>\n",
              "      <th>1409</th>\n",
              "      <td>860</td>\n",
              "      <td>What I care about at least as much, maybe more...</td>\n",
              "      <td>care least much maybe whether biden trump pres...</td>\n",
              "      <td>0</td>\n",
              "      <td>2</td>\n",
              "    </tr>\n",
              "    <tr>\n",
              "      <th>1410</th>\n",
              "      <td>1459</td>\n",
              "      <td>Joe Biden still doesn’t realize what the voter...</td>\n",
              "      <td>joe biden still realize voter democrat lost ac...</td>\n",
              "      <td>1</td>\n",
              "      <td>0</td>\n",
              "    </tr>\n",
              "    <tr>\n",
              "      <th>1411</th>\n",
              "      <td>1126</td>\n",
              "      <td>@EpochTimes @JocelynBenson So does that mean i...</td>\n",
              "      <td>epochtimes jocelynbenson mean delete election ...</td>\n",
              "      <td>1</td>\n",
              "      <td>0</td>\n",
              "    </tr>\n",
              "  </tbody>\n",
              "</table>\n",
              "<p>1412 rows × 5 columns</p>\n",
              "</div>\n",
              "      <button class=\"colab-df-convert\" onclick=\"convertToInteractive('df-af54298e-0544-40f9-9699-5e6cd5d0ee8f')\"\n",
              "              title=\"Convert this dataframe to an interactive table.\"\n",
              "              style=\"display:none;\">\n",
              "        \n",
              "  <svg xmlns=\"http://www.w3.org/2000/svg\" height=\"24px\"viewBox=\"0 0 24 24\"\n",
              "       width=\"24px\">\n",
              "    <path d=\"M0 0h24v24H0V0z\" fill=\"none\"/>\n",
              "    <path d=\"M18.56 5.44l.94 2.06.94-2.06 2.06-.94-2.06-.94-.94-2.06-.94 2.06-2.06.94zm-11 1L8.5 8.5l.94-2.06 2.06-.94-2.06-.94L8.5 2.5l-.94 2.06-2.06.94zm10 10l.94 2.06.94-2.06 2.06-.94-2.06-.94-.94-2.06-.94 2.06-2.06.94z\"/><path d=\"M17.41 7.96l-1.37-1.37c-.4-.4-.92-.59-1.43-.59-.52 0-1.04.2-1.43.59L10.3 9.45l-7.72 7.72c-.78.78-.78 2.05 0 2.83L4 21.41c.39.39.9.59 1.41.59.51 0 1.02-.2 1.41-.59l7.78-7.78 2.81-2.81c.8-.78.8-2.07 0-2.86zM5.41 20L4 18.59l7.72-7.72 1.47 1.35L5.41 20z\"/>\n",
              "  </svg>\n",
              "      </button>\n",
              "      \n",
              "  <style>\n",
              "    .colab-df-container {\n",
              "      display:flex;\n",
              "      flex-wrap:wrap;\n",
              "      gap: 12px;\n",
              "    }\n",
              "\n",
              "    .colab-df-convert {\n",
              "      background-color: #E8F0FE;\n",
              "      border: none;\n",
              "      border-radius: 50%;\n",
              "      cursor: pointer;\n",
              "      display: none;\n",
              "      fill: #1967D2;\n",
              "      height: 32px;\n",
              "      padding: 0 0 0 0;\n",
              "      width: 32px;\n",
              "    }\n",
              "\n",
              "    .colab-df-convert:hover {\n",
              "      background-color: #E2EBFA;\n",
              "      box-shadow: 0px 1px 2px rgba(60, 64, 67, 0.3), 0px 1px 3px 1px rgba(60, 64, 67, 0.15);\n",
              "      fill: #174EA6;\n",
              "    }\n",
              "\n",
              "    [theme=dark] .colab-df-convert {\n",
              "      background-color: #3B4455;\n",
              "      fill: #D2E3FC;\n",
              "    }\n",
              "\n",
              "    [theme=dark] .colab-df-convert:hover {\n",
              "      background-color: #434B5C;\n",
              "      box-shadow: 0px 1px 3px 1px rgba(0, 0, 0, 0.15);\n",
              "      filter: drop-shadow(0px 1px 2px rgba(0, 0, 0, 0.3));\n",
              "      fill: #FFFFFF;\n",
              "    }\n",
              "  </style>\n",
              "\n",
              "      <script>\n",
              "        const buttonEl =\n",
              "          document.querySelector('#df-af54298e-0544-40f9-9699-5e6cd5d0ee8f button.colab-df-convert');\n",
              "        buttonEl.style.display =\n",
              "          google.colab.kernel.accessAllowed ? 'block' : 'none';\n",
              "\n",
              "        async function convertToInteractive(key) {\n",
              "          const element = document.querySelector('#df-af54298e-0544-40f9-9699-5e6cd5d0ee8f');\n",
              "          const dataTable =\n",
              "            await google.colab.kernel.invokeFunction('convertToInteractive',\n",
              "                                                     [key], {});\n",
              "          if (!dataTable) return;\n",
              "\n",
              "          const docLinkHtml = 'Like what you see? Visit the ' +\n",
              "            '<a target=\"_blank\" href=https://colab.research.google.com/notebooks/data_table.ipynb>data table notebook</a>'\n",
              "            + ' to learn more about interactive tables.';\n",
              "          element.innerHTML = '';\n",
              "          dataTable['output_type'] = 'display_data';\n",
              "          await google.colab.output.renderOutput(dataTable, element);\n",
              "          const docLink = document.createElement('div');\n",
              "          docLink.innerHTML = docLinkHtml;\n",
              "          element.appendChild(docLink);\n",
              "        }\n",
              "      </script>\n",
              "    </div>\n",
              "  </div>\n",
              "  "
            ]
          },
          "metadata": {},
          "execution_count": 3
        }
      ]
    },
    {
      "cell_type": "code",
      "source": [
        "train_df.columns"
      ],
      "metadata": {
        "colab": {
          "base_uri": "https://localhost:8080/"
        },
        "id": "hEX4ENdr4eam",
        "outputId": "a385c9c9-8d03-4565-90ce-1d725de48c91"
      },
      "execution_count": 4,
      "outputs": [
        {
          "output_type": "execute_result",
          "data": {
            "text/plain": [
              "Index(['Unnamed: 0', 'raw_text', 'clean_text', 'subjectivity', 'polarity'], dtype='object')"
            ]
          },
          "metadata": {},
          "execution_count": 4
        }
      ]
    },
    {
      "cell_type": "code",
      "source": [
        "train_df = train_df.drop('Unnamed: 0', axis=1)\n",
        "\n",
        "train_df"
      ],
      "metadata": {
        "colab": {
          "base_uri": "https://localhost:8080/",
          "height": 0
        },
        "id": "WAhzW_os4ecr",
        "outputId": "9a9c2e5c-c1c3-4b44-c13f-9be4d81a2ef1"
      },
      "execution_count": 5,
      "outputs": [
        {
          "output_type": "execute_result",
          "data": {
            "text/plain": [
              "                                               raw_text  \\\n",
              "0     @Sundae_Gurl Biden's first move should be to p...   \n",
              "1     @cobiscool @LilNasX Do you think joe Biden dri...   \n",
              "2     @ProudGayPatriot Don't worry, in the sense tha...   \n",
              "3     @kclasgens @realDonaldTrump Not alone he didn'...   \n",
              "4     How Biden’s Climate Plans Will Shake Up Global...   \n",
              "...                                                 ...   \n",
              "1407  @CNBC @CNBCPro If Biden comes to power, the go...   \n",
              "1408  @KDFildesMBA We have a real President, Biden a...   \n",
              "1409  What I care about at least as much, maybe more...   \n",
              "1410  Joe Biden still doesn’t realize what the voter...   \n",
              "1411  @EpochTimes @JocelynBenson So does that mean i...   \n",
              "\n",
              "                                             clean_text  subjectivity  \\\n",
              "0     sundae gurl biden first move pardon hunter let...             0   \n",
              "1      cobiscool lilnasx think joe biden drink caprisun             0   \n",
              "2     proudgaypatriot worry sense not getting electi...             1   \n",
              "3     kclasgens realdonaldtrump not alone right even...             1   \n",
              "4         biden climate plan shake global energy market             0   \n",
              "...                                                 ...           ...   \n",
              "1407    cnbc cnbcpro biden come power gold price return             1   \n",
              "1408  kdfildesmba real president biden vice harris e...             1   \n",
              "1409  care least much maybe whether biden trump pres...             0   \n",
              "1410  joe biden still realize voter democrat lost ac...             1   \n",
              "1411  epochtimes jocelynbenson mean delete election ...             1   \n",
              "\n",
              "      polarity  \n",
              "0            2  \n",
              "1            2  \n",
              "2            1  \n",
              "3            1  \n",
              "4            2  \n",
              "...        ...  \n",
              "1407         1  \n",
              "1408         1  \n",
              "1409         2  \n",
              "1410         0  \n",
              "1411         0  \n",
              "\n",
              "[1412 rows x 4 columns]"
            ],
            "text/html": [
              "\n",
              "  <div id=\"df-ea5d989e-70fd-44a4-96f3-408020934c02\">\n",
              "    <div class=\"colab-df-container\">\n",
              "      <div>\n",
              "<style scoped>\n",
              "    .dataframe tbody tr th:only-of-type {\n",
              "        vertical-align: middle;\n",
              "    }\n",
              "\n",
              "    .dataframe tbody tr th {\n",
              "        vertical-align: top;\n",
              "    }\n",
              "\n",
              "    .dataframe thead th {\n",
              "        text-align: right;\n",
              "    }\n",
              "</style>\n",
              "<table border=\"1\" class=\"dataframe\">\n",
              "  <thead>\n",
              "    <tr style=\"text-align: right;\">\n",
              "      <th></th>\n",
              "      <th>raw_text</th>\n",
              "      <th>clean_text</th>\n",
              "      <th>subjectivity</th>\n",
              "      <th>polarity</th>\n",
              "    </tr>\n",
              "  </thead>\n",
              "  <tbody>\n",
              "    <tr>\n",
              "      <th>0</th>\n",
              "      <td>@Sundae_Gurl Biden's first move should be to p...</td>\n",
              "      <td>sundae gurl biden first move pardon hunter let...</td>\n",
              "      <td>0</td>\n",
              "      <td>2</td>\n",
              "    </tr>\n",
              "    <tr>\n",
              "      <th>1</th>\n",
              "      <td>@cobiscool @LilNasX Do you think joe Biden dri...</td>\n",
              "      <td>cobiscool lilnasx think joe biden drink caprisun</td>\n",
              "      <td>0</td>\n",
              "      <td>2</td>\n",
              "    </tr>\n",
              "    <tr>\n",
              "      <th>2</th>\n",
              "      <td>@ProudGayPatriot Don't worry, in the sense tha...</td>\n",
              "      <td>proudgaypatriot worry sense not getting electi...</td>\n",
              "      <td>1</td>\n",
              "      <td>1</td>\n",
              "    </tr>\n",
              "    <tr>\n",
              "      <th>3</th>\n",
              "      <td>@kclasgens @realDonaldTrump Not alone he didn'...</td>\n",
              "      <td>kclasgens realdonaldtrump not alone right even...</td>\n",
              "      <td>1</td>\n",
              "      <td>1</td>\n",
              "    </tr>\n",
              "    <tr>\n",
              "      <th>4</th>\n",
              "      <td>How Biden’s Climate Plans Will Shake Up Global...</td>\n",
              "      <td>biden climate plan shake global energy market</td>\n",
              "      <td>0</td>\n",
              "      <td>2</td>\n",
              "    </tr>\n",
              "    <tr>\n",
              "      <th>...</th>\n",
              "      <td>...</td>\n",
              "      <td>...</td>\n",
              "      <td>...</td>\n",
              "      <td>...</td>\n",
              "    </tr>\n",
              "    <tr>\n",
              "      <th>1407</th>\n",
              "      <td>@CNBC @CNBCPro If Biden comes to power, the go...</td>\n",
              "      <td>cnbc cnbcpro biden come power gold price return</td>\n",
              "      <td>1</td>\n",
              "      <td>1</td>\n",
              "    </tr>\n",
              "    <tr>\n",
              "      <th>1408</th>\n",
              "      <td>@KDFildesMBA We have a real President, Biden a...</td>\n",
              "      <td>kdfildesmba real president biden vice harris e...</td>\n",
              "      <td>1</td>\n",
              "      <td>1</td>\n",
              "    </tr>\n",
              "    <tr>\n",
              "      <th>1409</th>\n",
              "      <td>What I care about at least as much, maybe more...</td>\n",
              "      <td>care least much maybe whether biden trump pres...</td>\n",
              "      <td>0</td>\n",
              "      <td>2</td>\n",
              "    </tr>\n",
              "    <tr>\n",
              "      <th>1410</th>\n",
              "      <td>Joe Biden still doesn’t realize what the voter...</td>\n",
              "      <td>joe biden still realize voter democrat lost ac...</td>\n",
              "      <td>1</td>\n",
              "      <td>0</td>\n",
              "    </tr>\n",
              "    <tr>\n",
              "      <th>1411</th>\n",
              "      <td>@EpochTimes @JocelynBenson So does that mean i...</td>\n",
              "      <td>epochtimes jocelynbenson mean delete election ...</td>\n",
              "      <td>1</td>\n",
              "      <td>0</td>\n",
              "    </tr>\n",
              "  </tbody>\n",
              "</table>\n",
              "<p>1412 rows × 4 columns</p>\n",
              "</div>\n",
              "      <button class=\"colab-df-convert\" onclick=\"convertToInteractive('df-ea5d989e-70fd-44a4-96f3-408020934c02')\"\n",
              "              title=\"Convert this dataframe to an interactive table.\"\n",
              "              style=\"display:none;\">\n",
              "        \n",
              "  <svg xmlns=\"http://www.w3.org/2000/svg\" height=\"24px\"viewBox=\"0 0 24 24\"\n",
              "       width=\"24px\">\n",
              "    <path d=\"M0 0h24v24H0V0z\" fill=\"none\"/>\n",
              "    <path d=\"M18.56 5.44l.94 2.06.94-2.06 2.06-.94-2.06-.94-.94-2.06-.94 2.06-2.06.94zm-11 1L8.5 8.5l.94-2.06 2.06-.94-2.06-.94L8.5 2.5l-.94 2.06-2.06.94zm10 10l.94 2.06.94-2.06 2.06-.94-2.06-.94-.94-2.06-.94 2.06-2.06.94z\"/><path d=\"M17.41 7.96l-1.37-1.37c-.4-.4-.92-.59-1.43-.59-.52 0-1.04.2-1.43.59L10.3 9.45l-7.72 7.72c-.78.78-.78 2.05 0 2.83L4 21.41c.39.39.9.59 1.41.59.51 0 1.02-.2 1.41-.59l7.78-7.78 2.81-2.81c.8-.78.8-2.07 0-2.86zM5.41 20L4 18.59l7.72-7.72 1.47 1.35L5.41 20z\"/>\n",
              "  </svg>\n",
              "      </button>\n",
              "      \n",
              "  <style>\n",
              "    .colab-df-container {\n",
              "      display:flex;\n",
              "      flex-wrap:wrap;\n",
              "      gap: 12px;\n",
              "    }\n",
              "\n",
              "    .colab-df-convert {\n",
              "      background-color: #E8F0FE;\n",
              "      border: none;\n",
              "      border-radius: 50%;\n",
              "      cursor: pointer;\n",
              "      display: none;\n",
              "      fill: #1967D2;\n",
              "      height: 32px;\n",
              "      padding: 0 0 0 0;\n",
              "      width: 32px;\n",
              "    }\n",
              "\n",
              "    .colab-df-convert:hover {\n",
              "      background-color: #E2EBFA;\n",
              "      box-shadow: 0px 1px 2px rgba(60, 64, 67, 0.3), 0px 1px 3px 1px rgba(60, 64, 67, 0.15);\n",
              "      fill: #174EA6;\n",
              "    }\n",
              "\n",
              "    [theme=dark] .colab-df-convert {\n",
              "      background-color: #3B4455;\n",
              "      fill: #D2E3FC;\n",
              "    }\n",
              "\n",
              "    [theme=dark] .colab-df-convert:hover {\n",
              "      background-color: #434B5C;\n",
              "      box-shadow: 0px 1px 3px 1px rgba(0, 0, 0, 0.15);\n",
              "      filter: drop-shadow(0px 1px 2px rgba(0, 0, 0, 0.3));\n",
              "      fill: #FFFFFF;\n",
              "    }\n",
              "  </style>\n",
              "\n",
              "      <script>\n",
              "        const buttonEl =\n",
              "          document.querySelector('#df-ea5d989e-70fd-44a4-96f3-408020934c02 button.colab-df-convert');\n",
              "        buttonEl.style.display =\n",
              "          google.colab.kernel.accessAllowed ? 'block' : 'none';\n",
              "\n",
              "        async function convertToInteractive(key) {\n",
              "          const element = document.querySelector('#df-ea5d989e-70fd-44a4-96f3-408020934c02');\n",
              "          const dataTable =\n",
              "            await google.colab.kernel.invokeFunction('convertToInteractive',\n",
              "                                                     [key], {});\n",
              "          if (!dataTable) return;\n",
              "\n",
              "          const docLinkHtml = 'Like what you see? Visit the ' +\n",
              "            '<a target=\"_blank\" href=https://colab.research.google.com/notebooks/data_table.ipynb>data table notebook</a>'\n",
              "            + ' to learn more about interactive tables.';\n",
              "          element.innerHTML = '';\n",
              "          dataTable['output_type'] = 'display_data';\n",
              "          await google.colab.output.renderOutput(dataTable, element);\n",
              "          const docLink = document.createElement('div');\n",
              "          docLink.innerHTML = docLinkHtml;\n",
              "          element.appendChild(docLink);\n",
              "        }\n",
              "      </script>\n",
              "    </div>\n",
              "  </div>\n",
              "  "
            ]
          },
          "metadata": {},
          "execution_count": 5
        }
      ]
    },
    {
      "cell_type": "code",
      "source": [
        "# test data\n",
        "test_df = pd.read_csv('/content/drive/MyDrive/Colab Notebooks/nlp project/Sentiment Analysis/final datasets/biden_tweets_labeled_test.csv')\n",
        "\n",
        "test_df"
      ],
      "metadata": {
        "colab": {
          "base_uri": "https://localhost:8080/",
          "height": 0
        },
        "id": "Is3lWTKk4eej",
        "outputId": "b7d32216-a5c3-4926-d8d7-0100364d0cc4"
      },
      "execution_count": 6,
      "outputs": [
        {
          "output_type": "execute_result",
          "data": {
            "text/plain": [
              "     Unnamed: 0                                           raw_text  \\\n",
              "0             0  Sidney Powell amends court filing that said Ge...   \n",
              "1             1  @LisaMirandoCNN @wolfblitzer What's your thoug...   \n",
              "2             2  Breaking #FoxNews Alert : Joe Biden just revea...   \n",
              "3             3  @RWPUSA Richard, have you heard there could be...   \n",
              "4             4  @LeafCavalier @AFJustinKG1 Is that a real-life...   \n",
              "..          ...                                                ...   \n",
              "349         349                @realDonaldTrump Thank you Biden!!!   \n",
              "350         350  Kellyanne Conway acknowledges Biden as apparen...   \n",
              "351         351  @JeffTutorials @realDonaldTrump Ah Jeff.  I ag...   \n",
              "352         352  CNN Exclusive: Biden says he will ask American...   \n",
              "353         353  @mpolletta Little known fact – that Biden’s su...   \n",
              "\n",
              "                                            clean_text  subjectivity  polarity  \n",
              "0    sidney powell amends court filing said georgia...             1         1  \n",
              "1    lisamirandocnn wolfblitzer thought cnn jake ta...             0         2  \n",
              "2    breaking foxnews alert joe biden revealed goin...             0         2  \n",
              "3    rwpusa richard heard could several republican ...             1         0  \n",
              "4    leafcavalier afjustinkg real life question not...             1         0  \n",
              "..                                                 ...           ...       ...  \n",
              "349                        realdonaldtrump thank biden             1         1  \n",
              "350  kellyanne conway acknowledges biden apparent w...             0         2  \n",
              "351  jefftutorials realdonaldtrump ah jeff agree bi...             1         0  \n",
              "352  cnn exclusive biden say ask american wear mask...             0         2  \n",
              "353  mpolletta little known fact biden support that...             0         2  \n",
              "\n",
              "[354 rows x 5 columns]"
            ],
            "text/html": [
              "\n",
              "  <div id=\"df-8d8ffe95-8365-45c3-9d9b-e5c6da1667fd\">\n",
              "    <div class=\"colab-df-container\">\n",
              "      <div>\n",
              "<style scoped>\n",
              "    .dataframe tbody tr th:only-of-type {\n",
              "        vertical-align: middle;\n",
              "    }\n",
              "\n",
              "    .dataframe tbody tr th {\n",
              "        vertical-align: top;\n",
              "    }\n",
              "\n",
              "    .dataframe thead th {\n",
              "        text-align: right;\n",
              "    }\n",
              "</style>\n",
              "<table border=\"1\" class=\"dataframe\">\n",
              "  <thead>\n",
              "    <tr style=\"text-align: right;\">\n",
              "      <th></th>\n",
              "      <th>Unnamed: 0</th>\n",
              "      <th>raw_text</th>\n",
              "      <th>clean_text</th>\n",
              "      <th>subjectivity</th>\n",
              "      <th>polarity</th>\n",
              "    </tr>\n",
              "  </thead>\n",
              "  <tbody>\n",
              "    <tr>\n",
              "      <th>0</th>\n",
              "      <td>0</td>\n",
              "      <td>Sidney Powell amends court filing that said Ge...</td>\n",
              "      <td>sidney powell amends court filing said georgia...</td>\n",
              "      <td>1</td>\n",
              "      <td>1</td>\n",
              "    </tr>\n",
              "    <tr>\n",
              "      <th>1</th>\n",
              "      <td>1</td>\n",
              "      <td>@LisaMirandoCNN @wolfblitzer What's your thoug...</td>\n",
              "      <td>lisamirandocnn wolfblitzer thought cnn jake ta...</td>\n",
              "      <td>0</td>\n",
              "      <td>2</td>\n",
              "    </tr>\n",
              "    <tr>\n",
              "      <th>2</th>\n",
              "      <td>2</td>\n",
              "      <td>Breaking #FoxNews Alert : Joe Biden just revea...</td>\n",
              "      <td>breaking foxnews alert joe biden revealed goin...</td>\n",
              "      <td>0</td>\n",
              "      <td>2</td>\n",
              "    </tr>\n",
              "    <tr>\n",
              "      <th>3</th>\n",
              "      <td>3</td>\n",
              "      <td>@RWPUSA Richard, have you heard there could be...</td>\n",
              "      <td>rwpusa richard heard could several republican ...</td>\n",
              "      <td>1</td>\n",
              "      <td>0</td>\n",
              "    </tr>\n",
              "    <tr>\n",
              "      <th>4</th>\n",
              "      <td>4</td>\n",
              "      <td>@LeafCavalier @AFJustinKG1 Is that a real-life...</td>\n",
              "      <td>leafcavalier afjustinkg real life question not...</td>\n",
              "      <td>1</td>\n",
              "      <td>0</td>\n",
              "    </tr>\n",
              "    <tr>\n",
              "      <th>...</th>\n",
              "      <td>...</td>\n",
              "      <td>...</td>\n",
              "      <td>...</td>\n",
              "      <td>...</td>\n",
              "      <td>...</td>\n",
              "    </tr>\n",
              "    <tr>\n",
              "      <th>349</th>\n",
              "      <td>349</td>\n",
              "      <td>@realDonaldTrump Thank you Biden!!!</td>\n",
              "      <td>realdonaldtrump thank biden</td>\n",
              "      <td>1</td>\n",
              "      <td>1</td>\n",
              "    </tr>\n",
              "    <tr>\n",
              "      <th>350</th>\n",
              "      <td>350</td>\n",
              "      <td>Kellyanne Conway acknowledges Biden as apparen...</td>\n",
              "      <td>kellyanne conway acknowledges biden apparent w...</td>\n",
              "      <td>0</td>\n",
              "      <td>2</td>\n",
              "    </tr>\n",
              "    <tr>\n",
              "      <th>351</th>\n",
              "      <td>351</td>\n",
              "      <td>@JeffTutorials @realDonaldTrump Ah Jeff.  I ag...</td>\n",
              "      <td>jefftutorials realdonaldtrump ah jeff agree bi...</td>\n",
              "      <td>1</td>\n",
              "      <td>0</td>\n",
              "    </tr>\n",
              "    <tr>\n",
              "      <th>352</th>\n",
              "      <td>352</td>\n",
              "      <td>CNN Exclusive: Biden says he will ask American...</td>\n",
              "      <td>cnn exclusive biden say ask american wear mask...</td>\n",
              "      <td>0</td>\n",
              "      <td>2</td>\n",
              "    </tr>\n",
              "    <tr>\n",
              "      <th>353</th>\n",
              "      <td>353</td>\n",
              "      <td>@mpolletta Little known fact – that Biden’s su...</td>\n",
              "      <td>mpolletta little known fact biden support that...</td>\n",
              "      <td>0</td>\n",
              "      <td>2</td>\n",
              "    </tr>\n",
              "  </tbody>\n",
              "</table>\n",
              "<p>354 rows × 5 columns</p>\n",
              "</div>\n",
              "      <button class=\"colab-df-convert\" onclick=\"convertToInteractive('df-8d8ffe95-8365-45c3-9d9b-e5c6da1667fd')\"\n",
              "              title=\"Convert this dataframe to an interactive table.\"\n",
              "              style=\"display:none;\">\n",
              "        \n",
              "  <svg xmlns=\"http://www.w3.org/2000/svg\" height=\"24px\"viewBox=\"0 0 24 24\"\n",
              "       width=\"24px\">\n",
              "    <path d=\"M0 0h24v24H0V0z\" fill=\"none\"/>\n",
              "    <path d=\"M18.56 5.44l.94 2.06.94-2.06 2.06-.94-2.06-.94-.94-2.06-.94 2.06-2.06.94zm-11 1L8.5 8.5l.94-2.06 2.06-.94-2.06-.94L8.5 2.5l-.94 2.06-2.06.94zm10 10l.94 2.06.94-2.06 2.06-.94-2.06-.94-.94-2.06-.94 2.06-2.06.94z\"/><path d=\"M17.41 7.96l-1.37-1.37c-.4-.4-.92-.59-1.43-.59-.52 0-1.04.2-1.43.59L10.3 9.45l-7.72 7.72c-.78.78-.78 2.05 0 2.83L4 21.41c.39.39.9.59 1.41.59.51 0 1.02-.2 1.41-.59l7.78-7.78 2.81-2.81c.8-.78.8-2.07 0-2.86zM5.41 20L4 18.59l7.72-7.72 1.47 1.35L5.41 20z\"/>\n",
              "  </svg>\n",
              "      </button>\n",
              "      \n",
              "  <style>\n",
              "    .colab-df-container {\n",
              "      display:flex;\n",
              "      flex-wrap:wrap;\n",
              "      gap: 12px;\n",
              "    }\n",
              "\n",
              "    .colab-df-convert {\n",
              "      background-color: #E8F0FE;\n",
              "      border: none;\n",
              "      border-radius: 50%;\n",
              "      cursor: pointer;\n",
              "      display: none;\n",
              "      fill: #1967D2;\n",
              "      height: 32px;\n",
              "      padding: 0 0 0 0;\n",
              "      width: 32px;\n",
              "    }\n",
              "\n",
              "    .colab-df-convert:hover {\n",
              "      background-color: #E2EBFA;\n",
              "      box-shadow: 0px 1px 2px rgba(60, 64, 67, 0.3), 0px 1px 3px 1px rgba(60, 64, 67, 0.15);\n",
              "      fill: #174EA6;\n",
              "    }\n",
              "\n",
              "    [theme=dark] .colab-df-convert {\n",
              "      background-color: #3B4455;\n",
              "      fill: #D2E3FC;\n",
              "    }\n",
              "\n",
              "    [theme=dark] .colab-df-convert:hover {\n",
              "      background-color: #434B5C;\n",
              "      box-shadow: 0px 1px 3px 1px rgba(0, 0, 0, 0.15);\n",
              "      filter: drop-shadow(0px 1px 2px rgba(0, 0, 0, 0.3));\n",
              "      fill: #FFFFFF;\n",
              "    }\n",
              "  </style>\n",
              "\n",
              "      <script>\n",
              "        const buttonEl =\n",
              "          document.querySelector('#df-8d8ffe95-8365-45c3-9d9b-e5c6da1667fd button.colab-df-convert');\n",
              "        buttonEl.style.display =\n",
              "          google.colab.kernel.accessAllowed ? 'block' : 'none';\n",
              "\n",
              "        async function convertToInteractive(key) {\n",
              "          const element = document.querySelector('#df-8d8ffe95-8365-45c3-9d9b-e5c6da1667fd');\n",
              "          const dataTable =\n",
              "            await google.colab.kernel.invokeFunction('convertToInteractive',\n",
              "                                                     [key], {});\n",
              "          if (!dataTable) return;\n",
              "\n",
              "          const docLinkHtml = 'Like what you see? Visit the ' +\n",
              "            '<a target=\"_blank\" href=https://colab.research.google.com/notebooks/data_table.ipynb>data table notebook</a>'\n",
              "            + ' to learn more about interactive tables.';\n",
              "          element.innerHTML = '';\n",
              "          dataTable['output_type'] = 'display_data';\n",
              "          await google.colab.output.renderOutput(dataTable, element);\n",
              "          const docLink = document.createElement('div');\n",
              "          docLink.innerHTML = docLinkHtml;\n",
              "          element.appendChild(docLink);\n",
              "        }\n",
              "      </script>\n",
              "    </div>\n",
              "  </div>\n",
              "  "
            ]
          },
          "metadata": {},
          "execution_count": 6
        }
      ]
    },
    {
      "cell_type": "code",
      "source": [
        "test_df.columns"
      ],
      "metadata": {
        "colab": {
          "base_uri": "https://localhost:8080/"
        },
        "id": "Eh93LRMP41_D",
        "outputId": "2f8f492f-dc2f-4aef-894c-7e7b722fa3bf"
      },
      "execution_count": 7,
      "outputs": [
        {
          "output_type": "execute_result",
          "data": {
            "text/plain": [
              "Index(['Unnamed: 0', 'raw_text', 'clean_text', 'subjectivity', 'polarity'], dtype='object')"
            ]
          },
          "metadata": {},
          "execution_count": 7
        }
      ]
    },
    {
      "cell_type": "code",
      "source": [
        "test_df = test_df.drop('Unnamed: 0', axis=1)\n",
        "\n",
        "test_df"
      ],
      "metadata": {
        "colab": {
          "base_uri": "https://localhost:8080/",
          "height": 0
        },
        "id": "ivZfvt-h42BR",
        "outputId": "2f5837b0-3e7e-403f-8a3f-97a6dccb7b81"
      },
      "execution_count": 8,
      "outputs": [
        {
          "output_type": "execute_result",
          "data": {
            "text/plain": [
              "                                              raw_text  \\\n",
              "0    Sidney Powell amends court filing that said Ge...   \n",
              "1    @LisaMirandoCNN @wolfblitzer What's your thoug...   \n",
              "2    Breaking #FoxNews Alert : Joe Biden just revea...   \n",
              "3    @RWPUSA Richard, have you heard there could be...   \n",
              "4    @LeafCavalier @AFJustinKG1 Is that a real-life...   \n",
              "..                                                 ...   \n",
              "349                @realDonaldTrump Thank you Biden!!!   \n",
              "350  Kellyanne Conway acknowledges Biden as apparen...   \n",
              "351  @JeffTutorials @realDonaldTrump Ah Jeff.  I ag...   \n",
              "352  CNN Exclusive: Biden says he will ask American...   \n",
              "353  @mpolletta Little known fact – that Biden’s su...   \n",
              "\n",
              "                                            clean_text  subjectivity  polarity  \n",
              "0    sidney powell amends court filing said georgia...             1         1  \n",
              "1    lisamirandocnn wolfblitzer thought cnn jake ta...             0         2  \n",
              "2    breaking foxnews alert joe biden revealed goin...             0         2  \n",
              "3    rwpusa richard heard could several republican ...             1         0  \n",
              "4    leafcavalier afjustinkg real life question not...             1         0  \n",
              "..                                                 ...           ...       ...  \n",
              "349                        realdonaldtrump thank biden             1         1  \n",
              "350  kellyanne conway acknowledges biden apparent w...             0         2  \n",
              "351  jefftutorials realdonaldtrump ah jeff agree bi...             1         0  \n",
              "352  cnn exclusive biden say ask american wear mask...             0         2  \n",
              "353  mpolletta little known fact biden support that...             0         2  \n",
              "\n",
              "[354 rows x 4 columns]"
            ],
            "text/html": [
              "\n",
              "  <div id=\"df-7d169dbe-5b28-44f8-94cd-d04c28386133\">\n",
              "    <div class=\"colab-df-container\">\n",
              "      <div>\n",
              "<style scoped>\n",
              "    .dataframe tbody tr th:only-of-type {\n",
              "        vertical-align: middle;\n",
              "    }\n",
              "\n",
              "    .dataframe tbody tr th {\n",
              "        vertical-align: top;\n",
              "    }\n",
              "\n",
              "    .dataframe thead th {\n",
              "        text-align: right;\n",
              "    }\n",
              "</style>\n",
              "<table border=\"1\" class=\"dataframe\">\n",
              "  <thead>\n",
              "    <tr style=\"text-align: right;\">\n",
              "      <th></th>\n",
              "      <th>raw_text</th>\n",
              "      <th>clean_text</th>\n",
              "      <th>subjectivity</th>\n",
              "      <th>polarity</th>\n",
              "    </tr>\n",
              "  </thead>\n",
              "  <tbody>\n",
              "    <tr>\n",
              "      <th>0</th>\n",
              "      <td>Sidney Powell amends court filing that said Ge...</td>\n",
              "      <td>sidney powell amends court filing said georgia...</td>\n",
              "      <td>1</td>\n",
              "      <td>1</td>\n",
              "    </tr>\n",
              "    <tr>\n",
              "      <th>1</th>\n",
              "      <td>@LisaMirandoCNN @wolfblitzer What's your thoug...</td>\n",
              "      <td>lisamirandocnn wolfblitzer thought cnn jake ta...</td>\n",
              "      <td>0</td>\n",
              "      <td>2</td>\n",
              "    </tr>\n",
              "    <tr>\n",
              "      <th>2</th>\n",
              "      <td>Breaking #FoxNews Alert : Joe Biden just revea...</td>\n",
              "      <td>breaking foxnews alert joe biden revealed goin...</td>\n",
              "      <td>0</td>\n",
              "      <td>2</td>\n",
              "    </tr>\n",
              "    <tr>\n",
              "      <th>3</th>\n",
              "      <td>@RWPUSA Richard, have you heard there could be...</td>\n",
              "      <td>rwpusa richard heard could several republican ...</td>\n",
              "      <td>1</td>\n",
              "      <td>0</td>\n",
              "    </tr>\n",
              "    <tr>\n",
              "      <th>4</th>\n",
              "      <td>@LeafCavalier @AFJustinKG1 Is that a real-life...</td>\n",
              "      <td>leafcavalier afjustinkg real life question not...</td>\n",
              "      <td>1</td>\n",
              "      <td>0</td>\n",
              "    </tr>\n",
              "    <tr>\n",
              "      <th>...</th>\n",
              "      <td>...</td>\n",
              "      <td>...</td>\n",
              "      <td>...</td>\n",
              "      <td>...</td>\n",
              "    </tr>\n",
              "    <tr>\n",
              "      <th>349</th>\n",
              "      <td>@realDonaldTrump Thank you Biden!!!</td>\n",
              "      <td>realdonaldtrump thank biden</td>\n",
              "      <td>1</td>\n",
              "      <td>1</td>\n",
              "    </tr>\n",
              "    <tr>\n",
              "      <th>350</th>\n",
              "      <td>Kellyanne Conway acknowledges Biden as apparen...</td>\n",
              "      <td>kellyanne conway acknowledges biden apparent w...</td>\n",
              "      <td>0</td>\n",
              "      <td>2</td>\n",
              "    </tr>\n",
              "    <tr>\n",
              "      <th>351</th>\n",
              "      <td>@JeffTutorials @realDonaldTrump Ah Jeff.  I ag...</td>\n",
              "      <td>jefftutorials realdonaldtrump ah jeff agree bi...</td>\n",
              "      <td>1</td>\n",
              "      <td>0</td>\n",
              "    </tr>\n",
              "    <tr>\n",
              "      <th>352</th>\n",
              "      <td>CNN Exclusive: Biden says he will ask American...</td>\n",
              "      <td>cnn exclusive biden say ask american wear mask...</td>\n",
              "      <td>0</td>\n",
              "      <td>2</td>\n",
              "    </tr>\n",
              "    <tr>\n",
              "      <th>353</th>\n",
              "      <td>@mpolletta Little known fact – that Biden’s su...</td>\n",
              "      <td>mpolletta little known fact biden support that...</td>\n",
              "      <td>0</td>\n",
              "      <td>2</td>\n",
              "    </tr>\n",
              "  </tbody>\n",
              "</table>\n",
              "<p>354 rows × 4 columns</p>\n",
              "</div>\n",
              "      <button class=\"colab-df-convert\" onclick=\"convertToInteractive('df-7d169dbe-5b28-44f8-94cd-d04c28386133')\"\n",
              "              title=\"Convert this dataframe to an interactive table.\"\n",
              "              style=\"display:none;\">\n",
              "        \n",
              "  <svg xmlns=\"http://www.w3.org/2000/svg\" height=\"24px\"viewBox=\"0 0 24 24\"\n",
              "       width=\"24px\">\n",
              "    <path d=\"M0 0h24v24H0V0z\" fill=\"none\"/>\n",
              "    <path d=\"M18.56 5.44l.94 2.06.94-2.06 2.06-.94-2.06-.94-.94-2.06-.94 2.06-2.06.94zm-11 1L8.5 8.5l.94-2.06 2.06-.94-2.06-.94L8.5 2.5l-.94 2.06-2.06.94zm10 10l.94 2.06.94-2.06 2.06-.94-2.06-.94-.94-2.06-.94 2.06-2.06.94z\"/><path d=\"M17.41 7.96l-1.37-1.37c-.4-.4-.92-.59-1.43-.59-.52 0-1.04.2-1.43.59L10.3 9.45l-7.72 7.72c-.78.78-.78 2.05 0 2.83L4 21.41c.39.39.9.59 1.41.59.51 0 1.02-.2 1.41-.59l7.78-7.78 2.81-2.81c.8-.78.8-2.07 0-2.86zM5.41 20L4 18.59l7.72-7.72 1.47 1.35L5.41 20z\"/>\n",
              "  </svg>\n",
              "      </button>\n",
              "      \n",
              "  <style>\n",
              "    .colab-df-container {\n",
              "      display:flex;\n",
              "      flex-wrap:wrap;\n",
              "      gap: 12px;\n",
              "    }\n",
              "\n",
              "    .colab-df-convert {\n",
              "      background-color: #E8F0FE;\n",
              "      border: none;\n",
              "      border-radius: 50%;\n",
              "      cursor: pointer;\n",
              "      display: none;\n",
              "      fill: #1967D2;\n",
              "      height: 32px;\n",
              "      padding: 0 0 0 0;\n",
              "      width: 32px;\n",
              "    }\n",
              "\n",
              "    .colab-df-convert:hover {\n",
              "      background-color: #E2EBFA;\n",
              "      box-shadow: 0px 1px 2px rgba(60, 64, 67, 0.3), 0px 1px 3px 1px rgba(60, 64, 67, 0.15);\n",
              "      fill: #174EA6;\n",
              "    }\n",
              "\n",
              "    [theme=dark] .colab-df-convert {\n",
              "      background-color: #3B4455;\n",
              "      fill: #D2E3FC;\n",
              "    }\n",
              "\n",
              "    [theme=dark] .colab-df-convert:hover {\n",
              "      background-color: #434B5C;\n",
              "      box-shadow: 0px 1px 3px 1px rgba(0, 0, 0, 0.15);\n",
              "      filter: drop-shadow(0px 1px 2px rgba(0, 0, 0, 0.3));\n",
              "      fill: #FFFFFF;\n",
              "    }\n",
              "  </style>\n",
              "\n",
              "      <script>\n",
              "        const buttonEl =\n",
              "          document.querySelector('#df-7d169dbe-5b28-44f8-94cd-d04c28386133 button.colab-df-convert');\n",
              "        buttonEl.style.display =\n",
              "          google.colab.kernel.accessAllowed ? 'block' : 'none';\n",
              "\n",
              "        async function convertToInteractive(key) {\n",
              "          const element = document.querySelector('#df-7d169dbe-5b28-44f8-94cd-d04c28386133');\n",
              "          const dataTable =\n",
              "            await google.colab.kernel.invokeFunction('convertToInteractive',\n",
              "                                                     [key], {});\n",
              "          if (!dataTable) return;\n",
              "\n",
              "          const docLinkHtml = 'Like what you see? Visit the ' +\n",
              "            '<a target=\"_blank\" href=https://colab.research.google.com/notebooks/data_table.ipynb>data table notebook</a>'\n",
              "            + ' to learn more about interactive tables.';\n",
              "          element.innerHTML = '';\n",
              "          dataTable['output_type'] = 'display_data';\n",
              "          await google.colab.output.renderOutput(dataTable, element);\n",
              "          const docLink = document.createElement('div');\n",
              "          docLink.innerHTML = docLinkHtml;\n",
              "          element.appendChild(docLink);\n",
              "        }\n",
              "      </script>\n",
              "    </div>\n",
              "  </div>\n",
              "  "
            ]
          },
          "metadata": {},
          "execution_count": 8
        }
      ]
    },
    {
      "cell_type": "code",
      "source": [
        "train_df.shape, test_df.shape"
      ],
      "metadata": {
        "colab": {
          "base_uri": "https://localhost:8080/"
        },
        "id": "dxzOEjWU42FI",
        "outputId": "fd81c68b-282e-455f-cb61-01f27515bce6"
      },
      "execution_count": 9,
      "outputs": [
        {
          "output_type": "execute_result",
          "data": {
            "text/plain": [
              "((1412, 4), (354, 4))"
            ]
          },
          "metadata": {},
          "execution_count": 9
        }
      ]
    },
    {
      "cell_type": "markdown",
      "source": [
        "### Vectorize data"
      ],
      "metadata": {
        "id": "vqakrWYkreBR"
      }
    },
    {
      "cell_type": "code",
      "source": [
        "# Create feature vectors\n",
        "vectorizer = TfidfVectorizer(ngram_range = (2,2),\n",
        "                             min_df = 1,\n",
        "                             max_df = 0.8,\n",
        "                             sublinear_tf = True,\n",
        "                             use_idf = True)"
      ],
      "metadata": {
        "id": "ViILxrZ_42HY"
      },
      "execution_count": 10,
      "outputs": []
    },
    {
      "cell_type": "code",
      "source": [
        "train_vectors = vectorizer.fit_transform(train_df['clean_text'])\n",
        "test_vectors = vectorizer.transform(test_df['clean_text'])"
      ],
      "metadata": {
        "id": "rm__3_qR42Jm"
      },
      "execution_count": 11,
      "outputs": []
    },
    {
      "cell_type": "markdown",
      "source": [
        "### SGDC model"
      ],
      "metadata": {
        "id": "E_oCZ_lkrjwo"
      }
    },
    {
      "cell_type": "code",
      "source": [
        "# define & compile model\n",
        "SGDC = SGDClassifier()\n",
        "\n",
        "# fit model\n",
        "t0 = time.time()\n",
        "SGDC.fit(train_vectors, train_df['polarity'])\n",
        "t1 = time.time()\n",
        "\n",
        "# predict with model\n",
        "prediction_linear = SGDC.predict(test_vectors)\n",
        "t2 = time.time()\n",
        "\n",
        "# get train and test timings\n",
        "time_linear_train = t1-t0\n",
        "time_linear_predict = t2-t1"
      ],
      "metadata": {
        "id": "riokUSiW4egl"
      },
      "execution_count": 12,
      "outputs": []
    },
    {
      "cell_type": "code",
      "source": [
        "prediction_linear"
      ],
      "metadata": {
        "colab": {
          "base_uri": "https://localhost:8080/"
        },
        "id": "2j8teVOl6jhV",
        "outputId": "470ca82f-80c4-4d98-c3ec-e584208c4d43"
      },
      "execution_count": 13,
      "outputs": [
        {
          "output_type": "execute_result",
          "data": {
            "text/plain": [
              "array([0, 2, 2, 0, 1, 0, 1, 0, 2, 2, 0, 1, 0, 2, 1, 1, 0, 2, 1, 0, 0, 0,\n",
              "       0, 0, 0, 1, 0, 0, 2, 0, 0, 2, 0, 1, 2, 0, 0, 0, 0, 1, 1, 0, 1, 1,\n",
              "       0, 0, 0, 0, 1, 1, 0, 1, 1, 0, 0, 1, 2, 0, 1, 0, 2, 0, 2, 2, 0, 0,\n",
              "       2, 0, 1, 1, 1, 0, 0, 0, 0, 1, 0, 0, 0, 1, 2, 0, 1, 0, 2, 2, 0, 0,\n",
              "       2, 2, 1, 1, 0, 0, 0, 0, 1, 0, 2, 0, 0, 0, 1, 1, 2, 2, 0, 0, 0, 1,\n",
              "       0, 1, 0, 2, 0, 0, 1, 0, 0, 0, 2, 0, 0, 2, 0, 2, 2, 0, 0, 0, 1, 2,\n",
              "       2, 0, 0, 0, 2, 1, 2, 1, 2, 2, 1, 2, 0, 2, 0, 2, 1, 0, 2, 1, 0, 0,\n",
              "       1, 0, 0, 0, 0, 0, 0, 1, 1, 0, 0, 0, 0, 0, 0, 1, 1, 1, 0, 0, 0, 1,\n",
              "       1, 2, 0, 2, 1, 2, 0, 0, 0, 0, 0, 0, 0, 2, 2, 1, 2, 1, 0, 2, 0, 1,\n",
              "       2, 0, 1, 0, 1, 0, 2, 0, 0, 0, 0, 1, 0, 1, 0, 1, 2, 0, 0, 0, 0, 1,\n",
              "       1, 1, 0, 0, 0, 0, 0, 1, 2, 0, 0, 1, 1, 2, 0, 0, 0, 0, 0, 2, 2, 0,\n",
              "       0, 2, 1, 0, 0, 2, 2, 0, 1, 0, 0, 2, 1, 1, 2, 1, 1, 0, 1, 1, 0, 1,\n",
              "       0, 1, 0, 2, 1, 0, 1, 0, 1, 0, 0, 2, 1, 1, 0, 0, 1, 2, 0, 2, 0, 0,\n",
              "       1, 1, 2, 2, 0, 0, 0, 0, 2, 0, 2, 1, 1, 2, 1, 1, 2, 2, 2, 0, 0, 2,\n",
              "       1, 0, 0, 2, 0, 0, 2, 0, 1, 1, 2, 0, 2, 2, 1, 1, 0, 1, 0, 0, 1, 1,\n",
              "       1, 2, 2, 1, 2, 0, 0, 1, 2, 1, 1, 0, 0, 0, 1, 0, 1, 0, 0, 1, 1, 0,\n",
              "       2, 2])"
            ]
          },
          "metadata": {},
          "execution_count": 13
        }
      ]
    },
    {
      "cell_type": "markdown",
      "source": [
        "### Export model and results"
      ],
      "metadata": {
        "id": "ZQlXUao7r8xc"
      }
    },
    {
      "cell_type": "code",
      "source": [
        "# add sgdc scores to dataframe\n",
        "test_df['bigram_sgdc_score'] = prediction_linear.tolist()\n",
        "\n",
        "test_df"
      ],
      "metadata": {
        "colab": {
          "base_uri": "https://localhost:8080/",
          "height": 936
        },
        "id": "l_ony3Qd6jjk",
        "outputId": "a50a8bae-61a4-4ae9-9c95-d669640007d8"
      },
      "execution_count": 14,
      "outputs": [
        {
          "output_type": "execute_result",
          "data": {
            "text/plain": [
              "                                              raw_text  \\\n",
              "0    Sidney Powell amends court filing that said Ge...   \n",
              "1    @LisaMirandoCNN @wolfblitzer What's your thoug...   \n",
              "2    Breaking #FoxNews Alert : Joe Biden just revea...   \n",
              "3    @RWPUSA Richard, have you heard there could be...   \n",
              "4    @LeafCavalier @AFJustinKG1 Is that a real-life...   \n",
              "..                                                 ...   \n",
              "349                @realDonaldTrump Thank you Biden!!!   \n",
              "350  Kellyanne Conway acknowledges Biden as apparen...   \n",
              "351  @JeffTutorials @realDonaldTrump Ah Jeff.  I ag...   \n",
              "352  CNN Exclusive: Biden says he will ask American...   \n",
              "353  @mpolletta Little known fact – that Biden’s su...   \n",
              "\n",
              "                                            clean_text  subjectivity  \\\n",
              "0    sidney powell amends court filing said georgia...             1   \n",
              "1    lisamirandocnn wolfblitzer thought cnn jake ta...             0   \n",
              "2    breaking foxnews alert joe biden revealed goin...             0   \n",
              "3    rwpusa richard heard could several republican ...             1   \n",
              "4    leafcavalier afjustinkg real life question not...             1   \n",
              "..                                                 ...           ...   \n",
              "349                        realdonaldtrump thank biden             1   \n",
              "350  kellyanne conway acknowledges biden apparent w...             0   \n",
              "351  jefftutorials realdonaldtrump ah jeff agree bi...             1   \n",
              "352  cnn exclusive biden say ask american wear mask...             0   \n",
              "353  mpolletta little known fact biden support that...             0   \n",
              "\n",
              "     polarity  bigram_sgdc_score  \n",
              "0           1                  0  \n",
              "1           2                  2  \n",
              "2           2                  2  \n",
              "3           0                  0  \n",
              "4           0                  1  \n",
              "..        ...                ...  \n",
              "349         1                  1  \n",
              "350         2                  1  \n",
              "351         0                  0  \n",
              "352         2                  2  \n",
              "353         2                  2  \n",
              "\n",
              "[354 rows x 5 columns]"
            ],
            "text/html": [
              "\n",
              "  <div id=\"df-df1d1b8c-632f-4624-8cd6-d5086d9d7016\">\n",
              "    <div class=\"colab-df-container\">\n",
              "      <div>\n",
              "<style scoped>\n",
              "    .dataframe tbody tr th:only-of-type {\n",
              "        vertical-align: middle;\n",
              "    }\n",
              "\n",
              "    .dataframe tbody tr th {\n",
              "        vertical-align: top;\n",
              "    }\n",
              "\n",
              "    .dataframe thead th {\n",
              "        text-align: right;\n",
              "    }\n",
              "</style>\n",
              "<table border=\"1\" class=\"dataframe\">\n",
              "  <thead>\n",
              "    <tr style=\"text-align: right;\">\n",
              "      <th></th>\n",
              "      <th>raw_text</th>\n",
              "      <th>clean_text</th>\n",
              "      <th>subjectivity</th>\n",
              "      <th>polarity</th>\n",
              "      <th>bigram_sgdc_score</th>\n",
              "    </tr>\n",
              "  </thead>\n",
              "  <tbody>\n",
              "    <tr>\n",
              "      <th>0</th>\n",
              "      <td>Sidney Powell amends court filing that said Ge...</td>\n",
              "      <td>sidney powell amends court filing said georgia...</td>\n",
              "      <td>1</td>\n",
              "      <td>1</td>\n",
              "      <td>0</td>\n",
              "    </tr>\n",
              "    <tr>\n",
              "      <th>1</th>\n",
              "      <td>@LisaMirandoCNN @wolfblitzer What's your thoug...</td>\n",
              "      <td>lisamirandocnn wolfblitzer thought cnn jake ta...</td>\n",
              "      <td>0</td>\n",
              "      <td>2</td>\n",
              "      <td>2</td>\n",
              "    </tr>\n",
              "    <tr>\n",
              "      <th>2</th>\n",
              "      <td>Breaking #FoxNews Alert : Joe Biden just revea...</td>\n",
              "      <td>breaking foxnews alert joe biden revealed goin...</td>\n",
              "      <td>0</td>\n",
              "      <td>2</td>\n",
              "      <td>2</td>\n",
              "    </tr>\n",
              "    <tr>\n",
              "      <th>3</th>\n",
              "      <td>@RWPUSA Richard, have you heard there could be...</td>\n",
              "      <td>rwpusa richard heard could several republican ...</td>\n",
              "      <td>1</td>\n",
              "      <td>0</td>\n",
              "      <td>0</td>\n",
              "    </tr>\n",
              "    <tr>\n",
              "      <th>4</th>\n",
              "      <td>@LeafCavalier @AFJustinKG1 Is that a real-life...</td>\n",
              "      <td>leafcavalier afjustinkg real life question not...</td>\n",
              "      <td>1</td>\n",
              "      <td>0</td>\n",
              "      <td>1</td>\n",
              "    </tr>\n",
              "    <tr>\n",
              "      <th>...</th>\n",
              "      <td>...</td>\n",
              "      <td>...</td>\n",
              "      <td>...</td>\n",
              "      <td>...</td>\n",
              "      <td>...</td>\n",
              "    </tr>\n",
              "    <tr>\n",
              "      <th>349</th>\n",
              "      <td>@realDonaldTrump Thank you Biden!!!</td>\n",
              "      <td>realdonaldtrump thank biden</td>\n",
              "      <td>1</td>\n",
              "      <td>1</td>\n",
              "      <td>1</td>\n",
              "    </tr>\n",
              "    <tr>\n",
              "      <th>350</th>\n",
              "      <td>Kellyanne Conway acknowledges Biden as apparen...</td>\n",
              "      <td>kellyanne conway acknowledges biden apparent w...</td>\n",
              "      <td>0</td>\n",
              "      <td>2</td>\n",
              "      <td>1</td>\n",
              "    </tr>\n",
              "    <tr>\n",
              "      <th>351</th>\n",
              "      <td>@JeffTutorials @realDonaldTrump Ah Jeff.  I ag...</td>\n",
              "      <td>jefftutorials realdonaldtrump ah jeff agree bi...</td>\n",
              "      <td>1</td>\n",
              "      <td>0</td>\n",
              "      <td>0</td>\n",
              "    </tr>\n",
              "    <tr>\n",
              "      <th>352</th>\n",
              "      <td>CNN Exclusive: Biden says he will ask American...</td>\n",
              "      <td>cnn exclusive biden say ask american wear mask...</td>\n",
              "      <td>0</td>\n",
              "      <td>2</td>\n",
              "      <td>2</td>\n",
              "    </tr>\n",
              "    <tr>\n",
              "      <th>353</th>\n",
              "      <td>@mpolletta Little known fact – that Biden’s su...</td>\n",
              "      <td>mpolletta little known fact biden support that...</td>\n",
              "      <td>0</td>\n",
              "      <td>2</td>\n",
              "      <td>2</td>\n",
              "    </tr>\n",
              "  </tbody>\n",
              "</table>\n",
              "<p>354 rows × 5 columns</p>\n",
              "</div>\n",
              "      <button class=\"colab-df-convert\" onclick=\"convertToInteractive('df-df1d1b8c-632f-4624-8cd6-d5086d9d7016')\"\n",
              "              title=\"Convert this dataframe to an interactive table.\"\n",
              "              style=\"display:none;\">\n",
              "        \n",
              "  <svg xmlns=\"http://www.w3.org/2000/svg\" height=\"24px\"viewBox=\"0 0 24 24\"\n",
              "       width=\"24px\">\n",
              "    <path d=\"M0 0h24v24H0V0z\" fill=\"none\"/>\n",
              "    <path d=\"M18.56 5.44l.94 2.06.94-2.06 2.06-.94-2.06-.94-.94-2.06-.94 2.06-2.06.94zm-11 1L8.5 8.5l.94-2.06 2.06-.94-2.06-.94L8.5 2.5l-.94 2.06-2.06.94zm10 10l.94 2.06.94-2.06 2.06-.94-2.06-.94-.94-2.06-.94 2.06-2.06.94z\"/><path d=\"M17.41 7.96l-1.37-1.37c-.4-.4-.92-.59-1.43-.59-.52 0-1.04.2-1.43.59L10.3 9.45l-7.72 7.72c-.78.78-.78 2.05 0 2.83L4 21.41c.39.39.9.59 1.41.59.51 0 1.02-.2 1.41-.59l7.78-7.78 2.81-2.81c.8-.78.8-2.07 0-2.86zM5.41 20L4 18.59l7.72-7.72 1.47 1.35L5.41 20z\"/>\n",
              "  </svg>\n",
              "      </button>\n",
              "      \n",
              "  <style>\n",
              "    .colab-df-container {\n",
              "      display:flex;\n",
              "      flex-wrap:wrap;\n",
              "      gap: 12px;\n",
              "    }\n",
              "\n",
              "    .colab-df-convert {\n",
              "      background-color: #E8F0FE;\n",
              "      border: none;\n",
              "      border-radius: 50%;\n",
              "      cursor: pointer;\n",
              "      display: none;\n",
              "      fill: #1967D2;\n",
              "      height: 32px;\n",
              "      padding: 0 0 0 0;\n",
              "      width: 32px;\n",
              "    }\n",
              "\n",
              "    .colab-df-convert:hover {\n",
              "      background-color: #E2EBFA;\n",
              "      box-shadow: 0px 1px 2px rgba(60, 64, 67, 0.3), 0px 1px 3px 1px rgba(60, 64, 67, 0.15);\n",
              "      fill: #174EA6;\n",
              "    }\n",
              "\n",
              "    [theme=dark] .colab-df-convert {\n",
              "      background-color: #3B4455;\n",
              "      fill: #D2E3FC;\n",
              "    }\n",
              "\n",
              "    [theme=dark] .colab-df-convert:hover {\n",
              "      background-color: #434B5C;\n",
              "      box-shadow: 0px 1px 3px 1px rgba(0, 0, 0, 0.15);\n",
              "      filter: drop-shadow(0px 1px 2px rgba(0, 0, 0, 0.3));\n",
              "      fill: #FFFFFF;\n",
              "    }\n",
              "  </style>\n",
              "\n",
              "      <script>\n",
              "        const buttonEl =\n",
              "          document.querySelector('#df-df1d1b8c-632f-4624-8cd6-d5086d9d7016 button.colab-df-convert');\n",
              "        buttonEl.style.display =\n",
              "          google.colab.kernel.accessAllowed ? 'block' : 'none';\n",
              "\n",
              "        async function convertToInteractive(key) {\n",
              "          const element = document.querySelector('#df-df1d1b8c-632f-4624-8cd6-d5086d9d7016');\n",
              "          const dataTable =\n",
              "            await google.colab.kernel.invokeFunction('convertToInteractive',\n",
              "                                                     [key], {});\n",
              "          if (!dataTable) return;\n",
              "\n",
              "          const docLinkHtml = 'Like what you see? Visit the ' +\n",
              "            '<a target=\"_blank\" href=https://colab.research.google.com/notebooks/data_table.ipynb>data table notebook</a>'\n",
              "            + ' to learn more about interactive tables.';\n",
              "          element.innerHTML = '';\n",
              "          dataTable['output_type'] = 'display_data';\n",
              "          await google.colab.output.renderOutput(dataTable, element);\n",
              "          const docLink = document.createElement('div');\n",
              "          docLink.innerHTML = docLinkHtml;\n",
              "          element.appendChild(docLink);\n",
              "        }\n",
              "      </script>\n",
              "    </div>\n",
              "  </div>\n",
              "  "
            ]
          },
          "metadata": {},
          "execution_count": 14
        }
      ]
    },
    {
      "cell_type": "code",
      "source": [
        "# labeled test data\n",
        "sgdc_label_file_name = 'bigram_sgdc_results_test_labeled.csv'\n",
        "  \n",
        "test_df.to_csv(sgdc_label_file_name)"
      ],
      "metadata": {
        "id": "ZO7FFW8KtPQL"
      },
      "execution_count": 15,
      "outputs": []
    },
    {
      "cell_type": "code",
      "source": [
        "# pickling the vectorizer\n",
        "pickle.dump(vectorizer, open('bigram_sgdc_vectorizer.sav', 'wb'))"
      ],
      "metadata": {
        "id": "Sysogs0vsBuU"
      },
      "execution_count": 16,
      "outputs": []
    },
    {
      "cell_type": "code",
      "source": [
        "# pickling the model\n",
        "pickle.dump(SGDC, open('bigram_sgdc_classifier.sav', 'wb'))"
      ],
      "metadata": {
        "id": "-oXvSmpEsByW"
      },
      "execution_count": 17,
      "outputs": []
    },
    {
      "cell_type": "markdown",
      "source": [
        "### Evaluate model"
      ],
      "metadata": {
        "id": "TtjkxXVfsHkK"
      }
    },
    {
      "cell_type": "code",
      "source": [
        "print(\"Training time: %fs; Prediction time: %fs\" % (time_linear_train, time_linear_predict))"
      ],
      "metadata": {
        "colab": {
          "base_uri": "https://localhost:8080/"
        },
        "id": "4JE3Qyaa6jlx",
        "outputId": "71268305-8b8d-4415-b7ae-e7f7c10fa51e"
      },
      "execution_count": 18,
      "outputs": [
        {
          "output_type": "stream",
          "name": "stdout",
          "text": [
            "Training time: 0.019866s; Prediction time: 0.000912s\n"
          ]
        }
      ]
    },
    {
      "cell_type": "code",
      "source": [
        "acc_score = accuracy_score(test_df['polarity'], prediction_linear)\n",
        "\n",
        "print(\"accuracy: \", str(acc_score))"
      ],
      "metadata": {
        "colab": {
          "base_uri": "https://localhost:8080/"
        },
        "id": "yqGqPC6p6jn4",
        "outputId": "ae50d7ee-ad6b-424d-9480-0903504e1f03"
      },
      "execution_count": 19,
      "outputs": [
        {
          "output_type": "stream",
          "name": "stdout",
          "text": [
            "accuracy:  0.615819209039548\n"
          ]
        }
      ]
    },
    {
      "cell_type": "code",
      "source": [
        "report = classification_report(test_df['polarity'], prediction_linear)\n",
        "\n",
        "print(report)"
      ],
      "metadata": {
        "colab": {
          "base_uri": "https://localhost:8080/"
        },
        "id": "BweB9C2Ptm4v",
        "outputId": "0aaf0a96-30a8-42b2-f2c8-bb95865678cc"
      },
      "execution_count": 20,
      "outputs": [
        {
          "output_type": "stream",
          "name": "stdout",
          "text": [
            "              precision    recall  f1-score   support\n",
            "\n",
            "           0       0.64      0.66      0.65       167\n",
            "           1       0.49      0.51      0.50        96\n",
            "           2       0.72      0.64      0.68        91\n",
            "\n",
            "    accuracy                           0.62       354\n",
            "   macro avg       0.62      0.60      0.61       354\n",
            "weighted avg       0.62      0.62      0.62       354\n",
            "\n"
          ]
        }
      ]
    },
    {
      "cell_type": "markdown",
      "source": [
        "## Apply on full dataset"
      ],
      "metadata": {
        "id": "nROBXH9HsUnm"
      }
    },
    {
      "cell_type": "markdown",
      "source": [
        "### Read dataset"
      ],
      "metadata": {
        "id": "qNTyiXllsWU2"
      }
    },
    {
      "cell_type": "code",
      "source": [
        "# full data\n",
        "df_full = pd.read_csv('/content/drive/MyDrive/Colab Notebooks/nlp project/Sentiment Analysis/final datasets/biden_tweets_processed.csv')\n",
        "\n",
        "df_full"
      ],
      "metadata": {
        "colab": {
          "base_uri": "https://localhost:8080/",
          "height": 0
        },
        "id": "XaROWxRbsXhI",
        "outputId": "f315bff8-5292-4a57-9d22-3e2a531f0b20"
      },
      "execution_count": 21,
      "outputs": [
        {
          "output_type": "execute_result",
          "data": {
            "text/plain": [
              "       Unnamed: 0                                           raw_text  \\\n",
              "0               0  @NCatalyst19 @RattlerGator This fake virus is ...   \n",
              "1               1  @propublica I now think Biden should keep Trum...   \n",
              "2               2  @Acosta Hopefully it's a foregone conclusion t...   \n",
              "3               3  @realDonaldTrump @POTUS I don't trust the @FBI...   \n",
              "4               4  President-elect Joe Biden is predicting a “ble...   \n",
              "...           ...                                                ...   \n",
              "17626       17626  @MSNBC I mean shit, what if Biden turns out to...   \n",
              "17627       17627  Pentagon blocks visits to military spy agencie...   \n",
              "17628       17628  CNN Exclusive: Biden says he will ask American...   \n",
              "17629       17629  @Tomboliko @the_resistor @realDonaldTrump Hill...   \n",
              "17630       17630  Biden says Trump should attend his inauguratio...   \n",
              "\n",
              "                                              clean_text  \n",
              "0      ncatalyst rattlergator fake virus deep state g...  \n",
              "1      propublica think biden keep trump anti deep st...  \n",
              "2      acosta hopefully foregone conclusion president...  \n",
              "3      realdonaldtrump potus trust fbi wray even look...  \n",
              "4      president elect joe biden predicting bleak fut...  \n",
              "...                                                  ...  \n",
              "17626  msnbc mean shit biden turn disaster people flo...  \n",
              "17627  pentagon block visit military spy agency biden...  \n",
              "17628  cnn exclusive biden say ask american wear mask...  \n",
              "17629  tomboliko resistor realdonaldtrump hillary che...  \n",
              "17630  biden say trump attend inauguration sake ameri...  \n",
              "\n",
              "[17631 rows x 3 columns]"
            ],
            "text/html": [
              "\n",
              "  <div id=\"df-59ef9b24-41af-4738-9ff6-654b12dad9ce\">\n",
              "    <div class=\"colab-df-container\">\n",
              "      <div>\n",
              "<style scoped>\n",
              "    .dataframe tbody tr th:only-of-type {\n",
              "        vertical-align: middle;\n",
              "    }\n",
              "\n",
              "    .dataframe tbody tr th {\n",
              "        vertical-align: top;\n",
              "    }\n",
              "\n",
              "    .dataframe thead th {\n",
              "        text-align: right;\n",
              "    }\n",
              "</style>\n",
              "<table border=\"1\" class=\"dataframe\">\n",
              "  <thead>\n",
              "    <tr style=\"text-align: right;\">\n",
              "      <th></th>\n",
              "      <th>Unnamed: 0</th>\n",
              "      <th>raw_text</th>\n",
              "      <th>clean_text</th>\n",
              "    </tr>\n",
              "  </thead>\n",
              "  <tbody>\n",
              "    <tr>\n",
              "      <th>0</th>\n",
              "      <td>0</td>\n",
              "      <td>@NCatalyst19 @RattlerGator This fake virus is ...</td>\n",
              "      <td>ncatalyst rattlergator fake virus deep state g...</td>\n",
              "    </tr>\n",
              "    <tr>\n",
              "      <th>1</th>\n",
              "      <td>1</td>\n",
              "      <td>@propublica I now think Biden should keep Trum...</td>\n",
              "      <td>propublica think biden keep trump anti deep st...</td>\n",
              "    </tr>\n",
              "    <tr>\n",
              "      <th>2</th>\n",
              "      <td>2</td>\n",
              "      <td>@Acosta Hopefully it's a foregone conclusion t...</td>\n",
              "      <td>acosta hopefully foregone conclusion president...</td>\n",
              "    </tr>\n",
              "    <tr>\n",
              "      <th>3</th>\n",
              "      <td>3</td>\n",
              "      <td>@realDonaldTrump @POTUS I don't trust the @FBI...</td>\n",
              "      <td>realdonaldtrump potus trust fbi wray even look...</td>\n",
              "    </tr>\n",
              "    <tr>\n",
              "      <th>4</th>\n",
              "      <td>4</td>\n",
              "      <td>President-elect Joe Biden is predicting a “ble...</td>\n",
              "      <td>president elect joe biden predicting bleak fut...</td>\n",
              "    </tr>\n",
              "    <tr>\n",
              "      <th>...</th>\n",
              "      <td>...</td>\n",
              "      <td>...</td>\n",
              "      <td>...</td>\n",
              "    </tr>\n",
              "    <tr>\n",
              "      <th>17626</th>\n",
              "      <td>17626</td>\n",
              "      <td>@MSNBC I mean shit, what if Biden turns out to...</td>\n",
              "      <td>msnbc mean shit biden turn disaster people flo...</td>\n",
              "    </tr>\n",
              "    <tr>\n",
              "      <th>17627</th>\n",
              "      <td>17627</td>\n",
              "      <td>Pentagon blocks visits to military spy agencie...</td>\n",
              "      <td>pentagon block visit military spy agency biden...</td>\n",
              "    </tr>\n",
              "    <tr>\n",
              "      <th>17628</th>\n",
              "      <td>17628</td>\n",
              "      <td>CNN Exclusive: Biden says he will ask American...</td>\n",
              "      <td>cnn exclusive biden say ask american wear mask...</td>\n",
              "    </tr>\n",
              "    <tr>\n",
              "      <th>17629</th>\n",
              "      <td>17629</td>\n",
              "      <td>@Tomboliko @the_resistor @realDonaldTrump Hill...</td>\n",
              "      <td>tomboliko resistor realdonaldtrump hillary che...</td>\n",
              "    </tr>\n",
              "    <tr>\n",
              "      <th>17630</th>\n",
              "      <td>17630</td>\n",
              "      <td>Biden says Trump should attend his inauguratio...</td>\n",
              "      <td>biden say trump attend inauguration sake ameri...</td>\n",
              "    </tr>\n",
              "  </tbody>\n",
              "</table>\n",
              "<p>17631 rows × 3 columns</p>\n",
              "</div>\n",
              "      <button class=\"colab-df-convert\" onclick=\"convertToInteractive('df-59ef9b24-41af-4738-9ff6-654b12dad9ce')\"\n",
              "              title=\"Convert this dataframe to an interactive table.\"\n",
              "              style=\"display:none;\">\n",
              "        \n",
              "  <svg xmlns=\"http://www.w3.org/2000/svg\" height=\"24px\"viewBox=\"0 0 24 24\"\n",
              "       width=\"24px\">\n",
              "    <path d=\"M0 0h24v24H0V0z\" fill=\"none\"/>\n",
              "    <path d=\"M18.56 5.44l.94 2.06.94-2.06 2.06-.94-2.06-.94-.94-2.06-.94 2.06-2.06.94zm-11 1L8.5 8.5l.94-2.06 2.06-.94-2.06-.94L8.5 2.5l-.94 2.06-2.06.94zm10 10l.94 2.06.94-2.06 2.06-.94-2.06-.94-.94-2.06-.94 2.06-2.06.94z\"/><path d=\"M17.41 7.96l-1.37-1.37c-.4-.4-.92-.59-1.43-.59-.52 0-1.04.2-1.43.59L10.3 9.45l-7.72 7.72c-.78.78-.78 2.05 0 2.83L4 21.41c.39.39.9.59 1.41.59.51 0 1.02-.2 1.41-.59l7.78-7.78 2.81-2.81c.8-.78.8-2.07 0-2.86zM5.41 20L4 18.59l7.72-7.72 1.47 1.35L5.41 20z\"/>\n",
              "  </svg>\n",
              "      </button>\n",
              "      \n",
              "  <style>\n",
              "    .colab-df-container {\n",
              "      display:flex;\n",
              "      flex-wrap:wrap;\n",
              "      gap: 12px;\n",
              "    }\n",
              "\n",
              "    .colab-df-convert {\n",
              "      background-color: #E8F0FE;\n",
              "      border: none;\n",
              "      border-radius: 50%;\n",
              "      cursor: pointer;\n",
              "      display: none;\n",
              "      fill: #1967D2;\n",
              "      height: 32px;\n",
              "      padding: 0 0 0 0;\n",
              "      width: 32px;\n",
              "    }\n",
              "\n",
              "    .colab-df-convert:hover {\n",
              "      background-color: #E2EBFA;\n",
              "      box-shadow: 0px 1px 2px rgba(60, 64, 67, 0.3), 0px 1px 3px 1px rgba(60, 64, 67, 0.15);\n",
              "      fill: #174EA6;\n",
              "    }\n",
              "\n",
              "    [theme=dark] .colab-df-convert {\n",
              "      background-color: #3B4455;\n",
              "      fill: #D2E3FC;\n",
              "    }\n",
              "\n",
              "    [theme=dark] .colab-df-convert:hover {\n",
              "      background-color: #434B5C;\n",
              "      box-shadow: 0px 1px 3px 1px rgba(0, 0, 0, 0.15);\n",
              "      filter: drop-shadow(0px 1px 2px rgba(0, 0, 0, 0.3));\n",
              "      fill: #FFFFFF;\n",
              "    }\n",
              "  </style>\n",
              "\n",
              "      <script>\n",
              "        const buttonEl =\n",
              "          document.querySelector('#df-59ef9b24-41af-4738-9ff6-654b12dad9ce button.colab-df-convert');\n",
              "        buttonEl.style.display =\n",
              "          google.colab.kernel.accessAllowed ? 'block' : 'none';\n",
              "\n",
              "        async function convertToInteractive(key) {\n",
              "          const element = document.querySelector('#df-59ef9b24-41af-4738-9ff6-654b12dad9ce');\n",
              "          const dataTable =\n",
              "            await google.colab.kernel.invokeFunction('convertToInteractive',\n",
              "                                                     [key], {});\n",
              "          if (!dataTable) return;\n",
              "\n",
              "          const docLinkHtml = 'Like what you see? Visit the ' +\n",
              "            '<a target=\"_blank\" href=https://colab.research.google.com/notebooks/data_table.ipynb>data table notebook</a>'\n",
              "            + ' to learn more about interactive tables.';\n",
              "          element.innerHTML = '';\n",
              "          dataTable['output_type'] = 'display_data';\n",
              "          await google.colab.output.renderOutput(dataTable, element);\n",
              "          const docLink = document.createElement('div');\n",
              "          docLink.innerHTML = docLinkHtml;\n",
              "          element.appendChild(docLink);\n",
              "        }\n",
              "      </script>\n",
              "    </div>\n",
              "  </div>\n",
              "  "
            ]
          },
          "metadata": {},
          "execution_count": 21
        }
      ]
    },
    {
      "cell_type": "code",
      "source": [
        "df_full.columns"
      ],
      "metadata": {
        "colab": {
          "base_uri": "https://localhost:8080/"
        },
        "id": "-_AJ30eHsXkS",
        "outputId": "88f75dfb-2973-4878-a0ab-3641156acffd"
      },
      "execution_count": 22,
      "outputs": [
        {
          "output_type": "execute_result",
          "data": {
            "text/plain": [
              "Index(['Unnamed: 0', 'raw_text', 'clean_text'], dtype='object')"
            ]
          },
          "metadata": {},
          "execution_count": 22
        }
      ]
    },
    {
      "cell_type": "code",
      "source": [
        "df_full = df_full.drop('Unnamed: 0', axis=1)\n",
        "\n",
        "df_full"
      ],
      "metadata": {
        "colab": {
          "base_uri": "https://localhost:8080/",
          "height": 0
        },
        "id": "SszqWBozsXm3",
        "outputId": "312efca9-f2d5-4241-f530-17ce54dfffa0"
      },
      "execution_count": 23,
      "outputs": [
        {
          "output_type": "execute_result",
          "data": {
            "text/plain": [
              "                                                raw_text  \\\n",
              "0      @NCatalyst19 @RattlerGator This fake virus is ...   \n",
              "1      @propublica I now think Biden should keep Trum...   \n",
              "2      @Acosta Hopefully it's a foregone conclusion t...   \n",
              "3      @realDonaldTrump @POTUS I don't trust the @FBI...   \n",
              "4      President-elect Joe Biden is predicting a “ble...   \n",
              "...                                                  ...   \n",
              "17626  @MSNBC I mean shit, what if Biden turns out to...   \n",
              "17627  Pentagon blocks visits to military spy agencie...   \n",
              "17628  CNN Exclusive: Biden says he will ask American...   \n",
              "17629  @Tomboliko @the_resistor @realDonaldTrump Hill...   \n",
              "17630  Biden says Trump should attend his inauguratio...   \n",
              "\n",
              "                                              clean_text  \n",
              "0      ncatalyst rattlergator fake virus deep state g...  \n",
              "1      propublica think biden keep trump anti deep st...  \n",
              "2      acosta hopefully foregone conclusion president...  \n",
              "3      realdonaldtrump potus trust fbi wray even look...  \n",
              "4      president elect joe biden predicting bleak fut...  \n",
              "...                                                  ...  \n",
              "17626  msnbc mean shit biden turn disaster people flo...  \n",
              "17627  pentagon block visit military spy agency biden...  \n",
              "17628  cnn exclusive biden say ask american wear mask...  \n",
              "17629  tomboliko resistor realdonaldtrump hillary che...  \n",
              "17630  biden say trump attend inauguration sake ameri...  \n",
              "\n",
              "[17631 rows x 2 columns]"
            ],
            "text/html": [
              "\n",
              "  <div id=\"df-eed2bfc6-d386-45c5-ae40-c5eff7160cdc\">\n",
              "    <div class=\"colab-df-container\">\n",
              "      <div>\n",
              "<style scoped>\n",
              "    .dataframe tbody tr th:only-of-type {\n",
              "        vertical-align: middle;\n",
              "    }\n",
              "\n",
              "    .dataframe tbody tr th {\n",
              "        vertical-align: top;\n",
              "    }\n",
              "\n",
              "    .dataframe thead th {\n",
              "        text-align: right;\n",
              "    }\n",
              "</style>\n",
              "<table border=\"1\" class=\"dataframe\">\n",
              "  <thead>\n",
              "    <tr style=\"text-align: right;\">\n",
              "      <th></th>\n",
              "      <th>raw_text</th>\n",
              "      <th>clean_text</th>\n",
              "    </tr>\n",
              "  </thead>\n",
              "  <tbody>\n",
              "    <tr>\n",
              "      <th>0</th>\n",
              "      <td>@NCatalyst19 @RattlerGator This fake virus is ...</td>\n",
              "      <td>ncatalyst rattlergator fake virus deep state g...</td>\n",
              "    </tr>\n",
              "    <tr>\n",
              "      <th>1</th>\n",
              "      <td>@propublica I now think Biden should keep Trum...</td>\n",
              "      <td>propublica think biden keep trump anti deep st...</td>\n",
              "    </tr>\n",
              "    <tr>\n",
              "      <th>2</th>\n",
              "      <td>@Acosta Hopefully it's a foregone conclusion t...</td>\n",
              "      <td>acosta hopefully foregone conclusion president...</td>\n",
              "    </tr>\n",
              "    <tr>\n",
              "      <th>3</th>\n",
              "      <td>@realDonaldTrump @POTUS I don't trust the @FBI...</td>\n",
              "      <td>realdonaldtrump potus trust fbi wray even look...</td>\n",
              "    </tr>\n",
              "    <tr>\n",
              "      <th>4</th>\n",
              "      <td>President-elect Joe Biden is predicting a “ble...</td>\n",
              "      <td>president elect joe biden predicting bleak fut...</td>\n",
              "    </tr>\n",
              "    <tr>\n",
              "      <th>...</th>\n",
              "      <td>...</td>\n",
              "      <td>...</td>\n",
              "    </tr>\n",
              "    <tr>\n",
              "      <th>17626</th>\n",
              "      <td>@MSNBC I mean shit, what if Biden turns out to...</td>\n",
              "      <td>msnbc mean shit biden turn disaster people flo...</td>\n",
              "    </tr>\n",
              "    <tr>\n",
              "      <th>17627</th>\n",
              "      <td>Pentagon blocks visits to military spy agencie...</td>\n",
              "      <td>pentagon block visit military spy agency biden...</td>\n",
              "    </tr>\n",
              "    <tr>\n",
              "      <th>17628</th>\n",
              "      <td>CNN Exclusive: Biden says he will ask American...</td>\n",
              "      <td>cnn exclusive biden say ask american wear mask...</td>\n",
              "    </tr>\n",
              "    <tr>\n",
              "      <th>17629</th>\n",
              "      <td>@Tomboliko @the_resistor @realDonaldTrump Hill...</td>\n",
              "      <td>tomboliko resistor realdonaldtrump hillary che...</td>\n",
              "    </tr>\n",
              "    <tr>\n",
              "      <th>17630</th>\n",
              "      <td>Biden says Trump should attend his inauguratio...</td>\n",
              "      <td>biden say trump attend inauguration sake ameri...</td>\n",
              "    </tr>\n",
              "  </tbody>\n",
              "</table>\n",
              "<p>17631 rows × 2 columns</p>\n",
              "</div>\n",
              "      <button class=\"colab-df-convert\" onclick=\"convertToInteractive('df-eed2bfc6-d386-45c5-ae40-c5eff7160cdc')\"\n",
              "              title=\"Convert this dataframe to an interactive table.\"\n",
              "              style=\"display:none;\">\n",
              "        \n",
              "  <svg xmlns=\"http://www.w3.org/2000/svg\" height=\"24px\"viewBox=\"0 0 24 24\"\n",
              "       width=\"24px\">\n",
              "    <path d=\"M0 0h24v24H0V0z\" fill=\"none\"/>\n",
              "    <path d=\"M18.56 5.44l.94 2.06.94-2.06 2.06-.94-2.06-.94-.94-2.06-.94 2.06-2.06.94zm-11 1L8.5 8.5l.94-2.06 2.06-.94-2.06-.94L8.5 2.5l-.94 2.06-2.06.94zm10 10l.94 2.06.94-2.06 2.06-.94-2.06-.94-.94-2.06-.94 2.06-2.06.94z\"/><path d=\"M17.41 7.96l-1.37-1.37c-.4-.4-.92-.59-1.43-.59-.52 0-1.04.2-1.43.59L10.3 9.45l-7.72 7.72c-.78.78-.78 2.05 0 2.83L4 21.41c.39.39.9.59 1.41.59.51 0 1.02-.2 1.41-.59l7.78-7.78 2.81-2.81c.8-.78.8-2.07 0-2.86zM5.41 20L4 18.59l7.72-7.72 1.47 1.35L5.41 20z\"/>\n",
              "  </svg>\n",
              "      </button>\n",
              "      \n",
              "  <style>\n",
              "    .colab-df-container {\n",
              "      display:flex;\n",
              "      flex-wrap:wrap;\n",
              "      gap: 12px;\n",
              "    }\n",
              "\n",
              "    .colab-df-convert {\n",
              "      background-color: #E8F0FE;\n",
              "      border: none;\n",
              "      border-radius: 50%;\n",
              "      cursor: pointer;\n",
              "      display: none;\n",
              "      fill: #1967D2;\n",
              "      height: 32px;\n",
              "      padding: 0 0 0 0;\n",
              "      width: 32px;\n",
              "    }\n",
              "\n",
              "    .colab-df-convert:hover {\n",
              "      background-color: #E2EBFA;\n",
              "      box-shadow: 0px 1px 2px rgba(60, 64, 67, 0.3), 0px 1px 3px 1px rgba(60, 64, 67, 0.15);\n",
              "      fill: #174EA6;\n",
              "    }\n",
              "\n",
              "    [theme=dark] .colab-df-convert {\n",
              "      background-color: #3B4455;\n",
              "      fill: #D2E3FC;\n",
              "    }\n",
              "\n",
              "    [theme=dark] .colab-df-convert:hover {\n",
              "      background-color: #434B5C;\n",
              "      box-shadow: 0px 1px 3px 1px rgba(0, 0, 0, 0.15);\n",
              "      filter: drop-shadow(0px 1px 2px rgba(0, 0, 0, 0.3));\n",
              "      fill: #FFFFFF;\n",
              "    }\n",
              "  </style>\n",
              "\n",
              "      <script>\n",
              "        const buttonEl =\n",
              "          document.querySelector('#df-eed2bfc6-d386-45c5-ae40-c5eff7160cdc button.colab-df-convert');\n",
              "        buttonEl.style.display =\n",
              "          google.colab.kernel.accessAllowed ? 'block' : 'none';\n",
              "\n",
              "        async function convertToInteractive(key) {\n",
              "          const element = document.querySelector('#df-eed2bfc6-d386-45c5-ae40-c5eff7160cdc');\n",
              "          const dataTable =\n",
              "            await google.colab.kernel.invokeFunction('convertToInteractive',\n",
              "                                                     [key], {});\n",
              "          if (!dataTable) return;\n",
              "\n",
              "          const docLinkHtml = 'Like what you see? Visit the ' +\n",
              "            '<a target=\"_blank\" href=https://colab.research.google.com/notebooks/data_table.ipynb>data table notebook</a>'\n",
              "            + ' to learn more about interactive tables.';\n",
              "          element.innerHTML = '';\n",
              "          dataTable['output_type'] = 'display_data';\n",
              "          await google.colab.output.renderOutput(dataTable, element);\n",
              "          const docLink = document.createElement('div');\n",
              "          docLink.innerHTML = docLinkHtml;\n",
              "          element.appendChild(docLink);\n",
              "        }\n",
              "      </script>\n",
              "    </div>\n",
              "  </div>\n",
              "  "
            ]
          },
          "metadata": {},
          "execution_count": 23
        }
      ]
    },
    {
      "cell_type": "markdown",
      "source": [
        "### Vectorize data"
      ],
      "metadata": {
        "id": "fggirXMzsaus"
      }
    },
    {
      "cell_type": "code",
      "source": [
        "full_vectors = vectorizer.transform(df_full['clean_text'])"
      ],
      "metadata": {
        "id": "_Bf9ZbfIsXpV"
      },
      "execution_count": 24,
      "outputs": []
    },
    {
      "cell_type": "markdown",
      "source": [
        "### SGDC sentiment analysis"
      ],
      "metadata": {
        "id": "3NRinh20sdlC"
      }
    },
    {
      "cell_type": "code",
      "source": [
        "full_prediction_linear = SGDC.predict(full_vectors)"
      ],
      "metadata": {
        "id": "exczMCVgsXrU"
      },
      "execution_count": 25,
      "outputs": []
    },
    {
      "cell_type": "code",
      "source": [
        "full_prediction_linear"
      ],
      "metadata": {
        "colab": {
          "base_uri": "https://localhost:8080/"
        },
        "id": "NCU0JKK2sXtp",
        "outputId": "aa2c1fa0-18bf-4136-890b-03ea3357d6c5"
      },
      "execution_count": 26,
      "outputs": [
        {
          "output_type": "execute_result",
          "data": {
            "text/plain": [
              "array([2, 0, 1, ..., 2, 0, 2])"
            ]
          },
          "metadata": {},
          "execution_count": 26
        }
      ]
    },
    {
      "cell_type": "code",
      "source": [
        "# add sgdc scores to dataframe\n",
        "df_full['bigram_sgdc_score'] = full_prediction_linear.tolist()\n",
        "\n",
        "df_full"
      ],
      "metadata": {
        "colab": {
          "base_uri": "https://localhost:8080/",
          "height": 641
        },
        "id": "Txi1QdIZsXvr",
        "outputId": "2c81c521-c7dc-4318-afd2-e3fc4958264d"
      },
      "execution_count": 27,
      "outputs": [
        {
          "output_type": "execute_result",
          "data": {
            "text/plain": [
              "                                                raw_text  \\\n",
              "0      @NCatalyst19 @RattlerGator This fake virus is ...   \n",
              "1      @propublica I now think Biden should keep Trum...   \n",
              "2      @Acosta Hopefully it's a foregone conclusion t...   \n",
              "3      @realDonaldTrump @POTUS I don't trust the @FBI...   \n",
              "4      President-elect Joe Biden is predicting a “ble...   \n",
              "...                                                  ...   \n",
              "17626  @MSNBC I mean shit, what if Biden turns out to...   \n",
              "17627  Pentagon blocks visits to military spy agencie...   \n",
              "17628  CNN Exclusive: Biden says he will ask American...   \n",
              "17629  @Tomboliko @the_resistor @realDonaldTrump Hill...   \n",
              "17630  Biden says Trump should attend his inauguratio...   \n",
              "\n",
              "                                              clean_text  bigram_sgdc_score  \n",
              "0      ncatalyst rattlergator fake virus deep state g...                  2  \n",
              "1      propublica think biden keep trump anti deep st...                  0  \n",
              "2      acosta hopefully foregone conclusion president...                  1  \n",
              "3      realdonaldtrump potus trust fbi wray even look...                  0  \n",
              "4      president elect joe biden predicting bleak fut...                  2  \n",
              "...                                                  ...                ...  \n",
              "17626  msnbc mean shit biden turn disaster people flo...                  0  \n",
              "17627  pentagon block visit military spy agency biden...                  2  \n",
              "17628  cnn exclusive biden say ask american wear mask...                  2  \n",
              "17629  tomboliko resistor realdonaldtrump hillary che...                  0  \n",
              "17630  biden say trump attend inauguration sake ameri...                  2  \n",
              "\n",
              "[17631 rows x 3 columns]"
            ],
            "text/html": [
              "\n",
              "  <div id=\"df-186b1903-7a28-4164-96b4-ba1fc13d7a2b\">\n",
              "    <div class=\"colab-df-container\">\n",
              "      <div>\n",
              "<style scoped>\n",
              "    .dataframe tbody tr th:only-of-type {\n",
              "        vertical-align: middle;\n",
              "    }\n",
              "\n",
              "    .dataframe tbody tr th {\n",
              "        vertical-align: top;\n",
              "    }\n",
              "\n",
              "    .dataframe thead th {\n",
              "        text-align: right;\n",
              "    }\n",
              "</style>\n",
              "<table border=\"1\" class=\"dataframe\">\n",
              "  <thead>\n",
              "    <tr style=\"text-align: right;\">\n",
              "      <th></th>\n",
              "      <th>raw_text</th>\n",
              "      <th>clean_text</th>\n",
              "      <th>bigram_sgdc_score</th>\n",
              "    </tr>\n",
              "  </thead>\n",
              "  <tbody>\n",
              "    <tr>\n",
              "      <th>0</th>\n",
              "      <td>@NCatalyst19 @RattlerGator This fake virus is ...</td>\n",
              "      <td>ncatalyst rattlergator fake virus deep state g...</td>\n",
              "      <td>2</td>\n",
              "    </tr>\n",
              "    <tr>\n",
              "      <th>1</th>\n",
              "      <td>@propublica I now think Biden should keep Trum...</td>\n",
              "      <td>propublica think biden keep trump anti deep st...</td>\n",
              "      <td>0</td>\n",
              "    </tr>\n",
              "    <tr>\n",
              "      <th>2</th>\n",
              "      <td>@Acosta Hopefully it's a foregone conclusion t...</td>\n",
              "      <td>acosta hopefully foregone conclusion president...</td>\n",
              "      <td>1</td>\n",
              "    </tr>\n",
              "    <tr>\n",
              "      <th>3</th>\n",
              "      <td>@realDonaldTrump @POTUS I don't trust the @FBI...</td>\n",
              "      <td>realdonaldtrump potus trust fbi wray even look...</td>\n",
              "      <td>0</td>\n",
              "    </tr>\n",
              "    <tr>\n",
              "      <th>4</th>\n",
              "      <td>President-elect Joe Biden is predicting a “ble...</td>\n",
              "      <td>president elect joe biden predicting bleak fut...</td>\n",
              "      <td>2</td>\n",
              "    </tr>\n",
              "    <tr>\n",
              "      <th>...</th>\n",
              "      <td>...</td>\n",
              "      <td>...</td>\n",
              "      <td>...</td>\n",
              "    </tr>\n",
              "    <tr>\n",
              "      <th>17626</th>\n",
              "      <td>@MSNBC I mean shit, what if Biden turns out to...</td>\n",
              "      <td>msnbc mean shit biden turn disaster people flo...</td>\n",
              "      <td>0</td>\n",
              "    </tr>\n",
              "    <tr>\n",
              "      <th>17627</th>\n",
              "      <td>Pentagon blocks visits to military spy agencie...</td>\n",
              "      <td>pentagon block visit military spy agency biden...</td>\n",
              "      <td>2</td>\n",
              "    </tr>\n",
              "    <tr>\n",
              "      <th>17628</th>\n",
              "      <td>CNN Exclusive: Biden says he will ask American...</td>\n",
              "      <td>cnn exclusive biden say ask american wear mask...</td>\n",
              "      <td>2</td>\n",
              "    </tr>\n",
              "    <tr>\n",
              "      <th>17629</th>\n",
              "      <td>@Tomboliko @the_resistor @realDonaldTrump Hill...</td>\n",
              "      <td>tomboliko resistor realdonaldtrump hillary che...</td>\n",
              "      <td>0</td>\n",
              "    </tr>\n",
              "    <tr>\n",
              "      <th>17630</th>\n",
              "      <td>Biden says Trump should attend his inauguratio...</td>\n",
              "      <td>biden say trump attend inauguration sake ameri...</td>\n",
              "      <td>2</td>\n",
              "    </tr>\n",
              "  </tbody>\n",
              "</table>\n",
              "<p>17631 rows × 3 columns</p>\n",
              "</div>\n",
              "      <button class=\"colab-df-convert\" onclick=\"convertToInteractive('df-186b1903-7a28-4164-96b4-ba1fc13d7a2b')\"\n",
              "              title=\"Convert this dataframe to an interactive table.\"\n",
              "              style=\"display:none;\">\n",
              "        \n",
              "  <svg xmlns=\"http://www.w3.org/2000/svg\" height=\"24px\"viewBox=\"0 0 24 24\"\n",
              "       width=\"24px\">\n",
              "    <path d=\"M0 0h24v24H0V0z\" fill=\"none\"/>\n",
              "    <path d=\"M18.56 5.44l.94 2.06.94-2.06 2.06-.94-2.06-.94-.94-2.06-.94 2.06-2.06.94zm-11 1L8.5 8.5l.94-2.06 2.06-.94-2.06-.94L8.5 2.5l-.94 2.06-2.06.94zm10 10l.94 2.06.94-2.06 2.06-.94-2.06-.94-.94-2.06-.94 2.06-2.06.94z\"/><path d=\"M17.41 7.96l-1.37-1.37c-.4-.4-.92-.59-1.43-.59-.52 0-1.04.2-1.43.59L10.3 9.45l-7.72 7.72c-.78.78-.78 2.05 0 2.83L4 21.41c.39.39.9.59 1.41.59.51 0 1.02-.2 1.41-.59l7.78-7.78 2.81-2.81c.8-.78.8-2.07 0-2.86zM5.41 20L4 18.59l7.72-7.72 1.47 1.35L5.41 20z\"/>\n",
              "  </svg>\n",
              "      </button>\n",
              "      \n",
              "  <style>\n",
              "    .colab-df-container {\n",
              "      display:flex;\n",
              "      flex-wrap:wrap;\n",
              "      gap: 12px;\n",
              "    }\n",
              "\n",
              "    .colab-df-convert {\n",
              "      background-color: #E8F0FE;\n",
              "      border: none;\n",
              "      border-radius: 50%;\n",
              "      cursor: pointer;\n",
              "      display: none;\n",
              "      fill: #1967D2;\n",
              "      height: 32px;\n",
              "      padding: 0 0 0 0;\n",
              "      width: 32px;\n",
              "    }\n",
              "\n",
              "    .colab-df-convert:hover {\n",
              "      background-color: #E2EBFA;\n",
              "      box-shadow: 0px 1px 2px rgba(60, 64, 67, 0.3), 0px 1px 3px 1px rgba(60, 64, 67, 0.15);\n",
              "      fill: #174EA6;\n",
              "    }\n",
              "\n",
              "    [theme=dark] .colab-df-convert {\n",
              "      background-color: #3B4455;\n",
              "      fill: #D2E3FC;\n",
              "    }\n",
              "\n",
              "    [theme=dark] .colab-df-convert:hover {\n",
              "      background-color: #434B5C;\n",
              "      box-shadow: 0px 1px 3px 1px rgba(0, 0, 0, 0.15);\n",
              "      filter: drop-shadow(0px 1px 2px rgba(0, 0, 0, 0.3));\n",
              "      fill: #FFFFFF;\n",
              "    }\n",
              "  </style>\n",
              "\n",
              "      <script>\n",
              "        const buttonEl =\n",
              "          document.querySelector('#df-186b1903-7a28-4164-96b4-ba1fc13d7a2b button.colab-df-convert');\n",
              "        buttonEl.style.display =\n",
              "          google.colab.kernel.accessAllowed ? 'block' : 'none';\n",
              "\n",
              "        async function convertToInteractive(key) {\n",
              "          const element = document.querySelector('#df-186b1903-7a28-4164-96b4-ba1fc13d7a2b');\n",
              "          const dataTable =\n",
              "            await google.colab.kernel.invokeFunction('convertToInteractive',\n",
              "                                                     [key], {});\n",
              "          if (!dataTable) return;\n",
              "\n",
              "          const docLinkHtml = 'Like what you see? Visit the ' +\n",
              "            '<a target=\"_blank\" href=https://colab.research.google.com/notebooks/data_table.ipynb>data table notebook</a>'\n",
              "            + ' to learn more about interactive tables.';\n",
              "          element.innerHTML = '';\n",
              "          dataTable['output_type'] = 'display_data';\n",
              "          await google.colab.output.renderOutput(dataTable, element);\n",
              "          const docLink = document.createElement('div');\n",
              "          docLink.innerHTML = docLinkHtml;\n",
              "          element.appendChild(docLink);\n",
              "        }\n",
              "      </script>\n",
              "    </div>\n",
              "  </div>\n",
              "  "
            ]
          },
          "metadata": {},
          "execution_count": 27
        }
      ]
    },
    {
      "cell_type": "markdown",
      "source": [
        "### Results summary"
      ],
      "metadata": {
        "id": "J_kB0JdKsl55"
      }
    },
    {
      "cell_type": "code",
      "source": [
        "total_counts = len(df_full.index)\n",
        "\n",
        "total_counts"
      ],
      "metadata": {
        "colab": {
          "base_uri": "https://localhost:8080/"
        },
        "id": "_DnHMFVssk8-",
        "outputId": "0e8772e8-8bbe-4cf2-ca2f-e1b56bf23523"
      },
      "execution_count": 28,
      "outputs": [
        {
          "output_type": "execute_result",
          "data": {
            "text/plain": [
              "17631"
            ]
          },
          "metadata": {},
          "execution_count": 28
        }
      ]
    },
    {
      "cell_type": "code",
      "source": [
        "df_full['bigram_sgdc_score'].unique()"
      ],
      "metadata": {
        "colab": {
          "base_uri": "https://localhost:8080/"
        },
        "id": "GjRdWM1Jsk_U",
        "outputId": "74d3a8c0-c9f3-4829-a1e8-0d749eb75f7f"
      },
      "execution_count": 29,
      "outputs": [
        {
          "output_type": "execute_result",
          "data": {
            "text/plain": [
              "array([2, 0, 1])"
            ]
          },
          "metadata": {},
          "execution_count": 29
        }
      ]
    },
    {
      "cell_type": "code",
      "source": [
        "lsvc_counts = df_full['bigram_sgdc_score'].value_counts()\n",
        "\n",
        "lsvc_counts"
      ],
      "metadata": {
        "colab": {
          "base_uri": "https://localhost:8080/"
        },
        "id": "KQXihLVoslBR",
        "outputId": "0b33159d-4db7-49a7-940e-53f2aef1816c"
      },
      "execution_count": 30,
      "outputs": [
        {
          "output_type": "execute_result",
          "data": {
            "text/plain": [
              "0    7775\n",
              "1    5792\n",
              "2    4064\n",
              "Name: bigram_sgdc_score, dtype: int64"
            ]
          },
          "metadata": {},
          "execution_count": 30
        }
      ]
    },
    {
      "cell_type": "code",
      "source": [
        "neg_counts = df_full['bigram_sgdc_score'].value_counts()[0]\n",
        "\n",
        "neg_counts"
      ],
      "metadata": {
        "colab": {
          "base_uri": "https://localhost:8080/"
        },
        "id": "VBsaHJH3sqYE",
        "outputId": "0afcda0e-3200-4df5-fb9e-c8e862210d8f"
      },
      "execution_count": 31,
      "outputs": [
        {
          "output_type": "execute_result",
          "data": {
            "text/plain": [
              "7775"
            ]
          },
          "metadata": {},
          "execution_count": 31
        }
      ]
    },
    {
      "cell_type": "code",
      "source": [
        "pos_counts = df_full['bigram_sgdc_score'].value_counts()[1]\n",
        "\n",
        "pos_counts"
      ],
      "metadata": {
        "colab": {
          "base_uri": "https://localhost:8080/"
        },
        "id": "stnHJK9rsqaI",
        "outputId": "fe6a4013-fc2f-49a5-ebf8-76c6d6f60a43"
      },
      "execution_count": 32,
      "outputs": [
        {
          "output_type": "execute_result",
          "data": {
            "text/plain": [
              "5792"
            ]
          },
          "metadata": {},
          "execution_count": 32
        }
      ]
    },
    {
      "cell_type": "code",
      "source": [
        "neu_counts = df_full['bigram_sgdc_score'].value_counts()[2]\n",
        "\n",
        "neu_counts"
      ],
      "metadata": {
        "colab": {
          "base_uri": "https://localhost:8080/"
        },
        "id": "b7PScfvOsqcS",
        "outputId": "2c5ad3e4-8ac1-454c-d8c6-3d98b73b8eda"
      },
      "execution_count": 33,
      "outputs": [
        {
          "output_type": "execute_result",
          "data": {
            "text/plain": [
              "4064"
            ]
          },
          "metadata": {},
          "execution_count": 33
        }
      ]
    },
    {
      "cell_type": "code",
      "source": [
        "print(\"Total number of tweets: \" + str(total_counts))\n",
        "print('\\n')\n",
        "print(\"Number of negative tweets: \" + str(neg_counts))\n",
        "print(\"Number of positive tweets: \" + str(pos_counts))\n",
        "print(\"Number of neutral tweets: \" + str(neu_counts))"
      ],
      "metadata": {
        "colab": {
          "base_uri": "https://localhost:8080/"
        },
        "id": "kuHGzKJUslDV",
        "outputId": "5775452c-233c-44e3-bbd2-3ec203bc35d7"
      },
      "execution_count": 34,
      "outputs": [
        {
          "output_type": "stream",
          "name": "stdout",
          "text": [
            "Total number of tweets: 17631\n",
            "\n",
            "\n",
            "Number of negative tweets: 7775\n",
            "Number of positive tweets: 5792\n",
            "Number of neutral tweets: 4064\n"
          ]
        }
      ]
    },
    {
      "cell_type": "code",
      "source": [
        "df_full['bigram_sgdc_score'].value_counts().plot.bar()"
      ],
      "metadata": {
        "colab": {
          "base_uri": "https://localhost:8080/",
          "height": 279
        },
        "id": "Wf2Pto0VslFg",
        "outputId": "142daa49-c152-4076-fc82-70584a08b60f"
      },
      "execution_count": 35,
      "outputs": [
        {
          "output_type": "execute_result",
          "data": {
            "text/plain": [
              "<matplotlib.axes._subplots.AxesSubplot at 0x7f1f7d726c90>"
            ]
          },
          "metadata": {},
          "execution_count": 35
        },
        {
          "output_type": "display_data",
          "data": {
            "text/plain": [
              "<Figure size 432x288 with 1 Axes>"
            ],
            "image/png": "[encoded data removed]"
          },
          "metadata": {
            "needs_background": "light"
          }
        }
      ]
    },
    {
      "cell_type": "markdown",
      "source": [
        "### Export results"
      ],
      "metadata": {
        "id": "GkQT4yVrsvDm"
      }
    },
    {
      "cell_type": "code",
      "source": [
        "# full data\n",
        "sgdc_file_name = 'bigram_sgdc_results_full.csv'\n",
        "  \n",
        "df_full.to_csv(sgdc_file_name)"
      ],
      "metadata": {
        "id": "G5R4w7cTsuRk"
      },
      "execution_count": 36,
      "outputs": []
    }
  ]
}